{
  "nbformat": 4,
  "nbformat_minor": 0,
  "metadata": {
    "colab": {
      "name": "Cstock-tutorial-2018-19-one company.ipynb",
      "provenance": [],
      "collapsed_sections": []
    },
    "kernelspec": {
      "display_name": "Python 3",
      "name": "python3"
    },
    "language_info": {
      "name": "python"
    }
  },
  "cells": [
    {
      "cell_type": "code",
      "metadata": {
        "colab": {
          "base_uri": "https://localhost:8080/"
        },
        "id": "-zWWtliwfb7V",
        "outputId": "f69f695b-325b-461e-93dd-50b9614d4e8d"
      },
      "source": [
        "from google.colab import drive\n",
        "drive.mount('/content/drive',force_remount=True)"
      ],
      "execution_count": null,
      "outputs": [
        {
          "output_type": "stream",
          "text": [
            "Mounted at /content/drive\n"
          ],
          "name": "stdout"
        }
      ]
    },
    {
      "cell_type": "code",
      "metadata": {
        "id": "jt6iBtlpItjN"
      },
      "source": [
        "import os\n",
        "import pandas as pd\n",
        "import matplotlib.pyplot as plt"
      ],
      "execution_count": null,
      "outputs": []
    },
    {
      "cell_type": "code",
      "metadata": {
        "id": "IABwGJIeIxms"
      },
      "source": [
        "dataset_path=\"/content/drive/MyDrive/stock-prediction/\"\n",
        "dataset=os.listdir(dataset_path)"
      ],
      "execution_count": null,
      "outputs": []
    },
    {
      "cell_type": "code",
      "metadata": {
        "colab": {
          "base_uri": "https://localhost:8080/"
        },
        "id": "3Dw4WYNJI1c4",
        "outputId": "b93420fb-5e73-49cf-d6d3-33eda2233444"
      },
      "source": [
        "string=\"\"\n",
        "\n",
        "string = string + dataset[10]\n",
        "print(string)\n",
        "print(dataset_path)"
      ],
      "execution_count": null,
      "outputs": [
        {
          "output_type": "stream",
          "text": [
            "merged_data.csv\n",
            "/content/drive/MyDrive/stock-prediction/\n"
          ],
          "name": "stdout"
        }
      ]
    },
    {
      "cell_type": "code",
      "metadata": {
        "colab": {
          "base_uri": "https://localhost:8080/"
        },
        "id": "tf0QQkw-I_lX",
        "outputId": "8a3307ad-a6cc-4846-b857-4b770942352b"
      },
      "source": [
        "dataset=pd.read_csv(dataset_path + string)"
      ],
      "execution_count": null,
      "outputs": [
        {
          "output_type": "stream",
          "text": [
            "/usr/local/lib/python3.7/dist-packages/IPython/core/interactiveshell.py:2718: DtypeWarning: Columns (6,7,8,9,10,11,12) have mixed types.Specify dtype option on import or set low_memory=False.\n",
            "  interactivity=interactivity, compiler=compiler, result=result)\n"
          ],
          "name": "stderr"
        }
      ]
    },
    {
      "cell_type": "code",
      "metadata": {
        "id": "d25c1sgOTjsR"
      },
      "source": [
        "dataset = dataset[dataset.year != 2011]\n",
        "dataset = dataset[dataset.year != 2012]"
      ],
      "execution_count": null,
      "outputs": []
    },
    {
      "cell_type": "code",
      "metadata": {
        "colab": {
          "base_uri": "https://localhost:8080/",
          "height": 575
        },
        "id": "vW3h2WYxJEcg",
        "outputId": "f0d460f5-d1ed-4585-f314-2c2ecaa55a49"
      },
      "source": [
        "dataset.head(10)\n"
      ],
      "execution_count": null,
      "outputs": [
        {
          "output_type": "execute_result",
          "data": {
            "text/html": [
              "<div>\n",
              "<style scoped>\n",
              "    .dataframe tbody tr th:only-of-type {\n",
              "        vertical-align: middle;\n",
              "    }\n",
              "\n",
              "    .dataframe tbody tr th {\n",
              "        vertical-align: top;\n",
              "    }\n",
              "\n",
              "    .dataframe thead th {\n",
              "        text-align: right;\n",
              "    }\n",
              "</style>\n",
              "<table border=\"1\" class=\"dataframe\">\n",
              "  <thead>\n",
              "    <tr style=\"text-align: right;\">\n",
              "      <th></th>\n",
              "      <th>Unnamed: 0</th>\n",
              "      <th>Unnamed: 0.1</th>\n",
              "      <th>SYMBOL_CODE</th>\n",
              "      <th>ENG_NAME</th>\n",
              "      <th>REUTERS</th>\n",
              "      <th>TRADE_DATE</th>\n",
              "      <th>TRADE_VALUE</th>\n",
              "      <th>TRADE_VOLUME</th>\n",
              "      <th>TRADE_COUNT</th>\n",
              "      <th>OPEN_PRICE</th>\n",
              "      <th>HIGH_PRICE</th>\n",
              "      <th>LOW_PRICE</th>\n",
              "      <th>CLOSE_PRICE</th>\n",
              "      <th>day</th>\n",
              "      <th>month</th>\n",
              "      <th>year</th>\n",
              "    </tr>\n",
              "  </thead>\n",
              "  <tbody>\n",
              "    <tr>\n",
              "      <th>0</th>\n",
              "      <td>0</td>\n",
              "      <td>0</td>\n",
              "      <td>EGS30221C013</td>\n",
              "      <td>The Arab Dairy Products Co. Arab Dairy - Panda</td>\n",
              "      <td>ADPC.CA</td>\n",
              "      <td>2018-01-02</td>\n",
              "      <td>104</td>\n",
              "      <td>10</td>\n",
              "      <td>1</td>\n",
              "      <td>10.4</td>\n",
              "      <td>10.4</td>\n",
              "      <td>10.4</td>\n",
              "      <td>9.5</td>\n",
              "      <td>2</td>\n",
              "      <td>1</td>\n",
              "      <td>2018</td>\n",
              "    </tr>\n",
              "    <tr>\n",
              "      <th>1</th>\n",
              "      <td>1</td>\n",
              "      <td>1</td>\n",
              "      <td>EGS37091C013</td>\n",
              "      <td>Eastern Company</td>\n",
              "      <td>EAST.CA</td>\n",
              "      <td>2018-01-02</td>\n",
              "      <td>1.36817e+06</td>\n",
              "      <td>3056</td>\n",
              "      <td>9</td>\n",
              "      <td>469.8</td>\n",
              "      <td>469.8</td>\n",
              "      <td>430</td>\n",
              "      <td>447.7</td>\n",
              "      <td>2</td>\n",
              "      <td>1</td>\n",
              "      <td>2018</td>\n",
              "    </tr>\n",
              "    <tr>\n",
              "      <th>2</th>\n",
              "      <td>2</td>\n",
              "      <td>2</td>\n",
              "      <td>EGS38081C013</td>\n",
              "      <td>Egyptian International Pharmaceuticals (EIPICO)</td>\n",
              "      <td>PHAR.CA</td>\n",
              "      <td>2018-01-02</td>\n",
              "      <td>80211</td>\n",
              "      <td>537</td>\n",
              "      <td>3</td>\n",
              "      <td>153</td>\n",
              "      <td>153</td>\n",
              "      <td>140</td>\n",
              "      <td>149.37</td>\n",
              "      <td>2</td>\n",
              "      <td>1</td>\n",
              "      <td>2018</td>\n",
              "    </tr>\n",
              "    <tr>\n",
              "      <th>3</th>\n",
              "      <td>3</td>\n",
              "      <td>3</td>\n",
              "      <td>EGS380G1C011</td>\n",
              "      <td>Minapharm Pharmaceuticals</td>\n",
              "      <td>MIPH.CA</td>\n",
              "      <td>2018-01-02</td>\n",
              "      <td>78000</td>\n",
              "      <td>1000</td>\n",
              "      <td>1</td>\n",
              "      <td>78</td>\n",
              "      <td>78</td>\n",
              "      <td>78</td>\n",
              "      <td>78</td>\n",
              "      <td>2</td>\n",
              "      <td>1</td>\n",
              "      <td>2018</td>\n",
              "    </tr>\n",
              "    <tr>\n",
              "      <th>4</th>\n",
              "      <td>4</td>\n",
              "      <td>4</td>\n",
              "      <td>EGS380P1C010</td>\n",
              "      <td>Alexandria Mineral Oils Company</td>\n",
              "      <td>AMOC.CA</td>\n",
              "      <td>2018-01-02</td>\n",
              "      <td>1.74122e+07</td>\n",
              "      <td>1260791</td>\n",
              "      <td>624</td>\n",
              "      <td>13.87</td>\n",
              "      <td>14.05</td>\n",
              "      <td>13.65</td>\n",
              "      <td>13.81</td>\n",
              "      <td>2</td>\n",
              "      <td>1</td>\n",
              "      <td>2018</td>\n",
              "    </tr>\n",
              "    <tr>\n",
              "      <th>5</th>\n",
              "      <td>5</td>\n",
              "      <td>5</td>\n",
              "      <td>EGS380S1C017</td>\n",
              "      <td>Sidi Kerir Petrochemicals</td>\n",
              "      <td>SKPC.CA</td>\n",
              "      <td>2018-01-02</td>\n",
              "      <td>8.47883e+06</td>\n",
              "      <td>337839</td>\n",
              "      <td>277</td>\n",
              "      <td>25.5</td>\n",
              "      <td>25.5</td>\n",
              "      <td>24.7</td>\n",
              "      <td>25.1</td>\n",
              "      <td>2</td>\n",
              "      <td>1</td>\n",
              "      <td>2018</td>\n",
              "    </tr>\n",
              "    <tr>\n",
              "      <th>6</th>\n",
              "      <td>6</td>\n",
              "      <td>6</td>\n",
              "      <td>EGS38161C013</td>\n",
              "      <td>Universal For Paper and Packaging Materials (U...</td>\n",
              "      <td>UNIP.CA</td>\n",
              "      <td>2018-01-02</td>\n",
              "      <td>10829.9</td>\n",
              "      <td>334</td>\n",
              "      <td>6</td>\n",
              "      <td>32</td>\n",
              "      <td>34</td>\n",
              "      <td>32</td>\n",
              "      <td>33.45</td>\n",
              "      <td>2</td>\n",
              "      <td>1</td>\n",
              "      <td>2018</td>\n",
              "    </tr>\n",
              "    <tr>\n",
              "      <th>7</th>\n",
              "      <td>7</td>\n",
              "      <td>7</td>\n",
              "      <td>EGS38191C010</td>\n",
              "      <td>Abou Kir Fertilizers</td>\n",
              "      <td>ABUK.CA</td>\n",
              "      <td>2018-01-02</td>\n",
              "      <td>6.23946e+06</td>\n",
              "      <td>286921</td>\n",
              "      <td>230</td>\n",
              "      <td>21.75</td>\n",
              "      <td>22.17</td>\n",
              "      <td>21.42</td>\n",
              "      <td>21.75</td>\n",
              "      <td>2</td>\n",
              "      <td>1</td>\n",
              "      <td>2018</td>\n",
              "    </tr>\n",
              "    <tr>\n",
              "      <th>8</th>\n",
              "      <td>8</td>\n",
              "      <td>8</td>\n",
              "      <td>EGS38201C017</td>\n",
              "      <td>Egyptian Chemical Industries (Kima)</td>\n",
              "      <td>EGCH.CA</td>\n",
              "      <td>2018-01-02</td>\n",
              "      <td>1.31522e+07</td>\n",
              "      <td>1694093</td>\n",
              "      <td>528</td>\n",
              "      <td>7.94</td>\n",
              "      <td>7.95</td>\n",
              "      <td>7.65</td>\n",
              "      <td>7.76</td>\n",
              "      <td>2</td>\n",
              "      <td>1</td>\n",
              "      <td>2018</td>\n",
              "    </tr>\n",
              "    <tr>\n",
              "      <th>9</th>\n",
              "      <td>9</td>\n",
              "      <td>9</td>\n",
              "      <td>EGS38211C016</td>\n",
              "      <td>Misr Chemical Industries</td>\n",
              "      <td>MICH.CA</td>\n",
              "      <td>2018-01-02</td>\n",
              "      <td>2.85822e+06</td>\n",
              "      <td>183301</td>\n",
              "      <td>226</td>\n",
              "      <td>15.7</td>\n",
              "      <td>15.89</td>\n",
              "      <td>15.41</td>\n",
              "      <td>15.59</td>\n",
              "      <td>2</td>\n",
              "      <td>1</td>\n",
              "      <td>2018</td>\n",
              "    </tr>\n",
              "  </tbody>\n",
              "</table>\n",
              "</div>"
            ],
            "text/plain": [
              "   Unnamed: 0  Unnamed: 0.1   SYMBOL_CODE  ... day month  year\n",
              "0           0             0  EGS30221C013  ...   2     1  2018\n",
              "1           1             1  EGS37091C013  ...   2     1  2018\n",
              "2           2             2  EGS38081C013  ...   2     1  2018\n",
              "3           3             3  EGS380G1C011  ...   2     1  2018\n",
              "4           4             4  EGS380P1C010  ...   2     1  2018\n",
              "5           5             5  EGS380S1C017  ...   2     1  2018\n",
              "6           6             6  EGS38161C013  ...   2     1  2018\n",
              "7           7             7  EGS38191C010  ...   2     1  2018\n",
              "8           8             8  EGS38201C017  ...   2     1  2018\n",
              "9           9             9  EGS38211C016  ...   2     1  2018\n",
              "\n",
              "[10 rows x 16 columns]"
            ]
          },
          "metadata": {
            "tags": []
          },
          "execution_count": 7
        }
      ]
    },
    {
      "cell_type": "code",
      "metadata": {
        "id": "ADcg7pakJVGg"
      },
      "source": [
        "dataset=dataset.drop([\"Unnamed: 0\",\"Unnamed: 0.1\"],axis=1)"
      ],
      "execution_count": null,
      "outputs": []
    },
    {
      "cell_type": "code",
      "metadata": {
        "colab": {
          "base_uri": "https://localhost:8080/"
        },
        "id": "66MkEdyYJnqJ",
        "outputId": "7c13a278-bd23-4840-e21c-8e055dfc4418"
      },
      "source": [
        "dataset.shape"
      ],
      "execution_count": null,
      "outputs": [
        {
          "output_type": "execute_result",
          "data": {
            "text/plain": [
              "(89638, 14)"
            ]
          },
          "metadata": {
            "tags": []
          },
          "execution_count": 95
        }
      ]
    },
    {
      "cell_type": "code",
      "metadata": {
        "colab": {
          "base_uri": "https://localhost:8080/"
        },
        "id": "PHMkyvdtJqnk",
        "outputId": "1311e61c-a682-4050-b061-5200ce827875"
      },
      "source": [
        "dataset.isna().sum()"
      ],
      "execution_count": null,
      "outputs": [
        {
          "output_type": "execute_result",
          "data": {
            "text/plain": [
              "SYMBOL_CODE     0\n",
              "ENG_NAME        0\n",
              "REUTERS         0\n",
              "TRADE_DATE      0\n",
              "TRADE_VALUE     0\n",
              "TRADE_VOLUME    0\n",
              "TRADE_COUNT     0\n",
              "OPEN_PRICE      0\n",
              "HIGH_PRICE      0\n",
              "LOW_PRICE       0\n",
              "CLOSE_PRICE     0\n",
              "day             0\n",
              "month           0\n",
              "year            0\n",
              "dtype: int64"
            ]
          },
          "metadata": {
            "tags": []
          },
          "execution_count": 10
        }
      ]
    },
    {
      "cell_type": "code",
      "metadata": {
        "colab": {
          "base_uri": "https://localhost:8080/"
        },
        "id": "Dy2wVlglJvaH",
        "outputId": "38fd6368-d262-4689-e90d-c12814d8e777"
      },
      "source": [
        "dataset.info()"
      ],
      "execution_count": null,
      "outputs": [
        {
          "output_type": "stream",
          "text": [
            "<class 'pandas.core.frame.DataFrame'>\n",
            "Int64Index: 89638 entries, 0 to 89637\n",
            "Data columns (total 14 columns):\n",
            " #   Column        Non-Null Count  Dtype \n",
            "---  ------        --------------  ----- \n",
            " 0   SYMBOL_CODE   89638 non-null  object\n",
            " 1   ENG_NAME      89638 non-null  object\n",
            " 2   REUTERS       89638 non-null  object\n",
            " 3   TRADE_DATE    89638 non-null  object\n",
            " 4   TRADE_VALUE   89638 non-null  object\n",
            " 5   TRADE_VOLUME  89638 non-null  object\n",
            " 6   TRADE_COUNT   89638 non-null  object\n",
            " 7   OPEN_PRICE    89638 non-null  object\n",
            " 8   HIGH_PRICE    89638 non-null  object\n",
            " 9   LOW_PRICE     89638 non-null  object\n",
            " 10  CLOSE_PRICE   89638 non-null  object\n",
            " 11  day           89638 non-null  int64 \n",
            " 12  month         89638 non-null  int64 \n",
            " 13  year          89638 non-null  int64 \n",
            "dtypes: int64(3), object(11)\n",
            "memory usage: 10.3+ MB\n"
          ],
          "name": "stdout"
        }
      ]
    },
    {
      "cell_type": "code",
      "metadata": {
        "colab": {
          "base_uri": "https://localhost:8080/"
        },
        "id": "Fj1Ynh0sLADi",
        "outputId": "5f50e0d6-fd91-4ad7-f84c-921684ff9187"
      },
      "source": [
        "VAL=['TRADE_VALUE','TRADE_VOLUME','TRADE_COUNT','OPEN_PRICE','HIGH_PRICE','LOW_PRICE','CLOSE_PRICE']\n",
        "for i in VAL:\n",
        "  print(dataset[i])\n",
        "  dataset[i] =dataset[i].astype(str).str.replace(\",\", \"\").astype(float)"
      ],
      "execution_count": null,
      "outputs": [
        {
          "output_type": "stream",
          "text": [
            "0                104\n",
            "1        1.36817e+06\n",
            "2              80211\n",
            "3              78000\n",
            "4        1.74122e+07\n",
            "            ...     \n",
            "89633        123,999\n",
            "89634         56,828\n",
            "89635          5,164\n",
            "89636         29,191\n",
            "89637         36,480\n",
            "Name: TRADE_VALUE, Length: 89638, dtype: object\n",
            "0             10\n",
            "1           3056\n",
            "2            537\n",
            "3           1000\n",
            "4        1260791\n",
            "          ...   \n",
            "89633    101,558\n",
            "89634     48,000\n",
            "89635        699\n",
            "89636      3,883\n",
            "89637      5,174\n",
            "Name: TRADE_VOLUME, Length: 89638, dtype: object\n",
            "0          1\n",
            "1          9\n",
            "2          3\n",
            "3          1\n",
            "4        624\n",
            "        ... \n",
            "89633     20\n",
            "89634     14\n",
            "89635      4\n",
            "89636      8\n",
            "89637     10\n",
            "Name: TRADE_COUNT, Length: 89638, dtype: object\n",
            "0         10.4\n",
            "1        469.8\n",
            "2          153\n",
            "3           78\n",
            "4        13.87\n",
            "         ...  \n",
            "89633     1.19\n",
            "89634     1.19\n",
            "89635      7.5\n",
            "89636      7.5\n",
            "89637      7.1\n",
            "Name: OPEN_PRICE, Length: 89638, dtype: object\n",
            "0         10.4\n",
            "1        469.8\n",
            "2          153\n",
            "3           78\n",
            "4        14.05\n",
            "         ...  \n",
            "89633     1.23\n",
            "89634     1.19\n",
            "89635      7.5\n",
            "89636     7.55\n",
            "89637      7.1\n",
            "Name: HIGH_PRICE, Length: 89638, dtype: object\n",
            "0         10.4\n",
            "1          430\n",
            "2          140\n",
            "3           78\n",
            "4        13.65\n",
            "         ...  \n",
            "89633     1.19\n",
            "89634     1.17\n",
            "89635     7.22\n",
            "89636     7.31\n",
            "89637        7\n",
            "Name: LOW_PRICE, Length: 89638, dtype: object\n",
            "0           9.5\n",
            "1         447.7\n",
            "2        149.37\n",
            "3            78\n",
            "4         13.81\n",
            "          ...  \n",
            "89633      1.22\n",
            "89634      1.18\n",
            "89635      7.44\n",
            "89636      7.44\n",
            "89637      7.05\n",
            "Name: CLOSE_PRICE, Length: 89638, dtype: object\n"
          ],
          "name": "stdout"
        }
      ]
    },
    {
      "cell_type": "code",
      "metadata": {
        "colab": {
          "base_uri": "https://localhost:8080/"
        },
        "id": "UKFHk-0yyfi6",
        "outputId": "c8bf05b1-84b3-410c-b136-e986bd06340b"
      },
      "source": [
        "dataset.info()"
      ],
      "execution_count": null,
      "outputs": [
        {
          "output_type": "stream",
          "text": [
            "<class 'pandas.core.frame.DataFrame'>\n",
            "Int64Index: 89638 entries, 0 to 89637\n",
            "Data columns (total 14 columns):\n",
            " #   Column        Non-Null Count  Dtype  \n",
            "---  ------        --------------  -----  \n",
            " 0   SYMBOL_CODE   89638 non-null  object \n",
            " 1   ENG_NAME      89638 non-null  object \n",
            " 2   REUTERS       89638 non-null  object \n",
            " 3   TRADE_DATE    89638 non-null  object \n",
            " 4   TRADE_VALUE   89638 non-null  float64\n",
            " 5   TRADE_VOLUME  89638 non-null  float64\n",
            " 6   TRADE_COUNT   89638 non-null  float64\n",
            " 7   OPEN_PRICE    89638 non-null  float64\n",
            " 8   HIGH_PRICE    89638 non-null  float64\n",
            " 9   LOW_PRICE     89638 non-null  float64\n",
            " 10  CLOSE_PRICE   89638 non-null  float64\n",
            " 11  day           89638 non-null  int64  \n",
            " 12  month         89638 non-null  int64  \n",
            " 13  year          89638 non-null  int64  \n",
            "dtypes: float64(7), int64(3), object(4)\n",
            "memory usage: 10.3+ MB\n"
          ],
          "name": "stdout"
        }
      ]
    },
    {
      "cell_type": "code",
      "metadata": {
        "colab": {
          "base_uri": "https://localhost:8080/",
          "height": 295
        },
        "id": "tDcP2nxKykTP",
        "outputId": "bf81a0e1-effb-4886-ff87-a61cb2c3e7c4"
      },
      "source": [
        "dataset.describe()"
      ],
      "execution_count": null,
      "outputs": [
        {
          "output_type": "execute_result",
          "data": {
            "text/html": [
              "<div>\n",
              "<style scoped>\n",
              "    .dataframe tbody tr th:only-of-type {\n",
              "        vertical-align: middle;\n",
              "    }\n",
              "\n",
              "    .dataframe tbody tr th {\n",
              "        vertical-align: top;\n",
              "    }\n",
              "\n",
              "    .dataframe thead th {\n",
              "        text-align: right;\n",
              "    }\n",
              "</style>\n",
              "<table border=\"1\" class=\"dataframe\">\n",
              "  <thead>\n",
              "    <tr style=\"text-align: right;\">\n",
              "      <th></th>\n",
              "      <th>TRADE_VALUE</th>\n",
              "      <th>TRADE_VOLUME</th>\n",
              "      <th>TRADE_COUNT</th>\n",
              "      <th>OPEN_PRICE</th>\n",
              "      <th>HIGH_PRICE</th>\n",
              "      <th>LOW_PRICE</th>\n",
              "      <th>CLOSE_PRICE</th>\n",
              "      <th>day</th>\n",
              "      <th>month</th>\n",
              "      <th>year</th>\n",
              "    </tr>\n",
              "  </thead>\n",
              "  <tbody>\n",
              "    <tr>\n",
              "      <th>count</th>\n",
              "      <td>1.546320e+05</td>\n",
              "      <td>1.546320e+05</td>\n",
              "      <td>154632.000000</td>\n",
              "      <td>154632.000000</td>\n",
              "      <td>154632.000000</td>\n",
              "      <td>154632.000000</td>\n",
              "      <td>154632.000000</td>\n",
              "      <td>154632.000000</td>\n",
              "      <td>154632.000000</td>\n",
              "      <td>154632.000000</td>\n",
              "    </tr>\n",
              "    <tr>\n",
              "      <th>mean</th>\n",
              "      <td>3.612162e+06</td>\n",
              "      <td>8.759448e+05</td>\n",
              "      <td>129.007431</td>\n",
              "      <td>20.643731</td>\n",
              "      <td>20.937952</td>\n",
              "      <td>20.344950</td>\n",
              "      <td>20.669128</td>\n",
              "      <td>15.853827</td>\n",
              "      <td>6.846532</td>\n",
              "      <td>2015.600775</td>\n",
              "    </tr>\n",
              "    <tr>\n",
              "      <th>std</th>\n",
              "      <td>1.554095e+07</td>\n",
              "      <td>4.985450e+06</td>\n",
              "      <td>251.100287</td>\n",
              "      <td>61.103846</td>\n",
              "      <td>61.823954</td>\n",
              "      <td>60.300615</td>\n",
              "      <td>61.149201</td>\n",
              "      <td>8.732811</td>\n",
              "      <td>3.398511</td>\n",
              "      <td>3.430384</td>\n",
              "    </tr>\n",
              "    <tr>\n",
              "      <th>min</th>\n",
              "      <td>1.000000e+00</td>\n",
              "      <td>1.000000e+00</td>\n",
              "      <td>1.000000</td>\n",
              "      <td>0.040000</td>\n",
              "      <td>0.040000</td>\n",
              "      <td>0.040000</td>\n",
              "      <td>0.040000</td>\n",
              "      <td>1.000000</td>\n",
              "      <td>1.000000</td>\n",
              "      <td>2011.000000</td>\n",
              "    </tr>\n",
              "    <tr>\n",
              "      <th>25%</th>\n",
              "      <td>5.792500e+04</td>\n",
              "      <td>5.250000e+03</td>\n",
              "      <td>9.000000</td>\n",
              "      <td>3.180000</td>\n",
              "      <td>3.240000</td>\n",
              "      <td>3.120000</td>\n",
              "      <td>3.180000</td>\n",
              "      <td>8.000000</td>\n",
              "      <td>4.000000</td>\n",
              "      <td>2012.000000</td>\n",
              "    </tr>\n",
              "    <tr>\n",
              "      <th>50%</th>\n",
              "      <td>3.328040e+05</td>\n",
              "      <td>4.345250e+04</td>\n",
              "      <td>38.000000</td>\n",
              "      <td>8.330000</td>\n",
              "      <td>8.500000</td>\n",
              "      <td>8.180000</td>\n",
              "      <td>8.350000</td>\n",
              "      <td>16.000000</td>\n",
              "      <td>7.000000</td>\n",
              "      <td>2018.000000</td>\n",
              "    </tr>\n",
              "    <tr>\n",
              "      <th>75%</th>\n",
              "      <td>1.737422e+06</td>\n",
              "      <td>2.889812e+05</td>\n",
              "      <td>135.000000</td>\n",
              "      <td>18.090000</td>\n",
              "      <td>18.450000</td>\n",
              "      <td>17.860000</td>\n",
              "      <td>18.130000</td>\n",
              "      <td>23.000000</td>\n",
              "      <td>10.000000</td>\n",
              "      <td>2019.000000</td>\n",
              "    </tr>\n",
              "    <tr>\n",
              "      <th>max</th>\n",
              "      <td>1.490838e+09</td>\n",
              "      <td>2.680535e+08</td>\n",
              "      <td>7867.000000</td>\n",
              "      <td>1208.980000</td>\n",
              "      <td>1209.000000</td>\n",
              "      <td>1190.000000</td>\n",
              "      <td>1184.380000</td>\n",
              "      <td>31.000000</td>\n",
              "      <td>12.000000</td>\n",
              "      <td>2019.000000</td>\n",
              "    </tr>\n",
              "  </tbody>\n",
              "</table>\n",
              "</div>"
            ],
            "text/plain": [
              "        TRADE_VALUE  TRADE_VOLUME  ...          month           year\n",
              "count  1.546320e+05  1.546320e+05  ...  154632.000000  154632.000000\n",
              "mean   3.612162e+06  8.759448e+05  ...       6.846532    2015.600775\n",
              "std    1.554095e+07  4.985450e+06  ...       3.398511       3.430384\n",
              "min    1.000000e+00  1.000000e+00  ...       1.000000    2011.000000\n",
              "25%    5.792500e+04  5.250000e+03  ...       4.000000    2012.000000\n",
              "50%    3.328040e+05  4.345250e+04  ...       7.000000    2018.000000\n",
              "75%    1.737422e+06  2.889812e+05  ...      10.000000    2019.000000\n",
              "max    1.490838e+09  2.680535e+08  ...      12.000000    2019.000000\n",
              "\n",
              "[8 rows x 10 columns]"
            ]
          },
          "metadata": {
            "tags": []
          },
          "execution_count": 10
        }
      ]
    },
    {
      "cell_type": "code",
      "metadata": {
        "colab": {
          "base_uri": "https://localhost:8080/",
          "height": 676
        },
        "id": "QgSIG7HyWI1d",
        "outputId": "f7990665-a1dd-4e22-e92f-089b3d408b68"
      },
      "source": [
        "import seaborn as sns\n",
        "sns.set(rc={'figure.figsize':(15.7,11.27)})\n",
        "cols=[\"SYMBOL_CODE\",\"ENG_NAME\",\"REUTERS\",\"TRADE_DATE\",\"TRADE_VALUE\",\"TRADE_VOLUME\",\"TRADE_COUNT\",\"OPEN_PRICE\",\"HIGH_PRICE\",\"LOW_PRICE\",\"CLOSE_PRICE\"]\n",
        "\n",
        "selected_columns = dataset[[\"TRADE_VALUE\",\"TRADE_VOLUME\",\"TRADE_DATE\",\"TRADE_COUNT\",\"OPEN_PRICE\",\"HIGH_PRICE\",\"LOW_PRICE\",\"CLOSE_PRICE\"]]\n",
        "new_df = selected_columns.copy()\n",
        "box_dataset=new_df\n",
        "ax = sns.boxplot(data=box_dataset, orient=\"h\", palette=\"Set2\")"
      ],
      "execution_count": null,
      "outputs": [
        {
          "output_type": "display_data",
          "data": {
            "image/png": "[encoded data removed]",
            "text/plain": [
              "<Figure size 1130.4x811.44 with 1 Axes>"
            ]
          },
          "metadata": {
            "tags": []
          }
        }
      ]
    },
    {
      "cell_type": "code",
      "metadata": {
        "colab": {
          "base_uri": "https://localhost:8080/"
        },
        "id": "DhhFDIH7Yvg8",
        "outputId": "4430fad6-5756-4017-8274-a872590a3228"
      },
      "source": [
        "print(dataset['ENG_NAME'].value_counts())\n"
      ],
      "execution_count": null,
      "outputs": [
        {
          "output_type": "stream",
          "text": [
            "Eastern Company                                               487\n",
            "Mena Touristic & Real Estate Investment                       487\n",
            "El Nasr Clothes & Textiles (Kabo)                             487\n",
            "United Housing & Development                                  487\n",
            "El Shams Housing & Urbanization                               487\n",
            "                                                             ... \n",
            "El Taamir Securitization The Seconed Issue Tran C Jul 2020      1\n",
            "El Taamir Securitization The Seconed Issue Tran D Jul 2022      1\n",
            "El Taamir Securitization The Seconed Issue Tran A Jan 2020      1\n",
            "El Taamir Securitization The Seconed Issue Tran B Apr 2020      1\n",
            "El Taamir Securitization The Seconed Issue Tran H Jul 2024      1\n",
            "Name: ENG_NAME, Length: 256, dtype: int64\n"
          ],
          "name": "stdout"
        }
      ]
    },
    {
      "cell_type": "code",
      "metadata": {
        "colab": {
          "base_uri": "https://localhost:8080/"
        },
        "id": "pbqHJLmPY2lU",
        "outputId": "3c220185-e438-4b4b-e8eb-658ac0440f19"
      },
      "source": [
        "print(dataset['REUTERS'].value_counts())"
      ],
      "execution_count": null,
      "outputs": [
        {
          "output_type": "stream",
          "text": [
            "EAST.CA                 487\n",
            "ETEL.CA                 487\n",
            "KABO.CA                 487\n",
            "MCQE.CA                 487\n",
            "GOCO.CA                 487\n",
            "                       ... \n",
            "EGETSC02A=CA              1\n",
            "EGETSC02D=CA              1\n",
            "EGETSC02C=CA              1\n",
            "EGETSC02H=CA              1\n",
            "EGETSC02B=CA              1\n",
            "Name: REUTERS, Length: 255, dtype: int64\n"
          ],
          "name": "stdout"
        }
      ]
    },
    {
      "cell_type": "code",
      "metadata": {
        "colab": {
          "base_uri": "https://localhost:8080/",
          "height": 803
        },
        "id": "H57usbO4X7xU",
        "outputId": "44ab65f6-ae17-4dbc-a249-6f660d0221d5"
      },
      "source": [
        "pd.crosstab(dataset['ENG_NAME'],dataset['REUTERS'])"
      ],
      "execution_count": null,
      "outputs": [
        {
          "output_type": "execute_result",
          "data": {
            "text/html": [
              "<div>\n",
              "<style scoped>\n",
              "    .dataframe tbody tr th:only-of-type {\n",
              "        vertical-align: middle;\n",
              "    }\n",
              "\n",
              "    .dataframe tbody tr th {\n",
              "        vertical-align: top;\n",
              "    }\n",
              "\n",
              "    .dataframe thead th {\n",
              "        text-align: right;\n",
              "    }\n",
              "</style>\n",
              "<table border=\"1\" class=\"dataframe\">\n",
              "  <thead>\n",
              "    <tr style=\"text-align: right;\">\n",
              "      <th>REUTERS</th>\n",
              "      <th>AALR.CA</th>\n",
              "      <th>ABUK.CA</th>\n",
              "      <th>ACAMD.CA</th>\n",
              "      <th>ACGC.CA</th>\n",
              "      <th>ACRO.CA</th>\n",
              "      <th>ADCI.CA</th>\n",
              "      <th>ADIB.CA</th>\n",
              "      <th>ADPC.CA</th>\n",
              "      <th>ADRI.CA</th>\n",
              "      <th>AFDI.CA</th>\n",
              "      <th>AFMC.CA</th>\n",
              "      <th>AGIN.CA</th>\n",
              "      <th>AIFI.CA</th>\n",
              "      <th>AIH.CA</th>\n",
              "      <th>AITG.CA</th>\n",
              "      <th>AIVC.CA</th>\n",
              "      <th>AIVCB.CA</th>\n",
              "      <th>AJWA.CA</th>\n",
              "      <th>ALCN.CA</th>\n",
              "      <th>ALEX.CA</th>\n",
              "      <th>ALUM.CA</th>\n",
              "      <th>AMER.CA</th>\n",
              "      <th>AMES.CA</th>\n",
              "      <th>AMIA.CA</th>\n",
              "      <th>AMOC.CA</th>\n",
              "      <th>AMPI.CA</th>\n",
              "      <th>ANFI.CA</th>\n",
              "      <th>APSW.CA</th>\n",
              "      <th>ARCC.CA</th>\n",
              "      <th>AREH.CA</th>\n",
              "      <th>ARPI.CA</th>\n",
              "      <th>ARVA.CA</th>\n",
              "      <th>ASCM.CA</th>\n",
              "      <th>ASHC.CA</th>\n",
              "      <th>ATLC.CA</th>\n",
              "      <th>ATQA.CA</th>\n",
              "      <th>AUTO.CA</th>\n",
              "      <th>AXPH.CA</th>\n",
              "      <th>BIGP.CA</th>\n",
              "      <th>BINV.CA</th>\n",
              "      <th>...</th>\n",
              "      <th>RUBX.CA</th>\n",
              "      <th>SAIB.CA</th>\n",
              "      <th>SAUD.CA</th>\n",
              "      <th>SBAG.CA</th>\n",
              "      <th>SCEM.CA</th>\n",
              "      <th>SCFM.CA</th>\n",
              "      <th>SCTS.CA</th>\n",
              "      <th>SDTI.CA</th>\n",
              "      <th>SEIG.CA</th>\n",
              "      <th>SIPC.CA</th>\n",
              "      <th>SKPC.CA</th>\n",
              "      <th>SMFR.CA</th>\n",
              "      <th>SMPP.CA</th>\n",
              "      <th>SNFC.CA</th>\n",
              "      <th>SPHT.CA</th>\n",
              "      <th>SPIN.CA</th>\n",
              "      <th>SPMD.CA</th>\n",
              "      <th>SRWA.CA</th>\n",
              "      <th>SUCE.CA</th>\n",
              "      <th>SUGR.CA</th>\n",
              "      <th>SVCE.CA</th>\n",
              "      <th>SWDY.CA</th>\n",
              "      <th>TMGH.CA</th>\n",
              "      <th>TORA.CA</th>\n",
              "      <th>TRTO.CA</th>\n",
              "      <th>UASG.CA</th>\n",
              "      <th>UEFM.CA</th>\n",
              "      <th>UEGC.CA</th>\n",
              "      <th>UNBE.CA</th>\n",
              "      <th>UNFO.CA</th>\n",
              "      <th>UNIP.CA</th>\n",
              "      <th>UNIT.CA</th>\n",
              "      <th>UPMS.CA</th>\n",
              "      <th>UTOP.CA</th>\n",
              "      <th>VERT.CA</th>\n",
              "      <th>WATP.CA</th>\n",
              "      <th>WCDF.CA</th>\n",
              "      <th>WKOL.CA</th>\n",
              "      <th>ZEOT.CA</th>\n",
              "      <th>ZMID.CA</th>\n",
              "    </tr>\n",
              "    <tr>\n",
              "      <th>ENG_NAME</th>\n",
              "      <th></th>\n",
              "      <th></th>\n",
              "      <th></th>\n",
              "      <th></th>\n",
              "      <th></th>\n",
              "      <th></th>\n",
              "      <th></th>\n",
              "      <th></th>\n",
              "      <th></th>\n",
              "      <th></th>\n",
              "      <th></th>\n",
              "      <th></th>\n",
              "      <th></th>\n",
              "      <th></th>\n",
              "      <th></th>\n",
              "      <th></th>\n",
              "      <th></th>\n",
              "      <th></th>\n",
              "      <th></th>\n",
              "      <th></th>\n",
              "      <th></th>\n",
              "      <th></th>\n",
              "      <th></th>\n",
              "      <th></th>\n",
              "      <th></th>\n",
              "      <th></th>\n",
              "      <th></th>\n",
              "      <th></th>\n",
              "      <th></th>\n",
              "      <th></th>\n",
              "      <th></th>\n",
              "      <th></th>\n",
              "      <th></th>\n",
              "      <th></th>\n",
              "      <th></th>\n",
              "      <th></th>\n",
              "      <th></th>\n",
              "      <th></th>\n",
              "      <th></th>\n",
              "      <th></th>\n",
              "      <th></th>\n",
              "      <th></th>\n",
              "      <th></th>\n",
              "      <th></th>\n",
              "      <th></th>\n",
              "      <th></th>\n",
              "      <th></th>\n",
              "      <th></th>\n",
              "      <th></th>\n",
              "      <th></th>\n",
              "      <th></th>\n",
              "      <th></th>\n",
              "      <th></th>\n",
              "      <th></th>\n",
              "      <th></th>\n",
              "      <th></th>\n",
              "      <th></th>\n",
              "      <th></th>\n",
              "      <th></th>\n",
              "      <th></th>\n",
              "      <th></th>\n",
              "      <th></th>\n",
              "      <th></th>\n",
              "      <th></th>\n",
              "      <th></th>\n",
              "      <th></th>\n",
              "      <th></th>\n",
              "      <th></th>\n",
              "      <th></th>\n",
              "      <th></th>\n",
              "      <th></th>\n",
              "      <th></th>\n",
              "      <th></th>\n",
              "      <th></th>\n",
              "      <th></th>\n",
              "      <th></th>\n",
              "      <th></th>\n",
              "      <th></th>\n",
              "      <th></th>\n",
              "      <th></th>\n",
              "      <th></th>\n",
              "    </tr>\n",
              "  </thead>\n",
              "  <tbody>\n",
              "    <tr>\n",
              "      <th>AJWA for Food Industries company    Egypt</th>\n",
              "      <td>0</td>\n",
              "      <td>0</td>\n",
              "      <td>0</td>\n",
              "      <td>0</td>\n",
              "      <td>0</td>\n",
              "      <td>0</td>\n",
              "      <td>0</td>\n",
              "      <td>0</td>\n",
              "      <td>0</td>\n",
              "      <td>0</td>\n",
              "      <td>0</td>\n",
              "      <td>0</td>\n",
              "      <td>0</td>\n",
              "      <td>0</td>\n",
              "      <td>0</td>\n",
              "      <td>0</td>\n",
              "      <td>0</td>\n",
              "      <td>485</td>\n",
              "      <td>0</td>\n",
              "      <td>0</td>\n",
              "      <td>0</td>\n",
              "      <td>0</td>\n",
              "      <td>0</td>\n",
              "      <td>0</td>\n",
              "      <td>0</td>\n",
              "      <td>0</td>\n",
              "      <td>0</td>\n",
              "      <td>0</td>\n",
              "      <td>0</td>\n",
              "      <td>0</td>\n",
              "      <td>0</td>\n",
              "      <td>0</td>\n",
              "      <td>0</td>\n",
              "      <td>0</td>\n",
              "      <td>0</td>\n",
              "      <td>0</td>\n",
              "      <td>0</td>\n",
              "      <td>0</td>\n",
              "      <td>0</td>\n",
              "      <td>0</td>\n",
              "      <td>...</td>\n",
              "      <td>0</td>\n",
              "      <td>0</td>\n",
              "      <td>0</td>\n",
              "      <td>0</td>\n",
              "      <td>0</td>\n",
              "      <td>0</td>\n",
              "      <td>0</td>\n",
              "      <td>0</td>\n",
              "      <td>0</td>\n",
              "      <td>0</td>\n",
              "      <td>0</td>\n",
              "      <td>0</td>\n",
              "      <td>0</td>\n",
              "      <td>0</td>\n",
              "      <td>0</td>\n",
              "      <td>0</td>\n",
              "      <td>0</td>\n",
              "      <td>0</td>\n",
              "      <td>0</td>\n",
              "      <td>0</td>\n",
              "      <td>0</td>\n",
              "      <td>0</td>\n",
              "      <td>0</td>\n",
              "      <td>0</td>\n",
              "      <td>0</td>\n",
              "      <td>0</td>\n",
              "      <td>0</td>\n",
              "      <td>0</td>\n",
              "      <td>0</td>\n",
              "      <td>0</td>\n",
              "      <td>0</td>\n",
              "      <td>0</td>\n",
              "      <td>0</td>\n",
              "      <td>0</td>\n",
              "      <td>0</td>\n",
              "      <td>0</td>\n",
              "      <td>0</td>\n",
              "      <td>0</td>\n",
              "      <td>0</td>\n",
              "      <td>0</td>\n",
              "    </tr>\n",
              "    <tr>\n",
              "      <th>ARAB POLVARA SPINNING &amp; WEAVING CO.</th>\n",
              "      <td>0</td>\n",
              "      <td>0</td>\n",
              "      <td>0</td>\n",
              "      <td>0</td>\n",
              "      <td>0</td>\n",
              "      <td>0</td>\n",
              "      <td>0</td>\n",
              "      <td>0</td>\n",
              "      <td>0</td>\n",
              "      <td>0</td>\n",
              "      <td>0</td>\n",
              "      <td>0</td>\n",
              "      <td>0</td>\n",
              "      <td>0</td>\n",
              "      <td>0</td>\n",
              "      <td>0</td>\n",
              "      <td>0</td>\n",
              "      <td>0</td>\n",
              "      <td>0</td>\n",
              "      <td>0</td>\n",
              "      <td>0</td>\n",
              "      <td>0</td>\n",
              "      <td>0</td>\n",
              "      <td>0</td>\n",
              "      <td>0</td>\n",
              "      <td>0</td>\n",
              "      <td>0</td>\n",
              "      <td>484</td>\n",
              "      <td>0</td>\n",
              "      <td>0</td>\n",
              "      <td>0</td>\n",
              "      <td>0</td>\n",
              "      <td>0</td>\n",
              "      <td>0</td>\n",
              "      <td>0</td>\n",
              "      <td>0</td>\n",
              "      <td>0</td>\n",
              "      <td>0</td>\n",
              "      <td>0</td>\n",
              "      <td>0</td>\n",
              "      <td>...</td>\n",
              "      <td>0</td>\n",
              "      <td>0</td>\n",
              "      <td>0</td>\n",
              "      <td>0</td>\n",
              "      <td>0</td>\n",
              "      <td>0</td>\n",
              "      <td>0</td>\n",
              "      <td>0</td>\n",
              "      <td>0</td>\n",
              "      <td>0</td>\n",
              "      <td>0</td>\n",
              "      <td>0</td>\n",
              "      <td>0</td>\n",
              "      <td>0</td>\n",
              "      <td>0</td>\n",
              "      <td>0</td>\n",
              "      <td>0</td>\n",
              "      <td>0</td>\n",
              "      <td>0</td>\n",
              "      <td>0</td>\n",
              "      <td>0</td>\n",
              "      <td>0</td>\n",
              "      <td>0</td>\n",
              "      <td>0</td>\n",
              "      <td>0</td>\n",
              "      <td>0</td>\n",
              "      <td>0</td>\n",
              "      <td>0</td>\n",
              "      <td>0</td>\n",
              "      <td>0</td>\n",
              "      <td>0</td>\n",
              "      <td>0</td>\n",
              "      <td>0</td>\n",
              "      <td>0</td>\n",
              "      <td>0</td>\n",
              "      <td>0</td>\n",
              "      <td>0</td>\n",
              "      <td>0</td>\n",
              "      <td>0</td>\n",
              "      <td>0</td>\n",
              "    </tr>\n",
              "    <tr>\n",
              "      <th>Abou Kir Fertilizers</th>\n",
              "      <td>0</td>\n",
              "      <td>487</td>\n",
              "      <td>0</td>\n",
              "      <td>0</td>\n",
              "      <td>0</td>\n",
              "      <td>0</td>\n",
              "      <td>0</td>\n",
              "      <td>0</td>\n",
              "      <td>0</td>\n",
              "      <td>0</td>\n",
              "      <td>0</td>\n",
              "      <td>0</td>\n",
              "      <td>0</td>\n",
              "      <td>0</td>\n",
              "      <td>0</td>\n",
              "      <td>0</td>\n",
              "      <td>0</td>\n",
              "      <td>0</td>\n",
              "      <td>0</td>\n",
              "      <td>0</td>\n",
              "      <td>0</td>\n",
              "      <td>0</td>\n",
              "      <td>0</td>\n",
              "      <td>0</td>\n",
              "      <td>0</td>\n",
              "      <td>0</td>\n",
              "      <td>0</td>\n",
              "      <td>0</td>\n",
              "      <td>0</td>\n",
              "      <td>0</td>\n",
              "      <td>0</td>\n",
              "      <td>0</td>\n",
              "      <td>0</td>\n",
              "      <td>0</td>\n",
              "      <td>0</td>\n",
              "      <td>0</td>\n",
              "      <td>0</td>\n",
              "      <td>0</td>\n",
              "      <td>0</td>\n",
              "      <td>0</td>\n",
              "      <td>...</td>\n",
              "      <td>0</td>\n",
              "      <td>0</td>\n",
              "      <td>0</td>\n",
              "      <td>0</td>\n",
              "      <td>0</td>\n",
              "      <td>0</td>\n",
              "      <td>0</td>\n",
              "      <td>0</td>\n",
              "      <td>0</td>\n",
              "      <td>0</td>\n",
              "      <td>0</td>\n",
              "      <td>0</td>\n",
              "      <td>0</td>\n",
              "      <td>0</td>\n",
              "      <td>0</td>\n",
              "      <td>0</td>\n",
              "      <td>0</td>\n",
              "      <td>0</td>\n",
              "      <td>0</td>\n",
              "      <td>0</td>\n",
              "      <td>0</td>\n",
              "      <td>0</td>\n",
              "      <td>0</td>\n",
              "      <td>0</td>\n",
              "      <td>0</td>\n",
              "      <td>0</td>\n",
              "      <td>0</td>\n",
              "      <td>0</td>\n",
              "      <td>0</td>\n",
              "      <td>0</td>\n",
              "      <td>0</td>\n",
              "      <td>0</td>\n",
              "      <td>0</td>\n",
              "      <td>0</td>\n",
              "      <td>0</td>\n",
              "      <td>0</td>\n",
              "      <td>0</td>\n",
              "      <td>0</td>\n",
              "      <td>0</td>\n",
              "      <td>0</td>\n",
              "    </tr>\n",
              "    <tr>\n",
              "      <th>Abu Dhabi Islamic Bank- Egypt</th>\n",
              "      <td>0</td>\n",
              "      <td>0</td>\n",
              "      <td>0</td>\n",
              "      <td>0</td>\n",
              "      <td>0</td>\n",
              "      <td>0</td>\n",
              "      <td>485</td>\n",
              "      <td>0</td>\n",
              "      <td>0</td>\n",
              "      <td>0</td>\n",
              "      <td>0</td>\n",
              "      <td>0</td>\n",
              "      <td>0</td>\n",
              "      <td>0</td>\n",
              "      <td>0</td>\n",
              "      <td>0</td>\n",
              "      <td>0</td>\n",
              "      <td>0</td>\n",
              "      <td>0</td>\n",
              "      <td>0</td>\n",
              "      <td>0</td>\n",
              "      <td>0</td>\n",
              "      <td>0</td>\n",
              "      <td>0</td>\n",
              "      <td>0</td>\n",
              "      <td>0</td>\n",
              "      <td>0</td>\n",
              "      <td>0</td>\n",
              "      <td>0</td>\n",
              "      <td>0</td>\n",
              "      <td>0</td>\n",
              "      <td>0</td>\n",
              "      <td>0</td>\n",
              "      <td>0</td>\n",
              "      <td>0</td>\n",
              "      <td>0</td>\n",
              "      <td>0</td>\n",
              "      <td>0</td>\n",
              "      <td>0</td>\n",
              "      <td>0</td>\n",
              "      <td>...</td>\n",
              "      <td>0</td>\n",
              "      <td>0</td>\n",
              "      <td>0</td>\n",
              "      <td>0</td>\n",
              "      <td>0</td>\n",
              "      <td>0</td>\n",
              "      <td>0</td>\n",
              "      <td>0</td>\n",
              "      <td>0</td>\n",
              "      <td>0</td>\n",
              "      <td>0</td>\n",
              "      <td>0</td>\n",
              "      <td>0</td>\n",
              "      <td>0</td>\n",
              "      <td>0</td>\n",
              "      <td>0</td>\n",
              "      <td>0</td>\n",
              "      <td>0</td>\n",
              "      <td>0</td>\n",
              "      <td>0</td>\n",
              "      <td>0</td>\n",
              "      <td>0</td>\n",
              "      <td>0</td>\n",
              "      <td>0</td>\n",
              "      <td>0</td>\n",
              "      <td>0</td>\n",
              "      <td>0</td>\n",
              "      <td>0</td>\n",
              "      <td>0</td>\n",
              "      <td>0</td>\n",
              "      <td>0</td>\n",
              "      <td>0</td>\n",
              "      <td>0</td>\n",
              "      <td>0</td>\n",
              "      <td>0</td>\n",
              "      <td>0</td>\n",
              "      <td>0</td>\n",
              "      <td>0</td>\n",
              "      <td>0</td>\n",
              "      <td>0</td>\n",
              "    </tr>\n",
              "    <tr>\n",
              "      <th>Acrow Misr</th>\n",
              "      <td>0</td>\n",
              "      <td>0</td>\n",
              "      <td>0</td>\n",
              "      <td>0</td>\n",
              "      <td>293</td>\n",
              "      <td>0</td>\n",
              "      <td>0</td>\n",
              "      <td>0</td>\n",
              "      <td>0</td>\n",
              "      <td>0</td>\n",
              "      <td>0</td>\n",
              "      <td>0</td>\n",
              "      <td>0</td>\n",
              "      <td>0</td>\n",
              "      <td>0</td>\n",
              "      <td>0</td>\n",
              "      <td>0</td>\n",
              "      <td>0</td>\n",
              "      <td>0</td>\n",
              "      <td>0</td>\n",
              "      <td>0</td>\n",
              "      <td>0</td>\n",
              "      <td>0</td>\n",
              "      <td>0</td>\n",
              "      <td>0</td>\n",
              "      <td>0</td>\n",
              "      <td>0</td>\n",
              "      <td>0</td>\n",
              "      <td>0</td>\n",
              "      <td>0</td>\n",
              "      <td>0</td>\n",
              "      <td>0</td>\n",
              "      <td>0</td>\n",
              "      <td>0</td>\n",
              "      <td>0</td>\n",
              "      <td>0</td>\n",
              "      <td>0</td>\n",
              "      <td>0</td>\n",
              "      <td>0</td>\n",
              "      <td>0</td>\n",
              "      <td>...</td>\n",
              "      <td>0</td>\n",
              "      <td>0</td>\n",
              "      <td>0</td>\n",
              "      <td>0</td>\n",
              "      <td>0</td>\n",
              "      <td>0</td>\n",
              "      <td>0</td>\n",
              "      <td>0</td>\n",
              "      <td>0</td>\n",
              "      <td>0</td>\n",
              "      <td>0</td>\n",
              "      <td>0</td>\n",
              "      <td>0</td>\n",
              "      <td>0</td>\n",
              "      <td>0</td>\n",
              "      <td>0</td>\n",
              "      <td>0</td>\n",
              "      <td>0</td>\n",
              "      <td>0</td>\n",
              "      <td>0</td>\n",
              "      <td>0</td>\n",
              "      <td>0</td>\n",
              "      <td>0</td>\n",
              "      <td>0</td>\n",
              "      <td>0</td>\n",
              "      <td>0</td>\n",
              "      <td>0</td>\n",
              "      <td>0</td>\n",
              "      <td>0</td>\n",
              "      <td>0</td>\n",
              "      <td>0</td>\n",
              "      <td>0</td>\n",
              "      <td>0</td>\n",
              "      <td>0</td>\n",
              "      <td>0</td>\n",
              "      <td>0</td>\n",
              "      <td>0</td>\n",
              "      <td>0</td>\n",
              "      <td>0</td>\n",
              "      <td>0</td>\n",
              "    </tr>\n",
              "    <tr>\n",
              "      <th>...</th>\n",
              "      <td>...</td>\n",
              "      <td>...</td>\n",
              "      <td>...</td>\n",
              "      <td>...</td>\n",
              "      <td>...</td>\n",
              "      <td>...</td>\n",
              "      <td>...</td>\n",
              "      <td>...</td>\n",
              "      <td>...</td>\n",
              "      <td>...</td>\n",
              "      <td>...</td>\n",
              "      <td>...</td>\n",
              "      <td>...</td>\n",
              "      <td>...</td>\n",
              "      <td>...</td>\n",
              "      <td>...</td>\n",
              "      <td>...</td>\n",
              "      <td>...</td>\n",
              "      <td>...</td>\n",
              "      <td>...</td>\n",
              "      <td>...</td>\n",
              "      <td>...</td>\n",
              "      <td>...</td>\n",
              "      <td>...</td>\n",
              "      <td>...</td>\n",
              "      <td>...</td>\n",
              "      <td>...</td>\n",
              "      <td>...</td>\n",
              "      <td>...</td>\n",
              "      <td>...</td>\n",
              "      <td>...</td>\n",
              "      <td>...</td>\n",
              "      <td>...</td>\n",
              "      <td>...</td>\n",
              "      <td>...</td>\n",
              "      <td>...</td>\n",
              "      <td>...</td>\n",
              "      <td>...</td>\n",
              "      <td>...</td>\n",
              "      <td>...</td>\n",
              "      <td>...</td>\n",
              "      <td>...</td>\n",
              "      <td>...</td>\n",
              "      <td>...</td>\n",
              "      <td>...</td>\n",
              "      <td>...</td>\n",
              "      <td>...</td>\n",
              "      <td>...</td>\n",
              "      <td>...</td>\n",
              "      <td>...</td>\n",
              "      <td>...</td>\n",
              "      <td>...</td>\n",
              "      <td>...</td>\n",
              "      <td>...</td>\n",
              "      <td>...</td>\n",
              "      <td>...</td>\n",
              "      <td>...</td>\n",
              "      <td>...</td>\n",
              "      <td>...</td>\n",
              "      <td>...</td>\n",
              "      <td>...</td>\n",
              "      <td>...</td>\n",
              "      <td>...</td>\n",
              "      <td>...</td>\n",
              "      <td>...</td>\n",
              "      <td>...</td>\n",
              "      <td>...</td>\n",
              "      <td>...</td>\n",
              "      <td>...</td>\n",
              "      <td>...</td>\n",
              "      <td>...</td>\n",
              "      <td>...</td>\n",
              "      <td>...</td>\n",
              "      <td>...</td>\n",
              "      <td>...</td>\n",
              "      <td>...</td>\n",
              "      <td>...</td>\n",
              "      <td>...</td>\n",
              "      <td>...</td>\n",
              "      <td>...</td>\n",
              "      <td>...</td>\n",
              "    </tr>\n",
              "    <tr>\n",
              "      <th>Univert Food Industries</th>\n",
              "      <td>0</td>\n",
              "      <td>0</td>\n",
              "      <td>0</td>\n",
              "      <td>0</td>\n",
              "      <td>0</td>\n",
              "      <td>0</td>\n",
              "      <td>0</td>\n",
              "      <td>0</td>\n",
              "      <td>0</td>\n",
              "      <td>0</td>\n",
              "      <td>0</td>\n",
              "      <td>0</td>\n",
              "      <td>0</td>\n",
              "      <td>0</td>\n",
              "      <td>0</td>\n",
              "      <td>0</td>\n",
              "      <td>0</td>\n",
              "      <td>0</td>\n",
              "      <td>0</td>\n",
              "      <td>0</td>\n",
              "      <td>0</td>\n",
              "      <td>0</td>\n",
              "      <td>0</td>\n",
              "      <td>0</td>\n",
              "      <td>0</td>\n",
              "      <td>0</td>\n",
              "      <td>0</td>\n",
              "      <td>0</td>\n",
              "      <td>0</td>\n",
              "      <td>0</td>\n",
              "      <td>0</td>\n",
              "      <td>0</td>\n",
              "      <td>0</td>\n",
              "      <td>0</td>\n",
              "      <td>0</td>\n",
              "      <td>0</td>\n",
              "      <td>0</td>\n",
              "      <td>0</td>\n",
              "      <td>0</td>\n",
              "      <td>0</td>\n",
              "      <td>...</td>\n",
              "      <td>0</td>\n",
              "      <td>0</td>\n",
              "      <td>0</td>\n",
              "      <td>0</td>\n",
              "      <td>0</td>\n",
              "      <td>0</td>\n",
              "      <td>0</td>\n",
              "      <td>0</td>\n",
              "      <td>0</td>\n",
              "      <td>0</td>\n",
              "      <td>0</td>\n",
              "      <td>0</td>\n",
              "      <td>0</td>\n",
              "      <td>0</td>\n",
              "      <td>0</td>\n",
              "      <td>0</td>\n",
              "      <td>0</td>\n",
              "      <td>0</td>\n",
              "      <td>0</td>\n",
              "      <td>0</td>\n",
              "      <td>0</td>\n",
              "      <td>0</td>\n",
              "      <td>0</td>\n",
              "      <td>0</td>\n",
              "      <td>0</td>\n",
              "      <td>0</td>\n",
              "      <td>0</td>\n",
              "      <td>0</td>\n",
              "      <td>0</td>\n",
              "      <td>189</td>\n",
              "      <td>0</td>\n",
              "      <td>0</td>\n",
              "      <td>0</td>\n",
              "      <td>0</td>\n",
              "      <td>0</td>\n",
              "      <td>0</td>\n",
              "      <td>0</td>\n",
              "      <td>0</td>\n",
              "      <td>0</td>\n",
              "      <td>0</td>\n",
              "    </tr>\n",
              "    <tr>\n",
              "      <th>Upper Egypt Flour Mills</th>\n",
              "      <td>0</td>\n",
              "      <td>0</td>\n",
              "      <td>0</td>\n",
              "      <td>0</td>\n",
              "      <td>0</td>\n",
              "      <td>0</td>\n",
              "      <td>0</td>\n",
              "      <td>0</td>\n",
              "      <td>0</td>\n",
              "      <td>0</td>\n",
              "      <td>0</td>\n",
              "      <td>0</td>\n",
              "      <td>0</td>\n",
              "      <td>0</td>\n",
              "      <td>0</td>\n",
              "      <td>0</td>\n",
              "      <td>0</td>\n",
              "      <td>0</td>\n",
              "      <td>0</td>\n",
              "      <td>0</td>\n",
              "      <td>0</td>\n",
              "      <td>0</td>\n",
              "      <td>0</td>\n",
              "      <td>0</td>\n",
              "      <td>0</td>\n",
              "      <td>0</td>\n",
              "      <td>0</td>\n",
              "      <td>0</td>\n",
              "      <td>0</td>\n",
              "      <td>0</td>\n",
              "      <td>0</td>\n",
              "      <td>0</td>\n",
              "      <td>0</td>\n",
              "      <td>0</td>\n",
              "      <td>0</td>\n",
              "      <td>0</td>\n",
              "      <td>0</td>\n",
              "      <td>0</td>\n",
              "      <td>0</td>\n",
              "      <td>0</td>\n",
              "      <td>...</td>\n",
              "      <td>0</td>\n",
              "      <td>0</td>\n",
              "      <td>0</td>\n",
              "      <td>0</td>\n",
              "      <td>0</td>\n",
              "      <td>0</td>\n",
              "      <td>0</td>\n",
              "      <td>0</td>\n",
              "      <td>0</td>\n",
              "      <td>0</td>\n",
              "      <td>0</td>\n",
              "      <td>0</td>\n",
              "      <td>0</td>\n",
              "      <td>0</td>\n",
              "      <td>0</td>\n",
              "      <td>0</td>\n",
              "      <td>0</td>\n",
              "      <td>0</td>\n",
              "      <td>0</td>\n",
              "      <td>0</td>\n",
              "      <td>0</td>\n",
              "      <td>0</td>\n",
              "      <td>0</td>\n",
              "      <td>0</td>\n",
              "      <td>0</td>\n",
              "      <td>0</td>\n",
              "      <td>334</td>\n",
              "      <td>0</td>\n",
              "      <td>0</td>\n",
              "      <td>0</td>\n",
              "      <td>0</td>\n",
              "      <td>0</td>\n",
              "      <td>0</td>\n",
              "      <td>0</td>\n",
              "      <td>0</td>\n",
              "      <td>0</td>\n",
              "      <td>0</td>\n",
              "      <td>0</td>\n",
              "      <td>0</td>\n",
              "      <td>0</td>\n",
              "    </tr>\n",
              "    <tr>\n",
              "      <th>Vertika for Industry &amp; Trade</th>\n",
              "      <td>0</td>\n",
              "      <td>0</td>\n",
              "      <td>0</td>\n",
              "      <td>0</td>\n",
              "      <td>0</td>\n",
              "      <td>0</td>\n",
              "      <td>0</td>\n",
              "      <td>0</td>\n",
              "      <td>0</td>\n",
              "      <td>0</td>\n",
              "      <td>0</td>\n",
              "      <td>0</td>\n",
              "      <td>0</td>\n",
              "      <td>0</td>\n",
              "      <td>0</td>\n",
              "      <td>0</td>\n",
              "      <td>0</td>\n",
              "      <td>0</td>\n",
              "      <td>0</td>\n",
              "      <td>0</td>\n",
              "      <td>0</td>\n",
              "      <td>0</td>\n",
              "      <td>0</td>\n",
              "      <td>0</td>\n",
              "      <td>0</td>\n",
              "      <td>0</td>\n",
              "      <td>0</td>\n",
              "      <td>0</td>\n",
              "      <td>0</td>\n",
              "      <td>0</td>\n",
              "      <td>0</td>\n",
              "      <td>0</td>\n",
              "      <td>0</td>\n",
              "      <td>0</td>\n",
              "      <td>0</td>\n",
              "      <td>0</td>\n",
              "      <td>0</td>\n",
              "      <td>0</td>\n",
              "      <td>0</td>\n",
              "      <td>0</td>\n",
              "      <td>...</td>\n",
              "      <td>0</td>\n",
              "      <td>0</td>\n",
              "      <td>0</td>\n",
              "      <td>0</td>\n",
              "      <td>0</td>\n",
              "      <td>0</td>\n",
              "      <td>0</td>\n",
              "      <td>0</td>\n",
              "      <td>0</td>\n",
              "      <td>0</td>\n",
              "      <td>0</td>\n",
              "      <td>0</td>\n",
              "      <td>0</td>\n",
              "      <td>0</td>\n",
              "      <td>0</td>\n",
              "      <td>0</td>\n",
              "      <td>0</td>\n",
              "      <td>0</td>\n",
              "      <td>0</td>\n",
              "      <td>0</td>\n",
              "      <td>0</td>\n",
              "      <td>0</td>\n",
              "      <td>0</td>\n",
              "      <td>0</td>\n",
              "      <td>0</td>\n",
              "      <td>0</td>\n",
              "      <td>0</td>\n",
              "      <td>0</td>\n",
              "      <td>0</td>\n",
              "      <td>0</td>\n",
              "      <td>0</td>\n",
              "      <td>0</td>\n",
              "      <td>0</td>\n",
              "      <td>0</td>\n",
              "      <td>81</td>\n",
              "      <td>0</td>\n",
              "      <td>0</td>\n",
              "      <td>0</td>\n",
              "      <td>0</td>\n",
              "      <td>0</td>\n",
              "    </tr>\n",
              "    <tr>\n",
              "      <th>Wadi Kom Ombo Land Reclamation</th>\n",
              "      <td>0</td>\n",
              "      <td>0</td>\n",
              "      <td>0</td>\n",
              "      <td>0</td>\n",
              "      <td>0</td>\n",
              "      <td>0</td>\n",
              "      <td>0</td>\n",
              "      <td>0</td>\n",
              "      <td>0</td>\n",
              "      <td>0</td>\n",
              "      <td>0</td>\n",
              "      <td>0</td>\n",
              "      <td>0</td>\n",
              "      <td>0</td>\n",
              "      <td>0</td>\n",
              "      <td>0</td>\n",
              "      <td>0</td>\n",
              "      <td>0</td>\n",
              "      <td>0</td>\n",
              "      <td>0</td>\n",
              "      <td>0</td>\n",
              "      <td>0</td>\n",
              "      <td>0</td>\n",
              "      <td>0</td>\n",
              "      <td>0</td>\n",
              "      <td>0</td>\n",
              "      <td>0</td>\n",
              "      <td>0</td>\n",
              "      <td>0</td>\n",
              "      <td>0</td>\n",
              "      <td>0</td>\n",
              "      <td>0</td>\n",
              "      <td>0</td>\n",
              "      <td>0</td>\n",
              "      <td>0</td>\n",
              "      <td>0</td>\n",
              "      <td>0</td>\n",
              "      <td>0</td>\n",
              "      <td>0</td>\n",
              "      <td>0</td>\n",
              "      <td>...</td>\n",
              "      <td>0</td>\n",
              "      <td>0</td>\n",
              "      <td>0</td>\n",
              "      <td>0</td>\n",
              "      <td>0</td>\n",
              "      <td>0</td>\n",
              "      <td>0</td>\n",
              "      <td>0</td>\n",
              "      <td>0</td>\n",
              "      <td>0</td>\n",
              "      <td>0</td>\n",
              "      <td>0</td>\n",
              "      <td>0</td>\n",
              "      <td>0</td>\n",
              "      <td>0</td>\n",
              "      <td>0</td>\n",
              "      <td>0</td>\n",
              "      <td>0</td>\n",
              "      <td>0</td>\n",
              "      <td>0</td>\n",
              "      <td>0</td>\n",
              "      <td>0</td>\n",
              "      <td>0</td>\n",
              "      <td>0</td>\n",
              "      <td>0</td>\n",
              "      <td>0</td>\n",
              "      <td>0</td>\n",
              "      <td>0</td>\n",
              "      <td>0</td>\n",
              "      <td>0</td>\n",
              "      <td>0</td>\n",
              "      <td>0</td>\n",
              "      <td>0</td>\n",
              "      <td>0</td>\n",
              "      <td>0</td>\n",
              "      <td>0</td>\n",
              "      <td>0</td>\n",
              "      <td>399</td>\n",
              "      <td>0</td>\n",
              "      <td>0</td>\n",
              "    </tr>\n",
              "    <tr>\n",
              "      <th>Zahraa Maadi Investment &amp; Development</th>\n",
              "      <td>0</td>\n",
              "      <td>0</td>\n",
              "      <td>0</td>\n",
              "      <td>0</td>\n",
              "      <td>0</td>\n",
              "      <td>0</td>\n",
              "      <td>0</td>\n",
              "      <td>0</td>\n",
              "      <td>0</td>\n",
              "      <td>0</td>\n",
              "      <td>0</td>\n",
              "      <td>0</td>\n",
              "      <td>0</td>\n",
              "      <td>0</td>\n",
              "      <td>0</td>\n",
              "      <td>0</td>\n",
              "      <td>0</td>\n",
              "      <td>0</td>\n",
              "      <td>0</td>\n",
              "      <td>0</td>\n",
              "      <td>0</td>\n",
              "      <td>0</td>\n",
              "      <td>0</td>\n",
              "      <td>0</td>\n",
              "      <td>0</td>\n",
              "      <td>0</td>\n",
              "      <td>0</td>\n",
              "      <td>0</td>\n",
              "      <td>0</td>\n",
              "      <td>0</td>\n",
              "      <td>0</td>\n",
              "      <td>0</td>\n",
              "      <td>0</td>\n",
              "      <td>0</td>\n",
              "      <td>0</td>\n",
              "      <td>0</td>\n",
              "      <td>0</td>\n",
              "      <td>0</td>\n",
              "      <td>0</td>\n",
              "      <td>0</td>\n",
              "      <td>...</td>\n",
              "      <td>0</td>\n",
              "      <td>0</td>\n",
              "      <td>0</td>\n",
              "      <td>0</td>\n",
              "      <td>0</td>\n",
              "      <td>0</td>\n",
              "      <td>0</td>\n",
              "      <td>0</td>\n",
              "      <td>0</td>\n",
              "      <td>0</td>\n",
              "      <td>0</td>\n",
              "      <td>0</td>\n",
              "      <td>0</td>\n",
              "      <td>0</td>\n",
              "      <td>0</td>\n",
              "      <td>0</td>\n",
              "      <td>0</td>\n",
              "      <td>0</td>\n",
              "      <td>0</td>\n",
              "      <td>0</td>\n",
              "      <td>0</td>\n",
              "      <td>0</td>\n",
              "      <td>0</td>\n",
              "      <td>0</td>\n",
              "      <td>0</td>\n",
              "      <td>0</td>\n",
              "      <td>0</td>\n",
              "      <td>0</td>\n",
              "      <td>0</td>\n",
              "      <td>0</td>\n",
              "      <td>0</td>\n",
              "      <td>0</td>\n",
              "      <td>0</td>\n",
              "      <td>0</td>\n",
              "      <td>0</td>\n",
              "      <td>0</td>\n",
              "      <td>0</td>\n",
              "      <td>0</td>\n",
              "      <td>0</td>\n",
              "      <td>430</td>\n",
              "    </tr>\n",
              "  </tbody>\n",
              "</table>\n",
              "<p>256 rows × 255 columns</p>\n",
              "</div>"
            ],
            "text/plain": [
              "REUTERS                                    AALR.CA               ...  ZMID.CA             \n",
              "ENG_NAME                                                         ...                      \n",
              "AJWA for Food Industries company    Egypt                     0  ...                     0\n",
              "ARAB POLVARA SPINNING & WEAVING CO.                           0  ...                     0\n",
              "Abou Kir Fertilizers                                          0  ...                     0\n",
              "Abu Dhabi Islamic Bank- Egypt                                 0  ...                     0\n",
              "Acrow Misr                                                    0  ...                     0\n",
              "...                                                         ...  ...                   ...\n",
              "Univert Food Industries                                       0  ...                     0\n",
              "Upper Egypt Flour Mills                                       0  ...                     0\n",
              "Vertika for Industry & Trade                                  0  ...                     0\n",
              "Wadi Kom Ombo Land Reclamation                                0  ...                     0\n",
              "Zahraa Maadi Investment & Development                         0  ...                   430\n",
              "\n",
              "[256 rows x 255 columns]"
            ]
          },
          "metadata": {
            "tags": []
          },
          "execution_count": 45
        }
      ]
    },
    {
      "cell_type": "code",
      "metadata": {
        "id": "HirsMr_MXmYn",
        "colab": {
          "base_uri": "https://localhost:8080/"
        },
        "outputId": "c3bc1406-a95d-4dbd-b0e3-8b7f146f37e6"
      },
      "source": [
        "item_counts = dataset[\"ENG_NAME\"].value_counts()\n",
        "print(item_counts)"
      ],
      "execution_count": null,
      "outputs": [
        {
          "output_type": "stream",
          "text": [
            "Eastern Company                                               487\n",
            "Mena Touristic & Real Estate Investment                       487\n",
            "El Nasr Clothes & Textiles (Kabo)                             487\n",
            "United Housing & Development                                  487\n",
            "El Shams Housing & Urbanization                               487\n",
            "                                                             ... \n",
            "El Taamir Securitization The Seconed Issue Tran C Jul 2020      1\n",
            "El Taamir Securitization The Seconed Issue Tran D Jul 2022      1\n",
            "El Taamir Securitization The Seconed Issue Tran A Jan 2020      1\n",
            "El Taamir Securitization The Seconed Issue Tran B Apr 2020      1\n",
            "El Taamir Securitization The Seconed Issue Tran H Jul 2024      1\n",
            "Name: ENG_NAME, Length: 256, dtype: int64\n"
          ],
          "name": "stdout"
        }
      ]
    },
    {
      "cell_type": "code",
      "metadata": {
        "colab": {
          "base_uri": "https://localhost:8080/"
        },
        "id": "qOCbw6VD9-yI",
        "outputId": "ffd297af-a74c-4bc0-936c-ca391dd6a3f9"
      },
      "source": [
        "dataset.ENG_NAME.unique()"
      ],
      "execution_count": null,
      "outputs": [
        {
          "output_type": "execute_result",
          "data": {
            "text/plain": [
              "array(['The Arab Dairy Products Co. Arab Dairy - Panda',\n",
              "       'Eastern Company',\n",
              "       'Egyptian International Pharmaceuticals (EIPICO)',\n",
              "       'Minapharm Pharmaceuticals', 'Alexandria Mineral Oils Company',\n",
              "       'Sidi Kerir Petrochemicals',\n",
              "       'Universal For Paper and Packaging Materials (Unipack',\n",
              "       'Abou Kir Fertilizers', 'Egyptian Chemical Industries (Kima)',\n",
              "       'Misr Chemical Industries', 'Extracted Oils',\n",
              "       'Sabaa International Company for Pharmaceutical and Chemical',\n",
              "       'Arab Pharmaceuticals',\n",
              "       'El-Nile Co. For Pharmaceuticals And Chemical Industries',\n",
              "       'Alexandria Pharmaceuticals', 'Memphis Pharmaceuticals',\n",
              "       'Egyptian Financial & Industrial', 'Cairo Pharmaceuticals',\n",
              "       'Kafr El Zayat Pesticides', 'Misr Oils & Soap',\n",
              "       'FERCHEM MISR CO. FOR FERTILLIZERS & CHEMICALS',\n",
              "       'Natural Gas & Mining Project (Egypt Gas)',\n",
              "       'Misr Fretilizers Production Company - Mopco',\n",
              "       'Modern Shorouk Printing & Packaging', 'El Ezz Porcelain (Gemma)',\n",
              "       'Arabian Cement Company', 'Ceramic & Porcelain', 'National Cement',\n",
              "       'The Arab Ceramic CO.- Ceramica Remas', 'Lecico Egypt',\n",
              "       'Suez Cement', 'Ezz Steel', 'Torah Cement', 'South Valley Cement',\n",
              "       'Misr Beni Suef Cement', 'Misr Cement (Qena)', 'Sinai Cement',\n",
              "       'Arab Aluminum', 'EL Ezz Aldekhela Steel  -   Alexandria',\n",
              "       'Egyptian Iron & Steel', 'Acrow Misr', 'Egypt Aluminum',\n",
              "       'Ismailia National Food Industries', 'Ismailia Misr Poultry',\n",
              "       'Cairo Poultry', 'Mansourah Poultry', 'Egypt for Poultry',\n",
              "       'International Agricultural Products',\n",
              "       'Atlas For Investment and Food Industries',\n",
              "       'Asek Company for Mining    - Ascom',\n",
              "       'Zahraa Maadi Investment & Development',\n",
              "       'Arabia Investments Holding',\n",
              "       'Egyptians For Investment & Urban Development',\n",
              "       'Delta Construction & Rebuilding',\n",
              "       'Ismailia Development and Real Estate Co',\n",
              "       'Elsaeed Contracting& Real Estate Investment Company SCCD',\n",
              "       'Giza General Contracting',\n",
              "       'Al Fanar Contracting Construction Trade Import And Export Co',\n",
              "       'M.B Engineering', 'Nasr Company for Civil Works',\n",
              "       'The Egyptian Company for Construction Development-Lift Slab',\n",
              "       'Brothers Solidarity For Real Estate Investment&Food Security',\n",
              "       'Arabian Food Industries DOMTY', 'Delta Sugar',\n",
              "       'AJWA for Food Industries company    Egypt', 'Arab Valves Company',\n",
              "       'Integrated Engineering Group S.A.E',\n",
              "       'Engineering Industries (ICON)', 'ELSWEDY ELECTRIC',\n",
              "       'El Arabia Engineering Industries', 'Electro Cable Egypt',\n",
              "       'Alexandria Cement',\n",
              "       'International company For Medical Industries -ICMI',\n",
              "       'Union Pharmacist Company For Medical Services and Investment',\n",
              "       'Modern Company for water proofing (Bitumode)',\n",
              "       'Arabian Rocks Plastic Industries', 'Genial Tours',\n",
              "       'Egyptian Transport (EGYTRANS)', 'Alexandria Containers and goods',\n",
              "       'Maridive & oil services', 'Canal Shipping Agencies',\n",
              "       'GMC GROUP FOR INDUSTRIAL COMMERCIAL & FINANCIAL INVESTMENTS',\n",
              "       'United Arab Shipping', 'Orange Egypt For Telecommunications',\n",
              "       'Egyptian Satellites (NileSat)', 'Telecom Egypt',\n",
              "       'Samad Misr -EGYFERT', 'Ibnsina Pharma', 'Univert Food Industries',\n",
              "       'Northern Upper Egypt Development & Agricultural Production',\n",
              "       'International Company For Fertilizers & Chemicals',\n",
              "       'Misr Duty Free Shops', 'Barbary Investment Group ( BIG)',\n",
              "       'Credit Agricole Egypt', 'Union National Bank - Egypt \" UNB-E',\n",
              "       'Al Baraka Bank Egypt', 'Abu Dhabi Islamic Bank- Egypt',\n",
              "       'Commercial International Bank (Egypt)',\n",
              "       'National Bank Of Kuwait- Egypt- NBK', 'Egyptian Gulf Bank',\n",
              "       'Suez Canal Bank', 'Export Development Bank of Egypt (EDBE)',\n",
              "       'Housing & Development Bank',\n",
              "       'Faisal Islamic Bank of Egypt - In EGP',\n",
              "       'Faisal Islamic Bank of Egypt - In US Dollars', 'Delta Insurance',\n",
              "       'Sharkia National Food', 'East Delta Flour Mills',\n",
              "       'North Cairo Mills', 'Middle Egypt Flour Mills',\n",
              "       'South Cairo & Giza Mills & Bakeries',\n",
              "       'Middle & West Delta Flour Mills', 'Egyptian Starch & Glucose',\n",
              "       'General Silos & Storage', 'Upper Egypt Flour Mills',\n",
              "       'Alexandria Flour Mills', 'Cairo Oils & Soap',\n",
              "       'Edita Food Industries S.A.E', 'Juhayna Food Industries',\n",
              "       'Obour Land For Food Industries',\n",
              "       'Alexandria Spinning & Weaving (SPINALEX)', 'Arab Cotton Ginning',\n",
              "       'ARAB POLVARA SPINNING & WEAVING CO.', 'Oriental Weavers',\n",
              "       'El Nasr Clothes & Textiles (Kabo)', 'Dice Sport & Casual Wear',\n",
              "       'Rakta Paper Manufacturing', 'Suez Bags',\n",
              "       'El Ahram Co. For Printing And Packing',\n",
              "       'Reacap Financial Investments', 'Prime Holding',\n",
              "       'Belton Financial Holding', 'Pioneers Holding', 'T M G Holding',\n",
              "       'Orascom Investment Holding', 'EGX 30 INDEX ETF', 'Porto Group',\n",
              "       'Egyptian International Tourism Projects', 'Misr Hotels',\n",
              "       'Remco for Touristic Villages Construction',\n",
              "       'Rowad Tourism (Al Rowad)', 'Orascom Development Egypt',\n",
              "       'Pyramisa Hotels', 'Egyptian for Tourism Resorts',\n",
              "       'Sharm Dreams Co. for Tourism Investment', 'Golden Coast Company',\n",
              "       'Marsa Marsa Alam For Tourism Development',\n",
              "       'El Wadi For International and Investement Development',\n",
              "       'Nozha International Hospital', 'Cairo Educational Services',\n",
              "       'The Egyptian Modern Education Systems',\n",
              "       'Cleopatra Hospital Company', 'Citadel Capital - Common Shares',\n",
              "       'Raya Contact Center',\n",
              "       'MM Group For Industry And International Trade',\n",
              "       'Egyptian Media Production City', 'TransOceans Tours',\n",
              "       'Orascom Construction PLC', 'EDRs Of Al Salam Holding Company',\n",
              "       'Mohandes Insurance', 'Arab Real Estate Investment CO.-ALICO',\n",
              "       'United Housing & Development', 'El Kahera Housing',\n",
              "       'Development & Engineering Consultants',\n",
              "       'El Shams Housing & Urbanization',\n",
              "       'Gulf Canadian Real Estate Investment Co.',\n",
              "       'Egyptian Real Estate Group',\n",
              "       'Egyptians Housing Development & Reconstruction',\n",
              "       'Mena Touristic & Real Estate Investment',\n",
              "       'Gharbia Islamic Housing Development',\n",
              "       'National Real Estate Bank  for Development',\n",
              "       'Medinet Nasr Housing', 'Heliopolis Housing',\n",
              "       'Palm Hills Development Company',\n",
              "       'Six of October Development & Investment (SODIC)',\n",
              "       'North Africa Co. for Real Estate Investment',\n",
              "       'Arab Development & Real Estate Investment',\n",
              "       'Saudi Egyptian Investment & Finance', 'ODIN Investments',\n",
              "       'International Co For Investment & Development',\n",
              "       'Arab Moltaka Investments Co',\n",
              "       'Al Arafa For Investment And Consultancies', 'GB AUTO',\n",
              "       'Emaar Misr for Development', 'Amer Group Holding',\n",
              "       'Al Tawfeek Leasing Company-A.T.LEASE',\n",
              "       'Egyptian Arabian (cmar)  Securities Brokerage EAC',\n",
              "       'El Orouba Securities Brokerage',\n",
              "       'El Ahli Investment and Development', 'Egyptian Kuwaiti Holding',\n",
              "       'Raya Holding For Financial Investments',\n",
              "       'Egyptian Financial Group-Hermes Holding Company', 'Naeem Holding',\n",
              "       'El Nasr For Manufacturing Agricultural Crops',\n",
              "       'National company for maize products',\n",
              "       'International Dry Ice Company- Difco 2',\n",
              "       'Golden Textiles & Clothes Wool', 'Delta For Printing & Packaging',\n",
              "       'Industrial & Engineering Projects', 'Glaxo Smith Kline',\n",
              "       'Rubex International for Plastic and Acrylic Manufacturing',\n",
              "       'The Holding Company for Financial Investments (Lakah Group)',\n",
              "       'Societe Arabe Internationale De Banque (SAIB)',\n",
              "       'Assiut Islamic Trading', 'Wadi Kom Ombo Land Reclamation',\n",
              "       'El Obour Real Estate Investment',\n",
              "       'El Kahera El Watania Investment',\n",
              "       'Port Saied for Agricultural Development and Construction',\n",
              "       'Misr National Steel - Ataqa',\n",
              "       'Sues Canal Company For Technology Settling',\n",
              "       'Arab Gulf Investment',\n",
              "       'Alexandria National Company for Financial Investment',\n",
              "       'Qatar National Bank Alahly',\n",
              "       'National Housing for Professional Syndicates', 'UTOPIA',\n",
              "       'MISR INTERCONTINENTAL FOR GRANITE & MARBLE (EGY-STON)',\n",
              "       'Vertika for Industry & Trade', 'Alexandria New Medical Center',\n",
              "       'Medical Packaging Company', 'October Pharma',\n",
              "       'Golden Pyramids Plaza',\n",
              "       'Al Moasher for Programming and Information Dissemination',\n",
              "       'Paint & Chemicals Industries (Pachin)',\n",
              "       'Grand Investment Capital',\n",
              "       'International Business Corporation For Trading and Agencies',\n",
              "       'El Arabia for Land Reclamation', 'Al Bader Plastic',\n",
              "       'Marseille Almasreia Alkhalegeya For Holding Investment',\n",
              "       'Misr Kuwait Investment & Trading Co.',\n",
              "       'First Investment Company And Real Estate Development',\n",
              "       'Egypt - South Africa for Communication',\n",
              "       'Pharaoh tech for control and communication systems',\n",
              "       'National Drilling', 'Egyptians Real Estate Fund Certificates',\n",
              "       'B Investments Holding',\n",
              "       'El Shams Pyramids For Hotels& Touristic Projects',\n",
              "       'Middle East Glass Manufacturing',\n",
              "       'Osool ESB Securities Brokerage',\n",
              "       'CI Capital Holding For Financial Investments',\n",
              "       'Nile City Investment',\n",
              "       'General Company For Land Reclamation,Development & Reconstru',\n",
              "       'Arab Co. for Asset Management And Development',\n",
              "       'Golden Pyramids Plaza-First Instalment-2nd Issue-31July 2023',\n",
              "       'Cairo For Investment And Real Estate Development',\n",
              "       'Sarwa Capital Holding',\n",
              "       'Al Arafa Investment And Consulting in EGP',\n",
              "       'El Taamir Securitization The Seconed Issue Tran A Jan 2020',\n",
              "       'El Taamir Securitization The Seconed Issue Tran B Apr 2020',\n",
              "       'El Taamir Securitization The Seconed Issue Tran C Jul 2020',\n",
              "       'El Taamir Securitization The Seconed Issue Tran D Jul 2022',\n",
              "       'El Taamir Securitization The Seconed Issue Tran H Jul 2024',\n",
              "       'Fawry For Banking Technology And Electronic Payment',\n",
              "       'Rights Issue Of Belton Financial Holding-2', 'Speed Medical',\n",
              "       'Suez Canal Bank S.A.E',\n",
              "       'Tenth Of Ramadan Pharmaceutical Industries&Diagnostic-Rameda'],\n",
              "      dtype=object)"
            ]
          },
          "metadata": {
            "tags": []
          },
          "execution_count": 56
        }
      ]
    },
    {
      "cell_type": "code",
      "metadata": {
        "colab": {
          "base_uri": "https://localhost:8080/"
        },
        "id": "7B1GpIG38ucV",
        "outputId": "9a04433a-9673-43b5-86d0-34c4b46888b4"
      },
      "source": [
        "dataset.shape"
      ],
      "execution_count": null,
      "outputs": [
        {
          "output_type": "execute_result",
          "data": {
            "text/plain": [
              "(89638, 14)"
            ]
          },
          "metadata": {
            "tags": []
          },
          "execution_count": 48
        }
      ]
    },
    {
      "cell_type": "code",
      "metadata": {
        "colab": {
          "base_uri": "https://localhost:8080/",
          "height": 407
        },
        "id": "wEet_Ftx9HvF",
        "outputId": "d9ae14cf-c6cc-47cb-a207-7c5c8ca140da"
      },
      "source": [
        "dataset.head(10)"
      ],
      "execution_count": null,
      "outputs": [
        {
          "output_type": "execute_result",
          "data": {
            "text/html": [
              "<div>\n",
              "<style scoped>\n",
              "    .dataframe tbody tr th:only-of-type {\n",
              "        vertical-align: middle;\n",
              "    }\n",
              "\n",
              "    .dataframe tbody tr th {\n",
              "        vertical-align: top;\n",
              "    }\n",
              "\n",
              "    .dataframe thead th {\n",
              "        text-align: right;\n",
              "    }\n",
              "</style>\n",
              "<table border=\"1\" class=\"dataframe\">\n",
              "  <thead>\n",
              "    <tr style=\"text-align: right;\">\n",
              "      <th></th>\n",
              "      <th>SYMBOL_CODE</th>\n",
              "      <th>ENG_NAME</th>\n",
              "      <th>REUTERS</th>\n",
              "      <th>TRADE_DATE</th>\n",
              "      <th>TRADE_VALUE</th>\n",
              "      <th>TRADE_VOLUME</th>\n",
              "      <th>TRADE_COUNT</th>\n",
              "      <th>OPEN_PRICE</th>\n",
              "      <th>HIGH_PRICE</th>\n",
              "      <th>LOW_PRICE</th>\n",
              "      <th>CLOSE_PRICE</th>\n",
              "      <th>day</th>\n",
              "      <th>month</th>\n",
              "      <th>year</th>\n",
              "    </tr>\n",
              "  </thead>\n",
              "  <tbody>\n",
              "    <tr>\n",
              "      <th>0</th>\n",
              "      <td>EGS30221C013</td>\n",
              "      <td>The Arab Dairy Products Co. Arab Dairy - Panda</td>\n",
              "      <td>ADPC.CA</td>\n",
              "      <td>2018-01-02</td>\n",
              "      <td>104.00</td>\n",
              "      <td>10.0</td>\n",
              "      <td>1.0</td>\n",
              "      <td>10.40</td>\n",
              "      <td>10.40</td>\n",
              "      <td>10.40</td>\n",
              "      <td>9.50</td>\n",
              "      <td>2</td>\n",
              "      <td>1</td>\n",
              "      <td>2018</td>\n",
              "    </tr>\n",
              "    <tr>\n",
              "      <th>1</th>\n",
              "      <td>EGS37091C013</td>\n",
              "      <td>Eastern Company</td>\n",
              "      <td>EAST.CA</td>\n",
              "      <td>2018-01-02</td>\n",
              "      <td>1368169.21</td>\n",
              "      <td>3056.0</td>\n",
              "      <td>9.0</td>\n",
              "      <td>469.80</td>\n",
              "      <td>469.80</td>\n",
              "      <td>430.00</td>\n",
              "      <td>447.70</td>\n",
              "      <td>2</td>\n",
              "      <td>1</td>\n",
              "      <td>2018</td>\n",
              "    </tr>\n",
              "    <tr>\n",
              "      <th>2</th>\n",
              "      <td>EGS38081C013</td>\n",
              "      <td>Egyptian International Pharmaceuticals (EIPICO)</td>\n",
              "      <td>PHAR.CA</td>\n",
              "      <td>2018-01-02</td>\n",
              "      <td>80211.00</td>\n",
              "      <td>537.0</td>\n",
              "      <td>3.0</td>\n",
              "      <td>153.00</td>\n",
              "      <td>153.00</td>\n",
              "      <td>140.00</td>\n",
              "      <td>149.37</td>\n",
              "      <td>2</td>\n",
              "      <td>1</td>\n",
              "      <td>2018</td>\n",
              "    </tr>\n",
              "    <tr>\n",
              "      <th>3</th>\n",
              "      <td>EGS380G1C011</td>\n",
              "      <td>Minapharm Pharmaceuticals</td>\n",
              "      <td>MIPH.CA</td>\n",
              "      <td>2018-01-02</td>\n",
              "      <td>78000.00</td>\n",
              "      <td>1000.0</td>\n",
              "      <td>1.0</td>\n",
              "      <td>78.00</td>\n",
              "      <td>78.00</td>\n",
              "      <td>78.00</td>\n",
              "      <td>78.00</td>\n",
              "      <td>2</td>\n",
              "      <td>1</td>\n",
              "      <td>2018</td>\n",
              "    </tr>\n",
              "    <tr>\n",
              "      <th>4</th>\n",
              "      <td>EGS380P1C010</td>\n",
              "      <td>Alexandria Mineral Oils Company</td>\n",
              "      <td>AMOC.CA</td>\n",
              "      <td>2018-01-02</td>\n",
              "      <td>17412181.44</td>\n",
              "      <td>1260791.0</td>\n",
              "      <td>624.0</td>\n",
              "      <td>13.87</td>\n",
              "      <td>14.05</td>\n",
              "      <td>13.65</td>\n",
              "      <td>13.81</td>\n",
              "      <td>2</td>\n",
              "      <td>1</td>\n",
              "      <td>2018</td>\n",
              "    </tr>\n",
              "    <tr>\n",
              "      <th>5</th>\n",
              "      <td>EGS380S1C017</td>\n",
              "      <td>Sidi Kerir Petrochemicals</td>\n",
              "      <td>SKPC.CA</td>\n",
              "      <td>2018-01-02</td>\n",
              "      <td>8478833.94</td>\n",
              "      <td>337839.0</td>\n",
              "      <td>277.0</td>\n",
              "      <td>25.50</td>\n",
              "      <td>25.50</td>\n",
              "      <td>24.70</td>\n",
              "      <td>25.10</td>\n",
              "      <td>2</td>\n",
              "      <td>1</td>\n",
              "      <td>2018</td>\n",
              "    </tr>\n",
              "    <tr>\n",
              "      <th>6</th>\n",
              "      <td>EGS38161C013</td>\n",
              "      <td>Universal For Paper and Packaging Materials (U...</td>\n",
              "      <td>UNIP.CA</td>\n",
              "      <td>2018-01-02</td>\n",
              "      <td>10829.90</td>\n",
              "      <td>334.0</td>\n",
              "      <td>6.0</td>\n",
              "      <td>32.00</td>\n",
              "      <td>34.00</td>\n",
              "      <td>32.00</td>\n",
              "      <td>33.45</td>\n",
              "      <td>2</td>\n",
              "      <td>1</td>\n",
              "      <td>2018</td>\n",
              "    </tr>\n",
              "    <tr>\n",
              "      <th>7</th>\n",
              "      <td>EGS38191C010</td>\n",
              "      <td>Abou Kir Fertilizers</td>\n",
              "      <td>ABUK.CA</td>\n",
              "      <td>2018-01-02</td>\n",
              "      <td>6239458.10</td>\n",
              "      <td>286921.0</td>\n",
              "      <td>230.0</td>\n",
              "      <td>21.75</td>\n",
              "      <td>22.17</td>\n",
              "      <td>21.42</td>\n",
              "      <td>21.75</td>\n",
              "      <td>2</td>\n",
              "      <td>1</td>\n",
              "      <td>2018</td>\n",
              "    </tr>\n",
              "    <tr>\n",
              "      <th>8</th>\n",
              "      <td>EGS38201C017</td>\n",
              "      <td>Egyptian Chemical Industries (Kima)</td>\n",
              "      <td>EGCH.CA</td>\n",
              "      <td>2018-01-02</td>\n",
              "      <td>13152230.45</td>\n",
              "      <td>1694093.0</td>\n",
              "      <td>528.0</td>\n",
              "      <td>7.94</td>\n",
              "      <td>7.95</td>\n",
              "      <td>7.65</td>\n",
              "      <td>7.76</td>\n",
              "      <td>2</td>\n",
              "      <td>1</td>\n",
              "      <td>2018</td>\n",
              "    </tr>\n",
              "    <tr>\n",
              "      <th>9</th>\n",
              "      <td>EGS38211C016</td>\n",
              "      <td>Misr Chemical Industries</td>\n",
              "      <td>MICH.CA</td>\n",
              "      <td>2018-01-02</td>\n",
              "      <td>2858224.49</td>\n",
              "      <td>183301.0</td>\n",
              "      <td>226.0</td>\n",
              "      <td>15.70</td>\n",
              "      <td>15.89</td>\n",
              "      <td>15.41</td>\n",
              "      <td>15.59</td>\n",
              "      <td>2</td>\n",
              "      <td>1</td>\n",
              "      <td>2018</td>\n",
              "    </tr>\n",
              "  </tbody>\n",
              "</table>\n",
              "</div>"
            ],
            "text/plain": [
              "    SYMBOL_CODE                                           ENG_NAME  ... month  year\n",
              "0  EGS30221C013     The Arab Dairy Products Co. Arab Dairy - Panda  ...     1  2018\n",
              "1  EGS37091C013                                    Eastern Company  ...     1  2018\n",
              "2  EGS38081C013    Egyptian International Pharmaceuticals (EIPICO)  ...     1  2018\n",
              "3  EGS380G1C011                          Minapharm Pharmaceuticals  ...     1  2018\n",
              "4  EGS380P1C010                    Alexandria Mineral Oils Company  ...     1  2018\n",
              "5  EGS380S1C017                          Sidi Kerir Petrochemicals  ...     1  2018\n",
              "6  EGS38161C013  Universal For Paper and Packaging Materials (U...  ...     1  2018\n",
              "7  EGS38191C010                               Abou Kir Fertilizers  ...     1  2018\n",
              "8  EGS38201C017                Egyptian Chemical Industries (Kima)  ...     1  2018\n",
              "9  EGS38211C016                           Misr Chemical Industries  ...     1  2018\n",
              "\n",
              "[10 rows x 14 columns]"
            ]
          },
          "metadata": {
            "tags": []
          },
          "execution_count": 49
        }
      ]
    },
    {
      "cell_type": "code",
      "metadata": {
        "colab": {
          "base_uri": "https://localhost:8080/"
        },
        "id": "ew5QHw7IuVLf",
        "outputId": "6b992595-4144-4fbc-958a-3b837133375b"
      },
      "source": [
        "data1=dataset.loc[dataset['ENG_NAME'] == 'AJWA for Food Industries company    Egypt']\n",
        "\n",
        "data1.shape"
      ],
      "execution_count": null,
      "outputs": [
        {
          "output_type": "execute_result",
          "data": {
            "text/plain": [
              "(485, 14)"
            ]
          },
          "metadata": {
            "tags": []
          },
          "execution_count": 136
        }
      ]
    },
    {
      "cell_type": "code",
      "metadata": {
        "id": "RBdt5mHevPFo"
      },
      "source": [
        ""
      ],
      "execution_count": null,
      "outputs": []
    },
    {
      "cell_type": "code",
      "metadata": {
        "id": "tcraWA-CXTXq"
      },
      "source": [
        "df1=data1"
      ],
      "execution_count": null,
      "outputs": []
    },
    {
      "cell_type": "code",
      "metadata": {
        "colab": {
          "base_uri": "https://localhost:8080/"
        },
        "id": "WwjTENEhXGnR",
        "outputId": "7bfa8b84-5dab-4c88-9b11-d6515e6e9279"
      },
      "source": [
        "\n",
        "def replace(group):   \n",
        "    mean, std = group.mean(), group.std()\n",
        "    outliers = (group - mean).abs() > 2*std\n",
        "\n",
        "    group[outliers] = mean\n",
        "    return group\n",
        "cols=['TRADE_VALUE','TRADE_VOLUME','TRADE_COUNT','OPEN_PRICE','HIGH_PRICE','LOW_PRICE','CLOSE_PRICE']\n",
        "for i in cols:\n",
        "\n",
        "   df1[i]=replace(df1[i])\n",
        "# df1=df1.groupby('REUTERS').transform(replace)"
      ],
      "execution_count": null,
      "outputs": [
        {
          "output_type": "stream",
          "text": [
            "/usr/local/lib/python3.7/dist-packages/ipykernel_launcher.py:6: SettingWithCopyWarning: \n",
            "A value is trying to be set on a copy of a slice from a DataFrame\n",
            "\n",
            "See the caveats in the documentation: https://pandas.pydata.org/pandas-docs/stable/user_guide/indexing.html#returning-a-view-versus-a-copy\n",
            "  \n",
            "/usr/local/lib/python3.7/dist-packages/pandas/core/series.py:1021: SettingWithCopyWarning: \n",
            "A value is trying to be set on a copy of a slice from a DataFrame\n",
            "\n",
            "See the caveats in the documentation: https://pandas.pydata.org/pandas-docs/stable/user_guide/indexing.html#returning-a-view-versus-a-copy\n",
            "  self._where(~key, value, inplace=True)\n",
            "/usr/local/lib/python3.7/dist-packages/ipykernel_launcher.py:11: SettingWithCopyWarning: \n",
            "A value is trying to be set on a copy of a slice from a DataFrame.\n",
            "Try using .loc[row_indexer,col_indexer] = value instead\n",
            "\n",
            "See the caveats in the documentation: https://pandas.pydata.org/pandas-docs/stable/user_guide/indexing.html#returning-a-view-versus-a-copy\n",
            "  # This is added back by InteractiveShellApp.init_path()\n",
            "/usr/local/lib/python3.7/dist-packages/ipykernel_launcher.py:6: SettingWithCopyWarning: \n",
            "A value is trying to be set on a copy of a slice from a DataFrame\n",
            "\n",
            "See the caveats in the documentation: https://pandas.pydata.org/pandas-docs/stable/user_guide/indexing.html#returning-a-view-versus-a-copy\n",
            "  \n",
            "/usr/local/lib/python3.7/dist-packages/pandas/core/series.py:1021: SettingWithCopyWarning: \n",
            "A value is trying to be set on a copy of a slice from a DataFrame\n",
            "\n",
            "See the caveats in the documentation: https://pandas.pydata.org/pandas-docs/stable/user_guide/indexing.html#returning-a-view-versus-a-copy\n",
            "  self._where(~key, value, inplace=True)\n",
            "/usr/local/lib/python3.7/dist-packages/ipykernel_launcher.py:11: SettingWithCopyWarning: \n",
            "A value is trying to be set on a copy of a slice from a DataFrame.\n",
            "Try using .loc[row_indexer,col_indexer] = value instead\n",
            "\n",
            "See the caveats in the documentation: https://pandas.pydata.org/pandas-docs/stable/user_guide/indexing.html#returning-a-view-versus-a-copy\n",
            "  # This is added back by InteractiveShellApp.init_path()\n",
            "/usr/local/lib/python3.7/dist-packages/ipykernel_launcher.py:6: SettingWithCopyWarning: \n",
            "A value is trying to be set on a copy of a slice from a DataFrame\n",
            "\n",
            "See the caveats in the documentation: https://pandas.pydata.org/pandas-docs/stable/user_guide/indexing.html#returning-a-view-versus-a-copy\n",
            "  \n",
            "/usr/local/lib/python3.7/dist-packages/pandas/core/series.py:1021: SettingWithCopyWarning: \n",
            "A value is trying to be set on a copy of a slice from a DataFrame\n",
            "\n",
            "See the caveats in the documentation: https://pandas.pydata.org/pandas-docs/stable/user_guide/indexing.html#returning-a-view-versus-a-copy\n",
            "  self._where(~key, value, inplace=True)\n",
            "/usr/local/lib/python3.7/dist-packages/ipykernel_launcher.py:11: SettingWithCopyWarning: \n",
            "A value is trying to be set on a copy of a slice from a DataFrame.\n",
            "Try using .loc[row_indexer,col_indexer] = value instead\n",
            "\n",
            "See the caveats in the documentation: https://pandas.pydata.org/pandas-docs/stable/user_guide/indexing.html#returning-a-view-versus-a-copy\n",
            "  # This is added back by InteractiveShellApp.init_path()\n",
            "/usr/local/lib/python3.7/dist-packages/ipykernel_launcher.py:6: SettingWithCopyWarning: \n",
            "A value is trying to be set on a copy of a slice from a DataFrame\n",
            "\n",
            "See the caveats in the documentation: https://pandas.pydata.org/pandas-docs/stable/user_guide/indexing.html#returning-a-view-versus-a-copy\n",
            "  \n",
            "/usr/local/lib/python3.7/dist-packages/pandas/core/series.py:1021: SettingWithCopyWarning: \n",
            "A value is trying to be set on a copy of a slice from a DataFrame\n",
            "\n",
            "See the caveats in the documentation: https://pandas.pydata.org/pandas-docs/stable/user_guide/indexing.html#returning-a-view-versus-a-copy\n",
            "  self._where(~key, value, inplace=True)\n",
            "/usr/local/lib/python3.7/dist-packages/ipykernel_launcher.py:11: SettingWithCopyWarning: \n",
            "A value is trying to be set on a copy of a slice from a DataFrame.\n",
            "Try using .loc[row_indexer,col_indexer] = value instead\n",
            "\n",
            "See the caveats in the documentation: https://pandas.pydata.org/pandas-docs/stable/user_guide/indexing.html#returning-a-view-versus-a-copy\n",
            "  # This is added back by InteractiveShellApp.init_path()\n",
            "/usr/local/lib/python3.7/dist-packages/ipykernel_launcher.py:6: SettingWithCopyWarning: \n",
            "A value is trying to be set on a copy of a slice from a DataFrame\n",
            "\n",
            "See the caveats in the documentation: https://pandas.pydata.org/pandas-docs/stable/user_guide/indexing.html#returning-a-view-versus-a-copy\n",
            "  \n",
            "/usr/local/lib/python3.7/dist-packages/pandas/core/series.py:1021: SettingWithCopyWarning: \n",
            "A value is trying to be set on a copy of a slice from a DataFrame\n",
            "\n",
            "See the caveats in the documentation: https://pandas.pydata.org/pandas-docs/stable/user_guide/indexing.html#returning-a-view-versus-a-copy\n",
            "  self._where(~key, value, inplace=True)\n",
            "/usr/local/lib/python3.7/dist-packages/ipykernel_launcher.py:11: SettingWithCopyWarning: \n",
            "A value is trying to be set on a copy of a slice from a DataFrame.\n",
            "Try using .loc[row_indexer,col_indexer] = value instead\n",
            "\n",
            "See the caveats in the documentation: https://pandas.pydata.org/pandas-docs/stable/user_guide/indexing.html#returning-a-view-versus-a-copy\n",
            "  # This is added back by InteractiveShellApp.init_path()\n",
            "/usr/local/lib/python3.7/dist-packages/ipykernel_launcher.py:6: SettingWithCopyWarning: \n",
            "A value is trying to be set on a copy of a slice from a DataFrame\n",
            "\n",
            "See the caveats in the documentation: https://pandas.pydata.org/pandas-docs/stable/user_guide/indexing.html#returning-a-view-versus-a-copy\n",
            "  \n",
            "/usr/local/lib/python3.7/dist-packages/pandas/core/series.py:1021: SettingWithCopyWarning: \n",
            "A value is trying to be set on a copy of a slice from a DataFrame\n",
            "\n",
            "See the caveats in the documentation: https://pandas.pydata.org/pandas-docs/stable/user_guide/indexing.html#returning-a-view-versus-a-copy\n",
            "  self._where(~key, value, inplace=True)\n",
            "/usr/local/lib/python3.7/dist-packages/ipykernel_launcher.py:11: SettingWithCopyWarning: \n",
            "A value is trying to be set on a copy of a slice from a DataFrame.\n",
            "Try using .loc[row_indexer,col_indexer] = value instead\n",
            "\n",
            "See the caveats in the documentation: https://pandas.pydata.org/pandas-docs/stable/user_guide/indexing.html#returning-a-view-versus-a-copy\n",
            "  # This is added back by InteractiveShellApp.init_path()\n",
            "/usr/local/lib/python3.7/dist-packages/ipykernel_launcher.py:6: SettingWithCopyWarning: \n",
            "A value is trying to be set on a copy of a slice from a DataFrame\n",
            "\n",
            "See the caveats in the documentation: https://pandas.pydata.org/pandas-docs/stable/user_guide/indexing.html#returning-a-view-versus-a-copy\n",
            "  \n",
            "/usr/local/lib/python3.7/dist-packages/pandas/core/series.py:1021: SettingWithCopyWarning: \n",
            "A value is trying to be set on a copy of a slice from a DataFrame\n",
            "\n",
            "See the caveats in the documentation: https://pandas.pydata.org/pandas-docs/stable/user_guide/indexing.html#returning-a-view-versus-a-copy\n",
            "  self._where(~key, value, inplace=True)\n",
            "/usr/local/lib/python3.7/dist-packages/ipykernel_launcher.py:11: SettingWithCopyWarning: \n",
            "A value is trying to be set on a copy of a slice from a DataFrame.\n",
            "Try using .loc[row_indexer,col_indexer] = value instead\n",
            "\n",
            "See the caveats in the documentation: https://pandas.pydata.org/pandas-docs/stable/user_guide/indexing.html#returning-a-view-versus-a-copy\n",
            "  # This is added back by InteractiveShellApp.init_path()\n"
          ],
          "name": "stderr"
        }
      ]
    },
    {
      "cell_type": "code",
      "metadata": {
        "colab": {
          "base_uri": "https://localhost:8080/",
          "height": 357
        },
        "id": "fIgvquOfaAJ4",
        "outputId": "6ec717f1-acd9-402e-978e-8d226c33a2f9"
      },
      "source": [
        "df1.head(10)"
      ],
      "execution_count": null,
      "outputs": [
        {
          "output_type": "execute_result",
          "data": {
            "text/html": [
              "<div>\n",
              "<style scoped>\n",
              "    .dataframe tbody tr th:only-of-type {\n",
              "        vertical-align: middle;\n",
              "    }\n",
              "\n",
              "    .dataframe tbody tr th {\n",
              "        vertical-align: top;\n",
              "    }\n",
              "\n",
              "    .dataframe thead th {\n",
              "        text-align: right;\n",
              "    }\n",
              "</style>\n",
              "<table border=\"1\" class=\"dataframe\">\n",
              "  <thead>\n",
              "    <tr style=\"text-align: right;\">\n",
              "      <th></th>\n",
              "      <th>SYMBOL_CODE</th>\n",
              "      <th>ENG_NAME</th>\n",
              "      <th>REUTERS</th>\n",
              "      <th>TRADE_DATE</th>\n",
              "      <th>TRADE_VALUE</th>\n",
              "      <th>TRADE_VOLUME</th>\n",
              "      <th>TRADE_COUNT</th>\n",
              "      <th>OPEN_PRICE</th>\n",
              "      <th>HIGH_PRICE</th>\n",
              "      <th>LOW_PRICE</th>\n",
              "      <th>CLOSE_PRICE</th>\n",
              "      <th>day</th>\n",
              "      <th>month</th>\n",
              "      <th>year</th>\n",
              "    </tr>\n",
              "  </thead>\n",
              "  <tbody>\n",
              "    <tr>\n",
              "      <th>64</th>\n",
              "      <td>EGS30211C014</td>\n",
              "      <td>AJWA for Food Industries company    Egypt</td>\n",
              "      <td>AJWA.CA</td>\n",
              "      <td>2018-01-02</td>\n",
              "      <td>4.102989e+05</td>\n",
              "      <td>148110.000000</td>\n",
              "      <td>52.000000</td>\n",
              "      <td>2.75</td>\n",
              "      <td>2.80</td>\n",
              "      <td>2.72</td>\n",
              "      <td>2.77</td>\n",
              "      <td>2</td>\n",
              "      <td>1</td>\n",
              "      <td>2018</td>\n",
              "    </tr>\n",
              "    <tr>\n",
              "      <th>196</th>\n",
              "      <td>EGS30211C014</td>\n",
              "      <td>AJWA for Food Industries company    Egypt</td>\n",
              "      <td>AJWA.CA</td>\n",
              "      <td>2018-01-03</td>\n",
              "      <td>1.037444e+06</td>\n",
              "      <td>325907.459794</td>\n",
              "      <td>84.936082</td>\n",
              "      <td>2.80</td>\n",
              "      <td>3.04</td>\n",
              "      <td>2.77</td>\n",
              "      <td>2.90</td>\n",
              "      <td>3</td>\n",
              "      <td>1</td>\n",
              "      <td>2018</td>\n",
              "    </tr>\n",
              "    <tr>\n",
              "      <th>423</th>\n",
              "      <td>EGS30211C014</td>\n",
              "      <td>AJWA for Food Industries company    Egypt</td>\n",
              "      <td>AJWA.CA</td>\n",
              "      <td>2018-01-04</td>\n",
              "      <td>1.277621e+06</td>\n",
              "      <td>435261.000000</td>\n",
              "      <td>88.000000</td>\n",
              "      <td>2.95</td>\n",
              "      <td>3.01</td>\n",
              "      <td>2.90</td>\n",
              "      <td>2.94</td>\n",
              "      <td>4</td>\n",
              "      <td>1</td>\n",
              "      <td>2018</td>\n",
              "    </tr>\n",
              "    <tr>\n",
              "      <th>610</th>\n",
              "      <td>EGS30211C014</td>\n",
              "      <td>AJWA for Food Industries company    Egypt</td>\n",
              "      <td>AJWA.CA</td>\n",
              "      <td>2018-01-08</td>\n",
              "      <td>3.467200e+05</td>\n",
              "      <td>118629.000000</td>\n",
              "      <td>39.000000</td>\n",
              "      <td>2.97</td>\n",
              "      <td>2.97</td>\n",
              "      <td>2.90</td>\n",
              "      <td>2.92</td>\n",
              "      <td>8</td>\n",
              "      <td>1</td>\n",
              "      <td>2018</td>\n",
              "    </tr>\n",
              "    <tr>\n",
              "      <th>805</th>\n",
              "      <td>EGS30211C014</td>\n",
              "      <td>AJWA for Food Industries company    Egypt</td>\n",
              "      <td>AJWA.CA</td>\n",
              "      <td>2018-01-09</td>\n",
              "      <td>1.988998e+06</td>\n",
              "      <td>658211.000000</td>\n",
              "      <td>183.000000</td>\n",
              "      <td>2.99</td>\n",
              "      <td>3.09</td>\n",
              "      <td>2.92</td>\n",
              "      <td>3.02</td>\n",
              "      <td>9</td>\n",
              "      <td>1</td>\n",
              "      <td>2018</td>\n",
              "    </tr>\n",
              "    <tr>\n",
              "      <th>1019</th>\n",
              "      <td>EGS30211C014</td>\n",
              "      <td>AJWA for Food Industries company    Egypt</td>\n",
              "      <td>AJWA.CA</td>\n",
              "      <td>2018-01-10</td>\n",
              "      <td>8.335758e+05</td>\n",
              "      <td>285404.000000</td>\n",
              "      <td>88.000000</td>\n",
              "      <td>2.94</td>\n",
              "      <td>2.97</td>\n",
              "      <td>2.88</td>\n",
              "      <td>2.92</td>\n",
              "      <td>10</td>\n",
              "      <td>1</td>\n",
              "      <td>2018</td>\n",
              "    </tr>\n",
              "    <tr>\n",
              "      <th>1193</th>\n",
              "      <td>EGS30211C014</td>\n",
              "      <td>AJWA for Food Industries company    Egypt</td>\n",
              "      <td>AJWA.CA</td>\n",
              "      <td>2018-01-11</td>\n",
              "      <td>3.134204e+05</td>\n",
              "      <td>106241.000000</td>\n",
              "      <td>44.000000</td>\n",
              "      <td>2.92</td>\n",
              "      <td>3.00</td>\n",
              "      <td>2.92</td>\n",
              "      <td>2.95</td>\n",
              "      <td>11</td>\n",
              "      <td>1</td>\n",
              "      <td>2018</td>\n",
              "    </tr>\n",
              "    <tr>\n",
              "      <th>1383</th>\n",
              "      <td>EGS30211C014</td>\n",
              "      <td>AJWA for Food Industries company    Egypt</td>\n",
              "      <td>AJWA.CA</td>\n",
              "      <td>2018-01-14</td>\n",
              "      <td>3.369379e+05</td>\n",
              "      <td>114861.000000</td>\n",
              "      <td>36.000000</td>\n",
              "      <td>2.94</td>\n",
              "      <td>2.95</td>\n",
              "      <td>2.92</td>\n",
              "      <td>2.93</td>\n",
              "      <td>14</td>\n",
              "      <td>1</td>\n",
              "      <td>2018</td>\n",
              "    </tr>\n",
              "    <tr>\n",
              "      <th>1587</th>\n",
              "      <td>EGS30211C014</td>\n",
              "      <td>AJWA for Food Industries company    Egypt</td>\n",
              "      <td>AJWA.CA</td>\n",
              "      <td>2018-01-15</td>\n",
              "      <td>3.958232e+05</td>\n",
              "      <td>133240.000000</td>\n",
              "      <td>47.000000</td>\n",
              "      <td>2.97</td>\n",
              "      <td>3.00</td>\n",
              "      <td>2.92</td>\n",
              "      <td>2.97</td>\n",
              "      <td>15</td>\n",
              "      <td>1</td>\n",
              "      <td>2018</td>\n",
              "    </tr>\n",
              "    <tr>\n",
              "      <th>1879</th>\n",
              "      <td>EGS30211C014</td>\n",
              "      <td>AJWA for Food Industries company    Egypt</td>\n",
              "      <td>AJWA.CA</td>\n",
              "      <td>2018-01-16</td>\n",
              "      <td>1.316361e+06</td>\n",
              "      <td>447710.000000</td>\n",
              "      <td>79.000000</td>\n",
              "      <td>2.92</td>\n",
              "      <td>2.99</td>\n",
              "      <td>2.90</td>\n",
              "      <td>2.94</td>\n",
              "      <td>16</td>\n",
              "      <td>1</td>\n",
              "      <td>2018</td>\n",
              "    </tr>\n",
              "  </tbody>\n",
              "</table>\n",
              "</div>"
            ],
            "text/plain": [
              "       SYMBOL_CODE                                   ENG_NAME  ... month  year\n",
              "64    EGS30211C014  AJWA for Food Industries company    Egypt  ...     1  2018\n",
              "196   EGS30211C014  AJWA for Food Industries company    Egypt  ...     1  2018\n",
              "423   EGS30211C014  AJWA for Food Industries company    Egypt  ...     1  2018\n",
              "610   EGS30211C014  AJWA for Food Industries company    Egypt  ...     1  2018\n",
              "805   EGS30211C014  AJWA for Food Industries company    Egypt  ...     1  2018\n",
              "1019  EGS30211C014  AJWA for Food Industries company    Egypt  ...     1  2018\n",
              "1193  EGS30211C014  AJWA for Food Industries company    Egypt  ...     1  2018\n",
              "1383  EGS30211C014  AJWA for Food Industries company    Egypt  ...     1  2018\n",
              "1587  EGS30211C014  AJWA for Food Industries company    Egypt  ...     1  2018\n",
              "1879  EGS30211C014  AJWA for Food Industries company    Egypt  ...     1  2018\n",
              "\n",
              "[10 rows x 14 columns]"
            ]
          },
          "metadata": {
            "tags": []
          },
          "execution_count": 60
        }
      ]
    },
    {
      "cell_type": "code",
      "metadata": {
        "id": "xAVNrTsIaEUU"
      },
      "source": [
        ""
      ],
      "execution_count": null,
      "outputs": []
    },
    {
      "cell_type": "code",
      "metadata": {
        "colab": {
          "base_uri": "https://localhost:8080/",
          "height": 676
        },
        "id": "2BPddxRvZpLS",
        "outputId": "8ae0f3ca-e3f2-475e-c4e5-6f8a90a4233b"
      },
      "source": [
        "import seaborn as sns\n",
        "sns.set(rc={'figure.figsize':(15.7,11.27)})\n",
        "cols=[\"SYMBOL_CODE\",\"ENG_NAME\",\"REUTERS\",\"TRADE_DATE\",\"TRADE_VALUE\",\"TRADE_VOLUME\",\"TRADE_COUNT\",\"OPEN_PRICE\",\"HIGH_PRICE\",\"LOW_PRICE\",\"CLOSE_PRICE\"]\n",
        "\n",
        "selected_columns = df1[[\"TRADE_VALUE\",\"TRADE_VOLUME\",\"TRADE_COUNT\",\"OPEN_PRICE\",\"HIGH_PRICE\",\"LOW_PRICE\",\"CLOSE_PRICE\"]]\n",
        "new_df = selected_columns.copy()\n",
        "box_dataset=new_df\n",
        "ax = sns.boxplot(data=box_dataset, orient=\"h\", palette=\"Set2\")"
      ],
      "execution_count": null,
      "outputs": [
        {
          "output_type": "display_data",
          "data": {
            "image/png": "[encoded data removed]",
            "text/plain": [
              "<Figure size 1130.4x811.44 with 1 Axes>"
            ]
          },
          "metadata": {
            "tags": []
          }
        }
      ]
    },
    {
      "cell_type": "code",
      "metadata": {
        "colab": {
          "base_uri": "https://localhost:8080/"
        },
        "id": "2eQ5PfeAzAss",
        "outputId": "4f1061d4-96c8-46b1-b01c-7b0df0c13103"
      },
      "source": [
        "dataset.shape"
      ],
      "execution_count": null,
      "outputs": [
        {
          "output_type": "execute_result",
          "data": {
            "text/plain": [
              "(89638, 14)"
            ]
          },
          "metadata": {
            "tags": []
          },
          "execution_count": 62
        }
      ]
    },
    {
      "cell_type": "code",
      "metadata": {
        "colab": {
          "base_uri": "https://localhost:8080/"
        },
        "id": "76vgAbldeIVz",
        "outputId": "ce93a390-127d-4655-893c-884f0befa3f9"
      },
      "source": [
        "df1.shape"
      ],
      "execution_count": null,
      "outputs": [
        {
          "output_type": "execute_result",
          "data": {
            "text/plain": [
              "(485, 14)"
            ]
          },
          "metadata": {
            "tags": []
          },
          "execution_count": 63
        }
      ]
    },
    {
      "cell_type": "code",
      "metadata": {
        "id": "q2p4USKfeKc4"
      },
      "source": [
        "dataset=df1"
      ],
      "execution_count": null,
      "outputs": []
    },
    {
      "cell_type": "markdown",
      "metadata": {
        "id": "HUECnlyhSchQ"
      },
      "source": [
        "from here"
      ]
    },
    {
      "cell_type": "code",
      "metadata": {
        "id": "OxTOHVc48z_-"
      },
      "source": [
        "dataset.set_index('TRADE_DATE', inplace=True)"
      ],
      "execution_count": null,
      "outputs": []
    },
    {
      "cell_type": "code",
      "metadata": {
        "id": "lTUcslhTVm6V"
      },
      "source": [
        " dataset=dataset.sort_index()"
      ],
      "execution_count": null,
      "outputs": []
    },
    {
      "cell_type": "code",
      "metadata": {
        "colab": {
          "base_uri": "https://localhost:8080/"
        },
        "id": "XpO4MJJuvzem",
        "outputId": "ddb2f969-58d1-48bb-d2c7-4c6c50ad7d8b"
      },
      "source": [
        "dataset = dataset.drop_duplicates()\n",
        "print(dataset)"
      ],
      "execution_count": null,
      "outputs": [
        {
          "output_type": "stream",
          "text": [
            "             SYMBOL_CODE  ...  year\n",
            "TRADE_DATE                ...      \n",
            "2018-01-02  EGS30211C014  ...  2018\n",
            "2018-01-03  EGS30211C014  ...  2018\n",
            "2018-01-04  EGS30211C014  ...  2018\n",
            "2018-01-08  EGS30211C014  ...  2018\n",
            "2018-01-09  EGS30211C014  ...  2018\n",
            "...                  ...  ...   ...\n",
            "2019-12-25  EGS30211C014  ...  2019\n",
            "2019-12-26  EGS30211C014  ...  2019\n",
            "2019-12-29  EGS30211C014  ...  2019\n",
            "2019-12-30  EGS30211C014  ...  2019\n",
            "2019-12-31  EGS30211C014  ...  2019\n",
            "\n",
            "[484 rows x 13 columns]\n"
          ],
          "name": "stdout"
        }
      ]
    },
    {
      "cell_type": "code",
      "metadata": {
        "colab": {
          "base_uri": "https://localhost:8080/"
        },
        "id": "qLg0OuswvnGn",
        "outputId": "569f5d68-a6b6-4351-b27f-0409c0a9e741"
      },
      "source": [
        "dataset.reset_index(inplace=True)\n",
        "print('Number of entries within the input dataframe : ',len(dataset))\n",
        "\n",
        "print('Numbr of unique time entries in input dataframe: ',len(pd.unique(dataset['TRADE_DATE'])))"
      ],
      "execution_count": null,
      "outputs": [
        {
          "output_type": "stream",
          "text": [
            "Number of entries within the input dataframe :  484\n",
            "Numbr of unique time entries in input dataframe:  484\n"
          ],
          "name": "stdout"
        }
      ]
    },
    {
      "cell_type": "code",
      "metadata": {
        "colab": {
          "base_uri": "https://localhost:8080/",
          "height": 110
        },
        "id": "ebmgxI8OwcyS",
        "outputId": "e8b00608-ea4d-4fe7-b2a9-c070efc7f461"
      },
      "source": [
        "pd.concat([dataset.head(1), dataset.tail(1)])"
      ],
      "execution_count": null,
      "outputs": [
        {
          "output_type": "execute_result",
          "data": {
            "text/html": [
              "<div>\n",
              "<style scoped>\n",
              "    .dataframe tbody tr th:only-of-type {\n",
              "        vertical-align: middle;\n",
              "    }\n",
              "\n",
              "    .dataframe tbody tr th {\n",
              "        vertical-align: top;\n",
              "    }\n",
              "\n",
              "    .dataframe thead th {\n",
              "        text-align: right;\n",
              "    }\n",
              "</style>\n",
              "<table border=\"1\" class=\"dataframe\">\n",
              "  <thead>\n",
              "    <tr style=\"text-align: right;\">\n",
              "      <th></th>\n",
              "      <th>TRADE_DATE</th>\n",
              "      <th>SYMBOL_CODE</th>\n",
              "      <th>ENG_NAME</th>\n",
              "      <th>REUTERS</th>\n",
              "      <th>TRADE_VALUE</th>\n",
              "      <th>TRADE_VOLUME</th>\n",
              "      <th>TRADE_COUNT</th>\n",
              "      <th>OPEN_PRICE</th>\n",
              "      <th>HIGH_PRICE</th>\n",
              "      <th>LOW_PRICE</th>\n",
              "      <th>CLOSE_PRICE</th>\n",
              "      <th>day</th>\n",
              "      <th>month</th>\n",
              "      <th>year</th>\n",
              "    </tr>\n",
              "  </thead>\n",
              "  <tbody>\n",
              "    <tr>\n",
              "      <th>0</th>\n",
              "      <td>2018-01-02</td>\n",
              "      <td>EGS30211C014</td>\n",
              "      <td>AJWA for Food Industries company    Egypt</td>\n",
              "      <td>AJWA.CA</td>\n",
              "      <td>410298.86</td>\n",
              "      <td>148110.0</td>\n",
              "      <td>52.0</td>\n",
              "      <td>2.75</td>\n",
              "      <td>2.80</td>\n",
              "      <td>2.72</td>\n",
              "      <td>2.77</td>\n",
              "      <td>2</td>\n",
              "      <td>1</td>\n",
              "      <td>2018</td>\n",
              "    </tr>\n",
              "    <tr>\n",
              "      <th>484</th>\n",
              "      <td>2019-12-31</td>\n",
              "      <td>EGS30211C014</td>\n",
              "      <td>AJWA for Food Industries company    Egypt</td>\n",
              "      <td>AJWA.CA</td>\n",
              "      <td>3389470.00</td>\n",
              "      <td>933105.0</td>\n",
              "      <td>202.0</td>\n",
              "      <td>3.73</td>\n",
              "      <td>3.73</td>\n",
              "      <td>3.51</td>\n",
              "      <td>3.63</td>\n",
              "      <td>31</td>\n",
              "      <td>12</td>\n",
              "      <td>2019</td>\n",
              "    </tr>\n",
              "  </tbody>\n",
              "</table>\n",
              "</div>"
            ],
            "text/plain": [
              "     TRADE_DATE   SYMBOL_CODE  ... month  year\n",
              "0    2018-01-02  EGS30211C014  ...     1  2018\n",
              "484  2019-12-31  EGS30211C014  ...    12  2019\n",
              "\n",
              "[2 rows x 14 columns]"
            ]
          },
          "metadata": {
            "tags": []
          },
          "execution_count": 68
        }
      ]
    },
    {
      "cell_type": "code",
      "metadata": {
        "id": "l9tDZ6vfxYbv"
      },
      "source": [
        "dataset.set_index('TRADE_DATE', inplace=True)"
      ],
      "execution_count": null,
      "outputs": []
    },
    {
      "cell_type": "code",
      "metadata": {
        "colab": {
          "base_uri": "https://localhost:8080/",
          "height": 405
        },
        "id": "27WoVArsxqoz",
        "outputId": "c2e8719b-d028-4f17-d8fa-bb53e8158d3f"
      },
      "source": [
        "dataset.head(10)"
      ],
      "execution_count": null,
      "outputs": [
        {
          "output_type": "execute_result",
          "data": {
            "text/html": [
              "<div>\n",
              "<style scoped>\n",
              "    .dataframe tbody tr th:only-of-type {\n",
              "        vertical-align: middle;\n",
              "    }\n",
              "\n",
              "    .dataframe tbody tr th {\n",
              "        vertical-align: top;\n",
              "    }\n",
              "\n",
              "    .dataframe thead th {\n",
              "        text-align: right;\n",
              "    }\n",
              "</style>\n",
              "<table border=\"1\" class=\"dataframe\">\n",
              "  <thead>\n",
              "    <tr style=\"text-align: right;\">\n",
              "      <th></th>\n",
              "      <th>index</th>\n",
              "      <th>SYMBOL_CODE</th>\n",
              "      <th>ENG_NAME</th>\n",
              "      <th>REUTERS</th>\n",
              "      <th>TRADE_VALUE</th>\n",
              "      <th>TRADE_VOLUME</th>\n",
              "      <th>TRADE_COUNT</th>\n",
              "      <th>OPEN_PRICE</th>\n",
              "      <th>HIGH_PRICE</th>\n",
              "      <th>LOW_PRICE</th>\n",
              "      <th>CLOSE_PRICE</th>\n",
              "      <th>day</th>\n",
              "      <th>month</th>\n",
              "      <th>year</th>\n",
              "    </tr>\n",
              "    <tr>\n",
              "      <th>TRADE_DATE</th>\n",
              "      <th></th>\n",
              "      <th></th>\n",
              "      <th></th>\n",
              "      <th></th>\n",
              "      <th></th>\n",
              "      <th></th>\n",
              "      <th></th>\n",
              "      <th></th>\n",
              "      <th></th>\n",
              "      <th></th>\n",
              "      <th></th>\n",
              "      <th></th>\n",
              "      <th></th>\n",
              "      <th></th>\n",
              "    </tr>\n",
              "  </thead>\n",
              "  <tbody>\n",
              "    <tr>\n",
              "      <th>2018-01-02</th>\n",
              "      <td>0</td>\n",
              "      <td>EGS30221C013</td>\n",
              "      <td>The Arab Dairy Products Co. Arab Dairy - Panda</td>\n",
              "      <td>ADPC.CA</td>\n",
              "      <td>104.00</td>\n",
              "      <td>10.0</td>\n",
              "      <td>1.0</td>\n",
              "      <td>10.40</td>\n",
              "      <td>10.40</td>\n",
              "      <td>10.40</td>\n",
              "      <td>9.50</td>\n",
              "      <td>2</td>\n",
              "      <td>1</td>\n",
              "      <td>2018</td>\n",
              "    </tr>\n",
              "    <tr>\n",
              "      <th>2018-01-02</th>\n",
              "      <td>1</td>\n",
              "      <td>EGS33041C012</td>\n",
              "      <td>Oriental Weavers</td>\n",
              "      <td>ORWE.CA</td>\n",
              "      <td>3146257.45</td>\n",
              "      <td>189755.0</td>\n",
              "      <td>118.0</td>\n",
              "      <td>16.60</td>\n",
              "      <td>16.70</td>\n",
              "      <td>16.50</td>\n",
              "      <td>16.58</td>\n",
              "      <td>2</td>\n",
              "      <td>1</td>\n",
              "      <td>2018</td>\n",
              "    </tr>\n",
              "    <tr>\n",
              "      <th>2018-01-02</th>\n",
              "      <td>2</td>\n",
              "      <td>EGS33061C010</td>\n",
              "      <td>El Nasr Clothes &amp; Textiles (Kabo)</td>\n",
              "      <td>KABO.CA</td>\n",
              "      <td>873143.60</td>\n",
              "      <td>631437.0</td>\n",
              "      <td>100.0</td>\n",
              "      <td>1.35</td>\n",
              "      <td>1.40</td>\n",
              "      <td>1.35</td>\n",
              "      <td>1.38</td>\n",
              "      <td>2</td>\n",
              "      <td>1</td>\n",
              "      <td>2018</td>\n",
              "    </tr>\n",
              "    <tr>\n",
              "      <th>2018-01-02</th>\n",
              "      <td>3</td>\n",
              "      <td>EGS33321C018</td>\n",
              "      <td>Dice Sport &amp; Casual Wear</td>\n",
              "      <td>DSCW.CA</td>\n",
              "      <td>705848.88</td>\n",
              "      <td>28812.0</td>\n",
              "      <td>6.0</td>\n",
              "      <td>24.05</td>\n",
              "      <td>24.50</td>\n",
              "      <td>24.05</td>\n",
              "      <td>24.50</td>\n",
              "      <td>2</td>\n",
              "      <td>1</td>\n",
              "      <td>2018</td>\n",
              "    </tr>\n",
              "    <tr>\n",
              "      <th>2018-01-02</th>\n",
              "      <td>4</td>\n",
              "      <td>EGS36021C011</td>\n",
              "      <td>Rakta Paper Manufacturing</td>\n",
              "      <td>RAKT.CA</td>\n",
              "      <td>73352.81</td>\n",
              "      <td>9601.0</td>\n",
              "      <td>12.0</td>\n",
              "      <td>7.75</td>\n",
              "      <td>7.75</td>\n",
              "      <td>7.21</td>\n",
              "      <td>7.64</td>\n",
              "      <td>2</td>\n",
              "      <td>1</td>\n",
              "      <td>2018</td>\n",
              "    </tr>\n",
              "    <tr>\n",
              "      <th>2018-01-02</th>\n",
              "      <td>5</td>\n",
              "      <td>EGS36041C019</td>\n",
              "      <td>Suez Bags</td>\n",
              "      <td>SBAG.CA</td>\n",
              "      <td>37049.20</td>\n",
              "      <td>1332.0</td>\n",
              "      <td>9.0</td>\n",
              "      <td>27.50</td>\n",
              "      <td>28.01</td>\n",
              "      <td>27.50</td>\n",
              "      <td>27.81</td>\n",
              "      <td>2</td>\n",
              "      <td>1</td>\n",
              "      <td>2018</td>\n",
              "    </tr>\n",
              "    <tr>\n",
              "      <th>2018-01-02</th>\n",
              "      <td>6</td>\n",
              "      <td>EGS360A1C011</td>\n",
              "      <td>El Ahram Co. For Printing And Packing</td>\n",
              "      <td>EPPK.CA</td>\n",
              "      <td>51330.60</td>\n",
              "      <td>11190.0</td>\n",
              "      <td>10.0</td>\n",
              "      <td>4.58</td>\n",
              "      <td>4.62</td>\n",
              "      <td>4.57</td>\n",
              "      <td>4.59</td>\n",
              "      <td>2</td>\n",
              "      <td>1</td>\n",
              "      <td>2018</td>\n",
              "    </tr>\n",
              "    <tr>\n",
              "      <th>2018-01-02</th>\n",
              "      <td>7</td>\n",
              "      <td>EGS69191C012</td>\n",
              "      <td>Reacap Financial Investments</td>\n",
              "      <td>REAC.CA</td>\n",
              "      <td>24830.75</td>\n",
              "      <td>4970.0</td>\n",
              "      <td>5.0</td>\n",
              "      <td>4.99</td>\n",
              "      <td>5.00</td>\n",
              "      <td>4.95</td>\n",
              "      <td>4.78</td>\n",
              "      <td>2</td>\n",
              "      <td>1</td>\n",
              "      <td>2018</td>\n",
              "    </tr>\n",
              "    <tr>\n",
              "      <th>2018-01-02</th>\n",
              "      <td>8</td>\n",
              "      <td>EGS691A1C011</td>\n",
              "      <td>Prime Holding</td>\n",
              "      <td>PRMH.CA</td>\n",
              "      <td>46689.80</td>\n",
              "      <td>9934.0</td>\n",
              "      <td>5.0</td>\n",
              "      <td>4.70</td>\n",
              "      <td>4.70</td>\n",
              "      <td>4.70</td>\n",
              "      <td>4.70</td>\n",
              "      <td>2</td>\n",
              "      <td>1</td>\n",
              "      <td>2018</td>\n",
              "    </tr>\n",
              "    <tr>\n",
              "      <th>2018-01-02</th>\n",
              "      <td>9</td>\n",
              "      <td>EGS691G1C015</td>\n",
              "      <td>Belton Financial Holding</td>\n",
              "      <td>BTFH.CA.</td>\n",
              "      <td>1217922.54</td>\n",
              "      <td>94674.0</td>\n",
              "      <td>64.0</td>\n",
              "      <td>12.85</td>\n",
              "      <td>12.99</td>\n",
              "      <td>12.75</td>\n",
              "      <td>12.86</td>\n",
              "      <td>2</td>\n",
              "      <td>1</td>\n",
              "      <td>2018</td>\n",
              "    </tr>\n",
              "  </tbody>\n",
              "</table>\n",
              "</div>"
            ],
            "text/plain": [
              "            index   SYMBOL_CODE  ... month  year\n",
              "TRADE_DATE                       ...            \n",
              "2018-01-02      0  EGS30221C013  ...     1  2018\n",
              "2018-01-02      1  EGS33041C012  ...     1  2018\n",
              "2018-01-02      2  EGS33061C010  ...     1  2018\n",
              "2018-01-02      3  EGS33321C018  ...     1  2018\n",
              "2018-01-02      4  EGS36021C011  ...     1  2018\n",
              "2018-01-02      5  EGS36041C019  ...     1  2018\n",
              "2018-01-02      6  EGS360A1C011  ...     1  2018\n",
              "2018-01-02      7  EGS69191C012  ...     1  2018\n",
              "2018-01-02      8  EGS691A1C011  ...     1  2018\n",
              "2018-01-02      9  EGS691G1C015  ...     1  2018\n",
              "\n",
              "[10 rows x 14 columns]"
            ]
          },
          "metadata": {
            "tags": []
          },
          "execution_count": 31
        }
      ]
    },
    {
      "cell_type": "code",
      "metadata": {
        "id": "62k1UlB_yxzO"
      },
      "source": [
        "dataset.index = pd.to_datetime(dataset.index)\n"
      ],
      "execution_count": null,
      "outputs": []
    },
    {
      "cell_type": "code",
      "metadata": {
        "id": "onM5LqLyw9nK"
      },
      "source": [
        "dataset = dataset.resample('D').sum().fillna('ffill')\n"
      ],
      "execution_count": null,
      "outputs": []
    },
    {
      "cell_type": "code",
      "metadata": {
        "colab": {
          "base_uri": "https://localhost:8080/",
          "height": 388
        },
        "id": "pqcbzkOCy5oR",
        "outputId": "4d0581fb-23dd-42df-cb08-60fe390113ad"
      },
      "source": [
        "dataset.head(10)"
      ],
      "execution_count": null,
      "outputs": [
        {
          "output_type": "execute_result",
          "data": {
            "text/html": [
              "<div>\n",
              "<style scoped>\n",
              "    .dataframe tbody tr th:only-of-type {\n",
              "        vertical-align: middle;\n",
              "    }\n",
              "\n",
              "    .dataframe tbody tr th {\n",
              "        vertical-align: top;\n",
              "    }\n",
              "\n",
              "    .dataframe thead th {\n",
              "        text-align: right;\n",
              "    }\n",
              "</style>\n",
              "<table border=\"1\" class=\"dataframe\">\n",
              "  <thead>\n",
              "    <tr style=\"text-align: right;\">\n",
              "      <th></th>\n",
              "      <th>TRADE_VALUE</th>\n",
              "      <th>TRADE_VOLUME</th>\n",
              "      <th>TRADE_COUNT</th>\n",
              "      <th>OPEN_PRICE</th>\n",
              "      <th>HIGH_PRICE</th>\n",
              "      <th>LOW_PRICE</th>\n",
              "      <th>CLOSE_PRICE</th>\n",
              "    </tr>\n",
              "    <tr>\n",
              "      <th>TRADE_DATE</th>\n",
              "      <th></th>\n",
              "      <th></th>\n",
              "      <th></th>\n",
              "      <th></th>\n",
              "      <th></th>\n",
              "      <th></th>\n",
              "      <th></th>\n",
              "    </tr>\n",
              "  </thead>\n",
              "  <tbody>\n",
              "    <tr>\n",
              "      <th>2018-01-02</th>\n",
              "      <td>17412181.44</td>\n",
              "      <td>1260791.0</td>\n",
              "      <td>624.0</td>\n",
              "      <td>7.373676</td>\n",
              "      <td>7.480164</td>\n",
              "      <td>7.245791</td>\n",
              "      <td>7.35501</td>\n",
              "    </tr>\n",
              "    <tr>\n",
              "      <th>2018-01-03</th>\n",
              "      <td>23083953.37</td>\n",
              "      <td>1703089.0</td>\n",
              "      <td>973.0</td>\n",
              "      <td>7.373676</td>\n",
              "      <td>7.480164</td>\n",
              "      <td>7.245791</td>\n",
              "      <td>7.35501</td>\n",
              "    </tr>\n",
              "    <tr>\n",
              "      <th>2018-01-04</th>\n",
              "      <td>21016382.81</td>\n",
              "      <td>2384814.0</td>\n",
              "      <td>1008.0</td>\n",
              "      <td>8.990000</td>\n",
              "      <td>9.130000</td>\n",
              "      <td>8.580000</td>\n",
              "      <td>8.81000</td>\n",
              "    </tr>\n",
              "    <tr>\n",
              "      <th>2018-01-05</th>\n",
              "      <td>0.00</td>\n",
              "      <td>0.0</td>\n",
              "      <td>0.0</td>\n",
              "      <td>0.000000</td>\n",
              "      <td>0.000000</td>\n",
              "      <td>0.000000</td>\n",
              "      <td>0.00000</td>\n",
              "    </tr>\n",
              "    <tr>\n",
              "      <th>2018-01-06</th>\n",
              "      <td>0.00</td>\n",
              "      <td>0.0</td>\n",
              "      <td>0.0</td>\n",
              "      <td>0.000000</td>\n",
              "      <td>0.000000</td>\n",
              "      <td>0.000000</td>\n",
              "      <td>0.00000</td>\n",
              "    </tr>\n",
              "    <tr>\n",
              "      <th>2018-01-07</th>\n",
              "      <td>0.00</td>\n",
              "      <td>0.0</td>\n",
              "      <td>0.0</td>\n",
              "      <td>0.000000</td>\n",
              "      <td>0.000000</td>\n",
              "      <td>0.000000</td>\n",
              "      <td>0.00000</td>\n",
              "    </tr>\n",
              "    <tr>\n",
              "      <th>2018-01-08</th>\n",
              "      <td>12744744.49</td>\n",
              "      <td>1467480.0</td>\n",
              "      <td>646.0</td>\n",
              "      <td>8.800000</td>\n",
              "      <td>8.850000</td>\n",
              "      <td>8.600000</td>\n",
              "      <td>8.68000</td>\n",
              "    </tr>\n",
              "    <tr>\n",
              "      <th>2018-01-09</th>\n",
              "      <td>9754929.55</td>\n",
              "      <td>1119613.0</td>\n",
              "      <td>476.0</td>\n",
              "      <td>8.790000</td>\n",
              "      <td>8.810000</td>\n",
              "      <td>8.650000</td>\n",
              "      <td>8.71000</td>\n",
              "    </tr>\n",
              "    <tr>\n",
              "      <th>2018-01-10</th>\n",
              "      <td>12627450.01</td>\n",
              "      <td>1434926.0</td>\n",
              "      <td>571.0</td>\n",
              "      <td>8.720000</td>\n",
              "      <td>8.890000</td>\n",
              "      <td>8.670000</td>\n",
              "      <td>8.80000</td>\n",
              "    </tr>\n",
              "    <tr>\n",
              "      <th>2018-01-11</th>\n",
              "      <td>27171772.13</td>\n",
              "      <td>2987175.0</td>\n",
              "      <td>1274.0</td>\n",
              "      <td>8.840000</td>\n",
              "      <td>9.200000</td>\n",
              "      <td>8.840000</td>\n",
              "      <td>9.10000</td>\n",
              "    </tr>\n",
              "  </tbody>\n",
              "</table>\n",
              "</div>"
            ],
            "text/plain": [
              "            TRADE_VALUE  TRADE_VOLUME  ...  LOW_PRICE  CLOSE_PRICE\n",
              "TRADE_DATE                             ...                        \n",
              "2018-01-02  17412181.44     1260791.0  ...   7.245791      7.35501\n",
              "2018-01-03  23083953.37     1703089.0  ...   7.245791      7.35501\n",
              "2018-01-04  21016382.81     2384814.0  ...   8.580000      8.81000\n",
              "2018-01-05         0.00           0.0  ...   0.000000      0.00000\n",
              "2018-01-06         0.00           0.0  ...   0.000000      0.00000\n",
              "2018-01-07         0.00           0.0  ...   0.000000      0.00000\n",
              "2018-01-08  12744744.49     1467480.0  ...   8.600000      8.68000\n",
              "2018-01-09   9754929.55     1119613.0  ...   8.650000      8.71000\n",
              "2018-01-10  12627450.01     1434926.0  ...   8.670000      8.80000\n",
              "2018-01-11  27171772.13     2987175.0  ...   8.840000      9.10000\n",
              "\n",
              "[10 rows x 7 columns]"
            ]
          },
          "metadata": {
            "tags": []
          },
          "execution_count": 29
        }
      ]
    },
    {
      "cell_type": "code",
      "metadata": {
        "id": "UKkpZbFyzKDP"
      },
      "source": [
        "dataset=dataset.drop([\"day\",\"month\",\"year\"],axis=1)"
      ],
      "execution_count": null,
      "outputs": []
    },
    {
      "cell_type": "code",
      "metadata": {
        "id": "h2tod3Vx2vnS"
      },
      "source": [
        "dataset=dataset.mask(dataset==0.0, None).ffill()"
      ],
      "execution_count": null,
      "outputs": []
    },
    {
      "cell_type": "code",
      "metadata": {
        "colab": {
          "base_uri": "https://localhost:8080/",
          "height": 388
        },
        "id": "-w7hNuvA86e3",
        "outputId": "6f09cac3-a033-43bb-e221-b0846e888fe8"
      },
      "source": [
        "dataset.head(10)"
      ],
      "execution_count": null,
      "outputs": [
        {
          "output_type": "execute_result",
          "data": {
            "text/html": [
              "<div>\n",
              "<style scoped>\n",
              "    .dataframe tbody tr th:only-of-type {\n",
              "        vertical-align: middle;\n",
              "    }\n",
              "\n",
              "    .dataframe tbody tr th {\n",
              "        vertical-align: top;\n",
              "    }\n",
              "\n",
              "    .dataframe thead th {\n",
              "        text-align: right;\n",
              "    }\n",
              "</style>\n",
              "<table border=\"1\" class=\"dataframe\">\n",
              "  <thead>\n",
              "    <tr style=\"text-align: right;\">\n",
              "      <th></th>\n",
              "      <th>TRADE_VALUE</th>\n",
              "      <th>TRADE_VOLUME</th>\n",
              "      <th>TRADE_COUNT</th>\n",
              "      <th>OPEN_PRICE</th>\n",
              "      <th>HIGH_PRICE</th>\n",
              "      <th>LOW_PRICE</th>\n",
              "      <th>CLOSE_PRICE</th>\n",
              "    </tr>\n",
              "    <tr>\n",
              "      <th>TRADE_DATE</th>\n",
              "      <th></th>\n",
              "      <th></th>\n",
              "      <th></th>\n",
              "      <th></th>\n",
              "      <th></th>\n",
              "      <th></th>\n",
              "      <th></th>\n",
              "    </tr>\n",
              "  </thead>\n",
              "  <tbody>\n",
              "    <tr>\n",
              "      <th>2018-01-02</th>\n",
              "      <td>17412181.44</td>\n",
              "      <td>1260791.0</td>\n",
              "      <td>624.0</td>\n",
              "      <td>7.373676</td>\n",
              "      <td>7.480164</td>\n",
              "      <td>7.245791</td>\n",
              "      <td>7.35501</td>\n",
              "    </tr>\n",
              "    <tr>\n",
              "      <th>2018-01-03</th>\n",
              "      <td>23083953.37</td>\n",
              "      <td>1703089.0</td>\n",
              "      <td>973.0</td>\n",
              "      <td>7.373676</td>\n",
              "      <td>7.480164</td>\n",
              "      <td>7.245791</td>\n",
              "      <td>7.35501</td>\n",
              "    </tr>\n",
              "    <tr>\n",
              "      <th>2018-01-04</th>\n",
              "      <td>21016382.81</td>\n",
              "      <td>2384814.0</td>\n",
              "      <td>1008.0</td>\n",
              "      <td>8.990000</td>\n",
              "      <td>9.130000</td>\n",
              "      <td>8.580000</td>\n",
              "      <td>8.81000</td>\n",
              "    </tr>\n",
              "    <tr>\n",
              "      <th>2018-01-05</th>\n",
              "      <td>21016382.81</td>\n",
              "      <td>2384814.0</td>\n",
              "      <td>1008.0</td>\n",
              "      <td>8.990000</td>\n",
              "      <td>9.130000</td>\n",
              "      <td>8.580000</td>\n",
              "      <td>8.81000</td>\n",
              "    </tr>\n",
              "    <tr>\n",
              "      <th>2018-01-06</th>\n",
              "      <td>21016382.81</td>\n",
              "      <td>2384814.0</td>\n",
              "      <td>1008.0</td>\n",
              "      <td>8.990000</td>\n",
              "      <td>9.130000</td>\n",
              "      <td>8.580000</td>\n",
              "      <td>8.81000</td>\n",
              "    </tr>\n",
              "    <tr>\n",
              "      <th>2018-01-07</th>\n",
              "      <td>21016382.81</td>\n",
              "      <td>2384814.0</td>\n",
              "      <td>1008.0</td>\n",
              "      <td>8.990000</td>\n",
              "      <td>9.130000</td>\n",
              "      <td>8.580000</td>\n",
              "      <td>8.81000</td>\n",
              "    </tr>\n",
              "    <tr>\n",
              "      <th>2018-01-08</th>\n",
              "      <td>12744744.49</td>\n",
              "      <td>1467480.0</td>\n",
              "      <td>646.0</td>\n",
              "      <td>8.800000</td>\n",
              "      <td>8.850000</td>\n",
              "      <td>8.600000</td>\n",
              "      <td>8.68000</td>\n",
              "    </tr>\n",
              "    <tr>\n",
              "      <th>2018-01-09</th>\n",
              "      <td>9754929.55</td>\n",
              "      <td>1119613.0</td>\n",
              "      <td>476.0</td>\n",
              "      <td>8.790000</td>\n",
              "      <td>8.810000</td>\n",
              "      <td>8.650000</td>\n",
              "      <td>8.71000</td>\n",
              "    </tr>\n",
              "    <tr>\n",
              "      <th>2018-01-10</th>\n",
              "      <td>12627450.01</td>\n",
              "      <td>1434926.0</td>\n",
              "      <td>571.0</td>\n",
              "      <td>8.720000</td>\n",
              "      <td>8.890000</td>\n",
              "      <td>8.670000</td>\n",
              "      <td>8.80000</td>\n",
              "    </tr>\n",
              "    <tr>\n",
              "      <th>2018-01-11</th>\n",
              "      <td>27171772.13</td>\n",
              "      <td>2987175.0</td>\n",
              "      <td>1274.0</td>\n",
              "      <td>8.840000</td>\n",
              "      <td>9.200000</td>\n",
              "      <td>8.840000</td>\n",
              "      <td>9.10000</td>\n",
              "    </tr>\n",
              "  </tbody>\n",
              "</table>\n",
              "</div>"
            ],
            "text/plain": [
              "            TRADE_VALUE  TRADE_VOLUME  ...  LOW_PRICE  CLOSE_PRICE\n",
              "TRADE_DATE                             ...                        \n",
              "2018-01-02  17412181.44     1260791.0  ...   7.245791      7.35501\n",
              "2018-01-03  23083953.37     1703089.0  ...   7.245791      7.35501\n",
              "2018-01-04  21016382.81     2384814.0  ...   8.580000      8.81000\n",
              "2018-01-05  21016382.81     2384814.0  ...   8.580000      8.81000\n",
              "2018-01-06  21016382.81     2384814.0  ...   8.580000      8.81000\n",
              "2018-01-07  21016382.81     2384814.0  ...   8.580000      8.81000\n",
              "2018-01-08  12744744.49     1467480.0  ...   8.600000      8.68000\n",
              "2018-01-09   9754929.55     1119613.0  ...   8.650000      8.71000\n",
              "2018-01-10  12627450.01     1434926.0  ...   8.670000      8.80000\n",
              "2018-01-11  27171772.13     2987175.0  ...   8.840000      9.10000\n",
              "\n",
              "[10 rows x 7 columns]"
            ]
          },
          "metadata": {
            "tags": []
          },
          "execution_count": 32
        }
      ]
    },
    {
      "cell_type": "code",
      "metadata": {
        "colab": {
          "base_uri": "https://localhost:8080/",
          "height": 732
        },
        "id": "PIvk99Pa-iR6",
        "outputId": "07db32a8-7c2f-49d6-a302-0857444c8718"
      },
      "source": [
        "import matplotlib.pyplot as plt\n",
        "dataset.CLOSE_PRICE.plot(figsize=(40,20))\n",
        "plt.show()"
      ],
      "execution_count": null,
      "outputs": [
        {
          "output_type": "display_data",
          "data": {
            "image/png": "[encoded data removed]",
            "text/plain": [
              "<Figure size 2880x1440 with 1 Axes>"
            ]
          },
          "metadata": {
            "tags": []
          }
        }
      ]
    },
    {
      "cell_type": "markdown",
      "metadata": {
        "id": "XHO6aN5FSkG0"
      },
      "source": [
        "till here"
      ]
    },
    {
      "cell_type": "code",
      "metadata": {
        "id": "YjfR9NHTeRjX"
      },
      "source": [
        "import seaborn as sns\n",
        "def correlation(data):\n",
        "  \n",
        "  corr=data.corr()\n",
        "  sns.heatmap(corr,annot=True)\n",
        "  plt.show()"
      ],
      "execution_count": null,
      "outputs": []
    },
    {
      "cell_type": "code",
      "metadata": {
        "colab": {
          "base_uri": "https://localhost:8080/",
          "height": 668
        },
        "id": "805nr9KBeh4Y",
        "outputId": "a7f54ed5-5e01-429c-d4f8-c13595b9f6b8"
      },
      "source": [
        "correlation(dataset)"
      ],
      "execution_count": null,
      "outputs": [
        {
          "output_type": "display_data",
          "data": {
            "image/png": "[encoded data removed]",
            "text/plain": [
              "<Figure size 1130.4x811.44 with 2 Axes>"
            ]
          },
          "metadata": {
            "tags": []
          }
        }
      ]
    },
    {
      "cell_type": "markdown",
      "metadata": {
        "id": "FRU3V-zj3Jup"
      },
      "source": [
        "DESCRIPTIVE STATISTICS"
      ]
    },
    {
      "cell_type": "code",
      "metadata": {
        "colab": {
          "base_uri": "https://localhost:8080/",
          "height": 295
        },
        "id": "Mq0GrJcu3Iys",
        "outputId": "2acfb4cc-9b3d-4959-98c0-a77d7137711e"
      },
      "source": [
        "dataset.describe()"
      ],
      "execution_count": null,
      "outputs": [
        {
          "output_type": "execute_result",
          "data": {
            "text/html": [
              "<div>\n",
              "<style scoped>\n",
              "    .dataframe tbody tr th:only-of-type {\n",
              "        vertical-align: middle;\n",
              "    }\n",
              "\n",
              "    .dataframe tbody tr th {\n",
              "        vertical-align: top;\n",
              "    }\n",
              "\n",
              "    .dataframe thead th {\n",
              "        text-align: right;\n",
              "    }\n",
              "</style>\n",
              "<table border=\"1\" class=\"dataframe\">\n",
              "  <thead>\n",
              "    <tr style=\"text-align: right;\">\n",
              "      <th></th>\n",
              "      <th>TRADE_VALUE</th>\n",
              "      <th>TRADE_VOLUME</th>\n",
              "      <th>TRADE_COUNT</th>\n",
              "      <th>OPEN_PRICE</th>\n",
              "      <th>HIGH_PRICE</th>\n",
              "      <th>LOW_PRICE</th>\n",
              "      <th>CLOSE_PRICE</th>\n",
              "    </tr>\n",
              "  </thead>\n",
              "  <tbody>\n",
              "    <tr>\n",
              "      <th>count</th>\n",
              "      <td>7.290000e+02</td>\n",
              "      <td>7.290000e+02</td>\n",
              "      <td>729.000000</td>\n",
              "      <td>729.000000</td>\n",
              "      <td>729.000000</td>\n",
              "      <td>729.000000</td>\n",
              "      <td>729.000000</td>\n",
              "    </tr>\n",
              "    <tr>\n",
              "      <th>mean</th>\n",
              "      <td>8.133935e+05</td>\n",
              "      <td>2.523108e+05</td>\n",
              "      <td>70.417705</td>\n",
              "      <td>2.980402</td>\n",
              "      <td>3.052699</td>\n",
              "      <td>2.907410</td>\n",
              "      <td>2.986026</td>\n",
              "    </tr>\n",
              "    <tr>\n",
              "      <th>std</th>\n",
              "      <td>8.399369e+05</td>\n",
              "      <td>2.376039e+05</td>\n",
              "      <td>55.616070</td>\n",
              "      <td>0.353235</td>\n",
              "      <td>0.371322</td>\n",
              "      <td>0.328250</td>\n",
              "      <td>0.372658</td>\n",
              "    </tr>\n",
              "    <tr>\n",
              "      <th>min</th>\n",
              "      <td>2.360000e+02</td>\n",
              "      <td>8.200000e+01</td>\n",
              "      <td>1.000000</td>\n",
              "      <td>2.260000</td>\n",
              "      <td>2.320000</td>\n",
              "      <td>2.220000</td>\n",
              "      <td>2.270000</td>\n",
              "    </tr>\n",
              "    <tr>\n",
              "      <th>25%</th>\n",
              "      <td>1.920240e+05</td>\n",
              "      <td>6.850000e+04</td>\n",
              "      <td>27.000000</td>\n",
              "      <td>2.750000</td>\n",
              "      <td>2.800000</td>\n",
              "      <td>2.710000</td>\n",
              "      <td>2.750000</td>\n",
              "    </tr>\n",
              "    <tr>\n",
              "      <th>50%</th>\n",
              "      <td>5.035720e+05</td>\n",
              "      <td>1.753510e+05</td>\n",
              "      <td>56.000000</td>\n",
              "      <td>2.930000</td>\n",
              "      <td>2.990000</td>\n",
              "      <td>2.900000</td>\n",
              "      <td>2.940000</td>\n",
              "    </tr>\n",
              "    <tr>\n",
              "      <th>75%</th>\n",
              "      <td>1.085304e+06</td>\n",
              "      <td>3.280860e+05</td>\n",
              "      <td>98.000000</td>\n",
              "      <td>3.150000</td>\n",
              "      <td>3.230000</td>\n",
              "      <td>3.050000</td>\n",
              "      <td>3.140000</td>\n",
              "    </tr>\n",
              "    <tr>\n",
              "      <th>max</th>\n",
              "      <td>6.323042e+06</td>\n",
              "      <td>1.681316e+06</td>\n",
              "      <td>450.000000</td>\n",
              "      <td>6.016330</td>\n",
              "      <td>6.155794</td>\n",
              "      <td>5.890557</td>\n",
              "      <td>7.520000</td>\n",
              "    </tr>\n",
              "  </tbody>\n",
              "</table>\n",
              "</div>"
            ],
            "text/plain": [
              "        TRADE_VALUE  TRADE_VOLUME  ...   LOW_PRICE  CLOSE_PRICE\n",
              "count  7.290000e+02  7.290000e+02  ...  729.000000   729.000000\n",
              "mean   8.133935e+05  2.523108e+05  ...    2.907410     2.986026\n",
              "std    8.399369e+05  2.376039e+05  ...    0.328250     0.372658\n",
              "min    2.360000e+02  8.200000e+01  ...    2.220000     2.270000\n",
              "25%    1.920240e+05  6.850000e+04  ...    2.710000     2.750000\n",
              "50%    5.035720e+05  1.753510e+05  ...    2.900000     2.940000\n",
              "75%    1.085304e+06  3.280860e+05  ...    3.050000     3.140000\n",
              "max    6.323042e+06  1.681316e+06  ...    5.890557     7.520000\n",
              "\n",
              "[8 rows x 7 columns]"
            ]
          },
          "metadata": {
            "tags": []
          },
          "execution_count": 77
        }
      ]
    },
    {
      "cell_type": "markdown",
      "metadata": {
        "id": "yUseRWD63dpb"
      },
      "source": [
        "BASIC FEATURE ENGINEERING"
      ]
    },
    {
      "cell_type": "code",
      "metadata": {
        "colab": {
          "base_uri": "https://localhost:8080/",
          "height": 388
        },
        "id": "tM1tjBoU4Hzp",
        "outputId": "1501d257-1277-4e03-f7f0-22611324846c"
      },
      "source": [
        "dataset.head(10)"
      ],
      "execution_count": null,
      "outputs": [
        {
          "output_type": "execute_result",
          "data": {
            "text/html": [
              "<div>\n",
              "<style scoped>\n",
              "    .dataframe tbody tr th:only-of-type {\n",
              "        vertical-align: middle;\n",
              "    }\n",
              "\n",
              "    .dataframe tbody tr th {\n",
              "        vertical-align: top;\n",
              "    }\n",
              "\n",
              "    .dataframe thead th {\n",
              "        text-align: right;\n",
              "    }\n",
              "</style>\n",
              "<table border=\"1\" class=\"dataframe\">\n",
              "  <thead>\n",
              "    <tr style=\"text-align: right;\">\n",
              "      <th></th>\n",
              "      <th>TRADE_VALUE</th>\n",
              "      <th>TRADE_VOLUME</th>\n",
              "      <th>TRADE_COUNT</th>\n",
              "      <th>OPEN_PRICE</th>\n",
              "      <th>HIGH_PRICE</th>\n",
              "      <th>LOW_PRICE</th>\n",
              "      <th>CLOSE_PRICE</th>\n",
              "    </tr>\n",
              "    <tr>\n",
              "      <th>TRADE_DATE</th>\n",
              "      <th></th>\n",
              "      <th></th>\n",
              "      <th></th>\n",
              "      <th></th>\n",
              "      <th></th>\n",
              "      <th></th>\n",
              "      <th></th>\n",
              "    </tr>\n",
              "  </thead>\n",
              "  <tbody>\n",
              "    <tr>\n",
              "      <th>2018-01-02</th>\n",
              "      <td>4.102989e+05</td>\n",
              "      <td>148110.000000</td>\n",
              "      <td>52.000000</td>\n",
              "      <td>2.75</td>\n",
              "      <td>2.80</td>\n",
              "      <td>2.72</td>\n",
              "      <td>2.77</td>\n",
              "    </tr>\n",
              "    <tr>\n",
              "      <th>2018-01-03</th>\n",
              "      <td>1.037444e+06</td>\n",
              "      <td>325907.459794</td>\n",
              "      <td>84.936082</td>\n",
              "      <td>2.80</td>\n",
              "      <td>3.04</td>\n",
              "      <td>2.77</td>\n",
              "      <td>2.90</td>\n",
              "    </tr>\n",
              "    <tr>\n",
              "      <th>2018-01-04</th>\n",
              "      <td>1.277621e+06</td>\n",
              "      <td>435261.000000</td>\n",
              "      <td>88.000000</td>\n",
              "      <td>2.95</td>\n",
              "      <td>3.01</td>\n",
              "      <td>2.90</td>\n",
              "      <td>2.94</td>\n",
              "    </tr>\n",
              "    <tr>\n",
              "      <th>2018-01-05</th>\n",
              "      <td>1.277621e+06</td>\n",
              "      <td>435261.000000</td>\n",
              "      <td>88.000000</td>\n",
              "      <td>2.95</td>\n",
              "      <td>3.01</td>\n",
              "      <td>2.90</td>\n",
              "      <td>2.94</td>\n",
              "    </tr>\n",
              "    <tr>\n",
              "      <th>2018-01-06</th>\n",
              "      <td>1.277621e+06</td>\n",
              "      <td>435261.000000</td>\n",
              "      <td>88.000000</td>\n",
              "      <td>2.95</td>\n",
              "      <td>3.01</td>\n",
              "      <td>2.90</td>\n",
              "      <td>2.94</td>\n",
              "    </tr>\n",
              "    <tr>\n",
              "      <th>2018-01-07</th>\n",
              "      <td>1.277621e+06</td>\n",
              "      <td>435261.000000</td>\n",
              "      <td>88.000000</td>\n",
              "      <td>2.95</td>\n",
              "      <td>3.01</td>\n",
              "      <td>2.90</td>\n",
              "      <td>2.94</td>\n",
              "    </tr>\n",
              "    <tr>\n",
              "      <th>2018-01-08</th>\n",
              "      <td>3.467200e+05</td>\n",
              "      <td>118629.000000</td>\n",
              "      <td>39.000000</td>\n",
              "      <td>2.97</td>\n",
              "      <td>2.97</td>\n",
              "      <td>2.90</td>\n",
              "      <td>2.92</td>\n",
              "    </tr>\n",
              "    <tr>\n",
              "      <th>2018-01-09</th>\n",
              "      <td>1.988998e+06</td>\n",
              "      <td>658211.000000</td>\n",
              "      <td>183.000000</td>\n",
              "      <td>2.99</td>\n",
              "      <td>3.09</td>\n",
              "      <td>2.92</td>\n",
              "      <td>3.02</td>\n",
              "    </tr>\n",
              "    <tr>\n",
              "      <th>2018-01-10</th>\n",
              "      <td>8.335758e+05</td>\n",
              "      <td>285404.000000</td>\n",
              "      <td>88.000000</td>\n",
              "      <td>2.94</td>\n",
              "      <td>2.97</td>\n",
              "      <td>2.88</td>\n",
              "      <td>2.92</td>\n",
              "    </tr>\n",
              "    <tr>\n",
              "      <th>2018-01-11</th>\n",
              "      <td>3.134204e+05</td>\n",
              "      <td>106241.000000</td>\n",
              "      <td>44.000000</td>\n",
              "      <td>2.92</td>\n",
              "      <td>3.00</td>\n",
              "      <td>2.92</td>\n",
              "      <td>2.95</td>\n",
              "    </tr>\n",
              "  </tbody>\n",
              "</table>\n",
              "</div>"
            ],
            "text/plain": [
              "             TRADE_VALUE   TRADE_VOLUME  ...  LOW_PRICE  CLOSE_PRICE\n",
              "TRADE_DATE                               ...                        \n",
              "2018-01-02  4.102989e+05  148110.000000  ...       2.72         2.77\n",
              "2018-01-03  1.037444e+06  325907.459794  ...       2.77         2.90\n",
              "2018-01-04  1.277621e+06  435261.000000  ...       2.90         2.94\n",
              "2018-01-05  1.277621e+06  435261.000000  ...       2.90         2.94\n",
              "2018-01-06  1.277621e+06  435261.000000  ...       2.90         2.94\n",
              "2018-01-07  1.277621e+06  435261.000000  ...       2.90         2.94\n",
              "2018-01-08  3.467200e+05  118629.000000  ...       2.90         2.92\n",
              "2018-01-09  1.988998e+06  658211.000000  ...       2.92         3.02\n",
              "2018-01-10  8.335758e+05  285404.000000  ...       2.88         2.92\n",
              "2018-01-11  3.134204e+05  106241.000000  ...       2.92         2.95\n",
              "\n",
              "[10 rows x 7 columns]"
            ]
          },
          "metadata": {
            "tags": []
          },
          "execution_count": 78
        }
      ]
    },
    {
      "cell_type": "code",
      "metadata": {
        "id": "7p5poJ4LuJV8"
      },
      "source": [
        "selected_columns = dataset[[\"CLOSE_PRICE\",\"TRADE_VOLUME\",\"TRADE_COUNT\",\"OPEN_PRICE\",\"HIGH_PRICE\",\"LOW_PRICE\",\"TRADE_VALUE\"\t]]\n",
        "new_df = selected_columns.copy()\n",
        "dataset=new_df"
      ],
      "execution_count": null,
      "outputs": []
    },
    {
      "cell_type": "code",
      "metadata": {
        "colab": {
          "base_uri": "https://localhost:8080/",
          "height": 668
        },
        "id": "9zJjbDa3zfB_",
        "outputId": "b21e2d28-5d2c-4357-8a1f-fd13639d8009"
      },
      "source": [
        "correlation(dataset)"
      ],
      "execution_count": null,
      "outputs": [
        {
          "output_type": "display_data",
          "data": {
            "image/png": "[encoded data removed]",
            "text/plain": [
              "<Figure size 1130.4x811.44 with 2 Axes>"
            ]
          },
          "metadata": {
            "tags": []
          }
        }
      ]
    },
    {
      "cell_type": "code",
      "metadata": {
        "colab": {
          "base_uri": "https://localhost:8080/",
          "height": 1000
        },
        "id": "EDP4xQ7T0IUo",
        "outputId": "be36cbc6-b6a0-4e1f-c242-8271356bdb2d"
      },
      "source": [
        "import matplotlib.pyplot as plt\n",
        "%matplotlib inline\n",
        "dataset.hist(figsize=(20,30))"
      ],
      "execution_count": null,
      "outputs": [
        {
          "output_type": "execute_result",
          "data": {
            "text/plain": [
              "array([[<matplotlib.axes._subplots.AxesSubplot object at 0x7fc95b342850>,\n",
              "        <matplotlib.axes._subplots.AxesSubplot object at 0x7fc9423d7310>,\n",
              "        <matplotlib.axes._subplots.AxesSubplot object at 0x7fc94240b990>],\n",
              "       [<matplotlib.axes._subplots.AxesSubplot object at 0x7fc9423c2fd0>,\n",
              "        <matplotlib.axes._subplots.AxesSubplot object at 0x7fc9423866d0>,\n",
              "        <matplotlib.axes._subplots.AxesSubplot object at 0x7fc94233bd50>],\n",
              "       [<matplotlib.axes._subplots.AxesSubplot object at 0x7fc9422fc490>,\n",
              "        <matplotlib.axes._subplots.AxesSubplot object at 0x7fc9422b3a50>,\n",
              "        <matplotlib.axes._subplots.AxesSubplot object at 0x7fc9422b3a90>]],\n",
              "      dtype=object)"
            ]
          },
          "metadata": {
            "tags": []
          },
          "execution_count": 40
        },
        {
          "output_type": "display_data",
          "data": {
            "image/png": "[encoded data removed]",
            "text/plain": [
              "<Figure size 1440x2160 with 9 Axes>"
            ]
          },
          "metadata": {
            "tags": [],
            "needs_background": "light"
          }
        }
      ]
    },
    {
      "cell_type": "code",
      "metadata": {
        "colab": {
          "base_uri": "https://localhost:8080/",
          "height": 295
        },
        "id": "-f_cyBbC4XAB",
        "outputId": "18d6cf3f-24d5-46b6-8bc0-642a0b34f746"
      },
      "source": [
        "dataset.describe()"
      ],
      "execution_count": null,
      "outputs": [
        {
          "output_type": "execute_result",
          "data": {
            "text/html": [
              "<div>\n",
              "<style scoped>\n",
              "    .dataframe tbody tr th:only-of-type {\n",
              "        vertical-align: middle;\n",
              "    }\n",
              "\n",
              "    .dataframe tbody tr th {\n",
              "        vertical-align: top;\n",
              "    }\n",
              "\n",
              "    .dataframe thead th {\n",
              "        text-align: right;\n",
              "    }\n",
              "</style>\n",
              "<table border=\"1\" class=\"dataframe\">\n",
              "  <thead>\n",
              "    <tr style=\"text-align: right;\">\n",
              "      <th></th>\n",
              "      <th>CLOSE_PRICE</th>\n",
              "      <th>TRADE_VOLUME</th>\n",
              "      <th>TRADE_COUNT</th>\n",
              "      <th>OPEN_PRICE</th>\n",
              "      <th>HIGH_PRICE</th>\n",
              "      <th>LOW_PRICE</th>\n",
              "      <th>TRADE_VALUE</th>\n",
              "    </tr>\n",
              "  </thead>\n",
              "  <tbody>\n",
              "    <tr>\n",
              "      <th>count</th>\n",
              "      <td>729.000000</td>\n",
              "      <td>7.290000e+02</td>\n",
              "      <td>729.000000</td>\n",
              "      <td>729.000000</td>\n",
              "      <td>729.000000</td>\n",
              "      <td>729.000000</td>\n",
              "      <td>7.290000e+02</td>\n",
              "    </tr>\n",
              "    <tr>\n",
              "      <th>mean</th>\n",
              "      <td>7.361770</td>\n",
              "      <td>1.272179e+06</td>\n",
              "      <td>449.598023</td>\n",
              "      <td>7.376869</td>\n",
              "      <td>7.485323</td>\n",
              "      <td>7.250825</td>\n",
              "      <td>9.015398e+06</td>\n",
              "    </tr>\n",
              "    <tr>\n",
              "      <th>std</th>\n",
              "      <td>2.894776</td>\n",
              "      <td>8.555600e+05</td>\n",
              "      <td>266.429063</td>\n",
              "      <td>2.898245</td>\n",
              "      <td>2.931231</td>\n",
              "      <td>2.861958</td>\n",
              "      <td>6.765591e+06</td>\n",
              "    </tr>\n",
              "    <tr>\n",
              "      <th>min</th>\n",
              "      <td>3.630000</td>\n",
              "      <td>6.904700e+04</td>\n",
              "      <td>61.000000</td>\n",
              "      <td>3.620000</td>\n",
              "      <td>3.700000</td>\n",
              "      <td>3.550000</td>\n",
              "      <td>4.797560e+05</td>\n",
              "    </tr>\n",
              "    <tr>\n",
              "      <th>25%</th>\n",
              "      <td>4.530000</td>\n",
              "      <td>6.546530e+05</td>\n",
              "      <td>262.000000</td>\n",
              "      <td>4.550000</td>\n",
              "      <td>4.620000</td>\n",
              "      <td>4.460000</td>\n",
              "      <td>3.890609e+06</td>\n",
              "    </tr>\n",
              "    <tr>\n",
              "      <th>50%</th>\n",
              "      <td>6.300000</td>\n",
              "      <td>1.077809e+06</td>\n",
              "      <td>395.000000</td>\n",
              "      <td>6.310000</td>\n",
              "      <td>6.400000</td>\n",
              "      <td>6.210000</td>\n",
              "      <td>7.348585e+06</td>\n",
              "    </tr>\n",
              "    <tr>\n",
              "      <th>75%</th>\n",
              "      <td>10.500000</td>\n",
              "      <td>1.587927e+06</td>\n",
              "      <td>585.000000</td>\n",
              "      <td>10.550000</td>\n",
              "      <td>10.700000</td>\n",
              "      <td>10.250000</td>\n",
              "      <td>1.159302e+07</td>\n",
              "    </tr>\n",
              "    <tr>\n",
              "      <th>max</th>\n",
              "      <td>12.620000</td>\n",
              "      <td>4.284035e+06</td>\n",
              "      <td>1281.000000</td>\n",
              "      <td>12.680000</td>\n",
              "      <td>12.750000</td>\n",
              "      <td>12.470000</td>\n",
              "      <td>3.280841e+07</td>\n",
              "    </tr>\n",
              "  </tbody>\n",
              "</table>\n",
              "</div>"
            ],
            "text/plain": [
              "       CLOSE_PRICE  TRADE_VOLUME  ...   LOW_PRICE   TRADE_VALUE\n",
              "count   729.000000  7.290000e+02  ...  729.000000  7.290000e+02\n",
              "mean      7.361770  1.272179e+06  ...    7.250825  9.015398e+06\n",
              "std       2.894776  8.555600e+05  ...    2.861958  6.765591e+06\n",
              "min       3.630000  6.904700e+04  ...    3.550000  4.797560e+05\n",
              "25%       4.530000  6.546530e+05  ...    4.460000  3.890609e+06\n",
              "50%       6.300000  1.077809e+06  ...    6.210000  7.348585e+06\n",
              "75%      10.500000  1.587927e+06  ...   10.250000  1.159302e+07\n",
              "max      12.620000  4.284035e+06  ...   12.470000  3.280841e+07\n",
              "\n",
              "[8 rows x 7 columns]"
            ]
          },
          "metadata": {
            "tags": []
          },
          "execution_count": 72
        }
      ]
    },
    {
      "cell_type": "code",
      "metadata": {
        "id": "-BlPPwSvvPJp"
      },
      "source": [
        "def series_to_supervised(data, n_in=1, n_out=1, dropnan=True):\n",
        "  n_vars = 1 if type(data) is list else data.shape[1]\n",
        "  df = DataFrame(data)\n",
        "  cols, names = list(), list()\n",
        "  for i in range(n_in, 0, -1):\n",
        "    cols.append(df.shift(i))\n",
        "    names += [('var%d(t-%d)' % (j+1, i)) for j in range(n_vars)]\n",
        "  for i in range(0, n_out):\n",
        "    cols.append(df.shift(-i))\n",
        "    if i == 0:\n",
        "      names += [('var%d(t)' % (j+1)) for j in range(n_vars)]\n",
        "    else:\n",
        "      names += [('var%d(t+%d)' % (j+1, i)) for j in range(n_vars)]\n",
        "  agg = concat(cols, axis=1)\n",
        "  agg.columns = names\n",
        "\t# drop rows with NaN values\n",
        "  if dropnan:\n",
        "    agg.dropna(inplace=True)\n",
        "  return agg\n",
        "  "
      ],
      "execution_count": null,
      "outputs": []
    },
    {
      "cell_type": "code",
      "metadata": {
        "colab": {
          "base_uri": "https://localhost:8080/",
          "height": 357
        },
        "id": "59xLNxACu-ac",
        "outputId": "d123449c-2445-48af-b29e-bd99af09be8d"
      },
      "source": [
        "from pandas import read_csv\n",
        "from pandas import DataFrame\n",
        "from pandas import concat\n",
        "from sklearn.preprocessing import LabelEncoder\n",
        "from sklearn.preprocessing import MinMaxScaler\n",
        "values = dataset.values\n",
        "values = values.astype('float32')\n",
        "scaler = MinMaxScaler(feature_range=(0, 1))\n",
        "scaled = scaler.fit_transform(values)\n",
        "reframed = series_to_supervised(scaled, 1, 1)\n",
        "# reframed.drop(reframed.columns[[9,10,11,12,13,14,15]], axis=1, inplace=True)\n",
        "reframed=reframed.iloc[: , :8]\n",
        "reframed.head(10)"
      ],
      "execution_count": null,
      "outputs": [
        {
          "output_type": "execute_result",
          "data": {
            "text/html": [
              "<div>\n",
              "<style scoped>\n",
              "    .dataframe tbody tr th:only-of-type {\n",
              "        vertical-align: middle;\n",
              "    }\n",
              "\n",
              "    .dataframe tbody tr th {\n",
              "        vertical-align: top;\n",
              "    }\n",
              "\n",
              "    .dataframe thead th {\n",
              "        text-align: right;\n",
              "    }\n",
              "</style>\n",
              "<table border=\"1\" class=\"dataframe\">\n",
              "  <thead>\n",
              "    <tr style=\"text-align: right;\">\n",
              "      <th></th>\n",
              "      <th>var1(t-1)</th>\n",
              "      <th>var2(t-1)</th>\n",
              "      <th>var3(t-1)</th>\n",
              "      <th>var4(t-1)</th>\n",
              "      <th>var5(t-1)</th>\n",
              "      <th>var6(t-1)</th>\n",
              "      <th>var7(t-1)</th>\n",
              "      <th>var1(t)</th>\n",
              "    </tr>\n",
              "  </thead>\n",
              "  <tbody>\n",
              "    <tr>\n",
              "      <th>1</th>\n",
              "      <td>0.335570</td>\n",
              "      <td>0.141431</td>\n",
              "      <td>0.217949</td>\n",
              "      <td>0.326667</td>\n",
              "      <td>0.313725</td>\n",
              "      <td>0.344828</td>\n",
              "      <td>0.115125</td>\n",
              "      <td>0.422819</td>\n",
              "    </tr>\n",
              "    <tr>\n",
              "      <th>2</th>\n",
              "      <td>0.422819</td>\n",
              "      <td>0.311306</td>\n",
              "      <td>0.358701</td>\n",
              "      <td>0.360000</td>\n",
              "      <td>0.470588</td>\n",
              "      <td>0.379310</td>\n",
              "      <td>0.291196</td>\n",
              "      <td>0.449664</td>\n",
              "    </tr>\n",
              "    <tr>\n",
              "      <th>3</th>\n",
              "      <td>0.449664</td>\n",
              "      <td>0.415786</td>\n",
              "      <td>0.371795</td>\n",
              "      <td>0.460000</td>\n",
              "      <td>0.450980</td>\n",
              "      <td>0.468966</td>\n",
              "      <td>0.358626</td>\n",
              "      <td>0.449664</td>\n",
              "    </tr>\n",
              "    <tr>\n",
              "      <th>4</th>\n",
              "      <td>0.449664</td>\n",
              "      <td>0.415786</td>\n",
              "      <td>0.371795</td>\n",
              "      <td>0.460000</td>\n",
              "      <td>0.450980</td>\n",
              "      <td>0.468966</td>\n",
              "      <td>0.358626</td>\n",
              "      <td>0.449664</td>\n",
              "    </tr>\n",
              "    <tr>\n",
              "      <th>5</th>\n",
              "      <td>0.449664</td>\n",
              "      <td>0.415786</td>\n",
              "      <td>0.371795</td>\n",
              "      <td>0.460000</td>\n",
              "      <td>0.450980</td>\n",
              "      <td>0.468966</td>\n",
              "      <td>0.358626</td>\n",
              "      <td>0.449664</td>\n",
              "    </tr>\n",
              "    <tr>\n",
              "      <th>6</th>\n",
              "      <td>0.449664</td>\n",
              "      <td>0.415786</td>\n",
              "      <td>0.371795</td>\n",
              "      <td>0.460000</td>\n",
              "      <td>0.450980</td>\n",
              "      <td>0.468966</td>\n",
              "      <td>0.358626</td>\n",
              "      <td>0.436242</td>\n",
              "    </tr>\n",
              "    <tr>\n",
              "      <th>7</th>\n",
              "      <td>0.436242</td>\n",
              "      <td>0.113264</td>\n",
              "      <td>0.162393</td>\n",
              "      <td>0.473333</td>\n",
              "      <td>0.424837</td>\n",
              "      <td>0.468966</td>\n",
              "      <td>0.097276</td>\n",
              "      <td>0.503356</td>\n",
              "    </tr>\n",
              "    <tr>\n",
              "      <th>8</th>\n",
              "      <td>0.503356</td>\n",
              "      <td>0.628801</td>\n",
              "      <td>0.777778</td>\n",
              "      <td>0.486667</td>\n",
              "      <td>0.503268</td>\n",
              "      <td>0.482759</td>\n",
              "      <td>0.558346</td>\n",
              "      <td>0.436242</td>\n",
              "    </tr>\n",
              "    <tr>\n",
              "      <th>9</th>\n",
              "      <td>0.436242</td>\n",
              "      <td>0.272607</td>\n",
              "      <td>0.371795</td>\n",
              "      <td>0.453333</td>\n",
              "      <td>0.424837</td>\n",
              "      <td>0.455173</td>\n",
              "      <td>0.233960</td>\n",
              "      <td>0.456376</td>\n",
              "    </tr>\n",
              "    <tr>\n",
              "      <th>10</th>\n",
              "      <td>0.456376</td>\n",
              "      <td>0.101428</td>\n",
              "      <td>0.183761</td>\n",
              "      <td>0.440000</td>\n",
              "      <td>0.444445</td>\n",
              "      <td>0.482759</td>\n",
              "      <td>0.087927</td>\n",
              "      <td>0.456376</td>\n",
              "    </tr>\n",
              "  </tbody>\n",
              "</table>\n",
              "</div>"
            ],
            "text/plain": [
              "    var1(t-1)  var2(t-1)  var3(t-1)  ...  var6(t-1)  var7(t-1)   var1(t)\n",
              "1    0.335570   0.141431   0.217949  ...   0.344828   0.115125  0.422819\n",
              "2    0.422819   0.311306   0.358701  ...   0.379310   0.291196  0.449664\n",
              "3    0.449664   0.415786   0.371795  ...   0.468966   0.358626  0.449664\n",
              "4    0.449664   0.415786   0.371795  ...   0.468966   0.358626  0.449664\n",
              "5    0.449664   0.415786   0.371795  ...   0.468966   0.358626  0.449664\n",
              "6    0.449664   0.415786   0.371795  ...   0.468966   0.358626  0.436242\n",
              "7    0.436242   0.113264   0.162393  ...   0.468966   0.097276  0.503356\n",
              "8    0.503356   0.628801   0.777778  ...   0.482759   0.558346  0.436242\n",
              "9    0.436242   0.272607   0.371795  ...   0.455173   0.233960  0.456376\n",
              "10   0.456376   0.101428   0.183761  ...   0.482759   0.087927  0.456376\n",
              "\n",
              "[10 rows x 8 columns]"
            ]
          },
          "metadata": {
            "tags": []
          },
          "execution_count": 160
        }
      ]
    },
    {
      "cell_type": "code",
      "metadata": {
        "colab": {
          "base_uri": "https://localhost:8080/"
        },
        "id": "lRLhL_HsvcLX",
        "outputId": "b5a6df7b-63f4-4f64-df1d-15dce6ecaf3c"
      },
      "source": [
        "values = reframed.values\n",
        "# n_train_hours = 600 * 100#trial 1 and trail 2\n",
        "# n_train_hours = 365 * 50 # tria 3\n",
        "# n_train_hours =  #trial 4\n",
        "\n",
        "train = values[:400, :]\n",
        "validation = values[400:600, :]\n",
        "test=values[600:,:]\n",
        "print(values.shape)"
      ],
      "execution_count": null,
      "outputs": [
        {
          "output_type": "stream",
          "text": [
            "(728, 8)\n"
          ],
          "name": "stdout"
        }
      ]
    },
    {
      "cell_type": "code",
      "metadata": {
        "colab": {
          "base_uri": "https://localhost:8080/"
        },
        "id": "ICz4e3TSwJ2x",
        "outputId": "2e1d4f3c-1545-4990-c4f1-9b47241fcd4b"
      },
      "source": [
        "train_X, train_y = train[:, :-1], train[:, -1]\n",
        "validation_X, validation_y = validation[:, :-1], validation[:, -1]\n",
        "test_X, test_y = test[:, :-1], test[:, -1]\n",
        "# reshape input to be 3D [samples, timesteps, features]\n",
        "train_X = train_X.reshape((train_X.shape[0], 1, train_X.shape[1]))\n",
        "validation_X = validation_X.reshape((validation_X.shape[0], 1, validation_X.shape[1]))\n",
        "test_X = test_X.reshape((test_X.shape[0], 1, test_X.shape[1]))\n",
        "print(train_X.shape, train_y.shape, test_X.shape, test_y.shape,validation_X.shape, validation_y.shape)"
      ],
      "execution_count": null,
      "outputs": [
        {
          "output_type": "stream",
          "text": [
            "(400, 1, 7) (400,) (128, 1, 7) (128,) (200, 1, 7) (200,)\n"
          ],
          "name": "stdout"
        }
      ]
    },
    {
      "cell_type": "code",
      "metadata": {
        "colab": {
          "base_uri": "https://localhost:8080/"
        },
        "id": "S4KW-_SxwshH",
        "outputId": "040d30ea-0492-4b45-d46c-ddd97b407ab8"
      },
      "source": [
        "from sklearn.metrics import mean_squared_error\n",
        "from keras.models import Sequential\n",
        "from keras.layers import Dense\n",
        "from keras.layers import LSTM\n",
        "model = Sequential()\n",
        "model.add(LSTM(100, input_shape=(train_X.shape[1], train_X.shape[2])))\n",
        "model.add(Dense(1))\n",
        "model.compile(loss='mae', optimizer='adam',metrics=['accuracy'])\n",
        "# fit network\n",
        "history = model.fit(train_X, train_y, epochs=60, batch_size=75, validation_data=(validation_X, validation_y), verbose=2, shuffle=False)"
      ],
      "execution_count": null,
      "outputs": [
        {
          "output_type": "stream",
          "text": [
            "Epoch 1/60\n",
            "6/6 - 2s - loss: 0.3027 - accuracy: 0.0025 - val_loss: 0.4289 - val_accuracy: 0.0000e+00\n",
            "Epoch 2/60\n",
            "6/6 - 0s - loss: 0.2348 - accuracy: 0.0025 - val_loss: 0.3477 - val_accuracy: 0.0000e+00\n",
            "Epoch 3/60\n",
            "6/6 - 0s - loss: 0.1692 - accuracy: 0.0025 - val_loss: 0.2641 - val_accuracy: 0.0000e+00\n",
            "Epoch 4/60\n",
            "6/6 - 0s - loss: 0.1128 - accuracy: 0.0025 - val_loss: 0.1796 - val_accuracy: 0.0000e+00\n",
            "Epoch 5/60\n",
            "6/6 - 0s - loss: 0.0744 - accuracy: 0.0025 - val_loss: 0.1091 - val_accuracy: 0.0000e+00\n",
            "Epoch 6/60\n",
            "6/6 - 0s - loss: 0.0772 - accuracy: 0.0025 - val_loss: 0.0815 - val_accuracy: 0.0000e+00\n",
            "Epoch 7/60\n",
            "6/6 - 0s - loss: 0.0790 - accuracy: 0.0025 - val_loss: 0.0934 - val_accuracy: 0.0000e+00\n",
            "Epoch 8/60\n",
            "6/6 - 0s - loss: 0.0669 - accuracy: 0.0025 - val_loss: 0.1165 - val_accuracy: 0.0000e+00\n",
            "Epoch 9/60\n",
            "6/6 - 0s - loss: 0.0621 - accuracy: 0.0025 - val_loss: 0.1208 - val_accuracy: 0.0000e+00\n",
            "Epoch 10/60\n",
            "6/6 - 0s - loss: 0.0605 - accuracy: 0.0025 - val_loss: 0.1063 - val_accuracy: 0.0000e+00\n",
            "Epoch 11/60\n",
            "6/6 - 0s - loss: 0.0581 - accuracy: 0.0025 - val_loss: 0.0889 - val_accuracy: 0.0000e+00\n",
            "Epoch 12/60\n",
            "6/6 - 0s - loss: 0.0568 - accuracy: 0.0025 - val_loss: 0.0839 - val_accuracy: 0.0000e+00\n",
            "Epoch 13/60\n",
            "6/6 - 0s - loss: 0.0545 - accuracy: 0.0025 - val_loss: 0.0863 - val_accuracy: 0.0000e+00\n",
            "Epoch 14/60\n",
            "6/6 - 0s - loss: 0.0529 - accuracy: 0.0025 - val_loss: 0.0831 - val_accuracy: 0.0000e+00\n",
            "Epoch 15/60\n",
            "6/6 - 0s - loss: 0.0520 - accuracy: 0.0025 - val_loss: 0.0753 - val_accuracy: 0.0000e+00\n",
            "Epoch 16/60\n",
            "6/6 - 0s - loss: 0.0510 - accuracy: 0.0025 - val_loss: 0.0675 - val_accuracy: 0.0000e+00\n",
            "Epoch 17/60\n",
            "6/6 - 0s - loss: 0.0498 - accuracy: 0.0025 - val_loss: 0.0655 - val_accuracy: 0.0000e+00\n",
            "Epoch 18/60\n",
            "6/6 - 0s - loss: 0.0485 - accuracy: 0.0025 - val_loss: 0.0636 - val_accuracy: 0.0000e+00\n",
            "Epoch 19/60\n",
            "6/6 - 0s - loss: 0.0476 - accuracy: 0.0025 - val_loss: 0.0594 - val_accuracy: 0.0000e+00\n",
            "Epoch 20/60\n",
            "6/6 - 0s - loss: 0.0467 - accuracy: 0.0025 - val_loss: 0.0550 - val_accuracy: 0.0000e+00\n",
            "Epoch 21/60\n",
            "6/6 - 0s - loss: 0.0458 - accuracy: 0.0025 - val_loss: 0.0526 - val_accuracy: 0.0000e+00\n",
            "Epoch 22/60\n",
            "6/6 - 0s - loss: 0.0448 - accuracy: 0.0025 - val_loss: 0.0515 - val_accuracy: 0.0000e+00\n",
            "Epoch 23/60\n",
            "6/6 - 0s - loss: 0.0440 - accuracy: 0.0025 - val_loss: 0.0486 - val_accuracy: 0.0000e+00\n",
            "Epoch 24/60\n",
            "6/6 - 0s - loss: 0.0433 - accuracy: 0.0025 - val_loss: 0.0453 - val_accuracy: 0.0000e+00\n",
            "Epoch 25/60\n",
            "6/6 - 0s - loss: 0.0425 - accuracy: 0.0025 - val_loss: 0.0428 - val_accuracy: 0.0000e+00\n",
            "Epoch 26/60\n",
            "6/6 - 0s - loss: 0.0417 - accuracy: 0.0025 - val_loss: 0.0416 - val_accuracy: 0.0000e+00\n",
            "Epoch 27/60\n",
            "6/6 - 0s - loss: 0.0412 - accuracy: 0.0025 - val_loss: 0.0396 - val_accuracy: 0.0000e+00\n",
            "Epoch 28/60\n",
            "6/6 - 0s - loss: 0.0406 - accuracy: 0.0025 - val_loss: 0.0380 - val_accuracy: 0.0000e+00\n",
            "Epoch 29/60\n",
            "6/6 - 0s - loss: 0.0402 - accuracy: 0.0025 - val_loss: 0.0367 - val_accuracy: 0.0000e+00\n",
            "Epoch 30/60\n",
            "6/6 - 0s - loss: 0.0397 - accuracy: 0.0025 - val_loss: 0.0357 - val_accuracy: 0.0000e+00\n",
            "Epoch 31/60\n",
            "6/6 - 0s - loss: 0.0393 - accuracy: 0.0025 - val_loss: 0.0351 - val_accuracy: 0.0000e+00\n",
            "Epoch 32/60\n",
            "6/6 - 0s - loss: 0.0389 - accuracy: 0.0025 - val_loss: 0.0344 - val_accuracy: 0.0000e+00\n",
            "Epoch 33/60\n",
            "6/6 - 0s - loss: 0.0384 - accuracy: 0.0025 - val_loss: 0.0355 - val_accuracy: 0.0000e+00\n",
            "Epoch 34/60\n",
            "6/6 - 0s - loss: 0.0382 - accuracy: 0.0025 - val_loss: 0.0337 - val_accuracy: 0.0000e+00\n",
            "Epoch 35/60\n",
            "6/6 - 0s - loss: 0.0379 - accuracy: 0.0025 - val_loss: 0.0339 - val_accuracy: 0.0000e+00\n",
            "Epoch 36/60\n",
            "6/6 - 0s - loss: 0.0376 - accuracy: 0.0025 - val_loss: 0.0334 - val_accuracy: 0.0000e+00\n",
            "Epoch 37/60\n",
            "6/6 - 0s - loss: 0.0374 - accuracy: 0.0025 - val_loss: 0.0328 - val_accuracy: 0.0000e+00\n",
            "Epoch 38/60\n",
            "6/6 - 0s - loss: 0.0373 - accuracy: 0.0025 - val_loss: 0.0330 - val_accuracy: 0.0000e+00\n",
            "Epoch 39/60\n",
            "6/6 - 0s - loss: 0.0372 - accuracy: 0.0025 - val_loss: 0.0314 - val_accuracy: 0.0000e+00\n",
            "Epoch 40/60\n",
            "6/6 - 0s - loss: 0.0371 - accuracy: 0.0025 - val_loss: 0.0315 - val_accuracy: 0.0000e+00\n",
            "Epoch 41/60\n",
            "6/6 - 0s - loss: 0.0369 - accuracy: 0.0025 - val_loss: 0.0311 - val_accuracy: 0.0000e+00\n",
            "Epoch 42/60\n",
            "6/6 - 0s - loss: 0.0368 - accuracy: 0.0025 - val_loss: 0.0311 - val_accuracy: 0.0000e+00\n",
            "Epoch 43/60\n",
            "6/6 - 0s - loss: 0.0367 - accuracy: 0.0025 - val_loss: 0.0310 - val_accuracy: 0.0000e+00\n",
            "Epoch 44/60\n",
            "6/6 - 0s - loss: 0.0366 - accuracy: 0.0025 - val_loss: 0.0308 - val_accuracy: 0.0000e+00\n",
            "Epoch 45/60\n",
            "6/6 - 0s - loss: 0.0365 - accuracy: 0.0025 - val_loss: 0.0310 - val_accuracy: 0.0000e+00\n",
            "Epoch 46/60\n",
            "6/6 - 0s - loss: 0.0364 - accuracy: 0.0025 - val_loss: 0.0304 - val_accuracy: 0.0000e+00\n",
            "Epoch 47/60\n",
            "6/6 - 0s - loss: 0.0364 - accuracy: 0.0025 - val_loss: 0.0308 - val_accuracy: 0.0000e+00\n",
            "Epoch 48/60\n",
            "6/6 - 0s - loss: 0.0362 - accuracy: 0.0025 - val_loss: 0.0302 - val_accuracy: 0.0000e+00\n",
            "Epoch 49/60\n",
            "6/6 - 0s - loss: 0.0362 - accuracy: 0.0025 - val_loss: 0.0312 - val_accuracy: 0.0000e+00\n",
            "Epoch 50/60\n",
            "6/6 - 0s - loss: 0.0361 - accuracy: 0.0025 - val_loss: 0.0299 - val_accuracy: 0.0000e+00\n",
            "Epoch 51/60\n",
            "6/6 - 0s - loss: 0.0361 - accuracy: 0.0025 - val_loss: 0.0307 - val_accuracy: 0.0000e+00\n",
            "Epoch 52/60\n",
            "6/6 - 0s - loss: 0.0359 - accuracy: 0.0025 - val_loss: 0.0298 - val_accuracy: 0.0000e+00\n",
            "Epoch 53/60\n",
            "6/6 - 0s - loss: 0.0358 - accuracy: 0.0025 - val_loss: 0.0304 - val_accuracy: 0.0000e+00\n",
            "Epoch 54/60\n",
            "6/6 - 0s - loss: 0.0357 - accuracy: 0.0025 - val_loss: 0.0297 - val_accuracy: 0.0000e+00\n",
            "Epoch 55/60\n",
            "6/6 - 0s - loss: 0.0356 - accuracy: 0.0025 - val_loss: 0.0304 - val_accuracy: 0.0000e+00\n",
            "Epoch 56/60\n",
            "6/6 - 0s - loss: 0.0354 - accuracy: 0.0025 - val_loss: 0.0295 - val_accuracy: 0.0000e+00\n",
            "Epoch 57/60\n",
            "6/6 - 0s - loss: 0.0355 - accuracy: 0.0025 - val_loss: 0.0303 - val_accuracy: 0.0000e+00\n",
            "Epoch 58/60\n",
            "6/6 - 0s - loss: 0.0352 - accuracy: 0.0025 - val_loss: 0.0294 - val_accuracy: 0.0000e+00\n",
            "Epoch 59/60\n",
            "6/6 - 0s - loss: 0.0353 - accuracy: 0.0025 - val_loss: 0.0301 - val_accuracy: 0.0000e+00\n",
            "Epoch 60/60\n",
            "6/6 - 0s - loss: 0.0350 - accuracy: 0.0025 - val_loss: 0.0293 - val_accuracy: 0.0000e+00\n"
          ],
          "name": "stdout"
        }
      ]
    },
    {
      "cell_type": "code",
      "metadata": {
        "colab": {
          "base_uri": "https://localhost:8080/",
          "height": 663
        },
        "id": "fzn6Khzbw9Il",
        "outputId": "ab81deff-1697-4c68-ede6-8f38872f85d9"
      },
      "source": [
        "plt.plot(history.history['loss'], label='train')\n",
        "plt.plot(history.history['val_loss'], label='test')\n",
        "plt.legend()\n",
        "plt.show()"
      ],
      "execution_count": null,
      "outputs": [
        {
          "output_type": "display_data",
          "data": {
            "image/png": "[encoded data removed]",
            "text/plain": [
              "<Figure size 1130.4x811.44 with 1 Axes>"
            ]
          },
          "metadata": {
            "tags": []
          }
        }
      ]
    },
    {
      "cell_type": "code",
      "metadata": {
        "id": "dwMZmFODxFgf"
      },
      "source": [
        "\n",
        "#rescale for last 7 days\n",
        "from keras.layers import concatenate\n",
        "from math import sqrt\n",
        "from sklearn.metrics import mean_absolute_error\n",
        "# make a prediction\n",
        "yhat = model.predict(test_X)\n",
        "test_X = test_X.reshape((test_X.shape[0], test_X.shape[2]))\n",
        "# invert scaling for forecast\n",
        "inv_yhat = concatenate((yhat, test_X[:, 1:]), axis=1)\n",
        "inv_yhat = scaler.inverse_transform(inv_yhat)\n",
        "inv_yhat = inv_yhat[:,0]\n",
        "# invert scaling for actual\n",
        "test_y = test_y.reshape((len(test_y), 1))\n",
        "inv_y = concatenate((test_y, test_X[:, 1:]), axis=1)\n",
        "inv_y = scaler.inverse_transform(inv_y)\n",
        "inv_y = inv_y[:,0]"
      ],
      "execution_count": null,
      "outputs": []
    },
    {
      "cell_type": "code",
      "metadata": {
        "colab": {
          "base_uri": "https://localhost:8080/"
        },
        "id": "la8EhbTMxLt2",
        "outputId": "c5e6c90b-ddcb-4a9d-bf18-595f75c027b1"
      },
      "source": [
        "rmse = sqrt(mean_squared_error(inv_y, inv_yhat))\n",
        "print('mae',mean_absolute_error(inv_y,inv_yhat))\n",
        "print('Test RMSE: %.3f' % rmse)"
      ],
      "execution_count": null,
      "outputs": [
        {
          "output_type": "stream",
          "text": [
            "mae 0.14188008917127504\n",
            "Test RMSE: 0.227\n"
          ],
          "name": "stdout"
        }
      ]
    },
    {
      "cell_type": "code",
      "metadata": {
        "id": "8L84kTfsxP4c"
      },
      "source": [
        "df = pd.DataFrame({'actual':inv_y, 'predicted':inv_yhat})"
      ],
      "execution_count": null,
      "outputs": []
    },
    {
      "cell_type": "code",
      "metadata": {
        "colab": {
          "base_uri": "https://localhost:8080/",
          "height": 357
        },
        "id": "d7nNKCEVxZdm",
        "outputId": "85c11493-62b6-47b4-ac35-2e279a2b1775"
      },
      "source": [
        "df.head(10)"
      ],
      "execution_count": null,
      "outputs": [
        {
          "output_type": "execute_result",
          "data": {
            "text/html": [
              "<div>\n",
              "<style scoped>\n",
              "    .dataframe tbody tr th:only-of-type {\n",
              "        vertical-align: middle;\n",
              "    }\n",
              "\n",
              "    .dataframe tbody tr th {\n",
              "        vertical-align: top;\n",
              "    }\n",
              "\n",
              "    .dataframe thead th {\n",
              "        text-align: right;\n",
              "    }\n",
              "</style>\n",
              "<table border=\"1\" class=\"dataframe\">\n",
              "  <thead>\n",
              "    <tr style=\"text-align: right;\">\n",
              "      <th></th>\n",
              "      <th>actual</th>\n",
              "      <th>predicted</th>\n",
              "    </tr>\n",
              "  </thead>\n",
              "  <tbody>\n",
              "    <tr>\n",
              "      <th>0</th>\n",
              "      <td>3.39</td>\n",
              "      <td>3.311344</td>\n",
              "    </tr>\n",
              "    <tr>\n",
              "      <th>1</th>\n",
              "      <td>3.41</td>\n",
              "      <td>3.410311</td>\n",
              "    </tr>\n",
              "    <tr>\n",
              "      <th>2</th>\n",
              "      <td>3.34</td>\n",
              "      <td>3.426276</td>\n",
              "    </tr>\n",
              "    <tr>\n",
              "      <th>3</th>\n",
              "      <td>3.36</td>\n",
              "      <td>3.349393</td>\n",
              "    </tr>\n",
              "    <tr>\n",
              "      <th>4</th>\n",
              "      <td>3.36</td>\n",
              "      <td>3.368267</td>\n",
              "    </tr>\n",
              "    <tr>\n",
              "      <th>5</th>\n",
              "      <td>3.36</td>\n",
              "      <td>3.368267</td>\n",
              "    </tr>\n",
              "    <tr>\n",
              "      <th>6</th>\n",
              "      <td>3.35</td>\n",
              "      <td>3.368267</td>\n",
              "    </tr>\n",
              "    <tr>\n",
              "      <th>7</th>\n",
              "      <td>3.33</td>\n",
              "      <td>3.363912</td>\n",
              "    </tr>\n",
              "    <tr>\n",
              "      <th>8</th>\n",
              "      <td>3.27</td>\n",
              "      <td>3.336323</td>\n",
              "    </tr>\n",
              "    <tr>\n",
              "      <th>9</th>\n",
              "      <td>3.23</td>\n",
              "      <td>3.281811</td>\n",
              "    </tr>\n",
              "  </tbody>\n",
              "</table>\n",
              "</div>"
            ],
            "text/plain": [
              "   actual  predicted\n",
              "0    3.39   3.311344\n",
              "1    3.41   3.410311\n",
              "2    3.34   3.426276\n",
              "3    3.36   3.349393\n",
              "4    3.36   3.368267\n",
              "5    3.36   3.368267\n",
              "6    3.35   3.368267\n",
              "7    3.33   3.363912\n",
              "8    3.27   3.336323\n",
              "9    3.23   3.281811"
            ]
          },
          "metadata": {
            "tags": []
          },
          "execution_count": 186
        }
      ]
    },
    {
      "cell_type": "code",
      "metadata": {
        "colab": {
          "base_uri": "https://localhost:8080/",
          "height": 717
        },
        "id": "-e_eySqdxVpc",
        "outputId": "01253afc-05f4-4b72-f5aa-d773ca9b2507"
      },
      "source": [
        "act_pred=df.plot('actual', 'predicted', kind='scatter')"
      ],
      "execution_count": null,
      "outputs": [
        {
          "output_type": "stream",
          "text": [
            "*c* argument looks like a single numeric RGB or RGBA sequence, which should be avoided as value-mapping will have precedence in case its length matches with *x* & *y*.  Please use the *color* keyword-argument or provide a 2-D array with a single row if you intend to specify the same RGB or RGBA value for all points.\n"
          ],
          "name": "stderr"
        },
        {
          "output_type": "display_data",
          "data": {
            "image/png": "[encoded data removed]",
            "text/plain": [
              "<Figure size 1130.4x811.44 with 1 Axes>"
            ]
          },
          "metadata": {
            "tags": []
          }
        }
      ]
    },
    {
      "cell_type": "markdown",
      "metadata": {
        "id": "T33otZJ-V5w4"
      },
      "source": [
        "LINEAR REGRESSION"
      ]
    },
    {
      "cell_type": "code",
      "metadata": {
        "id": "I-s4Qr7SV8yP"
      },
      "source": [
        "x=dataset.drop(['CLOSE_PRICE'],axis=1)\n",
        "y=dataset['CLOSE_PRICE']"
      ],
      "execution_count": null,
      "outputs": []
    },
    {
      "cell_type": "code",
      "metadata": {
        "colab": {
          "base_uri": "https://localhost:8080/"
        },
        "id": "ijS2CMTICrOx",
        "outputId": "e45b5d27-629d-48af-c186-5dc3b14a9bcb"
      },
      "source": [
        "dataset.shape"
      ],
      "execution_count": null,
      "outputs": [
        {
          "output_type": "execute_result",
          "data": {
            "text/plain": [
              "(729, 7)"
            ]
          },
          "metadata": {
            "tags": []
          },
          "execution_count": 191
        }
      ]
    },
    {
      "cell_type": "code",
      "metadata": {
        "id": "G8DgSIghWcKN"
      },
      "source": [
        "from sklearn.model_selection import KFold, cross_val_score, train_test_split\n",
        "X_train, X_test, y_train, y_test = train_test_split(x, y, test_size=0.20, shuffle=True)"
      ],
      "execution_count": null,
      "outputs": []
    },
    {
      "cell_type": "code",
      "metadata": {
        "colab": {
          "base_uri": "https://localhost:8080/"
        },
        "id": "wyNfVverWf85",
        "outputId": "b40b987a-4cf6-4c88-d52c-662933398561"
      },
      "source": [
        "import numpy as np\n",
        "from sklearn.linear_model import LinearRegression\n",
        "model = LinearRegression()\n",
        "model.fit(X_train, y_train)\n",
        "reg_pred=model.predict(X_test)\n",
        "r_sq = model.score(X_test,y_test)\n",
        "\n",
        "print('coefficient of determination:', r_sq)"
      ],
      "execution_count": null,
      "outputs": [
        {
          "output_type": "stream",
          "text": [
            "coefficient of determination: 0.967520556084184\n"
          ],
          "name": "stdout"
        }
      ]
    },
    {
      "cell_type": "code",
      "metadata": {
        "id": "btYN8ANqWpQm"
      },
      "source": [
        "df=pd.DataFrame({'Actual':y_test, 'Predicted':reg_pred})"
      ],
      "execution_count": null,
      "outputs": []
    },
    {
      "cell_type": "code",
      "metadata": {
        "colab": {
          "base_uri": "https://localhost:8080/",
          "height": 717
        },
        "id": "wBjbilrMW5fm",
        "outputId": "de301cf2-c69d-4325-e6da-fb2f2f5e73d0"
      },
      "source": [
        "act_pred=df.plot('Actual', 'Predicted', kind='scatter')"
      ],
      "execution_count": null,
      "outputs": [
        {
          "output_type": "stream",
          "text": [
            "*c* argument looks like a single numeric RGB or RGBA sequence, which should be avoided as value-mapping will have precedence in case its length matches with *x* & *y*.  Please use the *color* keyword-argument or provide a 2-D array with a single row if you intend to specify the same RGB or RGBA value for all points.\n"
          ],
          "name": "stderr"
        },
        {
          "output_type": "display_data",
          "data": {
            "image/png": "[encoded data removed]",
            "text/plain": [
              "<Figure size 1130.4x811.44 with 1 Axes>"
            ]
          },
          "metadata": {
            "tags": []
          }
        }
      ]
    },
    {
      "cell_type": "code",
      "metadata": {
        "colab": {
          "base_uri": "https://localhost:8080/"
        },
        "id": "tbgv8kHrXGME",
        "outputId": "308421b0-3292-4325-ce85-d16c14cde2df"
      },
      "source": [
        "from sklearn.metrics import mean_squared_error\n",
        "from math import sqrt\n",
        "rmse = sqrt(mean_squared_error(y_test,reg_pred))\n",
        "print('Test RMSE: %.3f' % rmse)"
      ],
      "execution_count": null,
      "outputs": [
        {
          "output_type": "stream",
          "text": [
            "Test RMSE: 0.061\n"
          ],
          "name": "stdout"
        }
      ]
    },
    {
      "cell_type": "markdown",
      "metadata": {
        "id": "7I0NdF2zWqGo"
      },
      "source": [
        "RANDOM FOREST\n"
      ]
    },
    {
      "cell_type": "code",
      "metadata": {
        "colab": {
          "base_uri": "https://localhost:8080/"
        },
        "id": "DZrYvIBOZ3La",
        "outputId": "49ad3d4d-e5fb-4adb-ba9c-9e4b797ce630"
      },
      "source": [
        "from sklearn.ensemble import RandomForestRegressor\n",
        "from sklearn.datasets import make_regression\n",
        "\n",
        "r_f = RandomForestRegressor(max_depth=12, random_state=0)\n",
        "r_f.fit(X_train, y_train)\n",
        "reg_pred=r_f.predict(X_test)\n",
        "r_sq = r_f.score(X_test,y_test)\n",
        "\n",
        "print('coefficient of determination:', r_sq)"
      ],
      "execution_count": null,
      "outputs": [
        {
          "output_type": "stream",
          "text": [
            "coefficient of determination: 0.9621422412564477\n"
          ],
          "name": "stdout"
        }
      ]
    },
    {
      "cell_type": "code",
      "metadata": {
        "colab": {
          "base_uri": "https://localhost:8080/",
          "height": 447
        },
        "id": "TGgk4nd_Z-rn",
        "outputId": "375714f5-1e42-4496-ef83-64b45e3a81bb"
      },
      "source": [
        "df=pd.DataFrame({'Actual':y_test, 'Predicted':reg_pred})\n",
        "df"
      ],
      "execution_count": null,
      "outputs": [
        {
          "output_type": "execute_result",
          "data": {
            "text/html": [
              "<div>\n",
              "<style scoped>\n",
              "    .dataframe tbody tr th:only-of-type {\n",
              "        vertical-align: middle;\n",
              "    }\n",
              "\n",
              "    .dataframe tbody tr th {\n",
              "        vertical-align: top;\n",
              "    }\n",
              "\n",
              "    .dataframe thead th {\n",
              "        text-align: right;\n",
              "    }\n",
              "</style>\n",
              "<table border=\"1\" class=\"dataframe\">\n",
              "  <thead>\n",
              "    <tr style=\"text-align: right;\">\n",
              "      <th></th>\n",
              "      <th>Actual</th>\n",
              "      <th>Predicted</th>\n",
              "    </tr>\n",
              "    <tr>\n",
              "      <th>TRADE_DATE</th>\n",
              "      <th></th>\n",
              "      <th></th>\n",
              "    </tr>\n",
              "  </thead>\n",
              "  <tbody>\n",
              "    <tr>\n",
              "      <th>2018-11-18</th>\n",
              "      <td>3.020000</td>\n",
              "      <td>3.036512</td>\n",
              "    </tr>\n",
              "    <tr>\n",
              "      <th>2019-10-22</th>\n",
              "      <td>3.670000</td>\n",
              "      <td>3.669700</td>\n",
              "    </tr>\n",
              "    <tr>\n",
              "      <th>2019-05-03</th>\n",
              "      <td>2.990000</td>\n",
              "      <td>2.993152</td>\n",
              "    </tr>\n",
              "    <tr>\n",
              "      <th>2018-10-06</th>\n",
              "      <td>2.890000</td>\n",
              "      <td>2.891788</td>\n",
              "    </tr>\n",
              "    <tr>\n",
              "      <th>2018-09-17</th>\n",
              "      <td>2.870000</td>\n",
              "      <td>2.807533</td>\n",
              "    </tr>\n",
              "    <tr>\n",
              "      <th>...</th>\n",
              "      <td>...</td>\n",
              "      <td>...</td>\n",
              "    </tr>\n",
              "    <tr>\n",
              "      <th>2019-06-01</th>\n",
              "      <td>3.360000</td>\n",
              "      <td>3.367089</td>\n",
              "    </tr>\n",
              "    <tr>\n",
              "      <th>2019-09-12</th>\n",
              "      <td>3.011052</td>\n",
              "      <td>3.010934</td>\n",
              "    </tr>\n",
              "    <tr>\n",
              "      <th>2018-04-07</th>\n",
              "      <td>2.850000</td>\n",
              "      <td>2.848623</td>\n",
              "    </tr>\n",
              "    <tr>\n",
              "      <th>2018-08-25</th>\n",
              "      <td>2.720000</td>\n",
              "      <td>2.718945</td>\n",
              "    </tr>\n",
              "    <tr>\n",
              "      <th>2018-02-12</th>\n",
              "      <td>2.730000</td>\n",
              "      <td>2.747819</td>\n",
              "    </tr>\n",
              "  </tbody>\n",
              "</table>\n",
              "<p>146 rows × 2 columns</p>\n",
              "</div>"
            ],
            "text/plain": [
              "              Actual  Predicted\n",
              "TRADE_DATE                     \n",
              "2018-11-18  3.020000   3.036512\n",
              "2019-10-22  3.670000   3.669700\n",
              "2019-05-03  2.990000   2.993152\n",
              "2018-10-06  2.890000   2.891788\n",
              "2018-09-17  2.870000   2.807533\n",
              "...              ...        ...\n",
              "2019-06-01  3.360000   3.367089\n",
              "2019-09-12  3.011052   3.010934\n",
              "2018-04-07  2.850000   2.848623\n",
              "2018-08-25  2.720000   2.718945\n",
              "2018-02-12  2.730000   2.747819\n",
              "\n",
              "[146 rows x 2 columns]"
            ]
          },
          "metadata": {
            "tags": []
          },
          "execution_count": 198
        }
      ]
    },
    {
      "cell_type": "code",
      "metadata": {
        "colab": {
          "base_uri": "https://localhost:8080/",
          "height": 717
        },
        "id": "4Er7PAytaLzP",
        "outputId": "0fe26df4-5634-48e7-f248-3e1b45c589de"
      },
      "source": [
        "act_pred=df.plot('Actual', 'Predicted', kind='scatter')"
      ],
      "execution_count": null,
      "outputs": [
        {
          "output_type": "stream",
          "text": [
            "*c* argument looks like a single numeric RGB or RGBA sequence, which should be avoided as value-mapping will have precedence in case its length matches with *x* & *y*.  Please use the *color* keyword-argument or provide a 2-D array with a single row if you intend to specify the same RGB or RGBA value for all points.\n"
          ],
          "name": "stderr"
        },
        {
          "output_type": "display_data",
          "data": {
            "image/png": "[encoded data removed]",
            "text/plain": [
              "<Figure size 1130.4x811.44 with 1 Axes>"
            ]
          },
          "metadata": {
            "tags": []
          }
        }
      ]
    },
    {
      "cell_type": "code",
      "metadata": {
        "colab": {
          "base_uri": "https://localhost:8080/"
        },
        "id": "WcMADkFAaRe_",
        "outputId": "561523b3-72bd-43d0-82cf-66d560c928ba"
      },
      "source": [
        "rmse = sqrt(mean_squared_error(y_test,reg_pred))\n",
        "print('Test RMSE: %.3f' % rmse)"
      ],
      "execution_count": null,
      "outputs": [
        {
          "output_type": "stream",
          "text": [
            "Test RMSE: 0.066\n"
          ],
          "name": "stdout"
        }
      ]
    },
    {
      "cell_type": "markdown",
      "metadata": {
        "id": "0LQcGo3rC9oC"
      },
      "source": [
        "xgboost"
      ]
    },
    {
      "cell_type": "code",
      "metadata": {
        "id": "xCnuXMVLC_as"
      },
      "source": [
        "import xgboost as xgb\n",
        "from xgboost import plot_importance, plot_tree\n",
        "from sklearn.metrics import mean_squared_error, mean_absolute_error\n",
        "plt.style.use('fivethirtyeight')"
      ],
      "execution_count": null,
      "outputs": []
    },
    {
      "cell_type": "code",
      "metadata": {
        "id": "A8cQpntsDHg8"
      },
      "source": [
        "x=dataset.drop(['CLOSE_PRICE'],axis=1)\n",
        "y=dataset['CLOSE_PRICE']"
      ],
      "execution_count": null,
      "outputs": []
    },
    {
      "cell_type": "code",
      "metadata": {
        "id": "QXv2HTSuDKWZ"
      },
      "source": [
        "from sklearn.model_selection import KFold, cross_val_score, train_test_split\n",
        "X_train, X_test, y_train, y_test = train_test_split(x, y, test_size=0.20, shuffle=True)"
      ],
      "execution_count": null,
      "outputs": []
    },
    {
      "cell_type": "code",
      "metadata": {
        "colab": {
          "base_uri": "https://localhost:8080/"
        },
        "id": "jtTpaVpkDN3X",
        "outputId": "8a497683-6f9b-4293-b735-a0b86b53c11a"
      },
      "source": [
        "reg = xgb.XGBRegressor(n_estimators=1000)\n",
        "reg.fit(X_train, y_train,\n",
        "        eval_set=[(X_train, y_train), (X_test, y_test)],\n",
        "        early_stopping_rounds=50,\n",
        "       verbose=False)"
      ],
      "execution_count": null,
      "outputs": [
        {
          "output_type": "stream",
          "text": [
            "[13:27:39] WARNING: /workspace/src/objective/regression_obj.cu:152: reg:linear is now deprecated in favor of reg:squarederror.\n"
          ],
          "name": "stdout"
        },
        {
          "output_type": "execute_result",
          "data": {
            "text/plain": [
              "XGBRegressor(base_score=0.5, booster='gbtree', colsample_bylevel=1,\n",
              "             colsample_bynode=1, colsample_bytree=1, gamma=0,\n",
              "             importance_type='gain', learning_rate=0.1, max_delta_step=0,\n",
              "             max_depth=3, min_child_weight=1, missing=None, n_estimators=1000,\n",
              "             n_jobs=1, nthread=None, objective='reg:linear', random_state=0,\n",
              "             reg_alpha=0, reg_lambda=1, scale_pos_weight=1, seed=None,\n",
              "             silent=None, subsample=1, verbosity=1)"
            ]
          },
          "metadata": {
            "tags": []
          },
          "execution_count": 204
        }
      ]
    },
    {
      "cell_type": "code",
      "metadata": {
        "colab": {
          "base_uri": "https://localhost:8080/",
          "height": 745
        },
        "id": "8HiFp_baDRoP",
        "outputId": "2466f4df-98e0-4b44-ff94-1e96dbcce13d"
      },
      "source": [
        "_ = plot_importance(reg, height=0.9)"
      ],
      "execution_count": null,
      "outputs": [
        {
          "output_type": "display_data",
          "data": {
            "image/png": "[encoded data removed]",
            "text/plain": [
              "<Figure size 1130.4x811.44 with 1 Axes>"
            ]
          },
          "metadata": {
            "tags": []
          }
        }
      ]
    },
    {
      "cell_type": "code",
      "metadata": {
        "id": "Y88Qakg5DVoh"
      },
      "source": [
        "xgb_pred = reg.predict(X_test)"
      ],
      "execution_count": null,
      "outputs": []
    },
    {
      "cell_type": "code",
      "metadata": {
        "colab": {
          "base_uri": "https://localhost:8080/"
        },
        "id": "Maz0JMeaDZkS",
        "outputId": "783ec8af-e5b6-4fc0-dc18-d913c4663b22"
      },
      "source": [
        "r_sq2 = reg.score(X_test,y_test)\n",
        "\n",
        "print('coefficient of determination:', r_sq2)"
      ],
      "execution_count": null,
      "outputs": [
        {
          "output_type": "stream",
          "text": [
            "coefficient of determination: 0.9349754617939882\n"
          ],
          "name": "stdout"
        }
      ]
    },
    {
      "cell_type": "code",
      "metadata": {
        "colab": {
          "base_uri": "https://localhost:8080/",
          "height": 447
        },
        "id": "3DYhCl2zDcy_",
        "outputId": "867d42a0-c97a-4a7a-d67b-886d596ddd98"
      },
      "source": [
        "df=pd.DataFrame({'Actual':y_test, 'Predicted':xgb_pred})\n",
        "df"
      ],
      "execution_count": null,
      "outputs": [
        {
          "output_type": "execute_result",
          "data": {
            "text/html": [
              "<div>\n",
              "<style scoped>\n",
              "    .dataframe tbody tr th:only-of-type {\n",
              "        vertical-align: middle;\n",
              "    }\n",
              "\n",
              "    .dataframe tbody tr th {\n",
              "        vertical-align: top;\n",
              "    }\n",
              "\n",
              "    .dataframe thead th {\n",
              "        text-align: right;\n",
              "    }\n",
              "</style>\n",
              "<table border=\"1\" class=\"dataframe\">\n",
              "  <thead>\n",
              "    <tr style=\"text-align: right;\">\n",
              "      <th></th>\n",
              "      <th>Actual</th>\n",
              "      <th>Predicted</th>\n",
              "    </tr>\n",
              "    <tr>\n",
              "      <th>TRADE_DATE</th>\n",
              "      <th></th>\n",
              "      <th></th>\n",
              "    </tr>\n",
              "  </thead>\n",
              "  <tbody>\n",
              "    <tr>\n",
              "      <th>2018-03-31</th>\n",
              "      <td>2.98</td>\n",
              "      <td>2.961835</td>\n",
              "    </tr>\n",
              "    <tr>\n",
              "      <th>2018-05-20</th>\n",
              "      <td>2.75</td>\n",
              "      <td>2.793880</td>\n",
              "    </tr>\n",
              "    <tr>\n",
              "      <th>2019-08-31</th>\n",
              "      <td>3.36</td>\n",
              "      <td>3.312614</td>\n",
              "    </tr>\n",
              "    <tr>\n",
              "      <th>2018-04-27</th>\n",
              "      <td>2.92</td>\n",
              "      <td>2.920484</td>\n",
              "    </tr>\n",
              "    <tr>\n",
              "      <th>2018-03-12</th>\n",
              "      <td>3.27</td>\n",
              "      <td>3.257266</td>\n",
              "    </tr>\n",
              "    <tr>\n",
              "      <th>...</th>\n",
              "      <td>...</td>\n",
              "      <td>...</td>\n",
              "    </tr>\n",
              "    <tr>\n",
              "      <th>2018-03-05</th>\n",
              "      <td>3.19</td>\n",
              "      <td>3.255233</td>\n",
              "    </tr>\n",
              "    <tr>\n",
              "      <th>2019-06-01</th>\n",
              "      <td>3.36</td>\n",
              "      <td>3.410363</td>\n",
              "    </tr>\n",
              "    <tr>\n",
              "      <th>2018-08-01</th>\n",
              "      <td>2.71</td>\n",
              "      <td>2.685184</td>\n",
              "    </tr>\n",
              "    <tr>\n",
              "      <th>2018-03-22</th>\n",
              "      <td>2.97</td>\n",
              "      <td>2.961835</td>\n",
              "    </tr>\n",
              "    <tr>\n",
              "      <th>2018-02-28</th>\n",
              "      <td>3.12</td>\n",
              "      <td>3.098779</td>\n",
              "    </tr>\n",
              "  </tbody>\n",
              "</table>\n",
              "<p>146 rows × 2 columns</p>\n",
              "</div>"
            ],
            "text/plain": [
              "            Actual  Predicted\n",
              "TRADE_DATE                   \n",
              "2018-03-31    2.98   2.961835\n",
              "2018-05-20    2.75   2.793880\n",
              "2019-08-31    3.36   3.312614\n",
              "2018-04-27    2.92   2.920484\n",
              "2018-03-12    3.27   3.257266\n",
              "...            ...        ...\n",
              "2018-03-05    3.19   3.255233\n",
              "2019-06-01    3.36   3.410363\n",
              "2018-08-01    2.71   2.685184\n",
              "2018-03-22    2.97   2.961835\n",
              "2018-02-28    3.12   3.098779\n",
              "\n",
              "[146 rows x 2 columns]"
            ]
          },
          "metadata": {
            "tags": []
          },
          "execution_count": 208
        }
      ]
    },
    {
      "cell_type": "code",
      "metadata": {
        "colab": {
          "base_uri": "https://localhost:8080/",
          "height": 761
        },
        "id": "FOmoNlr9DgEF",
        "outputId": "bde52203-f5c8-4fac-f459-283e8682da1b"
      },
      "source": [
        "act_pred=df.plot('Actual', 'Predicted', kind='scatter')"
      ],
      "execution_count": null,
      "outputs": [
        {
          "output_type": "stream",
          "text": [
            "*c* argument looks like a single numeric RGB or RGBA sequence, which should be avoided as value-mapping will have precedence in case its length matches with *x* & *y*.  Please use the *color* keyword-argument or provide a 2-D array with a single row if you intend to specify the same RGB or RGBA value for all points.\n"
          ],
          "name": "stderr"
        },
        {
          "output_type": "display_data",
          "data": {
            "image/png": "[encoded data removed]",
            "text/plain": [
              "<Figure size 1130.4x811.44 with 1 Axes>"
            ]
          },
          "metadata": {
            "tags": []
          }
        }
      ]
    },
    {
      "cell_type": "code",
      "metadata": {
        "id": "0tOLwB6WDj1M",
        "colab": {
          "base_uri": "https://localhost:8080/"
        },
        "outputId": "12880c28-86fb-40e1-b4c8-31c923081bac"
      },
      "source": [
        "rmse = sqrt(mean_squared_error(y_test,xgb_pred))\n",
        "print('Test RMSE: %.3f' % rmse)"
      ],
      "execution_count": null,
      "outputs": [
        {
          "output_type": "stream",
          "text": [
            "Test RMSE: 0.081\n"
          ],
          "name": "stdout"
        }
      ]
    }
  ]
}
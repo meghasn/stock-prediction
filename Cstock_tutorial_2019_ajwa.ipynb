{
  "nbformat": 4,
  "nbformat_minor": 0,
  "metadata": {
    "colab": {
      "name": "Cstock-tutorial-2019-ajwa.ipynb",
      "provenance": [],
      "collapsed_sections": []
    },
    "kernelspec": {
      "display_name": "Python 3",
      "name": "python3"
    },
    "language_info": {
      "name": "python"
    }
  },
  "cells": [
    {
      "cell_type": "code",
      "metadata": {
        "colab": {
          "base_uri": "https://localhost:8080/"
        },
        "id": "-zWWtliwfb7V",
        "outputId": "b549ed02-bd31-4ab2-c8d0-d27fd2f52693"
      },
      "source": [
        "from google.colab import drive\n",
        "drive.mount('/content/drive',force_remount=True)"
      ],
      "execution_count": null,
      "outputs": [
        {
          "output_type": "stream",
          "text": [
            "Mounted at /content/drive\n"
          ],
          "name": "stdout"
        }
      ]
    },
    {
      "cell_type": "code",
      "metadata": {
        "id": "jt6iBtlpItjN"
      },
      "source": [
        "import os\n",
        "import pandas as pd\n",
        "import matplotlib.pyplot as plt"
      ],
      "execution_count": null,
      "outputs": []
    },
    {
      "cell_type": "code",
      "metadata": {
        "id": "IABwGJIeIxms"
      },
      "source": [
        "dataset_path=\"/content/drive/MyDrive/stock-prediction/\"\n",
        "dataset=os.listdir(dataset_path)"
      ],
      "execution_count": null,
      "outputs": []
    },
    {
      "cell_type": "code",
      "metadata": {
        "colab": {
          "base_uri": "https://localhost:8080/"
        },
        "id": "3Dw4WYNJI1c4",
        "outputId": "7d62bf1e-9398-4d1e-9840-ccb858220f1f"
      },
      "source": [
        "string=\"\"\n",
        "\n",
        "string = string + dataset[14]\n",
        "print(string)\n",
        "print(dataset_path)"
      ],
      "execution_count": null,
      "outputs": [
        {
          "output_type": "stream",
          "text": [
            "data2 - data2.csv\n",
            "/content/drive/MyDrive/stock-prediction/\n"
          ],
          "name": "stdout"
        }
      ]
    },
    {
      "cell_type": "code",
      "metadata": {
        "id": "tf0QQkw-I_lX"
      },
      "source": [
        "dataset=pd.read_csv(dataset_path + string)"
      ],
      "execution_count": null,
      "outputs": []
    },
    {
      "cell_type": "code",
      "metadata": {
        "colab": {
          "base_uri": "https://localhost:8080/"
        },
        "id": "v1twplU2E5tV",
        "outputId": "b7f30a7d-3b15-457c-e1cc-8c12ede7d3f4"
      },
      "source": [
        "dataset['year'].unique().tolist()"
      ],
      "execution_count": null,
      "outputs": [
        {
          "output_type": "execute_result",
          "data": {
            "text/plain": [
              "['2019 0:00:00']"
            ]
          },
          "metadata": {
            "tags": []
          },
          "execution_count": 19
        }
      ]
    },
    {
      "cell_type": "code",
      "metadata": {
        "colab": {
          "base_uri": "https://localhost:8080/",
          "height": 357
        },
        "id": "VfUmlSwgCWWG",
        "outputId": "1b978f54-951a-4f62-ce1b-2bd3e9e81302"
      },
      "source": [
        "dataset.head(10)"
      ],
      "execution_count": null,
      "outputs": [
        {
          "output_type": "execute_result",
          "data": {
            "text/html": [
              "<div>\n",
              "<style scoped>\n",
              "    .dataframe tbody tr th:only-of-type {\n",
              "        vertical-align: middle;\n",
              "    }\n",
              "\n",
              "    .dataframe tbody tr th {\n",
              "        vertical-align: top;\n",
              "    }\n",
              "\n",
              "    .dataframe thead th {\n",
              "        text-align: right;\n",
              "    }\n",
              "</style>\n",
              "<table border=\"1\" class=\"dataframe\">\n",
              "  <thead>\n",
              "    <tr style=\"text-align: right;\">\n",
              "      <th></th>\n",
              "      <th>ENG_NAME</th>\n",
              "      <th>REUTERS</th>\n",
              "      <th>SYMBOL_CODE</th>\n",
              "      <th>TRADE_DATE</th>\n",
              "      <th>TRADE_VOLUME</th>\n",
              "      <th>TRADE_VALUE</th>\n",
              "      <th>TRADE_COUNT</th>\n",
              "      <th>OPEN_PRICE</th>\n",
              "      <th>HIGH_PRICE</th>\n",
              "      <th>LOW_PRICE</th>\n",
              "      <th>CLOSE_PRICE</th>\n",
              "    </tr>\n",
              "  </thead>\n",
              "  <tbody>\n",
              "    <tr>\n",
              "      <th>0</th>\n",
              "      <td>AJWA for Food Industries company    Egypt</td>\n",
              "      <td>AJWA.CA</td>\n",
              "      <td>EGS30211C014</td>\n",
              "      <td>01/02/2019 0:00:00</td>\n",
              "      <td>55,150</td>\n",
              "      <td>151,263</td>\n",
              "      <td>22</td>\n",
              "      <td>2.79</td>\n",
              "      <td>2.8</td>\n",
              "      <td>2.72</td>\n",
              "      <td>2.74</td>\n",
              "    </tr>\n",
              "    <tr>\n",
              "      <th>1</th>\n",
              "      <td>AJWA for Food Industries company    Egypt</td>\n",
              "      <td>AJWA.CA</td>\n",
              "      <td>EGS30211C014</td>\n",
              "      <td>01/03/2019 0:00:00</td>\n",
              "      <td>70,720</td>\n",
              "      <td>192,024</td>\n",
              "      <td>27</td>\n",
              "      <td>2.71</td>\n",
              "      <td>2.75</td>\n",
              "      <td>2.7</td>\n",
              "      <td>2.72</td>\n",
              "    </tr>\n",
              "    <tr>\n",
              "      <th>2</th>\n",
              "      <td>AJWA for Food Industries company    Egypt</td>\n",
              "      <td>AJWA.CA</td>\n",
              "      <td>EGS30211C014</td>\n",
              "      <td>01/06/2019 0:00:00</td>\n",
              "      <td>307,559</td>\n",
              "      <td>869,072</td>\n",
              "      <td>105</td>\n",
              "      <td>2.75</td>\n",
              "      <td>2.86</td>\n",
              "      <td>2.75</td>\n",
              "      <td>2.83</td>\n",
              "    </tr>\n",
              "    <tr>\n",
              "      <th>3</th>\n",
              "      <td>AJWA for Food Industries company    Egypt</td>\n",
              "      <td>AJWA.CA</td>\n",
              "      <td>EGS30211C014</td>\n",
              "      <td>01/08/2019 0:00:00</td>\n",
              "      <td>152,871</td>\n",
              "      <td>430,560</td>\n",
              "      <td>56</td>\n",
              "      <td>2.89</td>\n",
              "      <td>2.89</td>\n",
              "      <td>2.78</td>\n",
              "      <td>2.82</td>\n",
              "    </tr>\n",
              "    <tr>\n",
              "      <th>4</th>\n",
              "      <td>AJWA for Food Industries company    Egypt</td>\n",
              "      <td>AJWA.CA</td>\n",
              "      <td>EGS30211C014</td>\n",
              "      <td>01/09/2019 0:00:00</td>\n",
              "      <td>234,405</td>\n",
              "      <td>655,587</td>\n",
              "      <td>47</td>\n",
              "      <td>2.84</td>\n",
              "      <td>2.85</td>\n",
              "      <td>2.72</td>\n",
              "      <td>2.8</td>\n",
              "    </tr>\n",
              "    <tr>\n",
              "      <th>5</th>\n",
              "      <td>AJWA for Food Industries company    Egypt</td>\n",
              "      <td>AJWA.CA</td>\n",
              "      <td>EGS30211C014</td>\n",
              "      <td>01/10/2019 0:00:00</td>\n",
              "      <td>175,351</td>\n",
              "      <td>481,612</td>\n",
              "      <td>25</td>\n",
              "      <td>2.75</td>\n",
              "      <td>2.81</td>\n",
              "      <td>2.74</td>\n",
              "      <td>2.75</td>\n",
              "    </tr>\n",
              "    <tr>\n",
              "      <th>6</th>\n",
              "      <td>AJWA for Food Industries company    Egypt</td>\n",
              "      <td>AJWA.CA</td>\n",
              "      <td>EGS30211C014</td>\n",
              "      <td>01/13/2019 0:00:00</td>\n",
              "      <td>8,999</td>\n",
              "      <td>24,773</td>\n",
              "      <td>11</td>\n",
              "      <td>2.76</td>\n",
              "      <td>2.8</td>\n",
              "      <td>2.74</td>\n",
              "      <td>2.75</td>\n",
              "    </tr>\n",
              "    <tr>\n",
              "      <th>7</th>\n",
              "      <td>AJWA for Food Industries company    Egypt</td>\n",
              "      <td>AJWA.CA</td>\n",
              "      <td>EGS30211C014</td>\n",
              "      <td>01/14/2019 0:00:00</td>\n",
              "      <td>78,863</td>\n",
              "      <td>214,103</td>\n",
              "      <td>27</td>\n",
              "      <td>2.74</td>\n",
              "      <td>2.74</td>\n",
              "      <td>2.7</td>\n",
              "      <td>2.71</td>\n",
              "    </tr>\n",
              "    <tr>\n",
              "      <th>8</th>\n",
              "      <td>AJWA for Food Industries company    Egypt</td>\n",
              "      <td>AJWA.CA</td>\n",
              "      <td>EGS30211C014</td>\n",
              "      <td>01/15/2019 0:00:00</td>\n",
              "      <td>37,157</td>\n",
              "      <td>101,824</td>\n",
              "      <td>21</td>\n",
              "      <td>2.75</td>\n",
              "      <td>2.75</td>\n",
              "      <td>2.72</td>\n",
              "      <td>2.74</td>\n",
              "    </tr>\n",
              "    <tr>\n",
              "      <th>9</th>\n",
              "      <td>AJWA for Food Industries company    Egypt</td>\n",
              "      <td>AJWA.CA</td>\n",
              "      <td>EGS30211C014</td>\n",
              "      <td>01/16/2019 0:00:00</td>\n",
              "      <td>103,778</td>\n",
              "      <td>281,244</td>\n",
              "      <td>42</td>\n",
              "      <td>2.75</td>\n",
              "      <td>2.75</td>\n",
              "      <td>2.7</td>\n",
              "      <td>2.71</td>\n",
              "    </tr>\n",
              "  </tbody>\n",
              "</table>\n",
              "</div>"
            ],
            "text/plain": [
              "                                    ENG_NAME  REUTERS  ... LOW_PRICE CLOSE_PRICE\n",
              "0  AJWA for Food Industries company    Egypt  AJWA.CA  ...      2.72        2.74\n",
              "1  AJWA for Food Industries company    Egypt  AJWA.CA  ...       2.7        2.72\n",
              "2  AJWA for Food Industries company    Egypt  AJWA.CA  ...      2.75        2.83\n",
              "3  AJWA for Food Industries company    Egypt  AJWA.CA  ...      2.78        2.82\n",
              "4  AJWA for Food Industries company    Egypt  AJWA.CA  ...      2.72         2.8\n",
              "5  AJWA for Food Industries company    Egypt  AJWA.CA  ...      2.74        2.75\n",
              "6  AJWA for Food Industries company    Egypt  AJWA.CA  ...      2.74        2.75\n",
              "7  AJWA for Food Industries company    Egypt  AJWA.CA  ...       2.7        2.71\n",
              "8  AJWA for Food Industries company    Egypt  AJWA.CA  ...      2.72        2.74\n",
              "9  AJWA for Food Industries company    Egypt  AJWA.CA  ...       2.7        2.71\n",
              "\n",
              "[10 rows x 11 columns]"
            ]
          },
          "metadata": {
            "tags": []
          },
          "execution_count": 10
        }
      ]
    },
    {
      "cell_type": "code",
      "metadata": {
        "id": "jRFG4HozCdhM"
      },
      "source": [
        "dataset[[\"day\", \"month\", \"year\"]] = dataset[\"TRADE_DATE\"].str.split(\"/\", expand = True)"
      ],
      "execution_count": null,
      "outputs": []
    },
    {
      "cell_type": "code",
      "metadata": {
        "id": "d25c1sgOTjsR"
      },
      "source": [
        "dataset = dataset[dataset.year != 2011]\n",
        "dataset = dataset[dataset.year != 2012]"
      ],
      "execution_count": null,
      "outputs": []
    },
    {
      "cell_type": "code",
      "metadata": {
        "colab": {
          "base_uri": "https://localhost:8080/",
          "height": 525
        },
        "id": "vW3h2WYxJEcg",
        "outputId": "8c8d9566-6912-4bf6-e7bb-e315e7b50c48"
      },
      "source": [
        "dataset.head(10)\n"
      ],
      "execution_count": null,
      "outputs": [
        {
          "output_type": "execute_result",
          "data": {
            "text/html": [
              "<div>\n",
              "<style scoped>\n",
              "    .dataframe tbody tr th:only-of-type {\n",
              "        vertical-align: middle;\n",
              "    }\n",
              "\n",
              "    .dataframe tbody tr th {\n",
              "        vertical-align: top;\n",
              "    }\n",
              "\n",
              "    .dataframe thead th {\n",
              "        text-align: right;\n",
              "    }\n",
              "</style>\n",
              "<table border=\"1\" class=\"dataframe\">\n",
              "  <thead>\n",
              "    <tr style=\"text-align: right;\">\n",
              "      <th></th>\n",
              "      <th>ENG_NAME</th>\n",
              "      <th>REUTERS</th>\n",
              "      <th>SYMBOL_CODE</th>\n",
              "      <th>TRADE_DATE</th>\n",
              "      <th>TRADE_VOLUME</th>\n",
              "      <th>TRADE_VALUE</th>\n",
              "      <th>TRADE_COUNT</th>\n",
              "      <th>OPEN_PRICE</th>\n",
              "      <th>HIGH_PRICE</th>\n",
              "      <th>LOW_PRICE</th>\n",
              "      <th>CLOSE_PRICE</th>\n",
              "      <th>day</th>\n",
              "      <th>month</th>\n",
              "      <th>year</th>\n",
              "    </tr>\n",
              "  </thead>\n",
              "  <tbody>\n",
              "    <tr>\n",
              "      <th>0</th>\n",
              "      <td>AJWA for Food Industries company    Egypt</td>\n",
              "      <td>AJWA.CA</td>\n",
              "      <td>EGS30211C014</td>\n",
              "      <td>01/02/2019 0:00:00</td>\n",
              "      <td>55,150</td>\n",
              "      <td>151,263</td>\n",
              "      <td>22</td>\n",
              "      <td>2.79</td>\n",
              "      <td>2.8</td>\n",
              "      <td>2.72</td>\n",
              "      <td>2.74</td>\n",
              "      <td>01</td>\n",
              "      <td>02</td>\n",
              "      <td>2019 0:00:00</td>\n",
              "    </tr>\n",
              "    <tr>\n",
              "      <th>1</th>\n",
              "      <td>AJWA for Food Industries company    Egypt</td>\n",
              "      <td>AJWA.CA</td>\n",
              "      <td>EGS30211C014</td>\n",
              "      <td>01/03/2019 0:00:00</td>\n",
              "      <td>70,720</td>\n",
              "      <td>192,024</td>\n",
              "      <td>27</td>\n",
              "      <td>2.71</td>\n",
              "      <td>2.75</td>\n",
              "      <td>2.7</td>\n",
              "      <td>2.72</td>\n",
              "      <td>01</td>\n",
              "      <td>03</td>\n",
              "      <td>2019 0:00:00</td>\n",
              "    </tr>\n",
              "    <tr>\n",
              "      <th>2</th>\n",
              "      <td>AJWA for Food Industries company    Egypt</td>\n",
              "      <td>AJWA.CA</td>\n",
              "      <td>EGS30211C014</td>\n",
              "      <td>01/06/2019 0:00:00</td>\n",
              "      <td>307,559</td>\n",
              "      <td>869,072</td>\n",
              "      <td>105</td>\n",
              "      <td>2.75</td>\n",
              "      <td>2.86</td>\n",
              "      <td>2.75</td>\n",
              "      <td>2.83</td>\n",
              "      <td>01</td>\n",
              "      <td>06</td>\n",
              "      <td>2019 0:00:00</td>\n",
              "    </tr>\n",
              "    <tr>\n",
              "      <th>3</th>\n",
              "      <td>AJWA for Food Industries company    Egypt</td>\n",
              "      <td>AJWA.CA</td>\n",
              "      <td>EGS30211C014</td>\n",
              "      <td>01/08/2019 0:00:00</td>\n",
              "      <td>152,871</td>\n",
              "      <td>430,560</td>\n",
              "      <td>56</td>\n",
              "      <td>2.89</td>\n",
              "      <td>2.89</td>\n",
              "      <td>2.78</td>\n",
              "      <td>2.82</td>\n",
              "      <td>01</td>\n",
              "      <td>08</td>\n",
              "      <td>2019 0:00:00</td>\n",
              "    </tr>\n",
              "    <tr>\n",
              "      <th>4</th>\n",
              "      <td>AJWA for Food Industries company    Egypt</td>\n",
              "      <td>AJWA.CA</td>\n",
              "      <td>EGS30211C014</td>\n",
              "      <td>01/09/2019 0:00:00</td>\n",
              "      <td>234,405</td>\n",
              "      <td>655,587</td>\n",
              "      <td>47</td>\n",
              "      <td>2.84</td>\n",
              "      <td>2.85</td>\n",
              "      <td>2.72</td>\n",
              "      <td>2.8</td>\n",
              "      <td>01</td>\n",
              "      <td>09</td>\n",
              "      <td>2019 0:00:00</td>\n",
              "    </tr>\n",
              "    <tr>\n",
              "      <th>5</th>\n",
              "      <td>AJWA for Food Industries company    Egypt</td>\n",
              "      <td>AJWA.CA</td>\n",
              "      <td>EGS30211C014</td>\n",
              "      <td>01/10/2019 0:00:00</td>\n",
              "      <td>175,351</td>\n",
              "      <td>481,612</td>\n",
              "      <td>25</td>\n",
              "      <td>2.75</td>\n",
              "      <td>2.81</td>\n",
              "      <td>2.74</td>\n",
              "      <td>2.75</td>\n",
              "      <td>01</td>\n",
              "      <td>10</td>\n",
              "      <td>2019 0:00:00</td>\n",
              "    </tr>\n",
              "    <tr>\n",
              "      <th>6</th>\n",
              "      <td>AJWA for Food Industries company    Egypt</td>\n",
              "      <td>AJWA.CA</td>\n",
              "      <td>EGS30211C014</td>\n",
              "      <td>01/13/2019 0:00:00</td>\n",
              "      <td>8,999</td>\n",
              "      <td>24,773</td>\n",
              "      <td>11</td>\n",
              "      <td>2.76</td>\n",
              "      <td>2.8</td>\n",
              "      <td>2.74</td>\n",
              "      <td>2.75</td>\n",
              "      <td>01</td>\n",
              "      <td>13</td>\n",
              "      <td>2019 0:00:00</td>\n",
              "    </tr>\n",
              "    <tr>\n",
              "      <th>7</th>\n",
              "      <td>AJWA for Food Industries company    Egypt</td>\n",
              "      <td>AJWA.CA</td>\n",
              "      <td>EGS30211C014</td>\n",
              "      <td>01/14/2019 0:00:00</td>\n",
              "      <td>78,863</td>\n",
              "      <td>214,103</td>\n",
              "      <td>27</td>\n",
              "      <td>2.74</td>\n",
              "      <td>2.74</td>\n",
              "      <td>2.7</td>\n",
              "      <td>2.71</td>\n",
              "      <td>01</td>\n",
              "      <td>14</td>\n",
              "      <td>2019 0:00:00</td>\n",
              "    </tr>\n",
              "    <tr>\n",
              "      <th>8</th>\n",
              "      <td>AJWA for Food Industries company    Egypt</td>\n",
              "      <td>AJWA.CA</td>\n",
              "      <td>EGS30211C014</td>\n",
              "      <td>01/15/2019 0:00:00</td>\n",
              "      <td>37,157</td>\n",
              "      <td>101,824</td>\n",
              "      <td>21</td>\n",
              "      <td>2.75</td>\n",
              "      <td>2.75</td>\n",
              "      <td>2.72</td>\n",
              "      <td>2.74</td>\n",
              "      <td>01</td>\n",
              "      <td>15</td>\n",
              "      <td>2019 0:00:00</td>\n",
              "    </tr>\n",
              "    <tr>\n",
              "      <th>9</th>\n",
              "      <td>AJWA for Food Industries company    Egypt</td>\n",
              "      <td>AJWA.CA</td>\n",
              "      <td>EGS30211C014</td>\n",
              "      <td>01/16/2019 0:00:00</td>\n",
              "      <td>103,778</td>\n",
              "      <td>281,244</td>\n",
              "      <td>42</td>\n",
              "      <td>2.75</td>\n",
              "      <td>2.75</td>\n",
              "      <td>2.7</td>\n",
              "      <td>2.71</td>\n",
              "      <td>01</td>\n",
              "      <td>16</td>\n",
              "      <td>2019 0:00:00</td>\n",
              "    </tr>\n",
              "  </tbody>\n",
              "</table>\n",
              "</div>"
            ],
            "text/plain": [
              "                                    ENG_NAME  REUTERS  ... month          year\n",
              "0  AJWA for Food Industries company    Egypt  AJWA.CA  ...    02  2019 0:00:00\n",
              "1  AJWA for Food Industries company    Egypt  AJWA.CA  ...    03  2019 0:00:00\n",
              "2  AJWA for Food Industries company    Egypt  AJWA.CA  ...    06  2019 0:00:00\n",
              "3  AJWA for Food Industries company    Egypt  AJWA.CA  ...    08  2019 0:00:00\n",
              "4  AJWA for Food Industries company    Egypt  AJWA.CA  ...    09  2019 0:00:00\n",
              "5  AJWA for Food Industries company    Egypt  AJWA.CA  ...    10  2019 0:00:00\n",
              "6  AJWA for Food Industries company    Egypt  AJWA.CA  ...    13  2019 0:00:00\n",
              "7  AJWA for Food Industries company    Egypt  AJWA.CA  ...    14  2019 0:00:00\n",
              "8  AJWA for Food Industries company    Egypt  AJWA.CA  ...    15  2019 0:00:00\n",
              "9  AJWA for Food Industries company    Egypt  AJWA.CA  ...    16  2019 0:00:00\n",
              "\n",
              "[10 rows x 14 columns]"
            ]
          },
          "metadata": {
            "tags": []
          },
          "execution_count": 13
        }
      ]
    },
    {
      "cell_type": "code",
      "metadata": {
        "colab": {
          "base_uri": "https://localhost:8080/"
        },
        "id": "X5zwk-MzEZb8",
        "outputId": "709199f1-f476-4b64-b60c-feb3e81312ae"
      },
      "source": [
        "dataset.shape"
      ],
      "execution_count": null,
      "outputs": [
        {
          "output_type": "execute_result",
          "data": {
            "text/plain": [
              "(42992, 14)"
            ]
          },
          "metadata": {
            "tags": []
          },
          "execution_count": 14
        }
      ]
    },
    {
      "cell_type": "code",
      "metadata": {
        "colab": {
          "base_uri": "https://localhost:8080/"
        },
        "id": "ptYEjJxlEkBp",
        "outputId": "057fc5e8-bad6-4131-9301-9c14d3ea8c39"
      },
      "source": [
        "dataset['year'].unique().tolist()"
      ],
      "execution_count": null,
      "outputs": [
        {
          "output_type": "execute_result",
          "data": {
            "text/plain": [
              "['2019 0:00:00']"
            ]
          },
          "metadata": {
            "tags": []
          },
          "execution_count": 15
        }
      ]
    },
    {
      "cell_type": "code",
      "metadata": {
        "colab": {
          "base_uri": "https://localhost:8080/"
        },
        "id": "66MkEdyYJnqJ",
        "outputId": "b1c510cb-9731-4154-92d9-fd9f98f885bd"
      },
      "source": [
        "dataset.shape"
      ],
      "execution_count": null,
      "outputs": [
        {
          "output_type": "execute_result",
          "data": {
            "text/plain": [
              "(89638, 14)"
            ]
          },
          "metadata": {
            "tags": []
          },
          "execution_count": 9
        }
      ]
    },
    {
      "cell_type": "code",
      "metadata": {
        "colab": {
          "base_uri": "https://localhost:8080/"
        },
        "id": "PHMkyvdtJqnk",
        "outputId": "6dadaa41-760e-44c2-bf71-ed6f9faf98b3"
      },
      "source": [
        "dataset.isna().sum()"
      ],
      "execution_count": null,
      "outputs": [
        {
          "output_type": "execute_result",
          "data": {
            "text/plain": [
              "ENG_NAME        0\n",
              "REUTERS         0\n",
              "SYMBOL_CODE     0\n",
              "TRADE_DATE      0\n",
              "TRADE_VOLUME    0\n",
              "TRADE_VALUE     0\n",
              "TRADE_COUNT     0\n",
              "OPEN_PRICE      0\n",
              "HIGH_PRICE      0\n",
              "LOW_PRICE       0\n",
              "CLOSE_PRICE     0\n",
              "day             0\n",
              "month           0\n",
              "year            0\n",
              "dtype: int64"
            ]
          },
          "metadata": {
            "tags": []
          },
          "execution_count": 23
        }
      ]
    },
    {
      "cell_type": "code",
      "metadata": {
        "id": "au0fFiZxFJ6R"
      },
      "source": [
        "dataset=dataset.dropna()"
      ],
      "execution_count": null,
      "outputs": []
    },
    {
      "cell_type": "code",
      "metadata": {
        "colab": {
          "base_uri": "https://localhost:8080/"
        },
        "id": "Dy2wVlglJvaH",
        "outputId": "91d648e8-a6dc-4f1d-d3ed-176b179bf3c3"
      },
      "source": [
        "dataset.info()"
      ],
      "execution_count": null,
      "outputs": [
        {
          "output_type": "stream",
          "text": [
            "<class 'pandas.core.frame.DataFrame'>\n",
            "Int64Index: 42814 entries, 0 to 42991\n",
            "Data columns (total 14 columns):\n",
            " #   Column        Non-Null Count  Dtype \n",
            "---  ------        --------------  ----- \n",
            " 0   ENG_NAME      42814 non-null  object\n",
            " 1   REUTERS       42814 non-null  object\n",
            " 2   SYMBOL_CODE   42814 non-null  object\n",
            " 3   TRADE_DATE    42814 non-null  object\n",
            " 4   TRADE_VOLUME  42814 non-null  object\n",
            " 5   TRADE_VALUE   42814 non-null  object\n",
            " 6   TRADE_COUNT   42814 non-null  object\n",
            " 7   OPEN_PRICE    42814 non-null  object\n",
            " 8   HIGH_PRICE    42814 non-null  object\n",
            " 9   LOW_PRICE     42814 non-null  object\n",
            " 10  CLOSE_PRICE   42814 non-null  object\n",
            " 11  day           42814 non-null  object\n",
            " 12  month         42814 non-null  object\n",
            " 13  year          42814 non-null  object\n",
            "dtypes: object(14)\n",
            "memory usage: 4.9+ MB\n"
          ],
          "name": "stdout"
        }
      ]
    },
    {
      "cell_type": "code",
      "metadata": {
        "colab": {
          "base_uri": "https://localhost:8080/"
        },
        "id": "Fj1Ynh0sLADi",
        "outputId": "cdd3a44f-8446-4eee-a840-6504bece152c"
      },
      "source": [
        "VAL=['TRADE_VALUE','TRADE_VOLUME','TRADE_COUNT','OPEN_PRICE','HIGH_PRICE','LOW_PRICE','CLOSE_PRICE']\n",
        "for i in VAL:\n",
        "  print(dataset[i])\n",
        "  dataset[i] =dataset[i].astype(str).str.replace(\",\", \"\").astype(float)"
      ],
      "execution_count": null,
      "outputs": [
        {
          "output_type": "stream",
          "text": [
            "0        151,263\n",
            "1        192,024\n",
            "2        869,072\n",
            "3        430,560\n",
            "4        655,587\n",
            "          ...   \n",
            "42987      6,660\n",
            "42988      2,220\n",
            "42989     33,417\n",
            "42990      2,243\n",
            "42991      5,164\n",
            "Name: TRADE_VALUE, Length: 42814, dtype: object\n",
            "0         55,150\n",
            "1         70,720\n",
            "2        307,559\n",
            "3        152,871\n",
            "4        234,405\n",
            "          ...   \n",
            "42987        900\n",
            "42988        300\n",
            "42989      4,489\n",
            "42990        299\n",
            "42991        699\n",
            "Name: TRADE_VOLUME, Length: 42814, dtype: object\n",
            "0         22\n",
            "1         27\n",
            "2        105\n",
            "3         56\n",
            "4         47\n",
            "        ... \n",
            "42987      1\n",
            "42988      1\n",
            "42989      6\n",
            "42990      1\n",
            "42991      4\n",
            "Name: TRADE_COUNT, Length: 42814, dtype: object\n",
            "0        2.79\n",
            "1        2.71\n",
            "2        2.75\n",
            "3        2.89\n",
            "4        2.84\n",
            "         ... \n",
            "42987     7.4\n",
            "42988     7.4\n",
            "42989     7.5\n",
            "42990     7.5\n",
            "42991     7.5\n",
            "Name: OPEN_PRICE, Length: 42814, dtype: object\n",
            "0         2.8\n",
            "1        2.75\n",
            "2        2.86\n",
            "3        2.89\n",
            "4        2.85\n",
            "         ... \n",
            "42987     7.4\n",
            "42988     7.4\n",
            "42989     7.5\n",
            "42990     7.5\n",
            "42991     7.5\n",
            "Name: HIGH_PRICE, Length: 42814, dtype: object\n"
          ],
          "name": "stdout"
        },
        {
          "output_type": "stream",
          "text": [
            "/usr/local/lib/python3.7/dist-packages/ipykernel_launcher.py:4: SettingWithCopyWarning: \n",
            "A value is trying to be set on a copy of a slice from a DataFrame.\n",
            "Try using .loc[row_indexer,col_indexer] = value instead\n",
            "\n",
            "See the caveats in the documentation: https://pandas.pydata.org/pandas-docs/stable/user_guide/indexing.html#returning-a-view-versus-a-copy\n",
            "  after removing the cwd from sys.path.\n"
          ],
          "name": "stderr"
        },
        {
          "output_type": "stream",
          "text": [
            "0        2.72\n",
            "1         2.7\n",
            "2        2.75\n",
            "3        2.78\n",
            "4        2.72\n",
            "         ... \n",
            "42987     7.4\n",
            "42988     7.4\n",
            "42989    7.24\n",
            "42990     7.5\n",
            "42991    7.22\n",
            "Name: LOW_PRICE, Length: 42814, dtype: object\n",
            "0        2.74\n",
            "1        2.72\n",
            "2        2.83\n",
            "3        2.82\n",
            "4         2.8\n",
            "         ... \n",
            "42987    7.37\n",
            "42988    7.37\n",
            "42989    7.44\n",
            "42990    7.44\n",
            "42991    7.44\n",
            "Name: CLOSE_PRICE, Length: 42814, dtype: object\n"
          ],
          "name": "stdout"
        }
      ]
    },
    {
      "cell_type": "code",
      "metadata": {
        "colab": {
          "base_uri": "https://localhost:8080/"
        },
        "id": "UKFHk-0yyfi6",
        "outputId": "ab9b99cf-6e8e-4fd7-ede5-b4bdb7b32eb5"
      },
      "source": [
        "dataset.info()"
      ],
      "execution_count": null,
      "outputs": [
        {
          "output_type": "stream",
          "text": [
            "<class 'pandas.core.frame.DataFrame'>\n",
            "RangeIndex: 154632 entries, 0 to 154631\n",
            "Data columns (total 14 columns):\n",
            " #   Column        Non-Null Count   Dtype  \n",
            "---  ------        --------------   -----  \n",
            " 0   SYMBOL_CODE   154632 non-null  object \n",
            " 1   ENG_NAME      154632 non-null  object \n",
            " 2   REUTERS       154632 non-null  object \n",
            " 3   TRADE_DATE    154632 non-null  object \n",
            " 4   TRADE_VALUE   154632 non-null  float64\n",
            " 5   TRADE_VOLUME  154632 non-null  float64\n",
            " 6   TRADE_COUNT   154632 non-null  float64\n",
            " 7   OPEN_PRICE    154632 non-null  float64\n",
            " 8   HIGH_PRICE    154632 non-null  float64\n",
            " 9   LOW_PRICE     154632 non-null  float64\n",
            " 10  CLOSE_PRICE   154632 non-null  float64\n",
            " 11  day           154632 non-null  int64  \n",
            " 12  month         154632 non-null  int64  \n",
            " 13  year          154632 non-null  int64  \n",
            "dtypes: float64(7), int64(3), object(4)\n",
            "memory usage: 16.5+ MB\n"
          ],
          "name": "stdout"
        }
      ]
    },
    {
      "cell_type": "code",
      "metadata": {
        "colab": {
          "base_uri": "https://localhost:8080/",
          "height": 295
        },
        "id": "tDcP2nxKykTP",
        "outputId": "e1fd45c7-067a-4a5f-d44a-1f1abfdbe521"
      },
      "source": [
        "dataset.describe()"
      ],
      "execution_count": null,
      "outputs": [
        {
          "output_type": "execute_result",
          "data": {
            "text/html": [
              "<div>\n",
              "<style scoped>\n",
              "    .dataframe tbody tr th:only-of-type {\n",
              "        vertical-align: middle;\n",
              "    }\n",
              "\n",
              "    .dataframe tbody tr th {\n",
              "        vertical-align: top;\n",
              "    }\n",
              "\n",
              "    .dataframe thead th {\n",
              "        text-align: right;\n",
              "    }\n",
              "</style>\n",
              "<table border=\"1\" class=\"dataframe\">\n",
              "  <thead>\n",
              "    <tr style=\"text-align: right;\">\n",
              "      <th></th>\n",
              "      <th>TRADE_VOLUME</th>\n",
              "      <th>TRADE_VALUE</th>\n",
              "      <th>TRADE_COUNT</th>\n",
              "      <th>OPEN_PRICE</th>\n",
              "      <th>HIGH_PRICE</th>\n",
              "      <th>LOW_PRICE</th>\n",
              "      <th>CLOSE_PRICE</th>\n",
              "    </tr>\n",
              "  </thead>\n",
              "  <tbody>\n",
              "    <tr>\n",
              "      <th>count</th>\n",
              "      <td>4.281400e+04</td>\n",
              "      <td>4.281400e+04</td>\n",
              "      <td>42814.000000</td>\n",
              "      <td>42814.000000</td>\n",
              "      <td>42814.000000</td>\n",
              "      <td>42814.000000</td>\n",
              "      <td>42814.000000</td>\n",
              "    </tr>\n",
              "    <tr>\n",
              "      <th>mean</th>\n",
              "      <td>8.873552e+05</td>\n",
              "      <td>3.845193e+06</td>\n",
              "      <td>110.196781</td>\n",
              "      <td>16.497696</td>\n",
              "      <td>16.693858</td>\n",
              "      <td>16.285717</td>\n",
              "      <td>16.542440</td>\n",
              "    </tr>\n",
              "    <tr>\n",
              "      <th>std</th>\n",
              "      <td>4.794770e+06</td>\n",
              "      <td>1.442788e+07</td>\n",
              "      <td>218.411760</td>\n",
              "      <td>59.383988</td>\n",
              "      <td>59.854905</td>\n",
              "      <td>58.727181</td>\n",
              "      <td>59.499642</td>\n",
              "    </tr>\n",
              "    <tr>\n",
              "      <th>min</th>\n",
              "      <td>1.000000e+00</td>\n",
              "      <td>1.000000e+00</td>\n",
              "      <td>1.000000</td>\n",
              "      <td>0.040000</td>\n",
              "      <td>0.040000</td>\n",
              "      <td>0.040000</td>\n",
              "      <td>0.040000</td>\n",
              "    </tr>\n",
              "    <tr>\n",
              "      <th>25%</th>\n",
              "      <td>6.044000e+03</td>\n",
              "      <td>4.110000e+04</td>\n",
              "      <td>7.000000</td>\n",
              "      <td>2.430000</td>\n",
              "      <td>2.480000</td>\n",
              "      <td>2.390000</td>\n",
              "      <td>2.440000</td>\n",
              "    </tr>\n",
              "    <tr>\n",
              "      <th>50%</th>\n",
              "      <td>5.300000e+04</td>\n",
              "      <td>2.843435e+05</td>\n",
              "      <td>29.000000</td>\n",
              "      <td>6.370000</td>\n",
              "      <td>6.480000</td>\n",
              "      <td>6.260000</td>\n",
              "      <td>6.380000</td>\n",
              "    </tr>\n",
              "    <tr>\n",
              "      <th>75%</th>\n",
              "      <td>3.623008e+05</td>\n",
              "      <td>1.846842e+06</td>\n",
              "      <td>109.000000</td>\n",
              "      <td>12.870000</td>\n",
              "      <td>13.000000</td>\n",
              "      <td>12.630000</td>\n",
              "      <td>12.900000</td>\n",
              "    </tr>\n",
              "    <tr>\n",
              "      <th>max</th>\n",
              "      <td>2.585676e+08</td>\n",
              "      <td>7.092578e+08</td>\n",
              "      <td>5677.000000</td>\n",
              "      <td>1009.780000</td>\n",
              "      <td>1030.000000</td>\n",
              "      <td>1009.780000</td>\n",
              "      <td>1009.780000</td>\n",
              "    </tr>\n",
              "  </tbody>\n",
              "</table>\n",
              "</div>"
            ],
            "text/plain": [
              "       TRADE_VOLUME   TRADE_VALUE  ...     LOW_PRICE   CLOSE_PRICE\n",
              "count  4.281400e+04  4.281400e+04  ...  42814.000000  42814.000000\n",
              "mean   8.873552e+05  3.845193e+06  ...     16.285717     16.542440\n",
              "std    4.794770e+06  1.442788e+07  ...     58.727181     59.499642\n",
              "min    1.000000e+00  1.000000e+00  ...      0.040000      0.040000\n",
              "25%    6.044000e+03  4.110000e+04  ...      2.390000      2.440000\n",
              "50%    5.300000e+04  2.843435e+05  ...      6.260000      6.380000\n",
              "75%    3.623008e+05  1.846842e+06  ...     12.630000     12.900000\n",
              "max    2.585676e+08  7.092578e+08  ...   1009.780000   1009.780000\n",
              "\n",
              "[8 rows x 7 columns]"
            ]
          },
          "metadata": {
            "tags": []
          },
          "execution_count": 26
        }
      ]
    },
    {
      "cell_type": "code",
      "metadata": {
        "colab": {
          "base_uri": "https://localhost:8080/",
          "height": 676
        },
        "id": "QgSIG7HyWI1d",
        "outputId": "5c381411-abed-4f12-d0a1-67f982bc298e"
      },
      "source": [
        "import seaborn as sns\n",
        "sns.set(rc={'figure.figsize':(15.7,11.27)})\n",
        "cols=[\"SYMBOL_CODE\",\"ENG_NAME\",\"REUTERS\",\"TRADE_DATE\",\"TRADE_VALUE\",\"TRADE_VOLUME\",\"TRADE_COUNT\",\"OPEN_PRICE\",\"HIGH_PRICE\",\"LOW_PRICE\",\"CLOSE_PRICE\"]\n",
        "\n",
        "selected_columns = dataset[[\"TRADE_VALUE\",\"TRADE_VOLUME\",\"TRADE_DATE\",\"TRADE_COUNT\",\"OPEN_PRICE\",\"HIGH_PRICE\",\"LOW_PRICE\",\"CLOSE_PRICE\"]]\n",
        "new_df = selected_columns.copy()\n",
        "box_dataset=new_df\n",
        "ax = sns.boxplot(data=box_dataset, orient=\"h\", palette=\"Set2\")"
      ],
      "execution_count": null,
      "outputs": [
        {
          "output_type": "display_data",
          "data": {
            "image/png": "[encoded data removed]",
            "text/plain": [
              "<Figure size 1130.4x811.44 with 1 Axes>"
            ]
          },
          "metadata": {
            "tags": []
          }
        }
      ]
    },
    {
      "cell_type": "code",
      "metadata": {
        "colab": {
          "base_uri": "https://localhost:8080/"
        },
        "id": "DhhFDIH7Yvg8",
        "outputId": "f5b6d26c-9141-4197-edb5-3cd18d182955"
      },
      "source": [
        "print(dataset['ENG_NAME'].value_counts())\n"
      ],
      "execution_count": null,
      "outputs": [
        {
          "output_type": "stream",
          "text": [
            "Dice Sport & Casual Wear                                      237\n",
            "Citadel Capital - Common Shares                               237\n",
            "South Valley Cement                                           237\n",
            "Cairo Oils & Soap                                             237\n",
            "Orascom Development Egypt                                     237\n",
            "                                                             ... \n",
            "El Taamir Securitization The Seconed Issue Tran A Jan 2020      1\n",
            "El Taamir Securitization The Seconed Issue Tran C Jul 2020      1\n",
            "El Taamir Securitization The Seconed Issue Tran H Jul 2024      1\n",
            "El Taamir Securitization The Seconed Issue Tran B Apr 2020      1\n",
            "El Taamir Securitization The Seconed Issue Tran D Jul 2022      1\n",
            "Name: ENG_NAME, Length: 251, dtype: int64\n"
          ],
          "name": "stdout"
        }
      ]
    },
    {
      "cell_type": "code",
      "metadata": {
        "colab": {
          "base_uri": "https://localhost:8080/"
        },
        "id": "pbqHJLmPY2lU",
        "outputId": "d0549406-7db8-42ea-b4b1-28f6c1fe8f6c"
      },
      "source": [
        "print(dataset['REUTERS'].value_counts())"
      ],
      "execution_count": null,
      "outputs": [
        {
          "output_type": "stream",
          "text": [
            "AMOC.CA         237\n",
            "EXPA.CA         237\n",
            "ABUK.CA         237\n",
            "MFPC.CA         237\n",
            "UASG.CA         237\n",
            "               ... \n",
            "EGETSC02A=CA      1\n",
            "EGETSC02C=CA      1\n",
            "EGETSC02H=CA      1\n",
            "EGETSC02D=CA      1\n",
            "EGETSC02B=CA      1\n",
            "Name: REUTERS, Length: 251, dtype: int64\n"
          ],
          "name": "stdout"
        }
      ]
    },
    {
      "cell_type": "code",
      "metadata": {
        "colab": {
          "base_uri": "https://localhost:8080/",
          "height": 803
        },
        "id": "H57usbO4X7xU",
        "outputId": "e6ce2239-e7a1-4779-a1bd-a70095333bfd"
      },
      "source": [
        "pd.crosstab(dataset['ENG_NAME'],dataset['REUTERS'])"
      ],
      "execution_count": null,
      "outputs": [
        {
          "output_type": "execute_result",
          "data": {
            "text/html": [
              "<div>\n",
              "<style scoped>\n",
              "    .dataframe tbody tr th:only-of-type {\n",
              "        vertical-align: middle;\n",
              "    }\n",
              "\n",
              "    .dataframe tbody tr th {\n",
              "        vertical-align: top;\n",
              "    }\n",
              "\n",
              "    .dataframe thead th {\n",
              "        text-align: right;\n",
              "    }\n",
              "</style>\n",
              "<table border=\"1\" class=\"dataframe\">\n",
              "  <thead>\n",
              "    <tr style=\"text-align: right;\">\n",
              "      <th>REUTERS</th>\n",
              "      <th>AALR.CA</th>\n",
              "      <th>ABUK.CA</th>\n",
              "      <th>ACAMD.CA</th>\n",
              "      <th>ACGC.CA</th>\n",
              "      <th>ACRO.CA</th>\n",
              "      <th>ADCI.CA</th>\n",
              "      <th>ADIB.CA</th>\n",
              "      <th>ADPC.CA</th>\n",
              "      <th>ADRI.CA</th>\n",
              "      <th>AFDI.CA</th>\n",
              "      <th>AFMC.CA</th>\n",
              "      <th>AGIN.CA</th>\n",
              "      <th>AIFI.CA</th>\n",
              "      <th>AIH.CA</th>\n",
              "      <th>AITG.CA</th>\n",
              "      <th>AIVC.CA</th>\n",
              "      <th>AIVCB.CA</th>\n",
              "      <th>AJWA.CA</th>\n",
              "      <th>ALCN.CA</th>\n",
              "      <th>ALEX.CA</th>\n",
              "      <th>ALUM.CA</th>\n",
              "      <th>AMER.CA</th>\n",
              "      <th>AMES.CA</th>\n",
              "      <th>AMIA.CA</th>\n",
              "      <th>AMOC.CA</th>\n",
              "      <th>AMPI.CA</th>\n",
              "      <th>ANFI.CA</th>\n",
              "      <th>APSW.CA</th>\n",
              "      <th>ARCC.CA</th>\n",
              "      <th>AREH.CA</th>\n",
              "      <th>ARPI.CA</th>\n",
              "      <th>ARVA.CA</th>\n",
              "      <th>ASCM.CA</th>\n",
              "      <th>ASHC.CA</th>\n",
              "      <th>ATLC.CA</th>\n",
              "      <th>ATQA.CA</th>\n",
              "      <th>AUTO.CA</th>\n",
              "      <th>AXPH.CA</th>\n",
              "      <th>BIGP.CA</th>\n",
              "      <th>BINV.CA</th>\n",
              "      <th>...</th>\n",
              "      <th>RTVC.CA</th>\n",
              "      <th>RUBX.CA</th>\n",
              "      <th>SAIB.CA</th>\n",
              "      <th>SAUD.CA</th>\n",
              "      <th>SBAG.CA</th>\n",
              "      <th>SCEM.CA</th>\n",
              "      <th>SCFM.CA</th>\n",
              "      <th>SCTS.CA</th>\n",
              "      <th>SDTI.CA</th>\n",
              "      <th>SEIG.CA</th>\n",
              "      <th>SIPC.CA</th>\n",
              "      <th>SKPC.CA</th>\n",
              "      <th>SMFR.CA</th>\n",
              "      <th>SMPP.CA</th>\n",
              "      <th>SNFC.CA</th>\n",
              "      <th>SPHT.CA</th>\n",
              "      <th>SPIN.CA</th>\n",
              "      <th>SPMD.CA</th>\n",
              "      <th>SRWA.CA</th>\n",
              "      <th>SUCE.CA</th>\n",
              "      <th>SUGR.CA</th>\n",
              "      <th>SVCE.CA</th>\n",
              "      <th>SWDY.CA</th>\n",
              "      <th>TMGH.CA</th>\n",
              "      <th>TORA.CA</th>\n",
              "      <th>TRTO.CA</th>\n",
              "      <th>UASG.CA</th>\n",
              "      <th>UEFM.CA</th>\n",
              "      <th>UEGC.CA</th>\n",
              "      <th>UNFO.CA</th>\n",
              "      <th>UNIP.CA</th>\n",
              "      <th>UNIT.CA</th>\n",
              "      <th>UPMS.CA</th>\n",
              "      <th>UTOP.CA</th>\n",
              "      <th>VERT.CA</th>\n",
              "      <th>WATP.CA</th>\n",
              "      <th>WCDF.CA</th>\n",
              "      <th>WKOL.CA</th>\n",
              "      <th>ZEOT.CA</th>\n",
              "      <th>ZMID.CA</th>\n",
              "    </tr>\n",
              "    <tr>\n",
              "      <th>ENG_NAME</th>\n",
              "      <th></th>\n",
              "      <th></th>\n",
              "      <th></th>\n",
              "      <th></th>\n",
              "      <th></th>\n",
              "      <th></th>\n",
              "      <th></th>\n",
              "      <th></th>\n",
              "      <th></th>\n",
              "      <th></th>\n",
              "      <th></th>\n",
              "      <th></th>\n",
              "      <th></th>\n",
              "      <th></th>\n",
              "      <th></th>\n",
              "      <th></th>\n",
              "      <th></th>\n",
              "      <th></th>\n",
              "      <th></th>\n",
              "      <th></th>\n",
              "      <th></th>\n",
              "      <th></th>\n",
              "      <th></th>\n",
              "      <th></th>\n",
              "      <th></th>\n",
              "      <th></th>\n",
              "      <th></th>\n",
              "      <th></th>\n",
              "      <th></th>\n",
              "      <th></th>\n",
              "      <th></th>\n",
              "      <th></th>\n",
              "      <th></th>\n",
              "      <th></th>\n",
              "      <th></th>\n",
              "      <th></th>\n",
              "      <th></th>\n",
              "      <th></th>\n",
              "      <th></th>\n",
              "      <th></th>\n",
              "      <th></th>\n",
              "      <th></th>\n",
              "      <th></th>\n",
              "      <th></th>\n",
              "      <th></th>\n",
              "      <th></th>\n",
              "      <th></th>\n",
              "      <th></th>\n",
              "      <th></th>\n",
              "      <th></th>\n",
              "      <th></th>\n",
              "      <th></th>\n",
              "      <th></th>\n",
              "      <th></th>\n",
              "      <th></th>\n",
              "      <th></th>\n",
              "      <th></th>\n",
              "      <th></th>\n",
              "      <th></th>\n",
              "      <th></th>\n",
              "      <th></th>\n",
              "      <th></th>\n",
              "      <th></th>\n",
              "      <th></th>\n",
              "      <th></th>\n",
              "      <th></th>\n",
              "      <th></th>\n",
              "      <th></th>\n",
              "      <th></th>\n",
              "      <th></th>\n",
              "      <th></th>\n",
              "      <th></th>\n",
              "      <th></th>\n",
              "      <th></th>\n",
              "      <th></th>\n",
              "      <th></th>\n",
              "      <th></th>\n",
              "      <th></th>\n",
              "      <th></th>\n",
              "      <th></th>\n",
              "      <th></th>\n",
              "    </tr>\n",
              "  </thead>\n",
              "  <tbody>\n",
              "    <tr>\n",
              "      <th>AJWA for Food Industries company    Egypt</th>\n",
              "      <td>0</td>\n",
              "      <td>0</td>\n",
              "      <td>0</td>\n",
              "      <td>0</td>\n",
              "      <td>0</td>\n",
              "      <td>0</td>\n",
              "      <td>0</td>\n",
              "      <td>0</td>\n",
              "      <td>0</td>\n",
              "      <td>0</td>\n",
              "      <td>0</td>\n",
              "      <td>0</td>\n",
              "      <td>0</td>\n",
              "      <td>0</td>\n",
              "      <td>0</td>\n",
              "      <td>0</td>\n",
              "      <td>0</td>\n",
              "      <td>237</td>\n",
              "      <td>0</td>\n",
              "      <td>0</td>\n",
              "      <td>0</td>\n",
              "      <td>0</td>\n",
              "      <td>0</td>\n",
              "      <td>0</td>\n",
              "      <td>0</td>\n",
              "      <td>0</td>\n",
              "      <td>0</td>\n",
              "      <td>0</td>\n",
              "      <td>0</td>\n",
              "      <td>0</td>\n",
              "      <td>0</td>\n",
              "      <td>0</td>\n",
              "      <td>0</td>\n",
              "      <td>0</td>\n",
              "      <td>0</td>\n",
              "      <td>0</td>\n",
              "      <td>0</td>\n",
              "      <td>0</td>\n",
              "      <td>0</td>\n",
              "      <td>0</td>\n",
              "      <td>...</td>\n",
              "      <td>0</td>\n",
              "      <td>0</td>\n",
              "      <td>0</td>\n",
              "      <td>0</td>\n",
              "      <td>0</td>\n",
              "      <td>0</td>\n",
              "      <td>0</td>\n",
              "      <td>0</td>\n",
              "      <td>0</td>\n",
              "      <td>0</td>\n",
              "      <td>0</td>\n",
              "      <td>0</td>\n",
              "      <td>0</td>\n",
              "      <td>0</td>\n",
              "      <td>0</td>\n",
              "      <td>0</td>\n",
              "      <td>0</td>\n",
              "      <td>0</td>\n",
              "      <td>0</td>\n",
              "      <td>0</td>\n",
              "      <td>0</td>\n",
              "      <td>0</td>\n",
              "      <td>0</td>\n",
              "      <td>0</td>\n",
              "      <td>0</td>\n",
              "      <td>0</td>\n",
              "      <td>0</td>\n",
              "      <td>0</td>\n",
              "      <td>0</td>\n",
              "      <td>0</td>\n",
              "      <td>0</td>\n",
              "      <td>0</td>\n",
              "      <td>0</td>\n",
              "      <td>0</td>\n",
              "      <td>0</td>\n",
              "      <td>0</td>\n",
              "      <td>0</td>\n",
              "      <td>0</td>\n",
              "      <td>0</td>\n",
              "      <td>0</td>\n",
              "    </tr>\n",
              "    <tr>\n",
              "      <th>ARAB POLVARA SPINNING &amp; WEAVING CO.</th>\n",
              "      <td>0</td>\n",
              "      <td>0</td>\n",
              "      <td>0</td>\n",
              "      <td>0</td>\n",
              "      <td>0</td>\n",
              "      <td>0</td>\n",
              "      <td>0</td>\n",
              "      <td>0</td>\n",
              "      <td>0</td>\n",
              "      <td>0</td>\n",
              "      <td>0</td>\n",
              "      <td>0</td>\n",
              "      <td>0</td>\n",
              "      <td>0</td>\n",
              "      <td>0</td>\n",
              "      <td>0</td>\n",
              "      <td>0</td>\n",
              "      <td>0</td>\n",
              "      <td>0</td>\n",
              "      <td>0</td>\n",
              "      <td>0</td>\n",
              "      <td>0</td>\n",
              "      <td>0</td>\n",
              "      <td>0</td>\n",
              "      <td>0</td>\n",
              "      <td>0</td>\n",
              "      <td>0</td>\n",
              "      <td>236</td>\n",
              "      <td>0</td>\n",
              "      <td>0</td>\n",
              "      <td>0</td>\n",
              "      <td>0</td>\n",
              "      <td>0</td>\n",
              "      <td>0</td>\n",
              "      <td>0</td>\n",
              "      <td>0</td>\n",
              "      <td>0</td>\n",
              "      <td>0</td>\n",
              "      <td>0</td>\n",
              "      <td>0</td>\n",
              "      <td>...</td>\n",
              "      <td>0</td>\n",
              "      <td>0</td>\n",
              "      <td>0</td>\n",
              "      <td>0</td>\n",
              "      <td>0</td>\n",
              "      <td>0</td>\n",
              "      <td>0</td>\n",
              "      <td>0</td>\n",
              "      <td>0</td>\n",
              "      <td>0</td>\n",
              "      <td>0</td>\n",
              "      <td>0</td>\n",
              "      <td>0</td>\n",
              "      <td>0</td>\n",
              "      <td>0</td>\n",
              "      <td>0</td>\n",
              "      <td>0</td>\n",
              "      <td>0</td>\n",
              "      <td>0</td>\n",
              "      <td>0</td>\n",
              "      <td>0</td>\n",
              "      <td>0</td>\n",
              "      <td>0</td>\n",
              "      <td>0</td>\n",
              "      <td>0</td>\n",
              "      <td>0</td>\n",
              "      <td>0</td>\n",
              "      <td>0</td>\n",
              "      <td>0</td>\n",
              "      <td>0</td>\n",
              "      <td>0</td>\n",
              "      <td>0</td>\n",
              "      <td>0</td>\n",
              "      <td>0</td>\n",
              "      <td>0</td>\n",
              "      <td>0</td>\n",
              "      <td>0</td>\n",
              "      <td>0</td>\n",
              "      <td>0</td>\n",
              "      <td>0</td>\n",
              "    </tr>\n",
              "    <tr>\n",
              "      <th>Abou Kir Fertilizers</th>\n",
              "      <td>0</td>\n",
              "      <td>237</td>\n",
              "      <td>0</td>\n",
              "      <td>0</td>\n",
              "      <td>0</td>\n",
              "      <td>0</td>\n",
              "      <td>0</td>\n",
              "      <td>0</td>\n",
              "      <td>0</td>\n",
              "      <td>0</td>\n",
              "      <td>0</td>\n",
              "      <td>0</td>\n",
              "      <td>0</td>\n",
              "      <td>0</td>\n",
              "      <td>0</td>\n",
              "      <td>0</td>\n",
              "      <td>0</td>\n",
              "      <td>0</td>\n",
              "      <td>0</td>\n",
              "      <td>0</td>\n",
              "      <td>0</td>\n",
              "      <td>0</td>\n",
              "      <td>0</td>\n",
              "      <td>0</td>\n",
              "      <td>0</td>\n",
              "      <td>0</td>\n",
              "      <td>0</td>\n",
              "      <td>0</td>\n",
              "      <td>0</td>\n",
              "      <td>0</td>\n",
              "      <td>0</td>\n",
              "      <td>0</td>\n",
              "      <td>0</td>\n",
              "      <td>0</td>\n",
              "      <td>0</td>\n",
              "      <td>0</td>\n",
              "      <td>0</td>\n",
              "      <td>0</td>\n",
              "      <td>0</td>\n",
              "      <td>0</td>\n",
              "      <td>...</td>\n",
              "      <td>0</td>\n",
              "      <td>0</td>\n",
              "      <td>0</td>\n",
              "      <td>0</td>\n",
              "      <td>0</td>\n",
              "      <td>0</td>\n",
              "      <td>0</td>\n",
              "      <td>0</td>\n",
              "      <td>0</td>\n",
              "      <td>0</td>\n",
              "      <td>0</td>\n",
              "      <td>0</td>\n",
              "      <td>0</td>\n",
              "      <td>0</td>\n",
              "      <td>0</td>\n",
              "      <td>0</td>\n",
              "      <td>0</td>\n",
              "      <td>0</td>\n",
              "      <td>0</td>\n",
              "      <td>0</td>\n",
              "      <td>0</td>\n",
              "      <td>0</td>\n",
              "      <td>0</td>\n",
              "      <td>0</td>\n",
              "      <td>0</td>\n",
              "      <td>0</td>\n",
              "      <td>0</td>\n",
              "      <td>0</td>\n",
              "      <td>0</td>\n",
              "      <td>0</td>\n",
              "      <td>0</td>\n",
              "      <td>0</td>\n",
              "      <td>0</td>\n",
              "      <td>0</td>\n",
              "      <td>0</td>\n",
              "      <td>0</td>\n",
              "      <td>0</td>\n",
              "      <td>0</td>\n",
              "      <td>0</td>\n",
              "      <td>0</td>\n",
              "    </tr>\n",
              "    <tr>\n",
              "      <th>Abu Dhabi Islamic Bank- Egypt</th>\n",
              "      <td>0</td>\n",
              "      <td>0</td>\n",
              "      <td>0</td>\n",
              "      <td>0</td>\n",
              "      <td>0</td>\n",
              "      <td>0</td>\n",
              "      <td>237</td>\n",
              "      <td>0</td>\n",
              "      <td>0</td>\n",
              "      <td>0</td>\n",
              "      <td>0</td>\n",
              "      <td>0</td>\n",
              "      <td>0</td>\n",
              "      <td>0</td>\n",
              "      <td>0</td>\n",
              "      <td>0</td>\n",
              "      <td>0</td>\n",
              "      <td>0</td>\n",
              "      <td>0</td>\n",
              "      <td>0</td>\n",
              "      <td>0</td>\n",
              "      <td>0</td>\n",
              "      <td>0</td>\n",
              "      <td>0</td>\n",
              "      <td>0</td>\n",
              "      <td>0</td>\n",
              "      <td>0</td>\n",
              "      <td>0</td>\n",
              "      <td>0</td>\n",
              "      <td>0</td>\n",
              "      <td>0</td>\n",
              "      <td>0</td>\n",
              "      <td>0</td>\n",
              "      <td>0</td>\n",
              "      <td>0</td>\n",
              "      <td>0</td>\n",
              "      <td>0</td>\n",
              "      <td>0</td>\n",
              "      <td>0</td>\n",
              "      <td>0</td>\n",
              "      <td>...</td>\n",
              "      <td>0</td>\n",
              "      <td>0</td>\n",
              "      <td>0</td>\n",
              "      <td>0</td>\n",
              "      <td>0</td>\n",
              "      <td>0</td>\n",
              "      <td>0</td>\n",
              "      <td>0</td>\n",
              "      <td>0</td>\n",
              "      <td>0</td>\n",
              "      <td>0</td>\n",
              "      <td>0</td>\n",
              "      <td>0</td>\n",
              "      <td>0</td>\n",
              "      <td>0</td>\n",
              "      <td>0</td>\n",
              "      <td>0</td>\n",
              "      <td>0</td>\n",
              "      <td>0</td>\n",
              "      <td>0</td>\n",
              "      <td>0</td>\n",
              "      <td>0</td>\n",
              "      <td>0</td>\n",
              "      <td>0</td>\n",
              "      <td>0</td>\n",
              "      <td>0</td>\n",
              "      <td>0</td>\n",
              "      <td>0</td>\n",
              "      <td>0</td>\n",
              "      <td>0</td>\n",
              "      <td>0</td>\n",
              "      <td>0</td>\n",
              "      <td>0</td>\n",
              "      <td>0</td>\n",
              "      <td>0</td>\n",
              "      <td>0</td>\n",
              "      <td>0</td>\n",
              "      <td>0</td>\n",
              "      <td>0</td>\n",
              "      <td>0</td>\n",
              "    </tr>\n",
              "    <tr>\n",
              "      <th>Acrow Misr</th>\n",
              "      <td>0</td>\n",
              "      <td>0</td>\n",
              "      <td>0</td>\n",
              "      <td>0</td>\n",
              "      <td>119</td>\n",
              "      <td>0</td>\n",
              "      <td>0</td>\n",
              "      <td>0</td>\n",
              "      <td>0</td>\n",
              "      <td>0</td>\n",
              "      <td>0</td>\n",
              "      <td>0</td>\n",
              "      <td>0</td>\n",
              "      <td>0</td>\n",
              "      <td>0</td>\n",
              "      <td>0</td>\n",
              "      <td>0</td>\n",
              "      <td>0</td>\n",
              "      <td>0</td>\n",
              "      <td>0</td>\n",
              "      <td>0</td>\n",
              "      <td>0</td>\n",
              "      <td>0</td>\n",
              "      <td>0</td>\n",
              "      <td>0</td>\n",
              "      <td>0</td>\n",
              "      <td>0</td>\n",
              "      <td>0</td>\n",
              "      <td>0</td>\n",
              "      <td>0</td>\n",
              "      <td>0</td>\n",
              "      <td>0</td>\n",
              "      <td>0</td>\n",
              "      <td>0</td>\n",
              "      <td>0</td>\n",
              "      <td>0</td>\n",
              "      <td>0</td>\n",
              "      <td>0</td>\n",
              "      <td>0</td>\n",
              "      <td>0</td>\n",
              "      <td>...</td>\n",
              "      <td>0</td>\n",
              "      <td>0</td>\n",
              "      <td>0</td>\n",
              "      <td>0</td>\n",
              "      <td>0</td>\n",
              "      <td>0</td>\n",
              "      <td>0</td>\n",
              "      <td>0</td>\n",
              "      <td>0</td>\n",
              "      <td>0</td>\n",
              "      <td>0</td>\n",
              "      <td>0</td>\n",
              "      <td>0</td>\n",
              "      <td>0</td>\n",
              "      <td>0</td>\n",
              "      <td>0</td>\n",
              "      <td>0</td>\n",
              "      <td>0</td>\n",
              "      <td>0</td>\n",
              "      <td>0</td>\n",
              "      <td>0</td>\n",
              "      <td>0</td>\n",
              "      <td>0</td>\n",
              "      <td>0</td>\n",
              "      <td>0</td>\n",
              "      <td>0</td>\n",
              "      <td>0</td>\n",
              "      <td>0</td>\n",
              "      <td>0</td>\n",
              "      <td>0</td>\n",
              "      <td>0</td>\n",
              "      <td>0</td>\n",
              "      <td>0</td>\n",
              "      <td>0</td>\n",
              "      <td>0</td>\n",
              "      <td>0</td>\n",
              "      <td>0</td>\n",
              "      <td>0</td>\n",
              "      <td>0</td>\n",
              "      <td>0</td>\n",
              "    </tr>\n",
              "    <tr>\n",
              "      <th>...</th>\n",
              "      <td>...</td>\n",
              "      <td>...</td>\n",
              "      <td>...</td>\n",
              "      <td>...</td>\n",
              "      <td>...</td>\n",
              "      <td>...</td>\n",
              "      <td>...</td>\n",
              "      <td>...</td>\n",
              "      <td>...</td>\n",
              "      <td>...</td>\n",
              "      <td>...</td>\n",
              "      <td>...</td>\n",
              "      <td>...</td>\n",
              "      <td>...</td>\n",
              "      <td>...</td>\n",
              "      <td>...</td>\n",
              "      <td>...</td>\n",
              "      <td>...</td>\n",
              "      <td>...</td>\n",
              "      <td>...</td>\n",
              "      <td>...</td>\n",
              "      <td>...</td>\n",
              "      <td>...</td>\n",
              "      <td>...</td>\n",
              "      <td>...</td>\n",
              "      <td>...</td>\n",
              "      <td>...</td>\n",
              "      <td>...</td>\n",
              "      <td>...</td>\n",
              "      <td>...</td>\n",
              "      <td>...</td>\n",
              "      <td>...</td>\n",
              "      <td>...</td>\n",
              "      <td>...</td>\n",
              "      <td>...</td>\n",
              "      <td>...</td>\n",
              "      <td>...</td>\n",
              "      <td>...</td>\n",
              "      <td>...</td>\n",
              "      <td>...</td>\n",
              "      <td>...</td>\n",
              "      <td>...</td>\n",
              "      <td>...</td>\n",
              "      <td>...</td>\n",
              "      <td>...</td>\n",
              "      <td>...</td>\n",
              "      <td>...</td>\n",
              "      <td>...</td>\n",
              "      <td>...</td>\n",
              "      <td>...</td>\n",
              "      <td>...</td>\n",
              "      <td>...</td>\n",
              "      <td>...</td>\n",
              "      <td>...</td>\n",
              "      <td>...</td>\n",
              "      <td>...</td>\n",
              "      <td>...</td>\n",
              "      <td>...</td>\n",
              "      <td>...</td>\n",
              "      <td>...</td>\n",
              "      <td>...</td>\n",
              "      <td>...</td>\n",
              "      <td>...</td>\n",
              "      <td>...</td>\n",
              "      <td>...</td>\n",
              "      <td>...</td>\n",
              "      <td>...</td>\n",
              "      <td>...</td>\n",
              "      <td>...</td>\n",
              "      <td>...</td>\n",
              "      <td>...</td>\n",
              "      <td>...</td>\n",
              "      <td>...</td>\n",
              "      <td>...</td>\n",
              "      <td>...</td>\n",
              "      <td>...</td>\n",
              "      <td>...</td>\n",
              "      <td>...</td>\n",
              "      <td>...</td>\n",
              "      <td>...</td>\n",
              "      <td>...</td>\n",
              "    </tr>\n",
              "    <tr>\n",
              "      <th>Univert Food Industries</th>\n",
              "      <td>0</td>\n",
              "      <td>0</td>\n",
              "      <td>0</td>\n",
              "      <td>0</td>\n",
              "      <td>0</td>\n",
              "      <td>0</td>\n",
              "      <td>0</td>\n",
              "      <td>0</td>\n",
              "      <td>0</td>\n",
              "      <td>0</td>\n",
              "      <td>0</td>\n",
              "      <td>0</td>\n",
              "      <td>0</td>\n",
              "      <td>0</td>\n",
              "      <td>0</td>\n",
              "      <td>0</td>\n",
              "      <td>0</td>\n",
              "      <td>0</td>\n",
              "      <td>0</td>\n",
              "      <td>0</td>\n",
              "      <td>0</td>\n",
              "      <td>0</td>\n",
              "      <td>0</td>\n",
              "      <td>0</td>\n",
              "      <td>0</td>\n",
              "      <td>0</td>\n",
              "      <td>0</td>\n",
              "      <td>0</td>\n",
              "      <td>0</td>\n",
              "      <td>0</td>\n",
              "      <td>0</td>\n",
              "      <td>0</td>\n",
              "      <td>0</td>\n",
              "      <td>0</td>\n",
              "      <td>0</td>\n",
              "      <td>0</td>\n",
              "      <td>0</td>\n",
              "      <td>0</td>\n",
              "      <td>0</td>\n",
              "      <td>0</td>\n",
              "      <td>...</td>\n",
              "      <td>0</td>\n",
              "      <td>0</td>\n",
              "      <td>0</td>\n",
              "      <td>0</td>\n",
              "      <td>0</td>\n",
              "      <td>0</td>\n",
              "      <td>0</td>\n",
              "      <td>0</td>\n",
              "      <td>0</td>\n",
              "      <td>0</td>\n",
              "      <td>0</td>\n",
              "      <td>0</td>\n",
              "      <td>0</td>\n",
              "      <td>0</td>\n",
              "      <td>0</td>\n",
              "      <td>0</td>\n",
              "      <td>0</td>\n",
              "      <td>0</td>\n",
              "      <td>0</td>\n",
              "      <td>0</td>\n",
              "      <td>0</td>\n",
              "      <td>0</td>\n",
              "      <td>0</td>\n",
              "      <td>0</td>\n",
              "      <td>0</td>\n",
              "      <td>0</td>\n",
              "      <td>0</td>\n",
              "      <td>0</td>\n",
              "      <td>0</td>\n",
              "      <td>39</td>\n",
              "      <td>0</td>\n",
              "      <td>0</td>\n",
              "      <td>0</td>\n",
              "      <td>0</td>\n",
              "      <td>0</td>\n",
              "      <td>0</td>\n",
              "      <td>0</td>\n",
              "      <td>0</td>\n",
              "      <td>0</td>\n",
              "      <td>0</td>\n",
              "    </tr>\n",
              "    <tr>\n",
              "      <th>Upper Egypt Flour Mills</th>\n",
              "      <td>0</td>\n",
              "      <td>0</td>\n",
              "      <td>0</td>\n",
              "      <td>0</td>\n",
              "      <td>0</td>\n",
              "      <td>0</td>\n",
              "      <td>0</td>\n",
              "      <td>0</td>\n",
              "      <td>0</td>\n",
              "      <td>0</td>\n",
              "      <td>0</td>\n",
              "      <td>0</td>\n",
              "      <td>0</td>\n",
              "      <td>0</td>\n",
              "      <td>0</td>\n",
              "      <td>0</td>\n",
              "      <td>0</td>\n",
              "      <td>0</td>\n",
              "      <td>0</td>\n",
              "      <td>0</td>\n",
              "      <td>0</td>\n",
              "      <td>0</td>\n",
              "      <td>0</td>\n",
              "      <td>0</td>\n",
              "      <td>0</td>\n",
              "      <td>0</td>\n",
              "      <td>0</td>\n",
              "      <td>0</td>\n",
              "      <td>0</td>\n",
              "      <td>0</td>\n",
              "      <td>0</td>\n",
              "      <td>0</td>\n",
              "      <td>0</td>\n",
              "      <td>0</td>\n",
              "      <td>0</td>\n",
              "      <td>0</td>\n",
              "      <td>0</td>\n",
              "      <td>0</td>\n",
              "      <td>0</td>\n",
              "      <td>0</td>\n",
              "      <td>...</td>\n",
              "      <td>0</td>\n",
              "      <td>0</td>\n",
              "      <td>0</td>\n",
              "      <td>0</td>\n",
              "      <td>0</td>\n",
              "      <td>0</td>\n",
              "      <td>0</td>\n",
              "      <td>0</td>\n",
              "      <td>0</td>\n",
              "      <td>0</td>\n",
              "      <td>0</td>\n",
              "      <td>0</td>\n",
              "      <td>0</td>\n",
              "      <td>0</td>\n",
              "      <td>0</td>\n",
              "      <td>0</td>\n",
              "      <td>0</td>\n",
              "      <td>0</td>\n",
              "      <td>0</td>\n",
              "      <td>0</td>\n",
              "      <td>0</td>\n",
              "      <td>0</td>\n",
              "      <td>0</td>\n",
              "      <td>0</td>\n",
              "      <td>0</td>\n",
              "      <td>0</td>\n",
              "      <td>0</td>\n",
              "      <td>141</td>\n",
              "      <td>0</td>\n",
              "      <td>0</td>\n",
              "      <td>0</td>\n",
              "      <td>0</td>\n",
              "      <td>0</td>\n",
              "      <td>0</td>\n",
              "      <td>0</td>\n",
              "      <td>0</td>\n",
              "      <td>0</td>\n",
              "      <td>0</td>\n",
              "      <td>0</td>\n",
              "      <td>0</td>\n",
              "    </tr>\n",
              "    <tr>\n",
              "      <th>Vertika for Industry &amp; Trade</th>\n",
              "      <td>0</td>\n",
              "      <td>0</td>\n",
              "      <td>0</td>\n",
              "      <td>0</td>\n",
              "      <td>0</td>\n",
              "      <td>0</td>\n",
              "      <td>0</td>\n",
              "      <td>0</td>\n",
              "      <td>0</td>\n",
              "      <td>0</td>\n",
              "      <td>0</td>\n",
              "      <td>0</td>\n",
              "      <td>0</td>\n",
              "      <td>0</td>\n",
              "      <td>0</td>\n",
              "      <td>0</td>\n",
              "      <td>0</td>\n",
              "      <td>0</td>\n",
              "      <td>0</td>\n",
              "      <td>0</td>\n",
              "      <td>0</td>\n",
              "      <td>0</td>\n",
              "      <td>0</td>\n",
              "      <td>0</td>\n",
              "      <td>0</td>\n",
              "      <td>0</td>\n",
              "      <td>0</td>\n",
              "      <td>0</td>\n",
              "      <td>0</td>\n",
              "      <td>0</td>\n",
              "      <td>0</td>\n",
              "      <td>0</td>\n",
              "      <td>0</td>\n",
              "      <td>0</td>\n",
              "      <td>0</td>\n",
              "      <td>0</td>\n",
              "      <td>0</td>\n",
              "      <td>0</td>\n",
              "      <td>0</td>\n",
              "      <td>0</td>\n",
              "      <td>...</td>\n",
              "      <td>0</td>\n",
              "      <td>0</td>\n",
              "      <td>0</td>\n",
              "      <td>0</td>\n",
              "      <td>0</td>\n",
              "      <td>0</td>\n",
              "      <td>0</td>\n",
              "      <td>0</td>\n",
              "      <td>0</td>\n",
              "      <td>0</td>\n",
              "      <td>0</td>\n",
              "      <td>0</td>\n",
              "      <td>0</td>\n",
              "      <td>0</td>\n",
              "      <td>0</td>\n",
              "      <td>0</td>\n",
              "      <td>0</td>\n",
              "      <td>0</td>\n",
              "      <td>0</td>\n",
              "      <td>0</td>\n",
              "      <td>0</td>\n",
              "      <td>0</td>\n",
              "      <td>0</td>\n",
              "      <td>0</td>\n",
              "      <td>0</td>\n",
              "      <td>0</td>\n",
              "      <td>0</td>\n",
              "      <td>0</td>\n",
              "      <td>0</td>\n",
              "      <td>0</td>\n",
              "      <td>0</td>\n",
              "      <td>0</td>\n",
              "      <td>0</td>\n",
              "      <td>0</td>\n",
              "      <td>40</td>\n",
              "      <td>0</td>\n",
              "      <td>0</td>\n",
              "      <td>0</td>\n",
              "      <td>0</td>\n",
              "      <td>0</td>\n",
              "    </tr>\n",
              "    <tr>\n",
              "      <th>Wadi Kom Ombo Land Reclamation</th>\n",
              "      <td>0</td>\n",
              "      <td>0</td>\n",
              "      <td>0</td>\n",
              "      <td>0</td>\n",
              "      <td>0</td>\n",
              "      <td>0</td>\n",
              "      <td>0</td>\n",
              "      <td>0</td>\n",
              "      <td>0</td>\n",
              "      <td>0</td>\n",
              "      <td>0</td>\n",
              "      <td>0</td>\n",
              "      <td>0</td>\n",
              "      <td>0</td>\n",
              "      <td>0</td>\n",
              "      <td>0</td>\n",
              "      <td>0</td>\n",
              "      <td>0</td>\n",
              "      <td>0</td>\n",
              "      <td>0</td>\n",
              "      <td>0</td>\n",
              "      <td>0</td>\n",
              "      <td>0</td>\n",
              "      <td>0</td>\n",
              "      <td>0</td>\n",
              "      <td>0</td>\n",
              "      <td>0</td>\n",
              "      <td>0</td>\n",
              "      <td>0</td>\n",
              "      <td>0</td>\n",
              "      <td>0</td>\n",
              "      <td>0</td>\n",
              "      <td>0</td>\n",
              "      <td>0</td>\n",
              "      <td>0</td>\n",
              "      <td>0</td>\n",
              "      <td>0</td>\n",
              "      <td>0</td>\n",
              "      <td>0</td>\n",
              "      <td>0</td>\n",
              "      <td>...</td>\n",
              "      <td>0</td>\n",
              "      <td>0</td>\n",
              "      <td>0</td>\n",
              "      <td>0</td>\n",
              "      <td>0</td>\n",
              "      <td>0</td>\n",
              "      <td>0</td>\n",
              "      <td>0</td>\n",
              "      <td>0</td>\n",
              "      <td>0</td>\n",
              "      <td>0</td>\n",
              "      <td>0</td>\n",
              "      <td>0</td>\n",
              "      <td>0</td>\n",
              "      <td>0</td>\n",
              "      <td>0</td>\n",
              "      <td>0</td>\n",
              "      <td>0</td>\n",
              "      <td>0</td>\n",
              "      <td>0</td>\n",
              "      <td>0</td>\n",
              "      <td>0</td>\n",
              "      <td>0</td>\n",
              "      <td>0</td>\n",
              "      <td>0</td>\n",
              "      <td>0</td>\n",
              "      <td>0</td>\n",
              "      <td>0</td>\n",
              "      <td>0</td>\n",
              "      <td>0</td>\n",
              "      <td>0</td>\n",
              "      <td>0</td>\n",
              "      <td>0</td>\n",
              "      <td>0</td>\n",
              "      <td>0</td>\n",
              "      <td>0</td>\n",
              "      <td>0</td>\n",
              "      <td>198</td>\n",
              "      <td>0</td>\n",
              "      <td>0</td>\n",
              "    </tr>\n",
              "    <tr>\n",
              "      <th>Zahraa Maadi Investment &amp; Development</th>\n",
              "      <td>0</td>\n",
              "      <td>0</td>\n",
              "      <td>0</td>\n",
              "      <td>0</td>\n",
              "      <td>0</td>\n",
              "      <td>0</td>\n",
              "      <td>0</td>\n",
              "      <td>0</td>\n",
              "      <td>0</td>\n",
              "      <td>0</td>\n",
              "      <td>0</td>\n",
              "      <td>0</td>\n",
              "      <td>0</td>\n",
              "      <td>0</td>\n",
              "      <td>0</td>\n",
              "      <td>0</td>\n",
              "      <td>0</td>\n",
              "      <td>0</td>\n",
              "      <td>0</td>\n",
              "      <td>0</td>\n",
              "      <td>0</td>\n",
              "      <td>0</td>\n",
              "      <td>0</td>\n",
              "      <td>0</td>\n",
              "      <td>0</td>\n",
              "      <td>0</td>\n",
              "      <td>0</td>\n",
              "      <td>0</td>\n",
              "      <td>0</td>\n",
              "      <td>0</td>\n",
              "      <td>0</td>\n",
              "      <td>0</td>\n",
              "      <td>0</td>\n",
              "      <td>0</td>\n",
              "      <td>0</td>\n",
              "      <td>0</td>\n",
              "      <td>0</td>\n",
              "      <td>0</td>\n",
              "      <td>0</td>\n",
              "      <td>0</td>\n",
              "      <td>...</td>\n",
              "      <td>0</td>\n",
              "      <td>0</td>\n",
              "      <td>0</td>\n",
              "      <td>0</td>\n",
              "      <td>0</td>\n",
              "      <td>0</td>\n",
              "      <td>0</td>\n",
              "      <td>0</td>\n",
              "      <td>0</td>\n",
              "      <td>0</td>\n",
              "      <td>0</td>\n",
              "      <td>0</td>\n",
              "      <td>0</td>\n",
              "      <td>0</td>\n",
              "      <td>0</td>\n",
              "      <td>0</td>\n",
              "      <td>0</td>\n",
              "      <td>0</td>\n",
              "      <td>0</td>\n",
              "      <td>0</td>\n",
              "      <td>0</td>\n",
              "      <td>0</td>\n",
              "      <td>0</td>\n",
              "      <td>0</td>\n",
              "      <td>0</td>\n",
              "      <td>0</td>\n",
              "      <td>0</td>\n",
              "      <td>0</td>\n",
              "      <td>0</td>\n",
              "      <td>0</td>\n",
              "      <td>0</td>\n",
              "      <td>0</td>\n",
              "      <td>0</td>\n",
              "      <td>0</td>\n",
              "      <td>0</td>\n",
              "      <td>0</td>\n",
              "      <td>0</td>\n",
              "      <td>0</td>\n",
              "      <td>0</td>\n",
              "      <td>204</td>\n",
              "    </tr>\n",
              "  </tbody>\n",
              "</table>\n",
              "<p>251 rows × 251 columns</p>\n",
              "</div>"
            ],
            "text/plain": [
              "REUTERS                                    AALR.CA  ABUK.CA  ...  ZEOT.CA  ZMID.CA\n",
              "ENG_NAME                                                     ...                  \n",
              "AJWA for Food Industries company    Egypt        0        0  ...        0        0\n",
              "ARAB POLVARA SPINNING & WEAVING CO.              0        0  ...        0        0\n",
              "Abou Kir Fertilizers                             0      237  ...        0        0\n",
              "Abu Dhabi Islamic Bank- Egypt                    0        0  ...        0        0\n",
              "Acrow Misr                                       0        0  ...        0        0\n",
              "...                                            ...      ...  ...      ...      ...\n",
              "Univert Food Industries                          0        0  ...        0        0\n",
              "Upper Egypt Flour Mills                          0        0  ...        0        0\n",
              "Vertika for Industry & Trade                     0        0  ...        0        0\n",
              "Wadi Kom Ombo Land Reclamation                   0        0  ...        0        0\n",
              "Zahraa Maadi Investment & Development            0        0  ...        0      204\n",
              "\n",
              "[251 rows x 251 columns]"
            ]
          },
          "metadata": {
            "tags": []
          },
          "execution_count": 30
        }
      ]
    },
    {
      "cell_type": "code",
      "metadata": {
        "id": "HirsMr_MXmYn",
        "colab": {
          "base_uri": "https://localhost:8080/"
        },
        "outputId": "0b8fca07-7d51-4092-ef14-aef4e942d80b"
      },
      "source": [
        "item_counts = dataset[\"ENG_NAME\"].value_counts()\n",
        "print(item_counts)"
      ],
      "execution_count": null,
      "outputs": [
        {
          "output_type": "stream",
          "text": [
            "Dice Sport & Casual Wear                                      237\n",
            "Citadel Capital - Common Shares                               237\n",
            "South Valley Cement                                           237\n",
            "Cairo Oils & Soap                                             237\n",
            "Orascom Development Egypt                                     237\n",
            "                                                             ... \n",
            "El Taamir Securitization The Seconed Issue Tran A Jan 2020      1\n",
            "El Taamir Securitization The Seconed Issue Tran C Jul 2020      1\n",
            "El Taamir Securitization The Seconed Issue Tran H Jul 2024      1\n",
            "El Taamir Securitization The Seconed Issue Tran B Apr 2020      1\n",
            "El Taamir Securitization The Seconed Issue Tran D Jul 2022      1\n",
            "Name: ENG_NAME, Length: 251, dtype: int64\n"
          ],
          "name": "stdout"
        }
      ]
    },
    {
      "cell_type": "code",
      "metadata": {
        "colab": {
          "base_uri": "https://localhost:8080/"
        },
        "id": "ew5QHw7IuVLf",
        "outputId": "bf2c7bc4-786c-409f-f3b0-7457f697b045"
      },
      "source": [
        "data1=dataset.loc[dataset['REUTERS'] == 'AJWA.CA']\n",
        "data1.shape"
      ],
      "execution_count": null,
      "outputs": [
        {
          "output_type": "execute_result",
          "data": {
            "text/plain": [
              "(237, 14)"
            ]
          },
          "metadata": {
            "tags": []
          },
          "execution_count": 33
        }
      ]
    },
    {
      "cell_type": "code",
      "metadata": {
        "id": "RBdt5mHevPFo"
      },
      "source": [
        ""
      ],
      "execution_count": null,
      "outputs": []
    },
    {
      "cell_type": "code",
      "metadata": {
        "id": "tcraWA-CXTXq"
      },
      "source": [
        "df1=data1"
      ],
      "execution_count": null,
      "outputs": []
    },
    {
      "cell_type": "code",
      "metadata": {
        "colab": {
          "base_uri": "https://localhost:8080/"
        },
        "id": "WwjTENEhXGnR",
        "outputId": "e6339a3a-79ad-4b82-dd11-a8b872e6527f"
      },
      "source": [
        "\n",
        "def replace(group):   \n",
        "    mean, std = group.mean(), group.std()\n",
        "    outliers = (group - mean).abs() > 2*std\n",
        "\n",
        "    group[outliers] = mean\n",
        "    return group\n",
        "cols=['TRADE_VALUE','TRADE_VOLUME','TRADE_COUNT','OPEN_PRICE','HIGH_PRICE','LOW_PRICE','CLOSE_PRICE']\n",
        "for i in cols:\n",
        "\n",
        "   df1[i]=replace(df1[i])\n",
        "# df1=df1.groupby('REUTERS').transform(replace)"
      ],
      "execution_count": null,
      "outputs": [
        {
          "output_type": "stream",
          "text": [
            "/usr/local/lib/python3.7/dist-packages/ipykernel_launcher.py:6: SettingWithCopyWarning: \n",
            "A value is trying to be set on a copy of a slice from a DataFrame\n",
            "\n",
            "See the caveats in the documentation: https://pandas.pydata.org/pandas-docs/stable/user_guide/indexing.html#returning-a-view-versus-a-copy\n",
            "  \n",
            "/usr/local/lib/python3.7/dist-packages/pandas/core/series.py:1021: SettingWithCopyWarning: \n",
            "A value is trying to be set on a copy of a slice from a DataFrame\n",
            "\n",
            "See the caveats in the documentation: https://pandas.pydata.org/pandas-docs/stable/user_guide/indexing.html#returning-a-view-versus-a-copy\n",
            "  self._where(~key, value, inplace=True)\n",
            "/usr/local/lib/python3.7/dist-packages/ipykernel_launcher.py:11: SettingWithCopyWarning: \n",
            "A value is trying to be set on a copy of a slice from a DataFrame.\n",
            "Try using .loc[row_indexer,col_indexer] = value instead\n",
            "\n",
            "See the caveats in the documentation: https://pandas.pydata.org/pandas-docs/stable/user_guide/indexing.html#returning-a-view-versus-a-copy\n",
            "  # This is added back by InteractiveShellApp.init_path()\n",
            "/usr/local/lib/python3.7/dist-packages/ipykernel_launcher.py:6: SettingWithCopyWarning: \n",
            "A value is trying to be set on a copy of a slice from a DataFrame\n",
            "\n",
            "See the caveats in the documentation: https://pandas.pydata.org/pandas-docs/stable/user_guide/indexing.html#returning-a-view-versus-a-copy\n",
            "  \n",
            "/usr/local/lib/python3.7/dist-packages/pandas/core/series.py:1021: SettingWithCopyWarning: \n",
            "A value is trying to be set on a copy of a slice from a DataFrame\n",
            "\n",
            "See the caveats in the documentation: https://pandas.pydata.org/pandas-docs/stable/user_guide/indexing.html#returning-a-view-versus-a-copy\n",
            "  self._where(~key, value, inplace=True)\n",
            "/usr/local/lib/python3.7/dist-packages/ipykernel_launcher.py:11: SettingWithCopyWarning: \n",
            "A value is trying to be set on a copy of a slice from a DataFrame.\n",
            "Try using .loc[row_indexer,col_indexer] = value instead\n",
            "\n",
            "See the caveats in the documentation: https://pandas.pydata.org/pandas-docs/stable/user_guide/indexing.html#returning-a-view-versus-a-copy\n",
            "  # This is added back by InteractiveShellApp.init_path()\n",
            "/usr/local/lib/python3.7/dist-packages/ipykernel_launcher.py:6: SettingWithCopyWarning: \n",
            "A value is trying to be set on a copy of a slice from a DataFrame\n",
            "\n",
            "See the caveats in the documentation: https://pandas.pydata.org/pandas-docs/stable/user_guide/indexing.html#returning-a-view-versus-a-copy\n",
            "  \n",
            "/usr/local/lib/python3.7/dist-packages/pandas/core/series.py:1021: SettingWithCopyWarning: \n",
            "A value is trying to be set on a copy of a slice from a DataFrame\n",
            "\n",
            "See the caveats in the documentation: https://pandas.pydata.org/pandas-docs/stable/user_guide/indexing.html#returning-a-view-versus-a-copy\n",
            "  self._where(~key, value, inplace=True)\n",
            "/usr/local/lib/python3.7/dist-packages/ipykernel_launcher.py:11: SettingWithCopyWarning: \n",
            "A value is trying to be set on a copy of a slice from a DataFrame.\n",
            "Try using .loc[row_indexer,col_indexer] = value instead\n",
            "\n",
            "See the caveats in the documentation: https://pandas.pydata.org/pandas-docs/stable/user_guide/indexing.html#returning-a-view-versus-a-copy\n",
            "  # This is added back by InteractiveShellApp.init_path()\n",
            "/usr/local/lib/python3.7/dist-packages/ipykernel_launcher.py:6: SettingWithCopyWarning: \n",
            "A value is trying to be set on a copy of a slice from a DataFrame\n",
            "\n",
            "See the caveats in the documentation: https://pandas.pydata.org/pandas-docs/stable/user_guide/indexing.html#returning-a-view-versus-a-copy\n",
            "  \n",
            "/usr/local/lib/python3.7/dist-packages/pandas/core/series.py:1021: SettingWithCopyWarning: \n",
            "A value is trying to be set on a copy of a slice from a DataFrame\n",
            "\n",
            "See the caveats in the documentation: https://pandas.pydata.org/pandas-docs/stable/user_guide/indexing.html#returning-a-view-versus-a-copy\n",
            "  self._where(~key, value, inplace=True)\n",
            "/usr/local/lib/python3.7/dist-packages/ipykernel_launcher.py:11: SettingWithCopyWarning: \n",
            "A value is trying to be set on a copy of a slice from a DataFrame.\n",
            "Try using .loc[row_indexer,col_indexer] = value instead\n",
            "\n",
            "See the caveats in the documentation: https://pandas.pydata.org/pandas-docs/stable/user_guide/indexing.html#returning-a-view-versus-a-copy\n",
            "  # This is added back by InteractiveShellApp.init_path()\n",
            "/usr/local/lib/python3.7/dist-packages/ipykernel_launcher.py:6: SettingWithCopyWarning: \n",
            "A value is trying to be set on a copy of a slice from a DataFrame\n",
            "\n",
            "See the caveats in the documentation: https://pandas.pydata.org/pandas-docs/stable/user_guide/indexing.html#returning-a-view-versus-a-copy\n",
            "  \n",
            "/usr/local/lib/python3.7/dist-packages/pandas/core/series.py:1021: SettingWithCopyWarning: \n",
            "A value is trying to be set on a copy of a slice from a DataFrame\n",
            "\n",
            "See the caveats in the documentation: https://pandas.pydata.org/pandas-docs/stable/user_guide/indexing.html#returning-a-view-versus-a-copy\n",
            "  self._where(~key, value, inplace=True)\n",
            "/usr/local/lib/python3.7/dist-packages/ipykernel_launcher.py:11: SettingWithCopyWarning: \n",
            "A value is trying to be set on a copy of a slice from a DataFrame.\n",
            "Try using .loc[row_indexer,col_indexer] = value instead\n",
            "\n",
            "See the caveats in the documentation: https://pandas.pydata.org/pandas-docs/stable/user_guide/indexing.html#returning-a-view-versus-a-copy\n",
            "  # This is added back by InteractiveShellApp.init_path()\n",
            "/usr/local/lib/python3.7/dist-packages/ipykernel_launcher.py:6: SettingWithCopyWarning: \n",
            "A value is trying to be set on a copy of a slice from a DataFrame\n",
            "\n",
            "See the caveats in the documentation: https://pandas.pydata.org/pandas-docs/stable/user_guide/indexing.html#returning-a-view-versus-a-copy\n",
            "  \n",
            "/usr/local/lib/python3.7/dist-packages/pandas/core/series.py:1021: SettingWithCopyWarning: \n",
            "A value is trying to be set on a copy of a slice from a DataFrame\n",
            "\n",
            "See the caveats in the documentation: https://pandas.pydata.org/pandas-docs/stable/user_guide/indexing.html#returning-a-view-versus-a-copy\n",
            "  self._where(~key, value, inplace=True)\n",
            "/usr/local/lib/python3.7/dist-packages/ipykernel_launcher.py:11: SettingWithCopyWarning: \n",
            "A value is trying to be set on a copy of a slice from a DataFrame.\n",
            "Try using .loc[row_indexer,col_indexer] = value instead\n",
            "\n",
            "See the caveats in the documentation: https://pandas.pydata.org/pandas-docs/stable/user_guide/indexing.html#returning-a-view-versus-a-copy\n",
            "  # This is added back by InteractiveShellApp.init_path()\n",
            "/usr/local/lib/python3.7/dist-packages/ipykernel_launcher.py:6: SettingWithCopyWarning: \n",
            "A value is trying to be set on a copy of a slice from a DataFrame\n",
            "\n",
            "See the caveats in the documentation: https://pandas.pydata.org/pandas-docs/stable/user_guide/indexing.html#returning-a-view-versus-a-copy\n",
            "  \n",
            "/usr/local/lib/python3.7/dist-packages/pandas/core/series.py:1021: SettingWithCopyWarning: \n",
            "A value is trying to be set on a copy of a slice from a DataFrame\n",
            "\n",
            "See the caveats in the documentation: https://pandas.pydata.org/pandas-docs/stable/user_guide/indexing.html#returning-a-view-versus-a-copy\n",
            "  self._where(~key, value, inplace=True)\n",
            "/usr/local/lib/python3.7/dist-packages/ipykernel_launcher.py:11: SettingWithCopyWarning: \n",
            "A value is trying to be set on a copy of a slice from a DataFrame.\n",
            "Try using .loc[row_indexer,col_indexer] = value instead\n",
            "\n",
            "See the caveats in the documentation: https://pandas.pydata.org/pandas-docs/stable/user_guide/indexing.html#returning-a-view-versus-a-copy\n",
            "  # This is added back by InteractiveShellApp.init_path()\n"
          ],
          "name": "stderr"
        }
      ]
    },
    {
      "cell_type": "code",
      "metadata": {
        "colab": {
          "base_uri": "https://localhost:8080/",
          "height": 525
        },
        "id": "fIgvquOfaAJ4",
        "outputId": "edf2946c-fe30-4319-c159-2ddceb6b9bcb"
      },
      "source": [
        "df1.head(10)"
      ],
      "execution_count": null,
      "outputs": [
        {
          "output_type": "execute_result",
          "data": {
            "text/html": [
              "<div>\n",
              "<style scoped>\n",
              "    .dataframe tbody tr th:only-of-type {\n",
              "        vertical-align: middle;\n",
              "    }\n",
              "\n",
              "    .dataframe tbody tr th {\n",
              "        vertical-align: top;\n",
              "    }\n",
              "\n",
              "    .dataframe thead th {\n",
              "        text-align: right;\n",
              "    }\n",
              "</style>\n",
              "<table border=\"1\" class=\"dataframe\">\n",
              "  <thead>\n",
              "    <tr style=\"text-align: right;\">\n",
              "      <th></th>\n",
              "      <th>ENG_NAME</th>\n",
              "      <th>REUTERS</th>\n",
              "      <th>SYMBOL_CODE</th>\n",
              "      <th>TRADE_DATE</th>\n",
              "      <th>TRADE_VOLUME</th>\n",
              "      <th>TRADE_VALUE</th>\n",
              "      <th>TRADE_COUNT</th>\n",
              "      <th>OPEN_PRICE</th>\n",
              "      <th>HIGH_PRICE</th>\n",
              "      <th>LOW_PRICE</th>\n",
              "      <th>CLOSE_PRICE</th>\n",
              "      <th>day</th>\n",
              "      <th>month</th>\n",
              "      <th>year</th>\n",
              "    </tr>\n",
              "  </thead>\n",
              "  <tbody>\n",
              "    <tr>\n",
              "      <th>0</th>\n",
              "      <td>AJWA for Food Industries company    Egypt</td>\n",
              "      <td>AJWA.CA</td>\n",
              "      <td>EGS30211C014</td>\n",
              "      <td>01/02/2019 0:00:00</td>\n",
              "      <td>55150.0</td>\n",
              "      <td>151263.0</td>\n",
              "      <td>22.0</td>\n",
              "      <td>2.79</td>\n",
              "      <td>2.80</td>\n",
              "      <td>2.72</td>\n",
              "      <td>2.74</td>\n",
              "      <td>01</td>\n",
              "      <td>02</td>\n",
              "      <td>2019 0:00:00</td>\n",
              "    </tr>\n",
              "    <tr>\n",
              "      <th>1</th>\n",
              "      <td>AJWA for Food Industries company    Egypt</td>\n",
              "      <td>AJWA.CA</td>\n",
              "      <td>EGS30211C014</td>\n",
              "      <td>01/03/2019 0:00:00</td>\n",
              "      <td>70720.0</td>\n",
              "      <td>192024.0</td>\n",
              "      <td>27.0</td>\n",
              "      <td>2.71</td>\n",
              "      <td>2.75</td>\n",
              "      <td>2.70</td>\n",
              "      <td>2.72</td>\n",
              "      <td>01</td>\n",
              "      <td>03</td>\n",
              "      <td>2019 0:00:00</td>\n",
              "    </tr>\n",
              "    <tr>\n",
              "      <th>2</th>\n",
              "      <td>AJWA for Food Industries company    Egypt</td>\n",
              "      <td>AJWA.CA</td>\n",
              "      <td>EGS30211C014</td>\n",
              "      <td>01/06/2019 0:00:00</td>\n",
              "      <td>307559.0</td>\n",
              "      <td>869072.0</td>\n",
              "      <td>105.0</td>\n",
              "      <td>2.75</td>\n",
              "      <td>2.86</td>\n",
              "      <td>2.75</td>\n",
              "      <td>2.83</td>\n",
              "      <td>01</td>\n",
              "      <td>06</td>\n",
              "      <td>2019 0:00:00</td>\n",
              "    </tr>\n",
              "    <tr>\n",
              "      <th>3</th>\n",
              "      <td>AJWA for Food Industries company    Egypt</td>\n",
              "      <td>AJWA.CA</td>\n",
              "      <td>EGS30211C014</td>\n",
              "      <td>01/08/2019 0:00:00</td>\n",
              "      <td>152871.0</td>\n",
              "      <td>430560.0</td>\n",
              "      <td>56.0</td>\n",
              "      <td>2.89</td>\n",
              "      <td>2.89</td>\n",
              "      <td>2.78</td>\n",
              "      <td>2.82</td>\n",
              "      <td>01</td>\n",
              "      <td>08</td>\n",
              "      <td>2019 0:00:00</td>\n",
              "    </tr>\n",
              "    <tr>\n",
              "      <th>4</th>\n",
              "      <td>AJWA for Food Industries company    Egypt</td>\n",
              "      <td>AJWA.CA</td>\n",
              "      <td>EGS30211C014</td>\n",
              "      <td>01/09/2019 0:00:00</td>\n",
              "      <td>234405.0</td>\n",
              "      <td>655587.0</td>\n",
              "      <td>47.0</td>\n",
              "      <td>2.84</td>\n",
              "      <td>2.85</td>\n",
              "      <td>2.72</td>\n",
              "      <td>2.80</td>\n",
              "      <td>01</td>\n",
              "      <td>09</td>\n",
              "      <td>2019 0:00:00</td>\n",
              "    </tr>\n",
              "    <tr>\n",
              "      <th>5</th>\n",
              "      <td>AJWA for Food Industries company    Egypt</td>\n",
              "      <td>AJWA.CA</td>\n",
              "      <td>EGS30211C014</td>\n",
              "      <td>01/10/2019 0:00:00</td>\n",
              "      <td>175351.0</td>\n",
              "      <td>481612.0</td>\n",
              "      <td>25.0</td>\n",
              "      <td>2.75</td>\n",
              "      <td>2.81</td>\n",
              "      <td>2.74</td>\n",
              "      <td>2.75</td>\n",
              "      <td>01</td>\n",
              "      <td>10</td>\n",
              "      <td>2019 0:00:00</td>\n",
              "    </tr>\n",
              "    <tr>\n",
              "      <th>6</th>\n",
              "      <td>AJWA for Food Industries company    Egypt</td>\n",
              "      <td>AJWA.CA</td>\n",
              "      <td>EGS30211C014</td>\n",
              "      <td>01/13/2019 0:00:00</td>\n",
              "      <td>8999.0</td>\n",
              "      <td>24773.0</td>\n",
              "      <td>11.0</td>\n",
              "      <td>2.76</td>\n",
              "      <td>2.80</td>\n",
              "      <td>2.74</td>\n",
              "      <td>2.75</td>\n",
              "      <td>01</td>\n",
              "      <td>13</td>\n",
              "      <td>2019 0:00:00</td>\n",
              "    </tr>\n",
              "    <tr>\n",
              "      <th>7</th>\n",
              "      <td>AJWA for Food Industries company    Egypt</td>\n",
              "      <td>AJWA.CA</td>\n",
              "      <td>EGS30211C014</td>\n",
              "      <td>01/14/2019 0:00:00</td>\n",
              "      <td>78863.0</td>\n",
              "      <td>214103.0</td>\n",
              "      <td>27.0</td>\n",
              "      <td>2.74</td>\n",
              "      <td>2.74</td>\n",
              "      <td>2.70</td>\n",
              "      <td>2.71</td>\n",
              "      <td>01</td>\n",
              "      <td>14</td>\n",
              "      <td>2019 0:00:00</td>\n",
              "    </tr>\n",
              "    <tr>\n",
              "      <th>8</th>\n",
              "      <td>AJWA for Food Industries company    Egypt</td>\n",
              "      <td>AJWA.CA</td>\n",
              "      <td>EGS30211C014</td>\n",
              "      <td>01/15/2019 0:00:00</td>\n",
              "      <td>37157.0</td>\n",
              "      <td>101824.0</td>\n",
              "      <td>21.0</td>\n",
              "      <td>2.75</td>\n",
              "      <td>2.75</td>\n",
              "      <td>2.72</td>\n",
              "      <td>2.74</td>\n",
              "      <td>01</td>\n",
              "      <td>15</td>\n",
              "      <td>2019 0:00:00</td>\n",
              "    </tr>\n",
              "    <tr>\n",
              "      <th>9</th>\n",
              "      <td>AJWA for Food Industries company    Egypt</td>\n",
              "      <td>AJWA.CA</td>\n",
              "      <td>EGS30211C014</td>\n",
              "      <td>01/16/2019 0:00:00</td>\n",
              "      <td>103778.0</td>\n",
              "      <td>281244.0</td>\n",
              "      <td>42.0</td>\n",
              "      <td>2.75</td>\n",
              "      <td>2.75</td>\n",
              "      <td>2.70</td>\n",
              "      <td>2.71</td>\n",
              "      <td>01</td>\n",
              "      <td>16</td>\n",
              "      <td>2019 0:00:00</td>\n",
              "    </tr>\n",
              "  </tbody>\n",
              "</table>\n",
              "</div>"
            ],
            "text/plain": [
              "                                    ENG_NAME  REUTERS  ... month          year\n",
              "0  AJWA for Food Industries company    Egypt  AJWA.CA  ...    02  2019 0:00:00\n",
              "1  AJWA for Food Industries company    Egypt  AJWA.CA  ...    03  2019 0:00:00\n",
              "2  AJWA for Food Industries company    Egypt  AJWA.CA  ...    06  2019 0:00:00\n",
              "3  AJWA for Food Industries company    Egypt  AJWA.CA  ...    08  2019 0:00:00\n",
              "4  AJWA for Food Industries company    Egypt  AJWA.CA  ...    09  2019 0:00:00\n",
              "5  AJWA for Food Industries company    Egypt  AJWA.CA  ...    10  2019 0:00:00\n",
              "6  AJWA for Food Industries company    Egypt  AJWA.CA  ...    13  2019 0:00:00\n",
              "7  AJWA for Food Industries company    Egypt  AJWA.CA  ...    14  2019 0:00:00\n",
              "8  AJWA for Food Industries company    Egypt  AJWA.CA  ...    15  2019 0:00:00\n",
              "9  AJWA for Food Industries company    Egypt  AJWA.CA  ...    16  2019 0:00:00\n",
              "\n",
              "[10 rows x 14 columns]"
            ]
          },
          "metadata": {
            "tags": []
          },
          "execution_count": 36
        }
      ]
    },
    {
      "cell_type": "code",
      "metadata": {
        "id": "xAVNrTsIaEUU"
      },
      "source": [
        ""
      ],
      "execution_count": null,
      "outputs": []
    },
    {
      "cell_type": "code",
      "metadata": {
        "colab": {
          "base_uri": "https://localhost:8080/",
          "height": 676
        },
        "id": "2BPddxRvZpLS",
        "outputId": "f819c6a0-088e-4d08-9389-f57f44843245"
      },
      "source": [
        "import seaborn as sns\n",
        "sns.set(rc={'figure.figsize':(15.7,11.27)})\n",
        "cols=[\"SYMBOL_CODE\",\"ENG_NAME\",\"REUTERS\",\"TRADE_DATE\",\"TRADE_VALUE\",\"TRADE_VOLUME\",\"TRADE_COUNT\",\"OPEN_PRICE\",\"HIGH_PRICE\",\"LOW_PRICE\",\"CLOSE_PRICE\"]\n",
        "\n",
        "selected_columns = df1[[\"TRADE_VALUE\",\"TRADE_VOLUME\",\"TRADE_COUNT\",\"OPEN_PRICE\",\"HIGH_PRICE\",\"LOW_PRICE\",\"CLOSE_PRICE\"]]\n",
        "new_df = selected_columns.copy()\n",
        "box_dataset=new_df\n",
        "ax = sns.boxplot(data=box_dataset, orient=\"h\", palette=\"Set2\")"
      ],
      "execution_count": null,
      "outputs": [
        {
          "output_type": "display_data",
          "data": {
            "image/png": "[encoded data removed]",
            "text/plain": [
              "<Figure size 1130.4x811.44 with 1 Axes>"
            ]
          },
          "metadata": {
            "tags": []
          }
        }
      ]
    },
    {
      "cell_type": "code",
      "metadata": {
        "colab": {
          "base_uri": "https://localhost:8080/"
        },
        "id": "2eQ5PfeAzAss",
        "outputId": "453b9409-5404-42db-f44e-6b1583466a80"
      },
      "source": [
        "dataset.shape"
      ],
      "execution_count": null,
      "outputs": [
        {
          "output_type": "execute_result",
          "data": {
            "text/plain": [
              "(89638, 14)"
            ]
          },
          "metadata": {
            "tags": []
          },
          "execution_count": 17
        }
      ]
    },
    {
      "cell_type": "code",
      "metadata": {
        "colab": {
          "base_uri": "https://localhost:8080/"
        },
        "id": "76vgAbldeIVz",
        "outputId": "9d0b9d62-e48b-4588-f353-b412e80a0203"
      },
      "source": [
        "df1.shape"
      ],
      "execution_count": null,
      "outputs": [
        {
          "output_type": "execute_result",
          "data": {
            "text/plain": [
              "(154632, 14)"
            ]
          },
          "metadata": {
            "tags": []
          },
          "execution_count": 13
        }
      ]
    },
    {
      "cell_type": "code",
      "metadata": {
        "id": "q2p4USKfeKc4"
      },
      "source": [
        "dataset=df1"
      ],
      "execution_count": null,
      "outputs": []
    },
    {
      "cell_type": "markdown",
      "metadata": {
        "id": "HUECnlyhSchQ"
      },
      "source": [
        "from here"
      ]
    },
    {
      "cell_type": "code",
      "metadata": {
        "id": "OxTOHVc48z_-"
      },
      "source": [
        "dataset.set_index('TRADE_DATE', inplace=True)"
      ],
      "execution_count": null,
      "outputs": []
    },
    {
      "cell_type": "code",
      "metadata": {
        "id": "lTUcslhTVm6V"
      },
      "source": [
        " dataset=dataset.sort_index()"
      ],
      "execution_count": null,
      "outputs": []
    },
    {
      "cell_type": "code",
      "metadata": {
        "colab": {
          "base_uri": "https://localhost:8080/"
        },
        "id": "XpO4MJJuvzem",
        "outputId": "b9b65c63-8c1e-458d-f3d3-f8186ab96d94"
      },
      "source": [
        "dataset = dataset.drop_duplicates()\n",
        "print(dataset)"
      ],
      "execution_count": null,
      "outputs": [
        {
          "output_type": "stream",
          "text": [
            "                                                     ENG_NAME  ...          year\n",
            "TRADE_DATE                                                     ...              \n",
            "01/02/2019 0:00:00  AJWA for Food Industries company    Egypt  ...  2019 0:00:00\n",
            "01/03/2019 0:00:00  AJWA for Food Industries company    Egypt  ...  2019 0:00:00\n",
            "01/06/2019 0:00:00  AJWA for Food Industries company    Egypt  ...  2019 0:00:00\n",
            "01/08/2019 0:00:00  AJWA for Food Industries company    Egypt  ...  2019 0:00:00\n",
            "01/09/2019 0:00:00  AJWA for Food Industries company    Egypt  ...  2019 0:00:00\n",
            "...                                                       ...  ...           ...\n",
            "12/17/2019 0:00:00  AJWA for Food Industries company    Egypt  ...  2019 0:00:00\n",
            "12/18/2019 0:00:00  AJWA for Food Industries company    Egypt  ...  2019 0:00:00\n",
            "12/19/2019 0:00:00  AJWA for Food Industries company    Egypt  ...  2019 0:00:00\n",
            "12/22/2019 0:00:00  AJWA for Food Industries company    Egypt  ...  2019 0:00:00\n",
            "12/23/2019 0:00:00  AJWA for Food Industries company    Egypt  ...  2019 0:00:00\n",
            "\n",
            "[237 rows x 13 columns]\n"
          ],
          "name": "stdout"
        }
      ]
    },
    {
      "cell_type": "code",
      "metadata": {
        "colab": {
          "base_uri": "https://localhost:8080/"
        },
        "id": "qLg0OuswvnGn",
        "outputId": "d290c151-cf47-41f3-9a24-3a87de7f5c43"
      },
      "source": [
        "dataset.reset_index(inplace=True)\n",
        "print('Number of entries within the input dataframe : ',len(dataset))\n",
        "\n",
        "print('Numbr of unique time entries in input dataframe: ',len(pd.unique(dataset['TRADE_DATE'])))"
      ],
      "execution_count": null,
      "outputs": [
        {
          "output_type": "stream",
          "text": [
            "Number of entries within the input dataframe :  237\n",
            "Numbr of unique time entries in input dataframe:  237\n"
          ],
          "name": "stdout"
        }
      ]
    },
    {
      "cell_type": "code",
      "metadata": {
        "colab": {
          "base_uri": "https://localhost:8080/",
          "height": 144
        },
        "id": "ebmgxI8OwcyS",
        "outputId": "cce5528e-49f8-4ac6-b3a0-cffb4ea2bc9a"
      },
      "source": [
        "pd.concat([dataset.head(1), dataset.tail(1)])"
      ],
      "execution_count": null,
      "outputs": [
        {
          "output_type": "execute_result",
          "data": {
            "text/html": [
              "<div>\n",
              "<style scoped>\n",
              "    .dataframe tbody tr th:only-of-type {\n",
              "        vertical-align: middle;\n",
              "    }\n",
              "\n",
              "    .dataframe tbody tr th {\n",
              "        vertical-align: top;\n",
              "    }\n",
              "\n",
              "    .dataframe thead th {\n",
              "        text-align: right;\n",
              "    }\n",
              "</style>\n",
              "<table border=\"1\" class=\"dataframe\">\n",
              "  <thead>\n",
              "    <tr style=\"text-align: right;\">\n",
              "      <th></th>\n",
              "      <th>TRADE_DATE</th>\n",
              "      <th>ENG_NAME</th>\n",
              "      <th>REUTERS</th>\n",
              "      <th>SYMBOL_CODE</th>\n",
              "      <th>TRADE_VOLUME</th>\n",
              "      <th>TRADE_VALUE</th>\n",
              "      <th>TRADE_COUNT</th>\n",
              "      <th>OPEN_PRICE</th>\n",
              "      <th>HIGH_PRICE</th>\n",
              "      <th>LOW_PRICE</th>\n",
              "      <th>CLOSE_PRICE</th>\n",
              "      <th>day</th>\n",
              "      <th>month</th>\n",
              "      <th>year</th>\n",
              "    </tr>\n",
              "  </thead>\n",
              "  <tbody>\n",
              "    <tr>\n",
              "      <th>0</th>\n",
              "      <td>01/02/2019 0:00:00</td>\n",
              "      <td>AJWA for Food Industries company    Egypt</td>\n",
              "      <td>AJWA.CA</td>\n",
              "      <td>EGS30211C014</td>\n",
              "      <td>55150.0</td>\n",
              "      <td>151263.0</td>\n",
              "      <td>22.0</td>\n",
              "      <td>2.79</td>\n",
              "      <td>2.80</td>\n",
              "      <td>2.72</td>\n",
              "      <td>2.74</td>\n",
              "      <td>01</td>\n",
              "      <td>02</td>\n",
              "      <td>2019 0:00:00</td>\n",
              "    </tr>\n",
              "    <tr>\n",
              "      <th>236</th>\n",
              "      <td>12/23/2019 0:00:00</td>\n",
              "      <td>AJWA for Food Industries company    Egypt</td>\n",
              "      <td>AJWA.CA</td>\n",
              "      <td>EGS30211C014</td>\n",
              "      <td>840658.0</td>\n",
              "      <td>3161521.0</td>\n",
              "      <td>225.0</td>\n",
              "      <td>3.83</td>\n",
              "      <td>3.89</td>\n",
              "      <td>3.70</td>\n",
              "      <td>3.76</td>\n",
              "      <td>12</td>\n",
              "      <td>23</td>\n",
              "      <td>2019 0:00:00</td>\n",
              "    </tr>\n",
              "  </tbody>\n",
              "</table>\n",
              "</div>"
            ],
            "text/plain": [
              "             TRADE_DATE  ...          year\n",
              "0    01/02/2019 0:00:00  ...  2019 0:00:00\n",
              "236  12/23/2019 0:00:00  ...  2019 0:00:00\n",
              "\n",
              "[2 rows x 14 columns]"
            ]
          },
          "metadata": {
            "tags": []
          },
          "execution_count": 43
        }
      ]
    },
    {
      "cell_type": "code",
      "metadata": {
        "id": "l9tDZ6vfxYbv"
      },
      "source": [
        "dataset.set_index('TRADE_DATE', inplace=True)"
      ],
      "execution_count": null,
      "outputs": []
    },
    {
      "cell_type": "code",
      "metadata": {
        "colab": {
          "base_uri": "https://localhost:8080/",
          "height": 388
        },
        "id": "27WoVArsxqoz",
        "outputId": "a547f646-7d77-496f-cea4-2002cb84f63c"
      },
      "source": [
        "dataset.head(10)"
      ],
      "execution_count": null,
      "outputs": [
        {
          "output_type": "execute_result",
          "data": {
            "text/html": [
              "<div>\n",
              "<style scoped>\n",
              "    .dataframe tbody tr th:only-of-type {\n",
              "        vertical-align: middle;\n",
              "    }\n",
              "\n",
              "    .dataframe tbody tr th {\n",
              "        vertical-align: top;\n",
              "    }\n",
              "\n",
              "    .dataframe thead th {\n",
              "        text-align: right;\n",
              "    }\n",
              "</style>\n",
              "<table border=\"1\" class=\"dataframe\">\n",
              "  <thead>\n",
              "    <tr style=\"text-align: right;\">\n",
              "      <th></th>\n",
              "      <th>index</th>\n",
              "      <th>SYMBOL_CODE</th>\n",
              "      <th>ENG_NAME</th>\n",
              "      <th>REUTERS</th>\n",
              "      <th>TRADE_VALUE</th>\n",
              "      <th>TRADE_VOLUME</th>\n",
              "      <th>TRADE_COUNT</th>\n",
              "      <th>OPEN_PRICE</th>\n",
              "      <th>HIGH_PRICE</th>\n",
              "      <th>LOW_PRICE</th>\n",
              "      <th>CLOSE_PRICE</th>\n",
              "      <th>day</th>\n",
              "      <th>month</th>\n",
              "      <th>year</th>\n",
              "    </tr>\n",
              "    <tr>\n",
              "      <th>TRADE_DATE</th>\n",
              "      <th></th>\n",
              "      <th></th>\n",
              "      <th></th>\n",
              "      <th></th>\n",
              "      <th></th>\n",
              "      <th></th>\n",
              "      <th></th>\n",
              "      <th></th>\n",
              "      <th></th>\n",
              "      <th></th>\n",
              "      <th></th>\n",
              "      <th></th>\n",
              "      <th></th>\n",
              "      <th></th>\n",
              "    </tr>\n",
              "  </thead>\n",
              "  <tbody>\n",
              "    <tr>\n",
              "      <th>2011-05-25</th>\n",
              "      <td>0</td>\n",
              "      <td>EGS380P1C010</td>\n",
              "      <td>Alexandria Mineral Oils Company</td>\n",
              "      <td>AMOC.CA</td>\n",
              "      <td>665643.0</td>\n",
              "      <td>10196.0</td>\n",
              "      <td>67.0</td>\n",
              "      <td>65.20</td>\n",
              "      <td>65.69</td>\n",
              "      <td>65.00</td>\n",
              "      <td>65.28</td>\n",
              "      <td>25</td>\n",
              "      <td>5</td>\n",
              "      <td>2011</td>\n",
              "    </tr>\n",
              "    <tr>\n",
              "      <th>2011-05-26</th>\n",
              "      <td>1</td>\n",
              "      <td>EGS380P1C010</td>\n",
              "      <td>Alexandria Mineral Oils Company</td>\n",
              "      <td>AMOC.CA</td>\n",
              "      <td>11852309.0</td>\n",
              "      <td>181756.0</td>\n",
              "      <td>135.0</td>\n",
              "      <td>65.25</td>\n",
              "      <td>66.60</td>\n",
              "      <td>65.00</td>\n",
              "      <td>65.21</td>\n",
              "      <td>26</td>\n",
              "      <td>5</td>\n",
              "      <td>2011</td>\n",
              "    </tr>\n",
              "    <tr>\n",
              "      <th>2011-05-29</th>\n",
              "      <td>2</td>\n",
              "      <td>EGS380P1C010</td>\n",
              "      <td>Alexandria Mineral Oils Company</td>\n",
              "      <td>AMOC.CA</td>\n",
              "      <td>1969884.0</td>\n",
              "      <td>29517.0</td>\n",
              "      <td>83.0</td>\n",
              "      <td>66.49</td>\n",
              "      <td>67.30</td>\n",
              "      <td>66.00</td>\n",
              "      <td>66.74</td>\n",
              "      <td>29</td>\n",
              "      <td>5</td>\n",
              "      <td>2011</td>\n",
              "    </tr>\n",
              "    <tr>\n",
              "      <th>2011-05-30</th>\n",
              "      <td>3</td>\n",
              "      <td>EGS380P1C010</td>\n",
              "      <td>Alexandria Mineral Oils Company</td>\n",
              "      <td>AMOC.CA</td>\n",
              "      <td>1384884.0</td>\n",
              "      <td>20541.0</td>\n",
              "      <td>104.0</td>\n",
              "      <td>73.40</td>\n",
              "      <td>73.40</td>\n",
              "      <td>66.49</td>\n",
              "      <td>67.42</td>\n",
              "      <td>30</td>\n",
              "      <td>5</td>\n",
              "      <td>2011</td>\n",
              "    </tr>\n",
              "    <tr>\n",
              "      <th>2011-05-31</th>\n",
              "      <td>4</td>\n",
              "      <td>EGS380P1C010</td>\n",
              "      <td>Alexandria Mineral Oils Company</td>\n",
              "      <td>AMOC.CA</td>\n",
              "      <td>2406473.0</td>\n",
              "      <td>35479.0</td>\n",
              "      <td>152.0</td>\n",
              "      <td>74.16</td>\n",
              "      <td>74.16</td>\n",
              "      <td>67.00</td>\n",
              "      <td>67.83</td>\n",
              "      <td>31</td>\n",
              "      <td>5</td>\n",
              "      <td>2011</td>\n",
              "    </tr>\n",
              "    <tr>\n",
              "      <th>2011-06-01</th>\n",
              "      <td>5</td>\n",
              "      <td>EGS380P1C010</td>\n",
              "      <td>Alexandria Mineral Oils Company</td>\n",
              "      <td>AMOC.CA</td>\n",
              "      <td>496237.0</td>\n",
              "      <td>7326.0</td>\n",
              "      <td>40.0</td>\n",
              "      <td>67.90</td>\n",
              "      <td>67.90</td>\n",
              "      <td>67.35</td>\n",
              "      <td>67.74</td>\n",
              "      <td>1</td>\n",
              "      <td>6</td>\n",
              "      <td>2011</td>\n",
              "    </tr>\n",
              "    <tr>\n",
              "      <th>2011-06-02</th>\n",
              "      <td>6</td>\n",
              "      <td>EGS380P1C010</td>\n",
              "      <td>Alexandria Mineral Oils Company</td>\n",
              "      <td>AMOC.CA</td>\n",
              "      <td>2047144.0</td>\n",
              "      <td>30839.0</td>\n",
              "      <td>137.0</td>\n",
              "      <td>67.00</td>\n",
              "      <td>67.40</td>\n",
              "      <td>65.05</td>\n",
              "      <td>66.38</td>\n",
              "      <td>2</td>\n",
              "      <td>6</td>\n",
              "      <td>2011</td>\n",
              "    </tr>\n",
              "    <tr>\n",
              "      <th>2011-06-05</th>\n",
              "      <td>7</td>\n",
              "      <td>EGS380P1C010</td>\n",
              "      <td>Alexandria Mineral Oils Company</td>\n",
              "      <td>AMOC.CA</td>\n",
              "      <td>3249859.0</td>\n",
              "      <td>46878.0</td>\n",
              "      <td>185.0</td>\n",
              "      <td>66.52</td>\n",
              "      <td>70.50</td>\n",
              "      <td>66.52</td>\n",
              "      <td>69.33</td>\n",
              "      <td>5</td>\n",
              "      <td>6</td>\n",
              "      <td>2011</td>\n",
              "    </tr>\n",
              "    <tr>\n",
              "      <th>2011-06-06</th>\n",
              "      <td>8</td>\n",
              "      <td>EGS380P1C010</td>\n",
              "      <td>Alexandria Mineral Oils Company</td>\n",
              "      <td>AMOC.CA</td>\n",
              "      <td>1947137.0</td>\n",
              "      <td>27857.0</td>\n",
              "      <td>104.0</td>\n",
              "      <td>76.26</td>\n",
              "      <td>76.26</td>\n",
              "      <td>69.31</td>\n",
              "      <td>69.90</td>\n",
              "      <td>6</td>\n",
              "      <td>6</td>\n",
              "      <td>2011</td>\n",
              "    </tr>\n",
              "    <tr>\n",
              "      <th>2011-06-07</th>\n",
              "      <td>9</td>\n",
              "      <td>EGS380P1C010</td>\n",
              "      <td>Alexandria Mineral Oils Company</td>\n",
              "      <td>AMOC.CA</td>\n",
              "      <td>665377.0</td>\n",
              "      <td>9652.0</td>\n",
              "      <td>67.0</td>\n",
              "      <td>69.97</td>\n",
              "      <td>69.97</td>\n",
              "      <td>68.55</td>\n",
              "      <td>68.94</td>\n",
              "      <td>7</td>\n",
              "      <td>6</td>\n",
              "      <td>2011</td>\n",
              "    </tr>\n",
              "  </tbody>\n",
              "</table>\n",
              "</div>"
            ],
            "text/plain": [
              "            index   SYMBOL_CODE  ... month  year\n",
              "TRADE_DATE                       ...            \n",
              "2011-05-25      0  EGS380P1C010  ...     5  2011\n",
              "2011-05-26      1  EGS380P1C010  ...     5  2011\n",
              "2011-05-29      2  EGS380P1C010  ...     5  2011\n",
              "2011-05-30      3  EGS380P1C010  ...     5  2011\n",
              "2011-05-31      4  EGS380P1C010  ...     5  2011\n",
              "2011-06-01      5  EGS380P1C010  ...     6  2011\n",
              "2011-06-02      6  EGS380P1C010  ...     6  2011\n",
              "2011-06-05      7  EGS380P1C010  ...     6  2011\n",
              "2011-06-06      8  EGS380P1C010  ...     6  2011\n",
              "2011-06-07      9  EGS380P1C010  ...     6  2011\n",
              "\n",
              "[10 rows x 14 columns]"
            ]
          },
          "metadata": {
            "tags": []
          },
          "execution_count": 46
        }
      ]
    },
    {
      "cell_type": "code",
      "metadata": {
        "id": "62k1UlB_yxzO"
      },
      "source": [
        "dataset.index = pd.to_datetime(dataset.index)\n"
      ],
      "execution_count": null,
      "outputs": []
    },
    {
      "cell_type": "code",
      "metadata": {
        "id": "onM5LqLyw9nK"
      },
      "source": [
        "dataset = dataset.resample('D').sum().fillna('ffill')\n"
      ],
      "execution_count": null,
      "outputs": []
    },
    {
      "cell_type": "code",
      "metadata": {
        "colab": {
          "base_uri": "https://localhost:8080/",
          "height": 388
        },
        "id": "pqcbzkOCy5oR",
        "outputId": "4d0581fb-23dd-42df-cb08-60fe390113ad"
      },
      "source": [
        "dataset.head(10)"
      ],
      "execution_count": null,
      "outputs": [
        {
          "output_type": "execute_result",
          "data": {
            "text/html": [
              "<div>\n",
              "<style scoped>\n",
              "    .dataframe tbody tr th:only-of-type {\n",
              "        vertical-align: middle;\n",
              "    }\n",
              "\n",
              "    .dataframe tbody tr th {\n",
              "        vertical-align: top;\n",
              "    }\n",
              "\n",
              "    .dataframe thead th {\n",
              "        text-align: right;\n",
              "    }\n",
              "</style>\n",
              "<table border=\"1\" class=\"dataframe\">\n",
              "  <thead>\n",
              "    <tr style=\"text-align: right;\">\n",
              "      <th></th>\n",
              "      <th>TRADE_VALUE</th>\n",
              "      <th>TRADE_VOLUME</th>\n",
              "      <th>TRADE_COUNT</th>\n",
              "      <th>OPEN_PRICE</th>\n",
              "      <th>HIGH_PRICE</th>\n",
              "      <th>LOW_PRICE</th>\n",
              "      <th>CLOSE_PRICE</th>\n",
              "    </tr>\n",
              "    <tr>\n",
              "      <th>TRADE_DATE</th>\n",
              "      <th></th>\n",
              "      <th></th>\n",
              "      <th></th>\n",
              "      <th></th>\n",
              "      <th></th>\n",
              "      <th></th>\n",
              "      <th></th>\n",
              "    </tr>\n",
              "  </thead>\n",
              "  <tbody>\n",
              "    <tr>\n",
              "      <th>2018-01-02</th>\n",
              "      <td>17412181.44</td>\n",
              "      <td>1260791.0</td>\n",
              "      <td>624.0</td>\n",
              "      <td>7.373676</td>\n",
              "      <td>7.480164</td>\n",
              "      <td>7.245791</td>\n",
              "      <td>7.35501</td>\n",
              "    </tr>\n",
              "    <tr>\n",
              "      <th>2018-01-03</th>\n",
              "      <td>23083953.37</td>\n",
              "      <td>1703089.0</td>\n",
              "      <td>973.0</td>\n",
              "      <td>7.373676</td>\n",
              "      <td>7.480164</td>\n",
              "      <td>7.245791</td>\n",
              "      <td>7.35501</td>\n",
              "    </tr>\n",
              "    <tr>\n",
              "      <th>2018-01-04</th>\n",
              "      <td>21016382.81</td>\n",
              "      <td>2384814.0</td>\n",
              "      <td>1008.0</td>\n",
              "      <td>8.990000</td>\n",
              "      <td>9.130000</td>\n",
              "      <td>8.580000</td>\n",
              "      <td>8.81000</td>\n",
              "    </tr>\n",
              "    <tr>\n",
              "      <th>2018-01-05</th>\n",
              "      <td>0.00</td>\n",
              "      <td>0.0</td>\n",
              "      <td>0.0</td>\n",
              "      <td>0.000000</td>\n",
              "      <td>0.000000</td>\n",
              "      <td>0.000000</td>\n",
              "      <td>0.00000</td>\n",
              "    </tr>\n",
              "    <tr>\n",
              "      <th>2018-01-06</th>\n",
              "      <td>0.00</td>\n",
              "      <td>0.0</td>\n",
              "      <td>0.0</td>\n",
              "      <td>0.000000</td>\n",
              "      <td>0.000000</td>\n",
              "      <td>0.000000</td>\n",
              "      <td>0.00000</td>\n",
              "    </tr>\n",
              "    <tr>\n",
              "      <th>2018-01-07</th>\n",
              "      <td>0.00</td>\n",
              "      <td>0.0</td>\n",
              "      <td>0.0</td>\n",
              "      <td>0.000000</td>\n",
              "      <td>0.000000</td>\n",
              "      <td>0.000000</td>\n",
              "      <td>0.00000</td>\n",
              "    </tr>\n",
              "    <tr>\n",
              "      <th>2018-01-08</th>\n",
              "      <td>12744744.49</td>\n",
              "      <td>1467480.0</td>\n",
              "      <td>646.0</td>\n",
              "      <td>8.800000</td>\n",
              "      <td>8.850000</td>\n",
              "      <td>8.600000</td>\n",
              "      <td>8.68000</td>\n",
              "    </tr>\n",
              "    <tr>\n",
              "      <th>2018-01-09</th>\n",
              "      <td>9754929.55</td>\n",
              "      <td>1119613.0</td>\n",
              "      <td>476.0</td>\n",
              "      <td>8.790000</td>\n",
              "      <td>8.810000</td>\n",
              "      <td>8.650000</td>\n",
              "      <td>8.71000</td>\n",
              "    </tr>\n",
              "    <tr>\n",
              "      <th>2018-01-10</th>\n",
              "      <td>12627450.01</td>\n",
              "      <td>1434926.0</td>\n",
              "      <td>571.0</td>\n",
              "      <td>8.720000</td>\n",
              "      <td>8.890000</td>\n",
              "      <td>8.670000</td>\n",
              "      <td>8.80000</td>\n",
              "    </tr>\n",
              "    <tr>\n",
              "      <th>2018-01-11</th>\n",
              "      <td>27171772.13</td>\n",
              "      <td>2987175.0</td>\n",
              "      <td>1274.0</td>\n",
              "      <td>8.840000</td>\n",
              "      <td>9.200000</td>\n",
              "      <td>8.840000</td>\n",
              "      <td>9.10000</td>\n",
              "    </tr>\n",
              "  </tbody>\n",
              "</table>\n",
              "</div>"
            ],
            "text/plain": [
              "            TRADE_VALUE  TRADE_VOLUME  ...  LOW_PRICE  CLOSE_PRICE\n",
              "TRADE_DATE                             ...                        \n",
              "2018-01-02  17412181.44     1260791.0  ...   7.245791      7.35501\n",
              "2018-01-03  23083953.37     1703089.0  ...   7.245791      7.35501\n",
              "2018-01-04  21016382.81     2384814.0  ...   8.580000      8.81000\n",
              "2018-01-05         0.00           0.0  ...   0.000000      0.00000\n",
              "2018-01-06         0.00           0.0  ...   0.000000      0.00000\n",
              "2018-01-07         0.00           0.0  ...   0.000000      0.00000\n",
              "2018-01-08  12744744.49     1467480.0  ...   8.600000      8.68000\n",
              "2018-01-09   9754929.55     1119613.0  ...   8.650000      8.71000\n",
              "2018-01-10  12627450.01     1434926.0  ...   8.670000      8.80000\n",
              "2018-01-11  27171772.13     2987175.0  ...   8.840000      9.10000\n",
              "\n",
              "[10 rows x 7 columns]"
            ]
          },
          "metadata": {
            "tags": []
          },
          "execution_count": 29
        }
      ]
    },
    {
      "cell_type": "code",
      "metadata": {
        "id": "h2tod3Vx2vnS"
      },
      "source": [
        "dataset=dataset.mask(dataset==0.0, None).ffill()"
      ],
      "execution_count": null,
      "outputs": []
    },
    {
      "cell_type": "code",
      "metadata": {
        "colab": {
          "base_uri": "https://localhost:8080/",
          "height": 388
        },
        "id": "-w7hNuvA86e3",
        "outputId": "77929e7b-a101-4cfc-be3e-14ef506c82eb"
      },
      "source": [
        "dataset.head(10)"
      ],
      "execution_count": null,
      "outputs": [
        {
          "output_type": "execute_result",
          "data": {
            "text/html": [
              "<div>\n",
              "<style scoped>\n",
              "    .dataframe tbody tr th:only-of-type {\n",
              "        vertical-align: middle;\n",
              "    }\n",
              "\n",
              "    .dataframe tbody tr th {\n",
              "        vertical-align: top;\n",
              "    }\n",
              "\n",
              "    .dataframe thead th {\n",
              "        text-align: right;\n",
              "    }\n",
              "</style>\n",
              "<table border=\"1\" class=\"dataframe\">\n",
              "  <thead>\n",
              "    <tr style=\"text-align: right;\">\n",
              "      <th></th>\n",
              "      <th>TRADE_VOLUME</th>\n",
              "      <th>TRADE_VALUE</th>\n",
              "      <th>TRADE_COUNT</th>\n",
              "      <th>OPEN_PRICE</th>\n",
              "      <th>HIGH_PRICE</th>\n",
              "      <th>LOW_PRICE</th>\n",
              "      <th>CLOSE_PRICE</th>\n",
              "    </tr>\n",
              "    <tr>\n",
              "      <th>TRADE_DATE</th>\n",
              "      <th></th>\n",
              "      <th></th>\n",
              "      <th></th>\n",
              "      <th></th>\n",
              "      <th></th>\n",
              "      <th></th>\n",
              "      <th></th>\n",
              "    </tr>\n",
              "  </thead>\n",
              "  <tbody>\n",
              "    <tr>\n",
              "      <th>2019-01-02</th>\n",
              "      <td>55150.0</td>\n",
              "      <td>151263.0</td>\n",
              "      <td>22.0</td>\n",
              "      <td>2.79</td>\n",
              "      <td>2.80</td>\n",
              "      <td>2.72</td>\n",
              "      <td>2.74</td>\n",
              "    </tr>\n",
              "    <tr>\n",
              "      <th>2019-01-03</th>\n",
              "      <td>70720.0</td>\n",
              "      <td>192024.0</td>\n",
              "      <td>27.0</td>\n",
              "      <td>2.71</td>\n",
              "      <td>2.75</td>\n",
              "      <td>2.70</td>\n",
              "      <td>2.72</td>\n",
              "    </tr>\n",
              "    <tr>\n",
              "      <th>2019-01-04</th>\n",
              "      <td>70720.0</td>\n",
              "      <td>192024.0</td>\n",
              "      <td>27.0</td>\n",
              "      <td>2.71</td>\n",
              "      <td>2.75</td>\n",
              "      <td>2.70</td>\n",
              "      <td>2.72</td>\n",
              "    </tr>\n",
              "    <tr>\n",
              "      <th>2019-01-05</th>\n",
              "      <td>70720.0</td>\n",
              "      <td>192024.0</td>\n",
              "      <td>27.0</td>\n",
              "      <td>2.71</td>\n",
              "      <td>2.75</td>\n",
              "      <td>2.70</td>\n",
              "      <td>2.72</td>\n",
              "    </tr>\n",
              "    <tr>\n",
              "      <th>2019-01-06</th>\n",
              "      <td>307559.0</td>\n",
              "      <td>869072.0</td>\n",
              "      <td>105.0</td>\n",
              "      <td>2.75</td>\n",
              "      <td>2.86</td>\n",
              "      <td>2.75</td>\n",
              "      <td>2.83</td>\n",
              "    </tr>\n",
              "    <tr>\n",
              "      <th>2019-01-07</th>\n",
              "      <td>307559.0</td>\n",
              "      <td>869072.0</td>\n",
              "      <td>105.0</td>\n",
              "      <td>2.75</td>\n",
              "      <td>2.86</td>\n",
              "      <td>2.75</td>\n",
              "      <td>2.83</td>\n",
              "    </tr>\n",
              "    <tr>\n",
              "      <th>2019-01-08</th>\n",
              "      <td>152871.0</td>\n",
              "      <td>430560.0</td>\n",
              "      <td>56.0</td>\n",
              "      <td>2.89</td>\n",
              "      <td>2.89</td>\n",
              "      <td>2.78</td>\n",
              "      <td>2.82</td>\n",
              "    </tr>\n",
              "    <tr>\n",
              "      <th>2019-01-09</th>\n",
              "      <td>234405.0</td>\n",
              "      <td>655587.0</td>\n",
              "      <td>47.0</td>\n",
              "      <td>2.84</td>\n",
              "      <td>2.85</td>\n",
              "      <td>2.72</td>\n",
              "      <td>2.80</td>\n",
              "    </tr>\n",
              "    <tr>\n",
              "      <th>2019-01-10</th>\n",
              "      <td>175351.0</td>\n",
              "      <td>481612.0</td>\n",
              "      <td>25.0</td>\n",
              "      <td>2.75</td>\n",
              "      <td>2.81</td>\n",
              "      <td>2.74</td>\n",
              "      <td>2.75</td>\n",
              "    </tr>\n",
              "    <tr>\n",
              "      <th>2019-01-11</th>\n",
              "      <td>175351.0</td>\n",
              "      <td>481612.0</td>\n",
              "      <td>25.0</td>\n",
              "      <td>2.75</td>\n",
              "      <td>2.81</td>\n",
              "      <td>2.74</td>\n",
              "      <td>2.75</td>\n",
              "    </tr>\n",
              "  </tbody>\n",
              "</table>\n",
              "</div>"
            ],
            "text/plain": [
              "            TRADE_VOLUME  TRADE_VALUE  ...  LOW_PRICE  CLOSE_PRICE\n",
              "TRADE_DATE                             ...                        \n",
              "2019-01-02       55150.0     151263.0  ...       2.72         2.74\n",
              "2019-01-03       70720.0     192024.0  ...       2.70         2.72\n",
              "2019-01-04       70720.0     192024.0  ...       2.70         2.72\n",
              "2019-01-05       70720.0     192024.0  ...       2.70         2.72\n",
              "2019-01-06      307559.0     869072.0  ...       2.75         2.83\n",
              "2019-01-07      307559.0     869072.0  ...       2.75         2.83\n",
              "2019-01-08      152871.0     430560.0  ...       2.78         2.82\n",
              "2019-01-09      234405.0     655587.0  ...       2.72         2.80\n",
              "2019-01-10      175351.0     481612.0  ...       2.74         2.75\n",
              "2019-01-11      175351.0     481612.0  ...       2.74         2.75\n",
              "\n",
              "[10 rows x 7 columns]"
            ]
          },
          "metadata": {
            "tags": []
          },
          "execution_count": 50
        }
      ]
    },
    {
      "cell_type": "code",
      "metadata": {
        "colab": {
          "base_uri": "https://localhost:8080/",
          "height": 732
        },
        "id": "PIvk99Pa-iR6",
        "outputId": "ad8d093f-0148-42e8-9efc-b81f46f0961f"
      },
      "source": [
        "import matplotlib.pyplot as plt\n",
        "dataset.CLOSE_PRICE.plot(figsize=(40,20))\n",
        "plt.show()"
      ],
      "execution_count": null,
      "outputs": [
        {
          "output_type": "display_data",
          "data": {
            "image/png": "[encoded data removed]",
            "text/plain": [
              "<Figure size 2880x1440 with 1 Axes>"
            ]
          },
          "metadata": {
            "tags": []
          }
        }
      ]
    },
    {
      "cell_type": "markdown",
      "metadata": {
        "id": "XHO6aN5FSkG0"
      },
      "source": [
        "till here"
      ]
    },
    {
      "cell_type": "code",
      "metadata": {
        "id": "YjfR9NHTeRjX"
      },
      "source": [
        "import seaborn as sns\n",
        "def correlation(data):\n",
        "  \n",
        "  corr=data.corr()\n",
        "  sns.heatmap(corr,annot=True)\n",
        "  plt.show()"
      ],
      "execution_count": null,
      "outputs": []
    },
    {
      "cell_type": "code",
      "metadata": {
        "colab": {
          "base_uri": "https://localhost:8080/",
          "height": 668
        },
        "id": "805nr9KBeh4Y",
        "outputId": "60263e6b-25d8-454a-d438-ed8f04fd5c8f"
      },
      "source": [
        "correlation(dataset)"
      ],
      "execution_count": null,
      "outputs": [
        {
          "output_type": "display_data",
          "data": {
            "image/png": "[encoded data removed]",
            "text/plain": [
              "<Figure size 1130.4x811.44 with 2 Axes>"
            ]
          },
          "metadata": {
            "tags": []
          }
        }
      ]
    },
    {
      "cell_type": "markdown",
      "metadata": {
        "id": "FRU3V-zj3Jup"
      },
      "source": [
        "DESCRIPTIVE STATISTICS"
      ]
    },
    {
      "cell_type": "code",
      "metadata": {
        "colab": {
          "base_uri": "https://localhost:8080/",
          "height": 295
        },
        "id": "Mq0GrJcu3Iys",
        "outputId": "d71a55f9-007e-456d-9240-0ac7afda03e9"
      },
      "source": [
        "dataset.describe()"
      ],
      "execution_count": null,
      "outputs": [
        {
          "output_type": "execute_result",
          "data": {
            "text/html": [
              "<div>\n",
              "<style scoped>\n",
              "    .dataframe tbody tr th:only-of-type {\n",
              "        vertical-align: middle;\n",
              "    }\n",
              "\n",
              "    .dataframe tbody tr th {\n",
              "        vertical-align: top;\n",
              "    }\n",
              "\n",
              "    .dataframe thead th {\n",
              "        text-align: right;\n",
              "    }\n",
              "</style>\n",
              "<table border=\"1\" class=\"dataframe\">\n",
              "  <thead>\n",
              "    <tr style=\"text-align: right;\">\n",
              "      <th></th>\n",
              "      <th>TRADE_VOLUME</th>\n",
              "      <th>TRADE_VALUE</th>\n",
              "      <th>TRADE_COUNT</th>\n",
              "      <th>OPEN_PRICE</th>\n",
              "      <th>HIGH_PRICE</th>\n",
              "      <th>LOW_PRICE</th>\n",
              "      <th>CLOSE_PRICE</th>\n",
              "    </tr>\n",
              "  </thead>\n",
              "  <tbody>\n",
              "    <tr>\n",
              "      <th>count</th>\n",
              "      <td>3.560000e+02</td>\n",
              "      <td>3.560000e+02</td>\n",
              "      <td>356.000000</td>\n",
              "      <td>356.000000</td>\n",
              "      <td>356.000000</td>\n",
              "      <td>356.000000</td>\n",
              "      <td>356.000000</td>\n",
              "    </tr>\n",
              "    <tr>\n",
              "      <th>mean</th>\n",
              "      <td>2.165793e+05</td>\n",
              "      <td>7.551462e+05</td>\n",
              "      <td>63.022010</td>\n",
              "      <td>3.198788</td>\n",
              "      <td>3.274647</td>\n",
              "      <td>3.135576</td>\n",
              "      <td>3.207386</td>\n",
              "    </tr>\n",
              "    <tr>\n",
              "      <th>std</th>\n",
              "      <td>2.316750e+05</td>\n",
              "      <td>8.628472e+05</td>\n",
              "      <td>57.554411</td>\n",
              "      <td>0.339701</td>\n",
              "      <td>0.354175</td>\n",
              "      <td>0.319575</td>\n",
              "      <td>0.337190</td>\n",
              "    </tr>\n",
              "    <tr>\n",
              "      <th>min</th>\n",
              "      <td>8.200000e+01</td>\n",
              "      <td>2.360000e+02</td>\n",
              "      <td>1.000000</td>\n",
              "      <td>2.650000</td>\n",
              "      <td>2.740000</td>\n",
              "      <td>2.600000</td>\n",
              "      <td>2.670000</td>\n",
              "    </tr>\n",
              "    <tr>\n",
              "      <th>25%</th>\n",
              "      <td>4.253400e+04</td>\n",
              "      <td>1.208915e+05</td>\n",
              "      <td>21.000000</td>\n",
              "      <td>2.900000</td>\n",
              "      <td>2.960000</td>\n",
              "      <td>2.870000</td>\n",
              "      <td>2.920000</td>\n",
              "    </tr>\n",
              "    <tr>\n",
              "      <th>50%</th>\n",
              "      <td>1.257540e+05</td>\n",
              "      <td>3.962025e+05</td>\n",
              "      <td>41.000000</td>\n",
              "      <td>3.150000</td>\n",
              "      <td>3.190000</td>\n",
              "      <td>3.070000</td>\n",
              "      <td>3.140000</td>\n",
              "    </tr>\n",
              "    <tr>\n",
              "      <th>75%</th>\n",
              "      <td>3.078029e+05</td>\n",
              "      <td>1.076395e+06</td>\n",
              "      <td>97.250000</td>\n",
              "      <td>3.470000</td>\n",
              "      <td>3.572500</td>\n",
              "      <td>3.400000</td>\n",
              "      <td>3.482500</td>\n",
              "    </tr>\n",
              "    <tr>\n",
              "      <th>max</th>\n",
              "      <td>1.111614e+06</td>\n",
              "      <td>4.073429e+06</td>\n",
              "      <td>235.000000</td>\n",
              "      <td>3.900000</td>\n",
              "      <td>4.000000</td>\n",
              "      <td>3.760000</td>\n",
              "      <td>3.870000</td>\n",
              "    </tr>\n",
              "  </tbody>\n",
              "</table>\n",
              "</div>"
            ],
            "text/plain": [
              "       TRADE_VOLUME   TRADE_VALUE  ...   LOW_PRICE  CLOSE_PRICE\n",
              "count  3.560000e+02  3.560000e+02  ...  356.000000   356.000000\n",
              "mean   2.165793e+05  7.551462e+05  ...    3.135576     3.207386\n",
              "std    2.316750e+05  8.628472e+05  ...    0.319575     0.337190\n",
              "min    8.200000e+01  2.360000e+02  ...    2.600000     2.670000\n",
              "25%    4.253400e+04  1.208915e+05  ...    2.870000     2.920000\n",
              "50%    1.257540e+05  3.962025e+05  ...    3.070000     3.140000\n",
              "75%    3.078029e+05  1.076395e+06  ...    3.400000     3.482500\n",
              "max    1.111614e+06  4.073429e+06  ...    3.760000     3.870000\n",
              "\n",
              "[8 rows x 7 columns]"
            ]
          },
          "metadata": {
            "tags": []
          },
          "execution_count": 54
        }
      ]
    },
    {
      "cell_type": "markdown",
      "metadata": {
        "id": "yUseRWD63dpb"
      },
      "source": [
        "BASIC FEATURE ENGINEERING"
      ]
    },
    {
      "cell_type": "code",
      "metadata": {
        "colab": {
          "base_uri": "https://localhost:8080/",
          "height": 388
        },
        "id": "tM1tjBoU4Hzp",
        "outputId": "b108fbd8-a373-4d1e-88d5-f4043fa20677"
      },
      "source": [
        "dataset.head(10)"
      ],
      "execution_count": null,
      "outputs": [
        {
          "output_type": "execute_result",
          "data": {
            "text/html": [
              "<div>\n",
              "<style scoped>\n",
              "    .dataframe tbody tr th:only-of-type {\n",
              "        vertical-align: middle;\n",
              "    }\n",
              "\n",
              "    .dataframe tbody tr th {\n",
              "        vertical-align: top;\n",
              "    }\n",
              "\n",
              "    .dataframe thead th {\n",
              "        text-align: right;\n",
              "    }\n",
              "</style>\n",
              "<table border=\"1\" class=\"dataframe\">\n",
              "  <thead>\n",
              "    <tr style=\"text-align: right;\">\n",
              "      <th></th>\n",
              "      <th>TRADE_VALUE</th>\n",
              "      <th>TRADE_VOLUME</th>\n",
              "      <th>TRADE_COUNT</th>\n",
              "      <th>OPEN_PRICE</th>\n",
              "      <th>HIGH_PRICE</th>\n",
              "      <th>LOW_PRICE</th>\n",
              "      <th>CLOSE_PRICE</th>\n",
              "    </tr>\n",
              "    <tr>\n",
              "      <th>TRADE_DATE</th>\n",
              "      <th></th>\n",
              "      <th></th>\n",
              "      <th></th>\n",
              "      <th></th>\n",
              "      <th></th>\n",
              "      <th></th>\n",
              "      <th></th>\n",
              "    </tr>\n",
              "  </thead>\n",
              "  <tbody>\n",
              "    <tr>\n",
              "      <th>2018-01-02</th>\n",
              "      <td>17412181.44</td>\n",
              "      <td>1260791.0</td>\n",
              "      <td>624.0</td>\n",
              "      <td>7.373676</td>\n",
              "      <td>7.480164</td>\n",
              "      <td>7.245791</td>\n",
              "      <td>7.35501</td>\n",
              "    </tr>\n",
              "    <tr>\n",
              "      <th>2018-01-03</th>\n",
              "      <td>23083953.37</td>\n",
              "      <td>1703089.0</td>\n",
              "      <td>973.0</td>\n",
              "      <td>7.373676</td>\n",
              "      <td>7.480164</td>\n",
              "      <td>7.245791</td>\n",
              "      <td>7.35501</td>\n",
              "    </tr>\n",
              "    <tr>\n",
              "      <th>2018-01-04</th>\n",
              "      <td>21016382.81</td>\n",
              "      <td>2384814.0</td>\n",
              "      <td>1008.0</td>\n",
              "      <td>8.990000</td>\n",
              "      <td>9.130000</td>\n",
              "      <td>8.580000</td>\n",
              "      <td>8.81000</td>\n",
              "    </tr>\n",
              "    <tr>\n",
              "      <th>2018-01-05</th>\n",
              "      <td>21016382.81</td>\n",
              "      <td>2384814.0</td>\n",
              "      <td>1008.0</td>\n",
              "      <td>8.990000</td>\n",
              "      <td>9.130000</td>\n",
              "      <td>8.580000</td>\n",
              "      <td>8.81000</td>\n",
              "    </tr>\n",
              "    <tr>\n",
              "      <th>2018-01-06</th>\n",
              "      <td>21016382.81</td>\n",
              "      <td>2384814.0</td>\n",
              "      <td>1008.0</td>\n",
              "      <td>8.990000</td>\n",
              "      <td>9.130000</td>\n",
              "      <td>8.580000</td>\n",
              "      <td>8.81000</td>\n",
              "    </tr>\n",
              "    <tr>\n",
              "      <th>2018-01-07</th>\n",
              "      <td>21016382.81</td>\n",
              "      <td>2384814.0</td>\n",
              "      <td>1008.0</td>\n",
              "      <td>8.990000</td>\n",
              "      <td>9.130000</td>\n",
              "      <td>8.580000</td>\n",
              "      <td>8.81000</td>\n",
              "    </tr>\n",
              "    <tr>\n",
              "      <th>2018-01-08</th>\n",
              "      <td>12744744.49</td>\n",
              "      <td>1467480.0</td>\n",
              "      <td>646.0</td>\n",
              "      <td>8.800000</td>\n",
              "      <td>8.850000</td>\n",
              "      <td>8.600000</td>\n",
              "      <td>8.68000</td>\n",
              "    </tr>\n",
              "    <tr>\n",
              "      <th>2018-01-09</th>\n",
              "      <td>9754929.55</td>\n",
              "      <td>1119613.0</td>\n",
              "      <td>476.0</td>\n",
              "      <td>8.790000</td>\n",
              "      <td>8.810000</td>\n",
              "      <td>8.650000</td>\n",
              "      <td>8.71000</td>\n",
              "    </tr>\n",
              "    <tr>\n",
              "      <th>2018-01-10</th>\n",
              "      <td>12627450.01</td>\n",
              "      <td>1434926.0</td>\n",
              "      <td>571.0</td>\n",
              "      <td>8.720000</td>\n",
              "      <td>8.890000</td>\n",
              "      <td>8.670000</td>\n",
              "      <td>8.80000</td>\n",
              "    </tr>\n",
              "    <tr>\n",
              "      <th>2018-01-11</th>\n",
              "      <td>27171772.13</td>\n",
              "      <td>2987175.0</td>\n",
              "      <td>1274.0</td>\n",
              "      <td>8.840000</td>\n",
              "      <td>9.200000</td>\n",
              "      <td>8.840000</td>\n",
              "      <td>9.10000</td>\n",
              "    </tr>\n",
              "  </tbody>\n",
              "</table>\n",
              "</div>"
            ],
            "text/plain": [
              "            TRADE_VALUE  TRADE_VOLUME  ...  LOW_PRICE  CLOSE_PRICE\n",
              "TRADE_DATE                             ...                        \n",
              "2018-01-02  17412181.44     1260791.0  ...   7.245791      7.35501\n",
              "2018-01-03  23083953.37     1703089.0  ...   7.245791      7.35501\n",
              "2018-01-04  21016382.81     2384814.0  ...   8.580000      8.81000\n",
              "2018-01-05  21016382.81     2384814.0  ...   8.580000      8.81000\n",
              "2018-01-06  21016382.81     2384814.0  ...   8.580000      8.81000\n",
              "2018-01-07  21016382.81     2384814.0  ...   8.580000      8.81000\n",
              "2018-01-08  12744744.49     1467480.0  ...   8.600000      8.68000\n",
              "2018-01-09   9754929.55     1119613.0  ...   8.650000      8.71000\n",
              "2018-01-10  12627450.01     1434926.0  ...   8.670000      8.80000\n",
              "2018-01-11  27171772.13     2987175.0  ...   8.840000      9.10000\n",
              "\n",
              "[10 rows x 7 columns]"
            ]
          },
          "metadata": {
            "tags": []
          },
          "execution_count": 37
        }
      ]
    },
    {
      "cell_type": "code",
      "metadata": {
        "id": "7p5poJ4LuJV8"
      },
      "source": [
        "selected_columns = dataset[[\"CLOSE_PRICE\",\"TRADE_VOLUME\",\"TRADE_COUNT\",\"OPEN_PRICE\",\"HIGH_PRICE\",\"LOW_PRICE\",\"TRADE_VALUE\"\t]]\n",
        "new_df = selected_columns.copy()\n",
        "dataset=new_df"
      ],
      "execution_count": null,
      "outputs": []
    },
    {
      "cell_type": "code",
      "metadata": {
        "colab": {
          "base_uri": "https://localhost:8080/",
          "height": 350
        },
        "id": "9zJjbDa3zfB_",
        "outputId": "72f7ec9f-7b9f-48ac-8dbd-fa5dc661ab05"
      },
      "source": [
        "correlation(dataset)"
      ],
      "execution_count": null,
      "outputs": [
        {
          "output_type": "display_data",
          "data": {
            "image/png": "[encoded data removed]",
            "text/plain": [
              "<Figure size 432x288 with 2 Axes>"
            ]
          },
          "metadata": {
            "tags": [],
            "needs_background": "light"
          }
        }
      ]
    },
    {
      "cell_type": "code",
      "metadata": {
        "colab": {
          "base_uri": "https://localhost:8080/",
          "height": 1000
        },
        "id": "EDP4xQ7T0IUo",
        "outputId": "284e449c-0aa1-4308-8c81-f58bc00718d5"
      },
      "source": [
        "import matplotlib.pyplot as plt\n",
        "%matplotlib inline\n",
        "dataset.hist(figsize=(20,30))"
      ],
      "execution_count": null,
      "outputs": [
        {
          "output_type": "execute_result",
          "data": {
            "text/plain": [
              "array([[<matplotlib.axes._subplots.AxesSubplot object at 0x7f49863b0690>,\n",
              "        <matplotlib.axes._subplots.AxesSubplot object at 0x7f4986370dd0>,\n",
              "        <matplotlib.axes._subplots.AxesSubplot object at 0x7f4986330490>],\n",
              "       [<matplotlib.axes._subplots.AxesSubplot object at 0x7f49862e8b10>,\n",
              "        <matplotlib.axes._subplots.AxesSubplot object at 0x7f49862aa1d0>,\n",
              "        <matplotlib.axes._subplots.AxesSubplot object at 0x7f498625f850>],\n",
              "       [<matplotlib.axes._subplots.AxesSubplot object at 0x7f498622a110>,\n",
              "        <matplotlib.axes._subplots.AxesSubplot object at 0x7f49861e13d0>,\n",
              "        <matplotlib.axes._subplots.AxesSubplot object at 0x7f49861e1790>]],\n",
              "      dtype=object)"
            ]
          },
          "metadata": {
            "tags": []
          },
          "execution_count": 56
        },
        {
          "output_type": "display_data",
          "data": {
            "image/png": "[encoded data removed]",
            "text/plain": [
              "<Figure size 1440x2160 with 9 Axes>"
            ]
          },
          "metadata": {
            "tags": [],
            "needs_background": "light"
          }
        }
      ]
    },
    {
      "cell_type": "code",
      "metadata": {
        "colab": {
          "base_uri": "https://localhost:8080/",
          "height": 295
        },
        "id": "-f_cyBbC4XAB",
        "outputId": "18d6cf3f-24d5-46b6-8bc0-642a0b34f746"
      },
      "source": [
        "dataset.describe()"
      ],
      "execution_count": null,
      "outputs": [
        {
          "output_type": "execute_result",
          "data": {
            "text/html": [
              "<div>\n",
              "<style scoped>\n",
              "    .dataframe tbody tr th:only-of-type {\n",
              "        vertical-align: middle;\n",
              "    }\n",
              "\n",
              "    .dataframe tbody tr th {\n",
              "        vertical-align: top;\n",
              "    }\n",
              "\n",
              "    .dataframe thead th {\n",
              "        text-align: right;\n",
              "    }\n",
              "</style>\n",
              "<table border=\"1\" class=\"dataframe\">\n",
              "  <thead>\n",
              "    <tr style=\"text-align: right;\">\n",
              "      <th></th>\n",
              "      <th>CLOSE_PRICE</th>\n",
              "      <th>TRADE_VOLUME</th>\n",
              "      <th>TRADE_COUNT</th>\n",
              "      <th>OPEN_PRICE</th>\n",
              "      <th>HIGH_PRICE</th>\n",
              "      <th>LOW_PRICE</th>\n",
              "      <th>TRADE_VALUE</th>\n",
              "    </tr>\n",
              "  </thead>\n",
              "  <tbody>\n",
              "    <tr>\n",
              "      <th>count</th>\n",
              "      <td>729.000000</td>\n",
              "      <td>7.290000e+02</td>\n",
              "      <td>729.000000</td>\n",
              "      <td>729.000000</td>\n",
              "      <td>729.000000</td>\n",
              "      <td>729.000000</td>\n",
              "      <td>7.290000e+02</td>\n",
              "    </tr>\n",
              "    <tr>\n",
              "      <th>mean</th>\n",
              "      <td>7.361770</td>\n",
              "      <td>1.272179e+06</td>\n",
              "      <td>449.598023</td>\n",
              "      <td>7.376869</td>\n",
              "      <td>7.485323</td>\n",
              "      <td>7.250825</td>\n",
              "      <td>9.015398e+06</td>\n",
              "    </tr>\n",
              "    <tr>\n",
              "      <th>std</th>\n",
              "      <td>2.894776</td>\n",
              "      <td>8.555600e+05</td>\n",
              "      <td>266.429063</td>\n",
              "      <td>2.898245</td>\n",
              "      <td>2.931231</td>\n",
              "      <td>2.861958</td>\n",
              "      <td>6.765591e+06</td>\n",
              "    </tr>\n",
              "    <tr>\n",
              "      <th>min</th>\n",
              "      <td>3.630000</td>\n",
              "      <td>6.904700e+04</td>\n",
              "      <td>61.000000</td>\n",
              "      <td>3.620000</td>\n",
              "      <td>3.700000</td>\n",
              "      <td>3.550000</td>\n",
              "      <td>4.797560e+05</td>\n",
              "    </tr>\n",
              "    <tr>\n",
              "      <th>25%</th>\n",
              "      <td>4.530000</td>\n",
              "      <td>6.546530e+05</td>\n",
              "      <td>262.000000</td>\n",
              "      <td>4.550000</td>\n",
              "      <td>4.620000</td>\n",
              "      <td>4.460000</td>\n",
              "      <td>3.890609e+06</td>\n",
              "    </tr>\n",
              "    <tr>\n",
              "      <th>50%</th>\n",
              "      <td>6.300000</td>\n",
              "      <td>1.077809e+06</td>\n",
              "      <td>395.000000</td>\n",
              "      <td>6.310000</td>\n",
              "      <td>6.400000</td>\n",
              "      <td>6.210000</td>\n",
              "      <td>7.348585e+06</td>\n",
              "    </tr>\n",
              "    <tr>\n",
              "      <th>75%</th>\n",
              "      <td>10.500000</td>\n",
              "      <td>1.587927e+06</td>\n",
              "      <td>585.000000</td>\n",
              "      <td>10.550000</td>\n",
              "      <td>10.700000</td>\n",
              "      <td>10.250000</td>\n",
              "      <td>1.159302e+07</td>\n",
              "    </tr>\n",
              "    <tr>\n",
              "      <th>max</th>\n",
              "      <td>12.620000</td>\n",
              "      <td>4.284035e+06</td>\n",
              "      <td>1281.000000</td>\n",
              "      <td>12.680000</td>\n",
              "      <td>12.750000</td>\n",
              "      <td>12.470000</td>\n",
              "      <td>3.280841e+07</td>\n",
              "    </tr>\n",
              "  </tbody>\n",
              "</table>\n",
              "</div>"
            ],
            "text/plain": [
              "       CLOSE_PRICE  TRADE_VOLUME  ...   LOW_PRICE   TRADE_VALUE\n",
              "count   729.000000  7.290000e+02  ...  729.000000  7.290000e+02\n",
              "mean      7.361770  1.272179e+06  ...    7.250825  9.015398e+06\n",
              "std       2.894776  8.555600e+05  ...    2.861958  6.765591e+06\n",
              "min       3.630000  6.904700e+04  ...    3.550000  4.797560e+05\n",
              "25%       4.530000  6.546530e+05  ...    4.460000  3.890609e+06\n",
              "50%       6.300000  1.077809e+06  ...    6.210000  7.348585e+06\n",
              "75%      10.500000  1.587927e+06  ...   10.250000  1.159302e+07\n",
              "max      12.620000  4.284035e+06  ...   12.470000  3.280841e+07\n",
              "\n",
              "[8 rows x 7 columns]"
            ]
          },
          "metadata": {
            "tags": []
          },
          "execution_count": 72
        }
      ]
    },
    {
      "cell_type": "code",
      "metadata": {
        "id": "-BlPPwSvvPJp"
      },
      "source": [
        "def series_to_supervised(data, n_in=1, n_out=1, dropnan=True):\n",
        "  n_vars = 1 if type(data) is list else data.shape[1]\n",
        "  df = DataFrame(data)\n",
        "  cols, names = list(), list()\n",
        "  for i in range(n_in, 0, -1):\n",
        "    cols.append(df.shift(i))\n",
        "    names += [('var%d(t-%d)' % (j+1, i)) for j in range(n_vars)]\n",
        "  for i in range(0, n_out):\n",
        "    cols.append(df.shift(-i))\n",
        "    if i == 0:\n",
        "      names += [('var%d(t)' % (j+1)) for j in range(n_vars)]\n",
        "    else:\n",
        "      names += [('var%d(t+%d)' % (j+1, i)) for j in range(n_vars)]\n",
        "  agg = concat(cols, axis=1)\n",
        "  agg.columns = names\n",
        "\t# drop rows with NaN values\n",
        "  if dropnan:\n",
        "    agg.dropna(inplace=True)\n",
        "  return agg\n",
        "  "
      ],
      "execution_count": null,
      "outputs": []
    },
    {
      "cell_type": "code",
      "metadata": {
        "colab": {
          "base_uri": "https://localhost:8080/",
          "height": 357
        },
        "id": "59xLNxACu-ac",
        "outputId": "534ee730-f4bc-4082-f1bb-29b5161d8d85"
      },
      "source": [
        "from pandas import read_csv\n",
        "from pandas import DataFrame\n",
        "from pandas import concat\n",
        "from sklearn.preprocessing import LabelEncoder\n",
        "from sklearn.preprocessing import MinMaxScaler\n",
        "values = dataset.values\n",
        "values = values.astype('float32')\n",
        "scaler = MinMaxScaler(feature_range=(0, 1))\n",
        "scaled = scaler.fit_transform(values)\n",
        "reframed = series_to_supervised(scaled, 1, 1)\n",
        "# reframed.drop(reframed.columns[[9,10,11,12,13,14,15]], axis=1, inplace=True)\n",
        "reframed=reframed.iloc[: , :8]\n",
        "reframed.head(10)"
      ],
      "execution_count": null,
      "outputs": [
        {
          "output_type": "execute_result",
          "data": {
            "text/html": [
              "<div>\n",
              "<style scoped>\n",
              "    .dataframe tbody tr th:only-of-type {\n",
              "        vertical-align: middle;\n",
              "    }\n",
              "\n",
              "    .dataframe tbody tr th {\n",
              "        vertical-align: top;\n",
              "    }\n",
              "\n",
              "    .dataframe thead th {\n",
              "        text-align: right;\n",
              "    }\n",
              "</style>\n",
              "<table border=\"1\" class=\"dataframe\">\n",
              "  <thead>\n",
              "    <tr style=\"text-align: right;\">\n",
              "      <th></th>\n",
              "      <th>var1(t-1)</th>\n",
              "      <th>var2(t-1)</th>\n",
              "      <th>var3(t-1)</th>\n",
              "      <th>var4(t-1)</th>\n",
              "      <th>var5(t-1)</th>\n",
              "      <th>var6(t-1)</th>\n",
              "      <th>var7(t-1)</th>\n",
              "      <th>var1(t)</th>\n",
              "    </tr>\n",
              "  </thead>\n",
              "  <tbody>\n",
              "    <tr>\n",
              "      <th>1</th>\n",
              "      <td>0.058333</td>\n",
              "      <td>0.049542</td>\n",
              "      <td>0.089744</td>\n",
              "      <td>0.112</td>\n",
              "      <td>0.047619</td>\n",
              "      <td>0.103448</td>\n",
              "      <td>0.037078</td>\n",
              "      <td>0.041667</td>\n",
              "    </tr>\n",
              "    <tr>\n",
              "      <th>2</th>\n",
              "      <td>0.041667</td>\n",
              "      <td>0.063550</td>\n",
              "      <td>0.111111</td>\n",
              "      <td>0.048</td>\n",
              "      <td>0.007936</td>\n",
              "      <td>0.086207</td>\n",
              "      <td>0.047085</td>\n",
              "      <td>0.041667</td>\n",
              "    </tr>\n",
              "    <tr>\n",
              "      <th>3</th>\n",
              "      <td>0.041667</td>\n",
              "      <td>0.063550</td>\n",
              "      <td>0.111111</td>\n",
              "      <td>0.048</td>\n",
              "      <td>0.007936</td>\n",
              "      <td>0.086207</td>\n",
              "      <td>0.047085</td>\n",
              "      <td>0.041667</td>\n",
              "    </tr>\n",
              "    <tr>\n",
              "      <th>4</th>\n",
              "      <td>0.041667</td>\n",
              "      <td>0.063550</td>\n",
              "      <td>0.111111</td>\n",
              "      <td>0.048</td>\n",
              "      <td>0.007936</td>\n",
              "      <td>0.086207</td>\n",
              "      <td>0.047085</td>\n",
              "      <td>0.133333</td>\n",
              "    </tr>\n",
              "    <tr>\n",
              "      <th>5</th>\n",
              "      <td>0.133333</td>\n",
              "      <td>0.276625</td>\n",
              "      <td>0.444444</td>\n",
              "      <td>0.080</td>\n",
              "      <td>0.095238</td>\n",
              "      <td>0.129310</td>\n",
              "      <td>0.213306</td>\n",
              "      <td>0.133333</td>\n",
              "    </tr>\n",
              "    <tr>\n",
              "      <th>6</th>\n",
              "      <td>0.133333</td>\n",
              "      <td>0.276625</td>\n",
              "      <td>0.444444</td>\n",
              "      <td>0.080</td>\n",
              "      <td>0.095238</td>\n",
              "      <td>0.129310</td>\n",
              "      <td>0.213306</td>\n",
              "      <td>0.125000</td>\n",
              "    </tr>\n",
              "    <tr>\n",
              "      <th>7</th>\n",
              "      <td>0.125000</td>\n",
              "      <td>0.137458</td>\n",
              "      <td>0.235043</td>\n",
              "      <td>0.192</td>\n",
              "      <td>0.119048</td>\n",
              "      <td>0.155173</td>\n",
              "      <td>0.105648</td>\n",
              "      <td>0.108333</td>\n",
              "    </tr>\n",
              "    <tr>\n",
              "      <th>8</th>\n",
              "      <td>0.108333</td>\n",
              "      <td>0.210811</td>\n",
              "      <td>0.196581</td>\n",
              "      <td>0.152</td>\n",
              "      <td>0.087301</td>\n",
              "      <td>0.103448</td>\n",
              "      <td>0.160894</td>\n",
              "      <td>0.066667</td>\n",
              "    </tr>\n",
              "    <tr>\n",
              "      <th>9</th>\n",
              "      <td>0.066667</td>\n",
              "      <td>0.157682</td>\n",
              "      <td>0.102564</td>\n",
              "      <td>0.080</td>\n",
              "      <td>0.055556</td>\n",
              "      <td>0.120690</td>\n",
              "      <td>0.118181</td>\n",
              "      <td>0.066667</td>\n",
              "    </tr>\n",
              "    <tr>\n",
              "      <th>10</th>\n",
              "      <td>0.066667</td>\n",
              "      <td>0.157682</td>\n",
              "      <td>0.102564</td>\n",
              "      <td>0.080</td>\n",
              "      <td>0.055556</td>\n",
              "      <td>0.120690</td>\n",
              "      <td>0.118181</td>\n",
              "      <td>0.066667</td>\n",
              "    </tr>\n",
              "  </tbody>\n",
              "</table>\n",
              "</div>"
            ],
            "text/plain": [
              "    var1(t-1)  var2(t-1)  var3(t-1)  ...  var6(t-1)  var7(t-1)   var1(t)\n",
              "1    0.058333   0.049542   0.089744  ...   0.103448   0.037078  0.041667\n",
              "2    0.041667   0.063550   0.111111  ...   0.086207   0.047085  0.041667\n",
              "3    0.041667   0.063550   0.111111  ...   0.086207   0.047085  0.041667\n",
              "4    0.041667   0.063550   0.111111  ...   0.086207   0.047085  0.133333\n",
              "5    0.133333   0.276625   0.444444  ...   0.129310   0.213306  0.133333\n",
              "6    0.133333   0.276625   0.444444  ...   0.129310   0.213306  0.125000\n",
              "7    0.125000   0.137458   0.235043  ...   0.155173   0.105648  0.108333\n",
              "8    0.108333   0.210811   0.196581  ...   0.103448   0.160894  0.066667\n",
              "9    0.066667   0.157682   0.102564  ...   0.120690   0.118181  0.066667\n",
              "10   0.066667   0.157682   0.102564  ...   0.120690   0.118181  0.066667\n",
              "\n",
              "[10 rows x 8 columns]"
            ]
          },
          "metadata": {
            "tags": []
          },
          "execution_count": 58
        }
      ]
    },
    {
      "cell_type": "code",
      "metadata": {
        "colab": {
          "base_uri": "https://localhost:8080/"
        },
        "id": "cS370YZ6GvWR",
        "outputId": "4f90cd50-4b51-4308-bb8e-aa605308da0c"
      },
      "source": [
        "values.shape"
      ],
      "execution_count": null,
      "outputs": [
        {
          "output_type": "execute_result",
          "data": {
            "text/plain": [
              "(356, 7)"
            ]
          },
          "metadata": {
            "tags": []
          },
          "execution_count": 59
        }
      ]
    },
    {
      "cell_type": "code",
      "metadata": {
        "colab": {
          "base_uri": "https://localhost:8080/"
        },
        "id": "lRLhL_HsvcLX",
        "outputId": "7175cdfe-83d0-477d-a339-bcbd2660c005"
      },
      "source": [
        "values = reframed.values\n",
        "# n_train_hours = 600 * 100#trial 1 and trail 2\n",
        "# n_train_hours = 365 * 50 # tria 3\n",
        "# n_train_hours =  #trial 4\n",
        "\n",
        "train = values[:284, :]\n",
        "validation = values[284:317, :]\n",
        "test=values[317:,:]\n",
        "print(values.shape)"
      ],
      "execution_count": null,
      "outputs": [
        {
          "output_type": "stream",
          "text": [
            "(355, 8)\n"
          ],
          "name": "stdout"
        }
      ]
    },
    {
      "cell_type": "code",
      "metadata": {
        "colab": {
          "base_uri": "https://localhost:8080/"
        },
        "id": "ICz4e3TSwJ2x",
        "outputId": "ea957f07-fc51-4164-885b-7697ca7d3281"
      },
      "source": [
        "train_X, train_y = train[:, :-1], train[:, -1]\n",
        "validation_X, validation_y = validation[:, :-1], validation[:, -1]\n",
        "test_X, test_y = test[:, :-1], test[:, -1]\n",
        "# reshape input to be 3D [samples, timesteps, features]\n",
        "train_X = train_X.reshape((train_X.shape[0], 1, train_X.shape[1]))\n",
        "validation_X = validation_X.reshape((validation_X.shape[0], 1, validation_X.shape[1]))\n",
        "test_X = test_X.reshape((test_X.shape[0], 1, test_X.shape[1]))\n",
        "print(train_X.shape, train_y.shape, test_X.shape, test_y.shape,validation_X.shape, validation_y.shape)"
      ],
      "execution_count": null,
      "outputs": [
        {
          "output_type": "stream",
          "text": [
            "(284, 1, 7) (284,) (38, 1, 7) (38,) (33, 1, 7) (33,)\n"
          ],
          "name": "stdout"
        }
      ]
    },
    {
      "cell_type": "code",
      "metadata": {
        "colab": {
          "base_uri": "https://localhost:8080/"
        },
        "id": "S4KW-_SxwshH",
        "outputId": "ba2966ae-74d8-46ef-939f-0e1bb89ed19c"
      },
      "source": [
        "from sklearn.metrics import mean_squared_error\n",
        "from keras.models import Sequential\n",
        "from keras.layers import Dense\n",
        "from keras.layers import LSTM\n",
        "model = Sequential()\n",
        "model.add(LSTM(50, input_shape=(train_X.shape[1], train_X.shape[2])))\n",
        "model.add(Dense(1))\n",
        "model.compile(loss='mae', optimizer='adam',metrics=['accuracy'])\n",
        "# fit network\n",
        "history = model.fit(train_X, train_y, epochs=150, batch_size=60, validation_data=(validation_X, validation_y), verbose=2, shuffle=False)"
      ],
      "execution_count": null,
      "outputs": [
        {
          "output_type": "stream",
          "text": [
            "Epoch 1/150\n",
            "5/5 - 3s - loss: 0.3435 - accuracy: 0.0141 - val_loss: 0.7985 - val_accuracy: 0.0000e+00\n",
            "Epoch 2/150\n",
            "5/5 - 0s - loss: 0.3045 - accuracy: 0.0141 - val_loss: 0.7253 - val_accuracy: 0.0000e+00\n",
            "Epoch 3/150\n",
            "5/5 - 0s - loss: 0.2661 - accuracy: 0.0141 - val_loss: 0.6508 - val_accuracy: 0.0000e+00\n",
            "Epoch 4/150\n",
            "5/5 - 0s - loss: 0.2288 - accuracy: 0.0141 - val_loss: 0.5745 - val_accuracy: 0.0000e+00\n",
            "Epoch 5/150\n",
            "5/5 - 0s - loss: 0.1932 - accuracy: 0.0141 - val_loss: 0.4955 - val_accuracy: 0.0000e+00\n",
            "Epoch 6/150\n",
            "5/5 - 0s - loss: 0.1600 - accuracy: 0.0141 - val_loss: 0.4142 - val_accuracy: 0.0000e+00\n",
            "Epoch 7/150\n",
            "5/5 - 0s - loss: 0.1292 - accuracy: 0.0141 - val_loss: 0.3307 - val_accuracy: 0.0000e+00\n",
            "Epoch 8/150\n",
            "5/5 - 0s - loss: 0.1020 - accuracy: 0.0141 - val_loss: 0.2475 - val_accuracy: 0.0000e+00\n",
            "Epoch 9/150\n",
            "5/5 - 0s - loss: 0.0844 - accuracy: 0.0141 - val_loss: 0.1782 - val_accuracy: 0.0000e+00\n",
            "Epoch 10/150\n",
            "5/5 - 0s - loss: 0.0809 - accuracy: 0.0141 - val_loss: 0.1336 - val_accuracy: 0.0000e+00\n",
            "Epoch 11/150\n",
            "5/5 - 0s - loss: 0.0830 - accuracy: 0.0141 - val_loss: 0.1136 - val_accuracy: 0.0000e+00\n",
            "Epoch 12/150\n",
            "5/5 - 0s - loss: 0.0836 - accuracy: 0.0141 - val_loss: 0.1075 - val_accuracy: 0.0000e+00\n",
            "Epoch 13/150\n",
            "5/5 - 0s - loss: 0.0819 - accuracy: 0.0141 - val_loss: 0.1087 - val_accuracy: 0.0000e+00\n",
            "Epoch 14/150\n",
            "5/5 - 0s - loss: 0.0787 - accuracy: 0.0141 - val_loss: 0.1127 - val_accuracy: 0.0000e+00\n",
            "Epoch 15/150\n",
            "5/5 - 0s - loss: 0.0754 - accuracy: 0.0141 - val_loss: 0.1173 - val_accuracy: 0.0000e+00\n",
            "Epoch 16/150\n",
            "5/5 - 0s - loss: 0.0725 - accuracy: 0.0141 - val_loss: 0.1203 - val_accuracy: 0.0000e+00\n",
            "Epoch 17/150\n",
            "5/5 - 0s - loss: 0.0700 - accuracy: 0.0141 - val_loss: 0.1183 - val_accuracy: 0.0000e+00\n",
            "Epoch 18/150\n",
            "5/5 - 0s - loss: 0.0680 - accuracy: 0.0141 - val_loss: 0.1118 - val_accuracy: 0.0000e+00\n",
            "Epoch 19/150\n",
            "5/5 - 0s - loss: 0.0660 - accuracy: 0.0141 - val_loss: 0.1033 - val_accuracy: 0.0000e+00\n",
            "Epoch 20/150\n",
            "5/5 - 0s - loss: 0.0641 - accuracy: 0.0141 - val_loss: 0.0958 - val_accuracy: 0.0000e+00\n",
            "Epoch 21/150\n",
            "5/5 - 0s - loss: 0.0623 - accuracy: 0.0141 - val_loss: 0.0892 - val_accuracy: 0.0000e+00\n",
            "Epoch 22/150\n",
            "5/5 - 0s - loss: 0.0607 - accuracy: 0.0141 - val_loss: 0.0858 - val_accuracy: 0.0000e+00\n",
            "Epoch 23/150\n",
            "5/5 - 0s - loss: 0.0591 - accuracy: 0.0141 - val_loss: 0.0833 - val_accuracy: 0.0000e+00\n",
            "Epoch 24/150\n",
            "5/5 - 0s - loss: 0.0575 - accuracy: 0.0141 - val_loss: 0.0809 - val_accuracy: 0.0000e+00\n",
            "Epoch 25/150\n",
            "5/5 - 0s - loss: 0.0559 - accuracy: 0.0141 - val_loss: 0.0786 - val_accuracy: 0.0000e+00\n",
            "Epoch 26/150\n",
            "5/5 - 0s - loss: 0.0544 - accuracy: 0.0141 - val_loss: 0.0762 - val_accuracy: 0.0000e+00\n",
            "Epoch 27/150\n",
            "5/5 - 0s - loss: 0.0530 - accuracy: 0.0141 - val_loss: 0.0738 - val_accuracy: 0.0000e+00\n",
            "Epoch 28/150\n",
            "5/5 - 0s - loss: 0.0516 - accuracy: 0.0141 - val_loss: 0.0714 - val_accuracy: 0.0000e+00\n",
            "Epoch 29/150\n",
            "5/5 - 0s - loss: 0.0503 - accuracy: 0.0141 - val_loss: 0.0691 - val_accuracy: 0.0000e+00\n",
            "Epoch 30/150\n",
            "5/5 - 0s - loss: 0.0489 - accuracy: 0.0141 - val_loss: 0.0670 - val_accuracy: 0.0000e+00\n",
            "Epoch 31/150\n",
            "5/5 - 0s - loss: 0.0474 - accuracy: 0.0141 - val_loss: 0.0661 - val_accuracy: 0.0000e+00\n",
            "Epoch 32/150\n",
            "5/5 - 0s - loss: 0.0464 - accuracy: 0.0141 - val_loss: 0.0652 - val_accuracy: 0.0000e+00\n",
            "Epoch 33/150\n",
            "5/5 - 0s - loss: 0.0454 - accuracy: 0.0141 - val_loss: 0.0635 - val_accuracy: 0.0000e+00\n",
            "Epoch 34/150\n",
            "5/5 - 0s - loss: 0.0444 - accuracy: 0.0141 - val_loss: 0.0624 - val_accuracy: 0.0000e+00\n",
            "Epoch 35/150\n",
            "5/5 - 0s - loss: 0.0437 - accuracy: 0.0141 - val_loss: 0.0622 - val_accuracy: 0.0000e+00\n",
            "Epoch 36/150\n",
            "5/5 - 0s - loss: 0.0432 - accuracy: 0.0141 - val_loss: 0.0625 - val_accuracy: 0.0000e+00\n",
            "Epoch 37/150\n",
            "5/5 - 0s - loss: 0.0429 - accuracy: 0.0141 - val_loss: 0.0610 - val_accuracy: 0.0000e+00\n",
            "Epoch 38/150\n",
            "5/5 - 0s - loss: 0.0426 - accuracy: 0.0141 - val_loss: 0.0626 - val_accuracy: 0.0000e+00\n",
            "Epoch 39/150\n",
            "5/5 - 0s - loss: 0.0423 - accuracy: 0.0141 - val_loss: 0.0619 - val_accuracy: 0.0000e+00\n",
            "Epoch 40/150\n",
            "5/5 - 0s - loss: 0.0420 - accuracy: 0.0141 - val_loss: 0.0602 - val_accuracy: 0.0000e+00\n",
            "Epoch 41/150\n",
            "5/5 - 0s - loss: 0.0419 - accuracy: 0.0141 - val_loss: 0.0601 - val_accuracy: 0.0000e+00\n",
            "Epoch 42/150\n",
            "5/5 - 0s - loss: 0.0419 - accuracy: 0.0141 - val_loss: 0.0582 - val_accuracy: 0.0000e+00\n",
            "Epoch 43/150\n",
            "5/5 - 0s - loss: 0.0418 - accuracy: 0.0141 - val_loss: 0.0603 - val_accuracy: 0.0000e+00\n",
            "Epoch 44/150\n",
            "5/5 - 0s - loss: 0.0417 - accuracy: 0.0141 - val_loss: 0.0580 - val_accuracy: 0.0000e+00\n",
            "Epoch 45/150\n",
            "5/5 - 0s - loss: 0.0415 - accuracy: 0.0141 - val_loss: 0.0590 - val_accuracy: 0.0000e+00\n",
            "Epoch 46/150\n",
            "5/5 - 0s - loss: 0.0416 - accuracy: 0.0141 - val_loss: 0.0573 - val_accuracy: 0.0000e+00\n",
            "Epoch 47/150\n",
            "5/5 - 0s - loss: 0.0414 - accuracy: 0.0141 - val_loss: 0.0590 - val_accuracy: 0.0000e+00\n",
            "Epoch 48/150\n",
            "5/5 - 0s - loss: 0.0413 - accuracy: 0.0141 - val_loss: 0.0571 - val_accuracy: 0.0000e+00\n",
            "Epoch 49/150\n",
            "5/5 - 0s - loss: 0.0412 - accuracy: 0.0141 - val_loss: 0.0585 - val_accuracy: 0.0000e+00\n",
            "Epoch 50/150\n",
            "5/5 - 0s - loss: 0.0412 - accuracy: 0.0141 - val_loss: 0.0569 - val_accuracy: 0.0000e+00\n",
            "Epoch 51/150\n",
            "5/5 - 0s - loss: 0.0410 - accuracy: 0.0141 - val_loss: 0.0588 - val_accuracy: 0.0000e+00\n",
            "Epoch 52/150\n",
            "5/5 - 0s - loss: 0.0410 - accuracy: 0.0141 - val_loss: 0.0569 - val_accuracy: 0.0000e+00\n",
            "Epoch 53/150\n",
            "5/5 - 0s - loss: 0.0409 - accuracy: 0.0141 - val_loss: 0.0585 - val_accuracy: 0.0000e+00\n",
            "Epoch 54/150\n",
            "5/5 - 0s - loss: 0.0408 - accuracy: 0.0141 - val_loss: 0.0566 - val_accuracy: 0.0000e+00\n",
            "Epoch 55/150\n",
            "5/5 - 0s - loss: 0.0407 - accuracy: 0.0141 - val_loss: 0.0583 - val_accuracy: 0.0000e+00\n",
            "Epoch 56/150\n",
            "5/5 - 0s - loss: 0.0406 - accuracy: 0.0141 - val_loss: 0.0565 - val_accuracy: 0.0000e+00\n",
            "Epoch 57/150\n",
            "5/5 - 0s - loss: 0.0406 - accuracy: 0.0141 - val_loss: 0.0582 - val_accuracy: 0.0000e+00\n",
            "Epoch 58/150\n",
            "5/5 - 0s - loss: 0.0404 - accuracy: 0.0141 - val_loss: 0.0562 - val_accuracy: 0.0000e+00\n",
            "Epoch 59/150\n",
            "5/5 - 0s - loss: 0.0404 - accuracy: 0.0141 - val_loss: 0.0580 - val_accuracy: 0.0000e+00\n",
            "Epoch 60/150\n",
            "5/5 - 0s - loss: 0.0402 - accuracy: 0.0141 - val_loss: 0.0550 - val_accuracy: 0.0000e+00\n",
            "Epoch 61/150\n",
            "5/5 - 0s - loss: 0.0403 - accuracy: 0.0141 - val_loss: 0.0559 - val_accuracy: 0.0000e+00\n",
            "Epoch 62/150\n",
            "5/5 - 0s - loss: 0.0404 - accuracy: 0.0141 - val_loss: 0.0591 - val_accuracy: 0.0000e+00\n",
            "Epoch 63/150\n",
            "5/5 - 0s - loss: 0.0400 - accuracy: 0.0141 - val_loss: 0.0536 - val_accuracy: 0.0000e+00\n",
            "Epoch 64/150\n",
            "5/5 - 0s - loss: 0.0402 - accuracy: 0.0141 - val_loss: 0.0534 - val_accuracy: 0.0000e+00\n",
            "Epoch 65/150\n",
            "5/5 - 0s - loss: 0.0399 - accuracy: 0.0141 - val_loss: 0.0566 - val_accuracy: 0.0000e+00\n",
            "Epoch 66/150\n",
            "5/5 - 0s - loss: 0.0397 - accuracy: 0.0141 - val_loss: 0.0534 - val_accuracy: 0.0000e+00\n",
            "Epoch 67/150\n",
            "5/5 - 0s - loss: 0.0400 - accuracy: 0.0141 - val_loss: 0.0531 - val_accuracy: 0.0000e+00\n",
            "Epoch 68/150\n",
            "5/5 - 0s - loss: 0.0397 - accuracy: 0.0141 - val_loss: 0.0560 - val_accuracy: 0.0000e+00\n",
            "Epoch 69/150\n",
            "5/5 - 0s - loss: 0.0395 - accuracy: 0.0141 - val_loss: 0.0537 - val_accuracy: 0.0000e+00\n",
            "Epoch 70/150\n",
            "5/5 - 0s - loss: 0.0395 - accuracy: 0.0141 - val_loss: 0.0550 - val_accuracy: 0.0000e+00\n",
            "Epoch 71/150\n",
            "5/5 - 0s - loss: 0.0393 - accuracy: 0.0141 - val_loss: 0.0533 - val_accuracy: 0.0000e+00\n",
            "Epoch 72/150\n",
            "5/5 - 0s - loss: 0.0392 - accuracy: 0.0141 - val_loss: 0.0530 - val_accuracy: 0.0000e+00\n",
            "Epoch 73/150\n",
            "5/5 - 0s - loss: 0.0392 - accuracy: 0.0141 - val_loss: 0.0536 - val_accuracy: 0.0000e+00\n",
            "Epoch 74/150\n",
            "5/5 - 0s - loss: 0.0394 - accuracy: 0.0141 - val_loss: 0.0567 - val_accuracy: 0.0000e+00\n",
            "Epoch 75/150\n",
            "5/5 - 0s - loss: 0.0391 - accuracy: 0.0141 - val_loss: 0.0522 - val_accuracy: 0.0000e+00\n",
            "Epoch 76/150\n",
            "5/5 - 0s - loss: 0.0391 - accuracy: 0.0141 - val_loss: 0.0526 - val_accuracy: 0.0000e+00\n",
            "Epoch 77/150\n",
            "5/5 - 0s - loss: 0.0391 - accuracy: 0.0141 - val_loss: 0.0561 - val_accuracy: 0.0000e+00\n",
            "Epoch 78/150\n",
            "5/5 - 0s - loss: 0.0388 - accuracy: 0.0141 - val_loss: 0.0520 - val_accuracy: 0.0000e+00\n",
            "Epoch 79/150\n",
            "5/5 - 0s - loss: 0.0391 - accuracy: 0.0141 - val_loss: 0.0516 - val_accuracy: 0.0000e+00\n",
            "Epoch 80/150\n",
            "5/5 - 0s - loss: 0.0388 - accuracy: 0.0141 - val_loss: 0.0549 - val_accuracy: 0.0000e+00\n",
            "Epoch 81/150\n",
            "5/5 - 0s - loss: 0.0386 - accuracy: 0.0141 - val_loss: 0.0516 - val_accuracy: 0.0000e+00\n",
            "Epoch 82/150\n",
            "5/5 - 0s - loss: 0.0390 - accuracy: 0.0141 - val_loss: 0.0511 - val_accuracy: 0.0000e+00\n",
            "Epoch 83/150\n",
            "5/5 - 0s - loss: 0.0385 - accuracy: 0.0141 - val_loss: 0.0535 - val_accuracy: 0.0000e+00\n",
            "Epoch 84/150\n",
            "5/5 - 0s - loss: 0.0384 - accuracy: 0.0141 - val_loss: 0.0515 - val_accuracy: 0.0000e+00\n",
            "Epoch 85/150\n",
            "5/5 - 0s - loss: 0.0386 - accuracy: 0.0141 - val_loss: 0.0512 - val_accuracy: 0.0000e+00\n",
            "Epoch 86/150\n",
            "5/5 - 0s - loss: 0.0384 - accuracy: 0.0141 - val_loss: 0.0535 - val_accuracy: 0.0000e+00\n",
            "Epoch 87/150\n",
            "5/5 - 0s - loss: 0.0382 - accuracy: 0.0141 - val_loss: 0.0513 - val_accuracy: 0.0000e+00\n",
            "Epoch 88/150\n",
            "5/5 - 0s - loss: 0.0382 - accuracy: 0.0141 - val_loss: 0.0514 - val_accuracy: 0.0000e+00\n",
            "Epoch 89/150\n",
            "5/5 - 0s - loss: 0.0383 - accuracy: 0.0141 - val_loss: 0.0533 - val_accuracy: 0.0000e+00\n",
            "Epoch 90/150\n",
            "5/5 - 0s - loss: 0.0380 - accuracy: 0.0141 - val_loss: 0.0511 - val_accuracy: 0.0000e+00\n",
            "Epoch 91/150\n",
            "5/5 - 0s - loss: 0.0379 - accuracy: 0.0141 - val_loss: 0.0514 - val_accuracy: 0.0000e+00\n",
            "Epoch 92/150\n",
            "5/5 - 0s - loss: 0.0379 - accuracy: 0.0141 - val_loss: 0.0514 - val_accuracy: 0.0000e+00\n",
            "Epoch 93/150\n",
            "5/5 - 0s - loss: 0.0378 - accuracy: 0.0141 - val_loss: 0.0510 - val_accuracy: 0.0000e+00\n",
            "Epoch 94/150\n",
            "5/5 - 0s - loss: 0.0378 - accuracy: 0.0141 - val_loss: 0.0515 - val_accuracy: 0.0000e+00\n",
            "Epoch 95/150\n",
            "5/5 - 0s - loss: 0.0377 - accuracy: 0.0141 - val_loss: 0.0509 - val_accuracy: 0.0000e+00\n",
            "Epoch 96/150\n",
            "5/5 - 0s - loss: 0.0377 - accuracy: 0.0141 - val_loss: 0.0517 - val_accuracy: 0.0000e+00\n",
            "Epoch 97/150\n",
            "5/5 - 0s - loss: 0.0375 - accuracy: 0.0141 - val_loss: 0.0507 - val_accuracy: 0.0000e+00\n",
            "Epoch 98/150\n",
            "5/5 - 0s - loss: 0.0376 - accuracy: 0.0141 - val_loss: 0.0506 - val_accuracy: 0.0000e+00\n",
            "Epoch 99/150\n",
            "5/5 - 0s - loss: 0.0376 - accuracy: 0.0141 - val_loss: 0.0513 - val_accuracy: 0.0000e+00\n",
            "Epoch 100/150\n",
            "5/5 - 0s - loss: 0.0374 - accuracy: 0.0141 - val_loss: 0.0505 - val_accuracy: 0.0000e+00\n",
            "Epoch 101/150\n",
            "5/5 - 0s - loss: 0.0373 - accuracy: 0.0141 - val_loss: 0.0506 - val_accuracy: 0.0000e+00\n",
            "Epoch 102/150\n",
            "5/5 - 0s - loss: 0.0372 - accuracy: 0.0141 - val_loss: 0.0503 - val_accuracy: 0.0000e+00\n",
            "Epoch 103/150\n",
            "5/5 - 0s - loss: 0.0371 - accuracy: 0.0141 - val_loss: 0.0501 - val_accuracy: 0.0000e+00\n",
            "Epoch 104/150\n",
            "5/5 - 0s - loss: 0.0375 - accuracy: 0.0141 - val_loss: 0.0503 - val_accuracy: 0.0000e+00\n",
            "Epoch 105/150\n",
            "5/5 - 0s - loss: 0.0373 - accuracy: 0.0141 - val_loss: 0.0505 - val_accuracy: 0.0000e+00\n",
            "Epoch 106/150\n",
            "5/5 - 0s - loss: 0.0371 - accuracy: 0.0141 - val_loss: 0.0500 - val_accuracy: 0.0000e+00\n",
            "Epoch 107/150\n",
            "5/5 - 0s - loss: 0.0370 - accuracy: 0.0141 - val_loss: 0.0497 - val_accuracy: 0.0000e+00\n",
            "Epoch 108/150\n",
            "5/5 - 0s - loss: 0.0369 - accuracy: 0.0141 - val_loss: 0.0498 - val_accuracy: 0.0000e+00\n",
            "Epoch 109/150\n",
            "5/5 - 0s - loss: 0.0368 - accuracy: 0.0141 - val_loss: 0.0498 - val_accuracy: 0.0000e+00\n",
            "Epoch 110/150\n",
            "5/5 - 0s - loss: 0.0367 - accuracy: 0.0141 - val_loss: 0.0500 - val_accuracy: 0.0000e+00\n",
            "Epoch 111/150\n",
            "5/5 - 0s - loss: 0.0367 - accuracy: 0.0141 - val_loss: 0.0499 - val_accuracy: 0.0000e+00\n",
            "Epoch 112/150\n",
            "5/5 - 0s - loss: 0.0368 - accuracy: 0.0141 - val_loss: 0.0496 - val_accuracy: 0.0000e+00\n",
            "Epoch 113/150\n",
            "5/5 - 0s - loss: 0.0369 - accuracy: 0.0141 - val_loss: 0.0497 - val_accuracy: 0.0000e+00\n",
            "Epoch 114/150\n",
            "5/5 - 0s - loss: 0.0367 - accuracy: 0.0141 - val_loss: 0.0493 - val_accuracy: 0.0000e+00\n",
            "Epoch 115/150\n",
            "5/5 - 0s - loss: 0.0366 - accuracy: 0.0141 - val_loss: 0.0493 - val_accuracy: 0.0000e+00\n",
            "Epoch 116/150\n",
            "5/5 - 0s - loss: 0.0365 - accuracy: 0.0141 - val_loss: 0.0491 - val_accuracy: 0.0000e+00\n",
            "Epoch 117/150\n",
            "5/5 - 0s - loss: 0.0364 - accuracy: 0.0141 - val_loss: 0.0493 - val_accuracy: 0.0000e+00\n",
            "Epoch 118/150\n",
            "5/5 - 0s - loss: 0.0363 - accuracy: 0.0141 - val_loss: 0.0492 - val_accuracy: 0.0000e+00\n",
            "Epoch 119/150\n",
            "5/5 - 0s - loss: 0.0363 - accuracy: 0.0141 - val_loss: 0.0492 - val_accuracy: 0.0000e+00\n",
            "Epoch 120/150\n",
            "5/5 - 0s - loss: 0.0362 - accuracy: 0.0141 - val_loss: 0.0492 - val_accuracy: 0.0000e+00\n",
            "Epoch 121/150\n",
            "5/5 - 0s - loss: 0.0362 - accuracy: 0.0141 - val_loss: 0.0491 - val_accuracy: 0.0000e+00\n",
            "Epoch 122/150\n",
            "5/5 - 0s - loss: 0.0365 - accuracy: 0.0141 - val_loss: 0.0489 - val_accuracy: 0.0000e+00\n",
            "Epoch 123/150\n",
            "5/5 - 0s - loss: 0.0366 - accuracy: 0.0141 - val_loss: 0.0495 - val_accuracy: 0.0000e+00\n",
            "Epoch 124/150\n",
            "5/5 - 0s - loss: 0.0363 - accuracy: 0.0141 - val_loss: 0.0486 - val_accuracy: 0.0000e+00\n",
            "Epoch 125/150\n",
            "5/5 - 0s - loss: 0.0363 - accuracy: 0.0141 - val_loss: 0.0493 - val_accuracy: 0.0000e+00\n",
            "Epoch 126/150\n",
            "5/5 - 0s - loss: 0.0361 - accuracy: 0.0141 - val_loss: 0.0485 - val_accuracy: 0.0000e+00\n",
            "Epoch 127/150\n",
            "5/5 - 0s - loss: 0.0361 - accuracy: 0.0141 - val_loss: 0.0489 - val_accuracy: 0.0000e+00\n",
            "Epoch 128/150\n",
            "5/5 - 0s - loss: 0.0360 - accuracy: 0.0141 - val_loss: 0.0485 - val_accuracy: 0.0000e+00\n",
            "Epoch 129/150\n",
            "5/5 - 0s - loss: 0.0360 - accuracy: 0.0141 - val_loss: 0.0488 - val_accuracy: 0.0000e+00\n",
            "Epoch 130/150\n",
            "5/5 - 0s - loss: 0.0359 - accuracy: 0.0141 - val_loss: 0.0487 - val_accuracy: 0.0000e+00\n",
            "Epoch 131/150\n",
            "5/5 - 0s - loss: 0.0361 - accuracy: 0.0141 - val_loss: 0.0492 - val_accuracy: 0.0000e+00\n",
            "Epoch 132/150\n",
            "5/5 - 0s - loss: 0.0360 - accuracy: 0.0141 - val_loss: 0.0482 - val_accuracy: 0.0000e+00\n",
            "Epoch 133/150\n",
            "5/5 - 0s - loss: 0.0360 - accuracy: 0.0141 - val_loss: 0.0488 - val_accuracy: 0.0000e+00\n",
            "Epoch 134/150\n",
            "5/5 - 0s - loss: 0.0357 - accuracy: 0.0141 - val_loss: 0.0480 - val_accuracy: 0.0000e+00\n",
            "Epoch 135/150\n",
            "5/5 - 0s - loss: 0.0358 - accuracy: 0.0141 - val_loss: 0.0483 - val_accuracy: 0.0000e+00\n",
            "Epoch 136/150\n",
            "5/5 - 0s - loss: 0.0357 - accuracy: 0.0141 - val_loss: 0.0479 - val_accuracy: 0.0000e+00\n",
            "Epoch 137/150\n",
            "5/5 - 0s - loss: 0.0357 - accuracy: 0.0141 - val_loss: 0.0482 - val_accuracy: 0.0000e+00\n",
            "Epoch 138/150\n",
            "5/5 - 0s - loss: 0.0356 - accuracy: 0.0141 - val_loss: 0.0482 - val_accuracy: 0.0000e+00\n",
            "Epoch 139/150\n",
            "5/5 - 0s - loss: 0.0356 - accuracy: 0.0141 - val_loss: 0.0480 - val_accuracy: 0.0000e+00\n",
            "Epoch 140/150\n",
            "5/5 - 0s - loss: 0.0356 - accuracy: 0.0141 - val_loss: 0.0482 - val_accuracy: 0.0000e+00\n",
            "Epoch 141/150\n",
            "5/5 - 0s - loss: 0.0356 - accuracy: 0.0141 - val_loss: 0.0482 - val_accuracy: 0.0000e+00\n",
            "Epoch 142/150\n",
            "5/5 - 0s - loss: 0.0355 - accuracy: 0.0141 - val_loss: 0.0480 - val_accuracy: 0.0000e+00\n",
            "Epoch 143/150\n",
            "5/5 - 0s - loss: 0.0355 - accuracy: 0.0141 - val_loss: 0.0479 - val_accuracy: 0.0000e+00\n",
            "Epoch 144/150\n",
            "5/5 - 0s - loss: 0.0354 - accuracy: 0.0141 - val_loss: 0.0476 - val_accuracy: 0.0000e+00\n",
            "Epoch 145/150\n",
            "5/5 - 0s - loss: 0.0354 - accuracy: 0.0141 - val_loss: 0.0477 - val_accuracy: 0.0000e+00\n",
            "Epoch 146/150\n",
            "5/5 - 0s - loss: 0.0355 - accuracy: 0.0141 - val_loss: 0.0478 - val_accuracy: 0.0000e+00\n",
            "Epoch 147/150\n",
            "5/5 - 0s - loss: 0.0353 - accuracy: 0.0141 - val_loss: 0.0476 - val_accuracy: 0.0000e+00\n",
            "Epoch 148/150\n",
            "5/5 - 0s - loss: 0.0354 - accuracy: 0.0141 - val_loss: 0.0476 - val_accuracy: 0.0000e+00\n",
            "Epoch 149/150\n",
            "5/5 - 0s - loss: 0.0353 - accuracy: 0.0141 - val_loss: 0.0476 - val_accuracy: 0.0000e+00\n",
            "Epoch 150/150\n",
            "5/5 - 0s - loss: 0.0353 - accuracy: 0.0141 - val_loss: 0.0473 - val_accuracy: 0.0000e+00\n"
          ],
          "name": "stdout"
        }
      ]
    },
    {
      "cell_type": "code",
      "metadata": {
        "colab": {
          "base_uri": "https://localhost:8080/",
          "height": 268
        },
        "id": "fzn6Khzbw9Il",
        "outputId": "e475ee0d-381e-4eb7-e707-87de5fcd930b"
      },
      "source": [
        "plt.plot(history.history['loss'], label='train')\n",
        "plt.plot(history.history['val_loss'], label='test')\n",
        "plt.legend()\n",
        "plt.show()"
      ],
      "execution_count": null,
      "outputs": [
        {
          "output_type": "display_data",
          "data": {
            "image/png": "[encoded data removed]",
            "text/plain": [
              "<Figure size 432x288 with 1 Axes>"
            ]
          },
          "metadata": {
            "tags": [],
            "needs_background": "light"
          }
        }
      ]
    },
    {
      "cell_type": "code",
      "metadata": {
        "id": "dwMZmFODxFgf",
        "colab": {
          "base_uri": "https://localhost:8080/"
        },
        "outputId": "e4a14cfa-0799-4f38-b734-b7eac4ebdfd7"
      },
      "source": [
        "\n",
        "#rescale for last 7 days\n",
        "from keras.layers import concatenate\n",
        "from math import sqrt\n",
        "from sklearn.metrics import mean_absolute_error\n",
        "# make a prediction\n",
        "yhat = model.predict(test_X)\n",
        "test_X = test_X.reshape((test_X.shape[0], test_X.shape[2]))\n",
        "# invert scaling for forecast\n",
        "inv_yhat = concatenate((yhat, test_X[:, 1:]), axis=1)\n",
        "inv_yhat = scaler.inverse_transform(inv_yhat)\n",
        "inv_yhat = inv_yhat[:,0]\n",
        "# invert scaling for actual\n",
        "test_y = test_y.reshape((len(test_y), 1))\n",
        "inv_y = concatenate((test_y, test_X[:, 1:]), axis=1)\n",
        "inv_y = scaler.inverse_transform(inv_y)\n",
        "inv_y = inv_y[:,0]"
      ],
      "execution_count": null,
      "outputs": [
        {
          "output_type": "stream",
          "text": [
            "WARNING:tensorflow:6 out of the last 6 calls to <function Model.make_predict_function.<locals>.predict_function at 0x7f49369994d0> triggered tf.function retracing. Tracing is expensive and the excessive number of tracings could be due to (1) creating @tf.function repeatedly in a loop, (2) passing tensors with different shapes, (3) passing Python objects instead of tensors. For (1), please define your @tf.function outside of the loop. For (2), @tf.function has experimental_relax_shapes=True option that relaxes argument shapes that can avoid unnecessary retracing. For (3), please refer to https://www.tensorflow.org/guide/function#controlling_retracing and https://www.tensorflow.org/api_docs/python/tf/function for  more details.\n"
          ],
          "name": "stdout"
        }
      ]
    },
    {
      "cell_type": "code",
      "metadata": {
        "colab": {
          "base_uri": "https://localhost:8080/"
        },
        "id": "la8EhbTMxLt2",
        "outputId": "a25f75b4-6108-42f9-e642-bf7818820719"
      },
      "source": [
        "rmse = sqrt(mean_squared_error(inv_y, inv_yhat))\n",
        "print('mae',mean_absolute_error(inv_y,inv_yhat))\n",
        "print('Test RMSE: %.3f' % rmse)"
      ],
      "execution_count": null,
      "outputs": [
        {
          "output_type": "stream",
          "text": [
            "mae 0.09471845514246639\n",
            "Test RMSE: 0.170\n"
          ],
          "name": "stdout"
        }
      ]
    },
    {
      "cell_type": "code",
      "metadata": {
        "id": "8L84kTfsxP4c"
      },
      "source": [
        "df = pd.DataFrame({'actual':inv_y, 'predicted':inv_yhat})"
      ],
      "execution_count": null,
      "outputs": []
    },
    {
      "cell_type": "code",
      "metadata": {
        "colab": {
          "base_uri": "https://localhost:8080/",
          "height": 357
        },
        "id": "d7nNKCEVxZdm",
        "outputId": "6bb09de1-bd75-4155-a9a0-1197a25aa9b8"
      },
      "source": [
        "df.head(10)"
      ],
      "execution_count": null,
      "outputs": [
        {
          "output_type": "execute_result",
          "data": {
            "text/html": [
              "<div>\n",
              "<style scoped>\n",
              "    .dataframe tbody tr th:only-of-type {\n",
              "        vertical-align: middle;\n",
              "    }\n",
              "\n",
              "    .dataframe tbody tr th {\n",
              "        vertical-align: top;\n",
              "    }\n",
              "\n",
              "    .dataframe thead th {\n",
              "        text-align: right;\n",
              "    }\n",
              "</style>\n",
              "<table border=\"1\" class=\"dataframe\">\n",
              "  <thead>\n",
              "    <tr style=\"text-align: right;\">\n",
              "      <th></th>\n",
              "      <th>actual</th>\n",
              "      <th>predicted</th>\n",
              "    </tr>\n",
              "  </thead>\n",
              "  <tbody>\n",
              "    <tr>\n",
              "      <th>0</th>\n",
              "      <td>3.79</td>\n",
              "      <td>3.772051</td>\n",
              "    </tr>\n",
              "    <tr>\n",
              "      <th>1</th>\n",
              "      <td>3.83</td>\n",
              "      <td>3.772051</td>\n",
              "    </tr>\n",
              "    <tr>\n",
              "      <th>2</th>\n",
              "      <td>3.79</td>\n",
              "      <td>3.847681</td>\n",
              "    </tr>\n",
              "    <tr>\n",
              "      <th>3</th>\n",
              "      <td>3.70</td>\n",
              "      <td>3.797926</td>\n",
              "    </tr>\n",
              "    <tr>\n",
              "      <th>4</th>\n",
              "      <td>3.69</td>\n",
              "      <td>3.729099</td>\n",
              "    </tr>\n",
              "    <tr>\n",
              "      <th>5</th>\n",
              "      <td>3.73</td>\n",
              "      <td>3.711013</td>\n",
              "    </tr>\n",
              "    <tr>\n",
              "      <th>6</th>\n",
              "      <td>3.73</td>\n",
              "      <td>3.749012</td>\n",
              "    </tr>\n",
              "    <tr>\n",
              "      <th>7</th>\n",
              "      <td>3.73</td>\n",
              "      <td>3.749012</td>\n",
              "    </tr>\n",
              "    <tr>\n",
              "      <th>8</th>\n",
              "      <td>3.63</td>\n",
              "      <td>3.749012</td>\n",
              "    </tr>\n",
              "    <tr>\n",
              "      <th>9</th>\n",
              "      <td>3.64</td>\n",
              "      <td>3.655627</td>\n",
              "    </tr>\n",
              "  </tbody>\n",
              "</table>\n",
              "</div>"
            ],
            "text/plain": [
              "   actual  predicted\n",
              "0    3.79   3.772051\n",
              "1    3.83   3.772051\n",
              "2    3.79   3.847681\n",
              "3    3.70   3.797926\n",
              "4    3.69   3.729099\n",
              "5    3.73   3.711013\n",
              "6    3.73   3.749012\n",
              "7    3.73   3.749012\n",
              "8    3.63   3.749012\n",
              "9    3.64   3.655627"
            ]
          },
          "metadata": {
            "tags": []
          },
          "execution_count": 120
        }
      ]
    },
    {
      "cell_type": "code",
      "metadata": {
        "colab": {
          "base_uri": "https://localhost:8080/",
          "height": 322
        },
        "id": "-e_eySqdxVpc",
        "outputId": "64142d4a-fbb8-4142-b247-cccf977c9e37"
      },
      "source": [
        "act_pred=df.plot('actual', 'predicted', kind='scatter')"
      ],
      "execution_count": null,
      "outputs": [
        {
          "output_type": "stream",
          "text": [
            "*c* argument looks like a single numeric RGB or RGBA sequence, which should be avoided as value-mapping will have precedence in case its length matches with *x* & *y*.  Please use the *color* keyword-argument or provide a 2-D array with a single row if you intend to specify the same RGB or RGBA value for all points.\n"
          ],
          "name": "stderr"
        },
        {
          "output_type": "display_data",
          "data": {
            "image/png": "[encoded data removed]",
            "text/plain": [
              "<Figure size 432x288 with 1 Axes>"
            ]
          },
          "metadata": {
            "tags": [],
            "needs_background": "light"
          }
        }
      ]
    },
    {
      "cell_type": "markdown",
      "metadata": {
        "id": "T33otZJ-V5w4"
      },
      "source": [
        "LINEAR REGRESSION"
      ]
    },
    {
      "cell_type": "code",
      "metadata": {
        "id": "I-s4Qr7SV8yP"
      },
      "source": [
        "x=dataset.drop(['CLOSE_PRICE'],axis=1)\n",
        "y=dataset['CLOSE_PRICE']"
      ],
      "execution_count": null,
      "outputs": []
    },
    {
      "cell_type": "code",
      "metadata": {
        "id": "G8DgSIghWcKN"
      },
      "source": [
        "from sklearn.model_selection import KFold, cross_val_score, train_test_split\n",
        "X_train, X_test, y_train, y_test = train_test_split(x, y, test_size=0.20, shuffle=True)"
      ],
      "execution_count": null,
      "outputs": []
    },
    {
      "cell_type": "code",
      "metadata": {
        "colab": {
          "base_uri": "https://localhost:8080/"
        },
        "id": "wyNfVverWf85",
        "outputId": "019f6c57-9594-4eb0-ed22-bdfb46abe6e1"
      },
      "source": [
        "import numpy as np\n",
        "from sklearn.linear_model import LinearRegression\n",
        "model = LinearRegression()\n",
        "model.fit(X_train, y_train)\n",
        "reg_pred=model.predict(X_test)\n",
        "r_sq = model.score(X_test,y_test)\n",
        "\n",
        "print('coefficient of determination:', r_sq)"
      ],
      "execution_count": null,
      "outputs": [
        {
          "output_type": "stream",
          "text": [
            "coefficient of determination: 0.9936966115665662\n"
          ],
          "name": "stdout"
        }
      ]
    },
    {
      "cell_type": "code",
      "metadata": {
        "id": "btYN8ANqWpQm"
      },
      "source": [
        "df=pd.DataFrame({'Actual':y_test, 'Predicted':reg_pred})"
      ],
      "execution_count": null,
      "outputs": []
    },
    {
      "cell_type": "code",
      "metadata": {
        "colab": {
          "base_uri": "https://localhost:8080/",
          "height": 322
        },
        "id": "wBjbilrMW5fm",
        "outputId": "eae6c607-e670-422d-b915-e7268d4943ed"
      },
      "source": [
        "act_pred=df.plot('Actual', 'Predicted', kind='scatter')"
      ],
      "execution_count": null,
      "outputs": [
        {
          "output_type": "stream",
          "text": [
            "*c* argument looks like a single numeric RGB or RGBA sequence, which should be avoided as value-mapping will have precedence in case its length matches with *x* & *y*.  Please use the *color* keyword-argument or provide a 2-D array with a single row if you intend to specify the same RGB or RGBA value for all points.\n"
          ],
          "name": "stderr"
        },
        {
          "output_type": "display_data",
          "data": {
            "image/png": "[encoded data removed]",
            "text/plain": [
              "<Figure size 432x288 with 1 Axes>"
            ]
          },
          "metadata": {
            "tags": [],
            "needs_background": "light"
          }
        }
      ]
    },
    {
      "cell_type": "code",
      "metadata": {
        "colab": {
          "base_uri": "https://localhost:8080/"
        },
        "id": "tbgv8kHrXGME",
        "outputId": "3b80800a-4a8f-47f9-e5c7-863e6491060c"
      },
      "source": [
        "from sklearn.metrics import mean_squared_error\n",
        "from math import sqrt\n",
        "rmse = sqrt(mean_squared_error(y_test,reg_pred))\n",
        "print('Test RMSE: %.3f' % rmse)"
      ],
      "execution_count": null,
      "outputs": [
        {
          "output_type": "stream",
          "text": [
            "Test RMSE: 0.028\n"
          ],
          "name": "stdout"
        }
      ]
    },
    {
      "cell_type": "markdown",
      "metadata": {
        "id": "7I0NdF2zWqGo"
      },
      "source": [
        "RANDOM FOREST\n"
      ]
    },
    {
      "cell_type": "code",
      "metadata": {
        "colab": {
          "base_uri": "https://localhost:8080/"
        },
        "id": "DZrYvIBOZ3La",
        "outputId": "9c56f89d-94b5-4eb5-f208-6ff823c8ba5d"
      },
      "source": [
        "from sklearn.ensemble import RandomForestRegressor\n",
        "from sklearn.datasets import make_regression\n",
        "\n",
        "r_f = RandomForestRegressor(max_depth=12, random_state=0)\n",
        "r_f.fit(X_train, y_train)\n",
        "reg_pred=r_f.predict(X_test)\n",
        "r_sq = r_f.score(X_test,y_test)\n",
        "\n",
        "print('coefficient of determination:', r_sq)"
      ],
      "execution_count": null,
      "outputs": [
        {
          "output_type": "stream",
          "text": [
            "coefficient of determination: 0.9940989060417318\n"
          ],
          "name": "stdout"
        }
      ]
    },
    {
      "cell_type": "code",
      "metadata": {
        "colab": {
          "base_uri": "https://localhost:8080/",
          "height": 447
        },
        "id": "TGgk4nd_Z-rn",
        "outputId": "60f5565a-0eac-40f5-9648-ab51d054d8e4"
      },
      "source": [
        "df=pd.DataFrame({'Actual':y_test, 'Predicted':reg_pred})\n",
        "df"
      ],
      "execution_count": null,
      "outputs": [
        {
          "output_type": "execute_result",
          "data": {
            "text/html": [
              "<div>\n",
              "<style scoped>\n",
              "    .dataframe tbody tr th:only-of-type {\n",
              "        vertical-align: middle;\n",
              "    }\n",
              "\n",
              "    .dataframe tbody tr th {\n",
              "        vertical-align: top;\n",
              "    }\n",
              "\n",
              "    .dataframe thead th {\n",
              "        text-align: right;\n",
              "    }\n",
              "</style>\n",
              "<table border=\"1\" class=\"dataframe\">\n",
              "  <thead>\n",
              "    <tr style=\"text-align: right;\">\n",
              "      <th></th>\n",
              "      <th>Actual</th>\n",
              "      <th>Predicted</th>\n",
              "    </tr>\n",
              "    <tr>\n",
              "      <th>TRADE_DATE</th>\n",
              "      <th></th>\n",
              "      <th></th>\n",
              "    </tr>\n",
              "  </thead>\n",
              "  <tbody>\n",
              "    <tr>\n",
              "      <th>2019-12-19</th>\n",
              "      <td>3.222321</td>\n",
              "      <td>3.222558</td>\n",
              "    </tr>\n",
              "    <tr>\n",
              "      <th>2019-01-18</th>\n",
              "      <td>2.750000</td>\n",
              "      <td>2.747700</td>\n",
              "    </tr>\n",
              "    <tr>\n",
              "      <th>2019-04-20</th>\n",
              "      <td>3.050000</td>\n",
              "      <td>3.047736</td>\n",
              "    </tr>\n",
              "    <tr>\n",
              "      <th>2019-02-14</th>\n",
              "      <td>2.830000</td>\n",
              "      <td>2.831900</td>\n",
              "    </tr>\n",
              "    <tr>\n",
              "      <th>2019-10-03</th>\n",
              "      <td>3.470000</td>\n",
              "      <td>3.465700</td>\n",
              "    </tr>\n",
              "    <tr>\n",
              "      <th>...</th>\n",
              "      <td>...</td>\n",
              "      <td>...</td>\n",
              "    </tr>\n",
              "    <tr>\n",
              "      <th>2019-05-07</th>\n",
              "      <td>2.950000</td>\n",
              "      <td>2.959000</td>\n",
              "    </tr>\n",
              "    <tr>\n",
              "      <th>2019-08-17</th>\n",
              "      <td>3.010000</td>\n",
              "      <td>3.007467</td>\n",
              "    </tr>\n",
              "    <tr>\n",
              "      <th>2019-10-13</th>\n",
              "      <td>3.530000</td>\n",
              "      <td>3.409400</td>\n",
              "    </tr>\n",
              "    <tr>\n",
              "      <th>2019-04-19</th>\n",
              "      <td>3.050000</td>\n",
              "      <td>3.047736</td>\n",
              "    </tr>\n",
              "    <tr>\n",
              "      <th>2019-01-06</th>\n",
              "      <td>2.830000</td>\n",
              "      <td>2.816300</td>\n",
              "    </tr>\n",
              "  </tbody>\n",
              "</table>\n",
              "<p>72 rows × 2 columns</p>\n",
              "</div>"
            ],
            "text/plain": [
              "              Actual  Predicted\n",
              "TRADE_DATE                     \n",
              "2019-12-19  3.222321   3.222558\n",
              "2019-01-18  2.750000   2.747700\n",
              "2019-04-20  3.050000   3.047736\n",
              "2019-02-14  2.830000   2.831900\n",
              "2019-10-03  3.470000   3.465700\n",
              "...              ...        ...\n",
              "2019-05-07  2.950000   2.959000\n",
              "2019-08-17  3.010000   3.007467\n",
              "2019-10-13  3.530000   3.409400\n",
              "2019-04-19  3.050000   3.047736\n",
              "2019-01-06  2.830000   2.816300\n",
              "\n",
              "[72 rows x 2 columns]"
            ]
          },
          "metadata": {
            "tags": []
          },
          "execution_count": 76
        }
      ]
    },
    {
      "cell_type": "code",
      "metadata": {
        "colab": {
          "base_uri": "https://localhost:8080/",
          "height": 322
        },
        "id": "4Er7PAytaLzP",
        "outputId": "6a22e9ff-6e47-47f8-8268-a4a324f02e69"
      },
      "source": [
        "act_pred=df.plot('Actual', 'Predicted', kind='scatter')"
      ],
      "execution_count": null,
      "outputs": [
        {
          "output_type": "stream",
          "text": [
            "*c* argument looks like a single numeric RGB or RGBA sequence, which should be avoided as value-mapping will have precedence in case its length matches with *x* & *y*.  Please use the *color* keyword-argument or provide a 2-D array with a single row if you intend to specify the same RGB or RGBA value for all points.\n"
          ],
          "name": "stderr"
        },
        {
          "output_type": "display_data",
          "data": {
            "image/png": "[encoded data removed]",
            "text/plain": [
              "<Figure size 432x288 with 1 Axes>"
            ]
          },
          "metadata": {
            "tags": [],
            "needs_background": "light"
          }
        }
      ]
    },
    {
      "cell_type": "code",
      "metadata": {
        "colab": {
          "base_uri": "https://localhost:8080/"
        },
        "id": "WcMADkFAaRe_",
        "outputId": "5841d754-f0e5-4283-d8e4-bf73e2e720b3"
      },
      "source": [
        "rmse = sqrt(mean_squared_error(y_test,reg_pred))\n",
        "print('Test RMSE: %.3f' % rmse)"
      ],
      "execution_count": null,
      "outputs": [
        {
          "output_type": "stream",
          "text": [
            "Test RMSE: 0.027\n"
          ],
          "name": "stdout"
        }
      ]
    },
    {
      "cell_type": "markdown",
      "metadata": {
        "id": "uw2BUrPSJ7gy"
      },
      "source": [
        "xgboost"
      ]
    },
    {
      "cell_type": "code",
      "metadata": {
        "id": "SZh-uUjwJ8Zs"
      },
      "source": [
        "import xgboost as xgb\n",
        "from xgboost import plot_importance, plot_tree\n",
        "from sklearn.metrics import mean_squared_error, mean_absolute_error\n",
        "plt.style.use('fivethirtyeight')"
      ],
      "execution_count": null,
      "outputs": []
    },
    {
      "cell_type": "code",
      "metadata": {
        "id": "U44zzrfLJ-Ne"
      },
      "source": [
        "x=dataset.drop(['CLOSE_PRICE'],axis=1)\n",
        "y=dataset['CLOSE_PRICE']"
      ],
      "execution_count": null,
      "outputs": []
    },
    {
      "cell_type": "code",
      "metadata": {
        "id": "sTGGnirJLOtO"
      },
      "source": [
        "from sklearn.model_selection import KFold, cross_val_score, train_test_split\n",
        "X_train, X_test, y_train, y_test = train_test_split(x, y, test_size=0.20, shuffle=True)"
      ],
      "execution_count": null,
      "outputs": []
    },
    {
      "cell_type": "code",
      "metadata": {
        "colab": {
          "base_uri": "https://localhost:8080/"
        },
        "id": "8HdrpnyvLTrH",
        "outputId": "b4588b1f-b590-4b9c-9d43-5f3eaea318e4"
      },
      "source": [
        "reg = xgb.XGBRegressor(n_estimators=1000)\n",
        "reg.fit(X_train, y_train,\n",
        "        eval_set=[(X_train, y_train), (X_test, y_test)],\n",
        "        early_stopping_rounds=50,\n",
        "       verbose=False)"
      ],
      "execution_count": null,
      "outputs": [
        {
          "output_type": "stream",
          "text": [
            "[10:30:13] WARNING: /workspace/src/objective/regression_obj.cu:152: reg:linear is now deprecated in favor of reg:squarederror.\n"
          ],
          "name": "stdout"
        },
        {
          "output_type": "execute_result",
          "data": {
            "text/plain": [
              "XGBRegressor(base_score=0.5, booster='gbtree', colsample_bylevel=1,\n",
              "             colsample_bynode=1, colsample_bytree=1, gamma=0,\n",
              "             importance_type='gain', learning_rate=0.1, max_delta_step=0,\n",
              "             max_depth=3, min_child_weight=1, missing=None, n_estimators=1000,\n",
              "             n_jobs=1, nthread=None, objective='reg:linear', random_state=0,\n",
              "             reg_alpha=0, reg_lambda=1, scale_pos_weight=1, seed=None,\n",
              "             silent=None, subsample=1, verbosity=1)"
            ]
          },
          "metadata": {
            "tags": []
          },
          "execution_count": 163
        }
      ]
    },
    {
      "cell_type": "code",
      "metadata": {
        "colab": {
          "base_uri": "https://localhost:8080/",
          "height": 321
        },
        "id": "MksfgPZwLZzf",
        "outputId": "fed2ce03-8e0d-4a27-f449-d4fea4d822d5"
      },
      "source": [
        "_ = plot_importance(reg, height=0.9)"
      ],
      "execution_count": null,
      "outputs": [
        {
          "output_type": "display_data",
          "data": {
            "image/png": "[encoded data removed]",
            "text/plain": [
              "<Figure size 432x288 with 1 Axes>"
            ]
          },
          "metadata": {
            "tags": []
          }
        }
      ]
    },
    {
      "cell_type": "code",
      "metadata": {
        "id": "88giI8M-LeZH"
      },
      "source": [
        "xgb_pred = reg.predict(X_test)\n"
      ],
      "execution_count": null,
      "outputs": []
    },
    {
      "cell_type": "code",
      "metadata": {
        "colab": {
          "base_uri": "https://localhost:8080/"
        },
        "id": "_mOCIoGrMW0k",
        "outputId": "094fda1d-df53-444e-c261-a2f1ca14c2de"
      },
      "source": [
        "r_sq2 = reg.score(X_test,y_test)\n",
        "\n",
        "print('coefficient of determination:', r_sq2)"
      ],
      "execution_count": null,
      "outputs": [
        {
          "output_type": "stream",
          "text": [
            "coefficient of determination: 0.9941103301228573\n"
          ],
          "name": "stdout"
        }
      ]
    },
    {
      "cell_type": "code",
      "metadata": {
        "colab": {
          "base_uri": "https://localhost:8080/",
          "height": 447
        },
        "id": "40AIEDg2MsSC",
        "outputId": "603a940a-7b5c-4227-c05e-5e37b2d715b1"
      },
      "source": [
        "df=pd.DataFrame({'Actual':y_test, 'Predicted':xgb_pred})\n",
        "df"
      ],
      "execution_count": null,
      "outputs": [
        {
          "output_type": "execute_result",
          "data": {
            "text/html": [
              "<div>\n",
              "<style scoped>\n",
              "    .dataframe tbody tr th:only-of-type {\n",
              "        vertical-align: middle;\n",
              "    }\n",
              "\n",
              "    .dataframe tbody tr th {\n",
              "        vertical-align: top;\n",
              "    }\n",
              "\n",
              "    .dataframe thead th {\n",
              "        text-align: right;\n",
              "    }\n",
              "</style>\n",
              "<table border=\"1\" class=\"dataframe\">\n",
              "  <thead>\n",
              "    <tr style=\"text-align: right;\">\n",
              "      <th></th>\n",
              "      <th>Actual</th>\n",
              "      <th>Predicted</th>\n",
              "    </tr>\n",
              "    <tr>\n",
              "      <th>TRADE_DATE</th>\n",
              "      <th></th>\n",
              "      <th></th>\n",
              "    </tr>\n",
              "  </thead>\n",
              "  <tbody>\n",
              "    <tr>\n",
              "      <th>2019-07-26</th>\n",
              "      <td>2.92</td>\n",
              "      <td>2.918132</td>\n",
              "    </tr>\n",
              "    <tr>\n",
              "      <th>2019-12-17</th>\n",
              "      <td>3.87</td>\n",
              "      <td>3.858196</td>\n",
              "    </tr>\n",
              "    <tr>\n",
              "      <th>2019-08-20</th>\n",
              "      <td>3.15</td>\n",
              "      <td>3.173948</td>\n",
              "    </tr>\n",
              "    <tr>\n",
              "      <th>2019-06-20</th>\n",
              "      <td>3.27</td>\n",
              "      <td>3.285004</td>\n",
              "    </tr>\n",
              "    <tr>\n",
              "      <th>2019-09-19</th>\n",
              "      <td>3.69</td>\n",
              "      <td>3.678124</td>\n",
              "    </tr>\n",
              "    <tr>\n",
              "      <th>...</th>\n",
              "      <td>...</td>\n",
              "      <td>...</td>\n",
              "    </tr>\n",
              "    <tr>\n",
              "      <th>2019-05-28</th>\n",
              "      <td>3.54</td>\n",
              "      <td>3.496871</td>\n",
              "    </tr>\n",
              "    <tr>\n",
              "      <th>2019-03-27</th>\n",
              "      <td>3.00</td>\n",
              "      <td>3.031364</td>\n",
              "    </tr>\n",
              "    <tr>\n",
              "      <th>2019-08-23</th>\n",
              "      <td>3.26</td>\n",
              "      <td>3.263124</td>\n",
              "    </tr>\n",
              "    <tr>\n",
              "      <th>2019-06-14</th>\n",
              "      <td>3.60</td>\n",
              "      <td>3.606406</td>\n",
              "    </tr>\n",
              "    <tr>\n",
              "      <th>2019-10-06</th>\n",
              "      <td>3.47</td>\n",
              "      <td>3.464917</td>\n",
              "    </tr>\n",
              "  </tbody>\n",
              "</table>\n",
              "<p>72 rows × 2 columns</p>\n",
              "</div>"
            ],
            "text/plain": [
              "            Actual  Predicted\n",
              "TRADE_DATE                   \n",
              "2019-07-26    2.92   2.918132\n",
              "2019-12-17    3.87   3.858196\n",
              "2019-08-20    3.15   3.173948\n",
              "2019-06-20    3.27   3.285004\n",
              "2019-09-19    3.69   3.678124\n",
              "...            ...        ...\n",
              "2019-05-28    3.54   3.496871\n",
              "2019-03-27    3.00   3.031364\n",
              "2019-08-23    3.26   3.263124\n",
              "2019-06-14    3.60   3.606406\n",
              "2019-10-06    3.47   3.464917\n",
              "\n",
              "[72 rows x 2 columns]"
            ]
          },
          "metadata": {
            "tags": []
          },
          "execution_count": 167
        }
      ]
    },
    {
      "cell_type": "code",
      "metadata": {
        "colab": {
          "base_uri": "https://localhost:8080/",
          "height": 337
        },
        "id": "y_ueDeWSM_kc",
        "outputId": "760c6c0c-4ed7-4001-a1a9-3170cd761e29"
      },
      "source": [
        "act_pred=df.plot('Actual', 'Predicted', kind='scatter')"
      ],
      "execution_count": null,
      "outputs": [
        {
          "output_type": "stream",
          "text": [
            "*c* argument looks like a single numeric RGB or RGBA sequence, which should be avoided as value-mapping will have precedence in case its length matches with *x* & *y*.  Please use the *color* keyword-argument or provide a 2-D array with a single row if you intend to specify the same RGB or RGBA value for all points.\n"
          ],
          "name": "stderr"
        },
        {
          "output_type": "display_data",
          "data": {
            "image/png": "[encoded data removed]",
            "text/plain": [
              "<Figure size 432x288 with 1 Axes>"
            ]
          },
          "metadata": {
            "tags": []
          }
        }
      ]
    },
    {
      "cell_type": "code",
      "metadata": {
        "colab": {
          "base_uri": "https://localhost:8080/"
        },
        "id": "u5rtT3oFNGIN",
        "outputId": "c275cdc3-4e77-4891-dfc3-dec853c0876c"
      },
      "source": [
        "rmse = sqrt(mean_squared_error(y_test,xgb_pred))\n",
        "print('Test RMSE: %.3f' % rmse)"
      ],
      "execution_count": null,
      "outputs": [
        {
          "output_type": "stream",
          "text": [
            "Test RMSE: 0.027\n"
          ],
          "name": "stdout"
        }
      ]
    }
  ]
}